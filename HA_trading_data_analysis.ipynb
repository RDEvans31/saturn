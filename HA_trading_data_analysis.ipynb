{
 "cells": [
  {
   "cell_type": "code",
   "execution_count": 106,
   "metadata": {},
   "outputs": [],
   "source": [
    "import pandas as pd\n",
    "from scipy.interpolate import interp1d\n",
    "from scipy.stats import norm\n",
    "import numpy as np\n",
    "import matplotlib.pyplot as plt\n",
    "%matplotlib inline\n",
    "import price_data as price\n",
    "import mplfinance as mpf\n",
    "import matplotlib.dates as mpl_dates\n",
    "import chart\n",
    "\n",
    "crypto=price.get_price_data('1d', symbol='MATIC/USD')"
   ]
  },
  {
   "cell_type": "markdown",
   "metadata": {},
   "source": [
    "# Creating Heikin Ashi candles\n",
    "First we must download the candlestick data"
   ]
  },
  {
   "cell_type": "code",
   "execution_count": 107,
   "metadata": {},
   "outputs": [
    {
     "data": {
      "text/html": [
       "<div>\n",
       "<style scoped>\n",
       "    .dataframe tbody tr th:only-of-type {\n",
       "        vertical-align: middle;\n",
       "    }\n",
       "\n",
       "    .dataframe tbody tr th {\n",
       "        vertical-align: top;\n",
       "    }\n",
       "\n",
       "    .dataframe thead th {\n",
       "        text-align: right;\n",
       "    }\n",
       "</style>\n",
       "<table border=\"1\" class=\"dataframe\">\n",
       "  <thead>\n",
       "    <tr style=\"text-align: right;\">\n",
       "      <th></th>\n",
       "      <th>unix</th>\n",
       "      <th>close</th>\n",
       "      <th>high</th>\n",
       "      <th>low</th>\n",
       "      <th>open</th>\n",
       "    </tr>\n",
       "  </thead>\n",
       "  <tbody>\n",
       "    <tr>\n",
       "      <th>0</th>\n",
       "      <td>1568592000000</td>\n",
       "      <td>210.98</td>\n",
       "      <td>224.26</td>\n",
       "      <td>188.37</td>\n",
       "      <td>189.26</td>\n",
       "    </tr>\n",
       "    <tr>\n",
       "      <th>1</th>\n",
       "      <td>1569196800000</td>\n",
       "      <td>169.39</td>\n",
       "      <td>211.56</td>\n",
       "      <td>152.21</td>\n",
       "      <td>211.13</td>\n",
       "    </tr>\n",
       "    <tr>\n",
       "      <th>2</th>\n",
       "      <td>1569801600000</td>\n",
       "      <td>170.07</td>\n",
       "      <td>185.70</td>\n",
       "      <td>145.00</td>\n",
       "      <td>169.39</td>\n",
       "    </tr>\n",
       "    <tr>\n",
       "      <th>3</th>\n",
       "      <td>1570406400000</td>\n",
       "      <td>181.03</td>\n",
       "      <td>197.35</td>\n",
       "      <td>168.64</td>\n",
       "      <td>170.10</td>\n",
       "    </tr>\n",
       "    <tr>\n",
       "      <th>4</th>\n",
       "      <td>1571011200000</td>\n",
       "      <td>175.47</td>\n",
       "      <td>188.45</td>\n",
       "      <td>168.46</td>\n",
       "      <td>181.03</td>\n",
       "    </tr>\n",
       "    <tr>\n",
       "      <th>...</th>\n",
       "      <td>...</td>\n",
       "      <td>...</td>\n",
       "      <td>...</td>\n",
       "      <td>...</td>\n",
       "      <td>...</td>\n",
       "    </tr>\n",
       "    <tr>\n",
       "      <th>153</th>\n",
       "      <td>1661126400000</td>\n",
       "      <td>1426.60</td>\n",
       "      <td>1722.10</td>\n",
       "      <td>1423.60</td>\n",
       "      <td>1617.80</td>\n",
       "    </tr>\n",
       "    <tr>\n",
       "      <th>154</th>\n",
       "      <td>1661731200000</td>\n",
       "      <td>1578.80</td>\n",
       "      <td>1649.00</td>\n",
       "      <td>1421.90</td>\n",
       "      <td>1426.60</td>\n",
       "    </tr>\n",
       "    <tr>\n",
       "      <th>155</th>\n",
       "      <td>1662336000000</td>\n",
       "      <td>1766.90</td>\n",
       "      <td>1790.30</td>\n",
       "      <td>1490.10</td>\n",
       "      <td>1578.80</td>\n",
       "    </tr>\n",
       "    <tr>\n",
       "      <th>156</th>\n",
       "      <td>1662940800000</td>\n",
       "      <td>1334.60</td>\n",
       "      <td>1784.00</td>\n",
       "      <td>1325.50</td>\n",
       "      <td>1766.90</td>\n",
       "    </tr>\n",
       "    <tr>\n",
       "      <th>157</th>\n",
       "      <td>1663545600000</td>\n",
       "      <td>1295.70</td>\n",
       "      <td>1410.00</td>\n",
       "      <td>1219.20</td>\n",
       "      <td>1334.80</td>\n",
       "    </tr>\n",
       "  </tbody>\n",
       "</table>\n",
       "<p>158 rows × 5 columns</p>\n",
       "</div>"
      ],
      "text/plain": [
       "              unix    close     high      low     open\n",
       "0    1568592000000   210.98   224.26   188.37   189.26\n",
       "1    1569196800000   169.39   211.56   152.21   211.13\n",
       "2    1569801600000   170.07   185.70   145.00   169.39\n",
       "3    1570406400000   181.03   197.35   168.64   170.10\n",
       "4    1571011200000   175.47   188.45   168.46   181.03\n",
       "..             ...      ...      ...      ...      ...\n",
       "153  1661126400000  1426.60  1722.10  1423.60  1617.80\n",
       "154  1661731200000  1578.80  1649.00  1421.90  1426.60\n",
       "155  1662336000000  1766.90  1790.30  1490.10  1578.80\n",
       "156  1662940800000  1334.60  1784.00  1325.50  1766.90\n",
       "157  1663545600000  1295.70  1410.00  1219.20  1334.80\n",
       "\n",
       "[158 rows x 5 columns]"
      ]
     },
     "execution_count": 107,
     "metadata": {},
     "output_type": "execute_result"
    }
   ],
   "source": [
    "crypto[\"Date\"] = pd.to_datetime(crypto[\"unix\"], unit=\"ms\")\n",
    "weekly_candles_original=price.get_price_data('1w',data=crypto, offset=0)\n",
    "weekly_candles = weekly_candles_original.copy()\n",
    "weekly_candles[\"Date\"] = pd.to_datetime(weekly_candles[\"unix\"], unit=\"ms\")\n",
    "weekly_candles.columns = ['Unix', 'Close', 'High', 'Low', 'Open', 'Date']\n",
    "weekly_candles.set_index('Date', inplace=True)\n",
    "weekly_candles_original"
   ]
  },
  {
   "cell_type": "code",
   "execution_count": 108,
   "metadata": {},
   "outputs": [
    {
     "data": {
      "text/html": [
       "<div>\n",
       "<style scoped>\n",
       "    .dataframe tbody tr th:only-of-type {\n",
       "        vertical-align: middle;\n",
       "    }\n",
       "\n",
       "    .dataframe tbody tr th {\n",
       "        vertical-align: top;\n",
       "    }\n",
       "\n",
       "    .dataframe thead th {\n",
       "        text-align: right;\n",
       "    }\n",
       "</style>\n",
       "<table border=\"1\" class=\"dataframe\">\n",
       "  <thead>\n",
       "    <tr style=\"text-align: right;\">\n",
       "      <th></th>\n",
       "      <th>unix</th>\n",
       "      <th>close</th>\n",
       "      <th>high</th>\n",
       "      <th>low</th>\n",
       "      <th>open</th>\n",
       "      <th>Date</th>\n",
       "    </tr>\n",
       "  </thead>\n",
       "  <tbody>\n",
       "    <tr>\n",
       "      <th>0</th>\n",
       "      <td>1568419200000</td>\n",
       "      <td>188.76</td>\n",
       "      <td>189.19</td>\n",
       "      <td>180.39</td>\n",
       "      <td>181.565</td>\n",
       "      <td>2019-09-14</td>\n",
       "    </tr>\n",
       "    <tr>\n",
       "      <th>1</th>\n",
       "      <td>1568505600000</td>\n",
       "      <td>189.26</td>\n",
       "      <td>190.86</td>\n",
       "      <td>186.21</td>\n",
       "      <td>188.760</td>\n",
       "      <td>2019-09-15</td>\n",
       "    </tr>\n",
       "    <tr>\n",
       "      <th>2</th>\n",
       "      <td>1568592000000</td>\n",
       "      <td>197.70</td>\n",
       "      <td>199.39</td>\n",
       "      <td>188.37</td>\n",
       "      <td>189.260</td>\n",
       "      <td>2019-09-16</td>\n",
       "    </tr>\n",
       "    <tr>\n",
       "      <th>3</th>\n",
       "      <td>1568678400000</td>\n",
       "      <td>207.93</td>\n",
       "      <td>215.06</td>\n",
       "      <td>196.20</td>\n",
       "      <td>197.710</td>\n",
       "      <td>2019-09-17</td>\n",
       "    </tr>\n",
       "    <tr>\n",
       "      <th>4</th>\n",
       "      <td>1568764800000</td>\n",
       "      <td>210.11</td>\n",
       "      <td>217.12</td>\n",
       "      <td>207.76</td>\n",
       "      <td>207.830</td>\n",
       "      <td>2019-09-18</td>\n",
       "    </tr>\n",
       "    <tr>\n",
       "      <th>...</th>\n",
       "      <td>...</td>\n",
       "      <td>...</td>\n",
       "      <td>...</td>\n",
       "      <td>...</td>\n",
       "      <td>...</td>\n",
       "      <td>...</td>\n",
       "    </tr>\n",
       "    <tr>\n",
       "      <th>1101</th>\n",
       "      <td>1663545600000</td>\n",
       "      <td>1375.70</td>\n",
       "      <td>1393.60</td>\n",
       "      <td>1279.80</td>\n",
       "      <td>1334.800</td>\n",
       "      <td>2022-09-19</td>\n",
       "    </tr>\n",
       "    <tr>\n",
       "      <th>1102</th>\n",
       "      <td>1663632000000</td>\n",
       "      <td>1322.90</td>\n",
       "      <td>1385.10</td>\n",
       "      <td>1312.60</td>\n",
       "      <td>1375.700</td>\n",
       "      <td>2022-09-20</td>\n",
       "    </tr>\n",
       "    <tr>\n",
       "      <th>1103</th>\n",
       "      <td>1663718400000</td>\n",
       "      <td>1245.40</td>\n",
       "      <td>1410.00</td>\n",
       "      <td>1219.20</td>\n",
       "      <td>1322.900</td>\n",
       "      <td>2022-09-21</td>\n",
       "    </tr>\n",
       "    <tr>\n",
       "      <th>1104</th>\n",
       "      <td>1663804800000</td>\n",
       "      <td>1326.30</td>\n",
       "      <td>1349.30</td>\n",
       "      <td>1237.20</td>\n",
       "      <td>1245.400</td>\n",
       "      <td>2022-09-22</td>\n",
       "    </tr>\n",
       "    <tr>\n",
       "      <th>1105</th>\n",
       "      <td>1663891200000</td>\n",
       "      <td>1295.70</td>\n",
       "      <td>1358.80</td>\n",
       "      <td>1261.40</td>\n",
       "      <td>1326.300</td>\n",
       "      <td>2022-09-23</td>\n",
       "    </tr>\n",
       "  </tbody>\n",
       "</table>\n",
       "<p>1106 rows × 6 columns</p>\n",
       "</div>"
      ],
      "text/plain": [
       "               unix    close     high      low      open       Date\n",
       "0     1568419200000   188.76   189.19   180.39   181.565 2019-09-14\n",
       "1     1568505600000   189.26   190.86   186.21   188.760 2019-09-15\n",
       "2     1568592000000   197.70   199.39   188.37   189.260 2019-09-16\n",
       "3     1568678400000   207.93   215.06   196.20   197.710 2019-09-17\n",
       "4     1568764800000   210.11   217.12   207.76   207.830 2019-09-18\n",
       "...             ...      ...      ...      ...       ...        ...\n",
       "1101  1663545600000  1375.70  1393.60  1279.80  1334.800 2022-09-19\n",
       "1102  1663632000000  1322.90  1385.10  1312.60  1375.700 2022-09-20\n",
       "1103  1663718400000  1245.40  1410.00  1219.20  1322.900 2022-09-21\n",
       "1104  1663804800000  1326.30  1349.30  1237.20  1245.400 2022-09-22\n",
       "1105  1663891200000  1295.70  1358.80  1261.40  1326.300 2022-09-23\n",
       "\n",
       "[1106 rows x 6 columns]"
      ]
     },
     "execution_count": 108,
     "metadata": {},
     "output_type": "execute_result"
    }
   ],
   "source": [
    "crypto"
   ]
  },
  {
   "cell_type": "code",
   "execution_count": 109,
   "metadata": {},
   "outputs": [
    {
     "data": {
      "text/html": [
       "<div>\n",
       "<style scoped>\n",
       "    .dataframe tbody tr th:only-of-type {\n",
       "        vertical-align: middle;\n",
       "    }\n",
       "\n",
       "    .dataframe tbody tr th {\n",
       "        vertical-align: top;\n",
       "    }\n",
       "\n",
       "    .dataframe thead th {\n",
       "        text-align: right;\n",
       "    }\n",
       "</style>\n",
       "<table border=\"1\" class=\"dataframe\">\n",
       "  <thead>\n",
       "    <tr style=\"text-align: right;\">\n",
       "      <th></th>\n",
       "      <th>Unix</th>\n",
       "      <th>Close</th>\n",
       "      <th>High</th>\n",
       "      <th>Low</th>\n",
       "      <th>Open</th>\n",
       "    </tr>\n",
       "    <tr>\n",
       "      <th>Date</th>\n",
       "      <th></th>\n",
       "      <th></th>\n",
       "      <th></th>\n",
       "      <th></th>\n",
       "      <th></th>\n",
       "    </tr>\n",
       "  </thead>\n",
       "  <tbody>\n",
       "    <tr>\n",
       "      <th>2019-09-16</th>\n",
       "      <td>1568592000000</td>\n",
       "      <td>210.98</td>\n",
       "      <td>224.26</td>\n",
       "      <td>188.37</td>\n",
       "      <td>189.26</td>\n",
       "    </tr>\n",
       "    <tr>\n",
       "      <th>2019-09-23</th>\n",
       "      <td>1569196800000</td>\n",
       "      <td>169.39</td>\n",
       "      <td>211.56</td>\n",
       "      <td>152.21</td>\n",
       "      <td>211.13</td>\n",
       "    </tr>\n",
       "    <tr>\n",
       "      <th>2019-09-30</th>\n",
       "      <td>1569801600000</td>\n",
       "      <td>170.07</td>\n",
       "      <td>185.70</td>\n",
       "      <td>145.00</td>\n",
       "      <td>169.39</td>\n",
       "    </tr>\n",
       "    <tr>\n",
       "      <th>2019-10-07</th>\n",
       "      <td>1570406400000</td>\n",
       "      <td>181.03</td>\n",
       "      <td>197.35</td>\n",
       "      <td>168.64</td>\n",
       "      <td>170.10</td>\n",
       "    </tr>\n",
       "    <tr>\n",
       "      <th>2019-10-14</th>\n",
       "      <td>1571011200000</td>\n",
       "      <td>175.47</td>\n",
       "      <td>188.45</td>\n",
       "      <td>168.46</td>\n",
       "      <td>181.03</td>\n",
       "    </tr>\n",
       "    <tr>\n",
       "      <th>...</th>\n",
       "      <td>...</td>\n",
       "      <td>...</td>\n",
       "      <td>...</td>\n",
       "      <td>...</td>\n",
       "      <td>...</td>\n",
       "    </tr>\n",
       "    <tr>\n",
       "      <th>2022-08-22</th>\n",
       "      <td>1661126400000</td>\n",
       "      <td>1426.60</td>\n",
       "      <td>1722.10</td>\n",
       "      <td>1423.60</td>\n",
       "      <td>1617.80</td>\n",
       "    </tr>\n",
       "    <tr>\n",
       "      <th>2022-08-29</th>\n",
       "      <td>1661731200000</td>\n",
       "      <td>1578.80</td>\n",
       "      <td>1649.00</td>\n",
       "      <td>1421.90</td>\n",
       "      <td>1426.60</td>\n",
       "    </tr>\n",
       "    <tr>\n",
       "      <th>2022-09-05</th>\n",
       "      <td>1662336000000</td>\n",
       "      <td>1766.90</td>\n",
       "      <td>1790.30</td>\n",
       "      <td>1490.10</td>\n",
       "      <td>1578.80</td>\n",
       "    </tr>\n",
       "    <tr>\n",
       "      <th>2022-09-12</th>\n",
       "      <td>1662940800000</td>\n",
       "      <td>1334.60</td>\n",
       "      <td>1784.00</td>\n",
       "      <td>1325.50</td>\n",
       "      <td>1766.90</td>\n",
       "    </tr>\n",
       "    <tr>\n",
       "      <th>2022-09-19</th>\n",
       "      <td>1663545600000</td>\n",
       "      <td>1295.70</td>\n",
       "      <td>1410.00</td>\n",
       "      <td>1219.20</td>\n",
       "      <td>1334.80</td>\n",
       "    </tr>\n",
       "  </tbody>\n",
       "</table>\n",
       "<p>158 rows × 5 columns</p>\n",
       "</div>"
      ],
      "text/plain": [
       "                     Unix    Close     High      Low     Open\n",
       "Date                                                         \n",
       "2019-09-16  1568592000000   210.98   224.26   188.37   189.26\n",
       "2019-09-23  1569196800000   169.39   211.56   152.21   211.13\n",
       "2019-09-30  1569801600000   170.07   185.70   145.00   169.39\n",
       "2019-10-07  1570406400000   181.03   197.35   168.64   170.10\n",
       "2019-10-14  1571011200000   175.47   188.45   168.46   181.03\n",
       "...                   ...      ...      ...      ...      ...\n",
       "2022-08-22  1661126400000  1426.60  1722.10  1423.60  1617.80\n",
       "2022-08-29  1661731200000  1578.80  1649.00  1421.90  1426.60\n",
       "2022-09-05  1662336000000  1766.90  1790.30  1490.10  1578.80\n",
       "2022-09-12  1662940800000  1334.60  1784.00  1325.50  1766.90\n",
       "2022-09-19  1663545600000  1295.70  1410.00  1219.20  1334.80\n",
       "\n",
       "[158 rows x 5 columns]"
      ]
     },
     "execution_count": 109,
     "metadata": {},
     "output_type": "execute_result"
    }
   ],
   "source": [
    "weekly_candles"
   ]
  },
  {
   "cell_type": "markdown",
   "metadata": {},
   "source": [
    "Then we define a function to convert each candle stick into Heikin Ashi Candlestick"
   ]
  },
  {
   "cell_type": "code",
   "execution_count": 110,
   "metadata": {},
   "outputs": [],
   "source": [
    "def heikin_ashi(previous_open, previous_close, candle):\n",
    "    # print(candle)\n",
    "    price_values = candle[[\"open\",\"high\",\"low\",\"close\"]]\n",
    "    close = np.mean(price_values)\n",
    "    open_price = 0.5*(previous_open+previous_close)\n",
    "    high=max([max(price_values), open_price,close])\n",
    "    low = min([min(price_values), open_price,close])\n",
    "    \n",
    "    return candle[\"unix\"], open_price, high, close, low\n",
    "\n",
    "def convert_data_to_heikin_ashi(data):\n",
    "    timestamps, opens, closes, highs, lows  = [0], [0],[0],[0],[0]\n",
    "    #initialise values\n",
    "    for i in range(1,len(data)):\n",
    "        timestamp, open_price, high, close, low = heikin_ashi(opens[-1], closes[-1],data.iloc[i])\n",
    "        timestamps.append(timestamp)\n",
    "        opens.append(open_price)\n",
    "        highs.append(high)\n",
    "        lows.append(low)\n",
    "        closes.append(close)\n",
    "\n",
    "    return pd.DataFrame({'unix':timestamps,'open':opens,'high':highs,'low':lows,'close':closes}).sort_values(by=['unix'], ignore_index=True)\n",
    "    \n"
   ]
  },
  {
   "cell_type": "markdown",
   "metadata": {},
   "source": [
    "Then we convert weekly candles and observe"
   ]
  },
  {
   "cell_type": "code",
   "execution_count": 111,
   "metadata": {},
   "outputs": [
    {
     "data": {
      "text/html": [
       "<div>\n",
       "<style scoped>\n",
       "    .dataframe tbody tr th:only-of-type {\n",
       "        vertical-align: middle;\n",
       "    }\n",
       "\n",
       "    .dataframe tbody tr th {\n",
       "        vertical-align: top;\n",
       "    }\n",
       "\n",
       "    .dataframe thead th {\n",
       "        text-align: right;\n",
       "    }\n",
       "</style>\n",
       "<table border=\"1\" class=\"dataframe\">\n",
       "  <thead>\n",
       "    <tr style=\"text-align: right;\">\n",
       "      <th></th>\n",
       "      <th>Unix</th>\n",
       "      <th>Close</th>\n",
       "      <th>High</th>\n",
       "      <th>Low</th>\n",
       "      <th>Open</th>\n",
       "    </tr>\n",
       "    <tr>\n",
       "      <th>Date</th>\n",
       "      <th></th>\n",
       "      <th></th>\n",
       "      <th></th>\n",
       "      <th></th>\n",
       "      <th></th>\n",
       "    </tr>\n",
       "  </thead>\n",
       "  <tbody>\n",
       "    <tr>\n",
       "      <th>2019-09-16</th>\n",
       "      <td>1568592000000</td>\n",
       "      <td>210.98</td>\n",
       "      <td>224.26</td>\n",
       "      <td>188.37</td>\n",
       "      <td>189.26</td>\n",
       "    </tr>\n",
       "    <tr>\n",
       "      <th>2019-09-23</th>\n",
       "      <td>1569196800000</td>\n",
       "      <td>169.39</td>\n",
       "      <td>211.56</td>\n",
       "      <td>152.21</td>\n",
       "      <td>211.13</td>\n",
       "    </tr>\n",
       "    <tr>\n",
       "      <th>2019-09-30</th>\n",
       "      <td>1569801600000</td>\n",
       "      <td>170.07</td>\n",
       "      <td>185.70</td>\n",
       "      <td>145.00</td>\n",
       "      <td>169.39</td>\n",
       "    </tr>\n",
       "    <tr>\n",
       "      <th>2019-10-07</th>\n",
       "      <td>1570406400000</td>\n",
       "      <td>181.03</td>\n",
       "      <td>197.35</td>\n",
       "      <td>168.64</td>\n",
       "      <td>170.10</td>\n",
       "    </tr>\n",
       "    <tr>\n",
       "      <th>2019-10-14</th>\n",
       "      <td>1571011200000</td>\n",
       "      <td>175.47</td>\n",
       "      <td>188.45</td>\n",
       "      <td>168.46</td>\n",
       "      <td>181.03</td>\n",
       "    </tr>\n",
       "    <tr>\n",
       "      <th>...</th>\n",
       "      <td>...</td>\n",
       "      <td>...</td>\n",
       "      <td>...</td>\n",
       "      <td>...</td>\n",
       "      <td>...</td>\n",
       "    </tr>\n",
       "    <tr>\n",
       "      <th>2022-08-22</th>\n",
       "      <td>1661126400000</td>\n",
       "      <td>1426.60</td>\n",
       "      <td>1722.10</td>\n",
       "      <td>1423.60</td>\n",
       "      <td>1617.80</td>\n",
       "    </tr>\n",
       "    <tr>\n",
       "      <th>2022-08-29</th>\n",
       "      <td>1661731200000</td>\n",
       "      <td>1578.80</td>\n",
       "      <td>1649.00</td>\n",
       "      <td>1421.90</td>\n",
       "      <td>1426.60</td>\n",
       "    </tr>\n",
       "    <tr>\n",
       "      <th>2022-09-05</th>\n",
       "      <td>1662336000000</td>\n",
       "      <td>1766.90</td>\n",
       "      <td>1790.30</td>\n",
       "      <td>1490.10</td>\n",
       "      <td>1578.80</td>\n",
       "    </tr>\n",
       "    <tr>\n",
       "      <th>2022-09-12</th>\n",
       "      <td>1662940800000</td>\n",
       "      <td>1334.60</td>\n",
       "      <td>1784.00</td>\n",
       "      <td>1325.50</td>\n",
       "      <td>1766.90</td>\n",
       "    </tr>\n",
       "    <tr>\n",
       "      <th>2022-09-19</th>\n",
       "      <td>1663545600000</td>\n",
       "      <td>1295.70</td>\n",
       "      <td>1410.00</td>\n",
       "      <td>1219.20</td>\n",
       "      <td>1334.80</td>\n",
       "    </tr>\n",
       "  </tbody>\n",
       "</table>\n",
       "<p>158 rows × 5 columns</p>\n",
       "</div>"
      ],
      "text/plain": [
       "                     Unix    Close     High      Low     Open\n",
       "Date                                                         \n",
       "2019-09-16  1568592000000   210.98   224.26   188.37   189.26\n",
       "2019-09-23  1569196800000   169.39   211.56   152.21   211.13\n",
       "2019-09-30  1569801600000   170.07   185.70   145.00   169.39\n",
       "2019-10-07  1570406400000   181.03   197.35   168.64   170.10\n",
       "2019-10-14  1571011200000   175.47   188.45   168.46   181.03\n",
       "...                   ...      ...      ...      ...      ...\n",
       "2022-08-22  1661126400000  1426.60  1722.10  1423.60  1617.80\n",
       "2022-08-29  1661731200000  1578.80  1649.00  1421.90  1426.60\n",
       "2022-09-05  1662336000000  1766.90  1790.30  1490.10  1578.80\n",
       "2022-09-12  1662940800000  1334.60  1784.00  1325.50  1766.90\n",
       "2022-09-19  1663545600000  1295.70  1410.00  1219.20  1334.80\n",
       "\n",
       "[158 rows x 5 columns]"
      ]
     },
     "execution_count": 111,
     "metadata": {},
     "output_type": "execute_result"
    }
   ],
   "source": [
    "weekly_candles\n",
    "# convert_data_to_heikin_ashi(weekly_candles)"
   ]
  },
  {
   "cell_type": "markdown",
   "metadata": {},
   "source": [
    "Shift timestamps up one, delete the top and bottom row (top row is null, bottom row is incomplete). The candle at each timestamp represents the previous week, any data we observe at time=t is from the past."
   ]
  },
  {
   "cell_type": "code",
   "execution_count": 112,
   "metadata": {},
   "outputs": [
    {
     "data": {
      "text/html": [
       "<div>\n",
       "<style scoped>\n",
       "    .dataframe tbody tr th:only-of-type {\n",
       "        vertical-align: middle;\n",
       "    }\n",
       "\n",
       "    .dataframe tbody tr th {\n",
       "        vertical-align: top;\n",
       "    }\n",
       "\n",
       "    .dataframe thead th {\n",
       "        text-align: right;\n",
       "    }\n",
       "</style>\n",
       "<table border=\"1\" class=\"dataframe\">\n",
       "  <thead>\n",
       "    <tr style=\"text-align: right;\">\n",
       "      <th></th>\n",
       "      <th>ha_Open</th>\n",
       "      <th>ha_High</th>\n",
       "      <th>ha_Low</th>\n",
       "      <th>ha_Close</th>\n",
       "      <th>Green</th>\n",
       "    </tr>\n",
       "    <tr>\n",
       "      <th>Date</th>\n",
       "      <th></th>\n",
       "      <th></th>\n",
       "      <th></th>\n",
       "      <th></th>\n",
       "      <th></th>\n",
       "    </tr>\n",
       "  </thead>\n",
       "  <tbody>\n",
       "    <tr>\n",
       "      <th>2019-10-07</th>\n",
       "      <td>93.036250</td>\n",
       "      <td>185.700000</td>\n",
       "      <td>93.036250</td>\n",
       "      <td>167.5400</td>\n",
       "      <td>True</td>\n",
       "    </tr>\n",
       "    <tr>\n",
       "      <th>2019-10-14</th>\n",
       "      <td>130.288125</td>\n",
       "      <td>197.350000</td>\n",
       "      <td>130.288125</td>\n",
       "      <td>179.2800</td>\n",
       "      <td>True</td>\n",
       "    </tr>\n",
       "    <tr>\n",
       "      <th>2019-10-21</th>\n",
       "      <td>154.784062</td>\n",
       "      <td>188.450000</td>\n",
       "      <td>154.784062</td>\n",
       "      <td>178.3525</td>\n",
       "      <td>True</td>\n",
       "    </tr>\n",
       "    <tr>\n",
       "      <th>2019-10-28</th>\n",
       "      <td>166.568281</td>\n",
       "      <td>191.750000</td>\n",
       "      <td>152.960000</td>\n",
       "      <td>176.1000</td>\n",
       "      <td>True</td>\n",
       "    </tr>\n",
       "    <tr>\n",
       "      <th>2019-11-04</th>\n",
       "      <td>171.334141</td>\n",
       "      <td>193.080000</td>\n",
       "      <td>171.334141</td>\n",
       "      <td>183.9450</td>\n",
       "      <td>True</td>\n",
       "    </tr>\n",
       "    <tr>\n",
       "      <th>...</th>\n",
       "      <td>...</td>\n",
       "      <td>...</td>\n",
       "      <td>...</td>\n",
       "      <td>...</td>\n",
       "      <td>...</td>\n",
       "    </tr>\n",
       "    <tr>\n",
       "      <th>2022-08-22</th>\n",
       "      <td>1701.985344</td>\n",
       "      <td>2012.900000</td>\n",
       "      <td>1523.400000</td>\n",
       "      <td>1772.5000</td>\n",
       "      <td>True</td>\n",
       "    </tr>\n",
       "    <tr>\n",
       "      <th>2022-08-29</th>\n",
       "      <td>1737.242672</td>\n",
       "      <td>1737.242672</td>\n",
       "      <td>1423.600000</td>\n",
       "      <td>1547.5250</td>\n",
       "      <td>False</td>\n",
       "    </tr>\n",
       "    <tr>\n",
       "      <th>2022-09-05</th>\n",
       "      <td>1642.383836</td>\n",
       "      <td>1649.000000</td>\n",
       "      <td>1421.900000</td>\n",
       "      <td>1519.0750</td>\n",
       "      <td>False</td>\n",
       "    </tr>\n",
       "    <tr>\n",
       "      <th>2022-09-12</th>\n",
       "      <td>1580.729418</td>\n",
       "      <td>1790.300000</td>\n",
       "      <td>1490.100000</td>\n",
       "      <td>1656.5250</td>\n",
       "      <td>True</td>\n",
       "    </tr>\n",
       "    <tr>\n",
       "      <th>2022-09-19</th>\n",
       "      <td>1618.627209</td>\n",
       "      <td>1784.000000</td>\n",
       "      <td>1325.500000</td>\n",
       "      <td>1552.7500</td>\n",
       "      <td>False</td>\n",
       "    </tr>\n",
       "  </tbody>\n",
       "</table>\n",
       "<p>155 rows × 5 columns</p>\n",
       "</div>"
      ],
      "text/plain": [
       "                ha_Open      ha_High       ha_Low   ha_Close  Green\n",
       "Date                                                               \n",
       "2019-10-07    93.036250   185.700000    93.036250   167.5400   True\n",
       "2019-10-14   130.288125   197.350000   130.288125   179.2800   True\n",
       "2019-10-21   154.784062   188.450000   154.784062   178.3525   True\n",
       "2019-10-28   166.568281   191.750000   152.960000   176.1000   True\n",
       "2019-11-04   171.334141   193.080000   171.334141   183.9450   True\n",
       "...                 ...          ...          ...        ...    ...\n",
       "2022-08-22  1701.985344  2012.900000  1523.400000  1772.5000   True\n",
       "2022-08-29  1737.242672  1737.242672  1423.600000  1547.5250  False\n",
       "2022-09-05  1642.383836  1649.000000  1421.900000  1519.0750  False\n",
       "2022-09-12  1580.729418  1790.300000  1490.100000  1656.5250   True\n",
       "2022-09-19  1618.627209  1784.000000  1325.500000  1552.7500  False\n",
       "\n",
       "[155 rows x 5 columns]"
      ]
     },
     "execution_count": 112,
     "metadata": {},
     "output_type": "execute_result"
    }
   ],
   "source": [
    "def convert_data_to_heikin_ashi_processed(data):\n",
    "    timestamps, opens, closes, highs, lows  = [0], [0],[0],[0],[0]\n",
    "    #initialise values\n",
    "    for i in range(1,len(data)):\n",
    "        timestamp, open_price, high, close, low = heikin_ashi(opens[-1], closes[-1],data.iloc[i])\n",
    "        timestamps.append(timestamp)\n",
    "        opens.append(open_price)\n",
    "        highs.append(high)\n",
    "        lows.append(low)\n",
    "        closes.append(close)\n",
    "\n",
    "    candles = pd.DataFrame({'unix':timestamps,'ha_Open':opens,'ha_High':highs,'ha_Low':lows,'ha_Close':closes}).sort_values(by=['unix'], ignore_index=True)\n",
    "    timestamp_df=candles['unix'].shift(periods=-1)\n",
    "    candles[\"unix\"] = timestamp_df\n",
    "    candles[\"Date\"] = pd.to_datetime(candles[\"unix\"], unit=\"ms\")\n",
    "    candles[\"Green\"] = candles[\"ha_Close\"]>candles[\"ha_Open\"]\n",
    "    candles.drop([0,1,len(candles)-1], inplace=True)\n",
    "    candles.set_index(\"Date\", inplace=True)\n",
    "    candles.drop(\"unix\", axis=1, inplace=True)\n",
    "    return candles\n",
    "\n",
    "heikin_ashi_candles = convert_data_to_heikin_ashi_processed(weekly_candles_original)\n",
    "# weekly_candles.to_csv('weekly.csv')\n",
    "# heikin_ashi_candles.to_csv('weekly_ha.csv')\n",
    "heikin_ashi_candles\n"
   ]
  },
  {
   "cell_type": "markdown",
   "metadata": {},
   "source": [
    "Now we plot the heikin ashi candles using the mpfinance module."
   ]
  },
  {
   "cell_type": "code",
   "execution_count": 113,
   "metadata": {},
   "outputs": [
    {
     "data": {
      "text/html": [
       "<div>\n",
       "<style scoped>\n",
       "    .dataframe tbody tr th:only-of-type {\n",
       "        vertical-align: middle;\n",
       "    }\n",
       "\n",
       "    .dataframe tbody tr th {\n",
       "        vertical-align: top;\n",
       "    }\n",
       "\n",
       "    .dataframe thead th {\n",
       "        text-align: right;\n",
       "    }\n",
       "</style>\n",
       "<table border=\"1\" class=\"dataframe\">\n",
       "  <thead>\n",
       "    <tr style=\"text-align: right;\">\n",
       "      <th></th>\n",
       "      <th>Open</th>\n",
       "      <th>Green</th>\n",
       "    </tr>\n",
       "    <tr>\n",
       "      <th>Date</th>\n",
       "      <th></th>\n",
       "      <th></th>\n",
       "    </tr>\n",
       "  </thead>\n",
       "  <tbody>\n",
       "    <tr>\n",
       "      <th>2019-10-07</th>\n",
       "      <td>170.10</td>\n",
       "      <td>True</td>\n",
       "    </tr>\n",
       "    <tr>\n",
       "      <th>2019-10-14</th>\n",
       "      <td>181.03</td>\n",
       "      <td>True</td>\n",
       "    </tr>\n",
       "    <tr>\n",
       "      <th>2019-10-21</th>\n",
       "      <td>175.47</td>\n",
       "      <td>True</td>\n",
       "    </tr>\n",
       "    <tr>\n",
       "      <th>2019-10-28</th>\n",
       "      <td>184.27</td>\n",
       "      <td>True</td>\n",
       "    </tr>\n",
       "    <tr>\n",
       "      <th>2019-11-04</th>\n",
       "      <td>181.55</td>\n",
       "      <td>True</td>\n",
       "    </tr>\n",
       "    <tr>\n",
       "      <th>...</th>\n",
       "      <td>...</td>\n",
       "      <td>...</td>\n",
       "    </tr>\n",
       "    <tr>\n",
       "      <th>2022-08-22</th>\n",
       "      <td>1617.80</td>\n",
       "      <td>True</td>\n",
       "    </tr>\n",
       "    <tr>\n",
       "      <th>2022-08-29</th>\n",
       "      <td>1426.60</td>\n",
       "      <td>False</td>\n",
       "    </tr>\n",
       "    <tr>\n",
       "      <th>2022-09-05</th>\n",
       "      <td>1578.80</td>\n",
       "      <td>False</td>\n",
       "    </tr>\n",
       "    <tr>\n",
       "      <th>2022-09-12</th>\n",
       "      <td>1766.90</td>\n",
       "      <td>True</td>\n",
       "    </tr>\n",
       "    <tr>\n",
       "      <th>2022-09-19</th>\n",
       "      <td>1334.80</td>\n",
       "      <td>False</td>\n",
       "    </tr>\n",
       "  </tbody>\n",
       "</table>\n",
       "<p>155 rows × 2 columns</p>\n",
       "</div>"
      ],
      "text/plain": [
       "               Open  Green\n",
       "Date                      \n",
       "2019-10-07   170.10   True\n",
       "2019-10-14   181.03   True\n",
       "2019-10-21   175.47   True\n",
       "2019-10-28   184.27   True\n",
       "2019-11-04   181.55   True\n",
       "...             ...    ...\n",
       "2022-08-22  1617.80   True\n",
       "2022-08-29  1426.60  False\n",
       "2022-09-05  1578.80  False\n",
       "2022-09-12  1766.90   True\n",
       "2022-09-19  1334.80  False\n",
       "\n",
       "[155 rows x 2 columns]"
      ]
     },
     "execution_count": 113,
     "metadata": {},
     "output_type": "execute_result"
    }
   ],
   "source": [
    "# weekly_candles.drop(labels=[\"unix\"], inplace=True)\n",
    "# heikin_ashi_candles.drop(labels=[\"unix\"], inplace=True)\n",
    "# heikin_ashi_candles=heikin_ashi_candles.drop([\"unix\"], axis=1)\n",
    "trimmed_weekly=weekly_candles[3:]\n",
    "combnined_df=pd.concat([trimmed_weekly, heikin_ashi_candles], axis=1)\n",
    "testing_df_weekly = combnined_df.loc[:,[\"Open\", \"Green\"]]\n",
    "testing_df_weekly"
   ]
  },
  {
   "cell_type": "markdown",
   "metadata": {},
   "source": [
    "Note: We will assess action on the close of the heikin ashi candle, say timestamp t, at which the current price will be the open of the normal candle at timestamp t."
   ]
  },
  {
   "cell_type": "code",
   "execution_count": 114,
   "metadata": {},
   "outputs": [
    {
     "data": {
      "application/vnd.plotly.v1+json": {
       "config": {
        "plotlyServerURL": "https://plot.ly"
       },
       "data": [
        {
         "close": [
          167.54,
          179.27999999999997,
          178.35250000000002,
          176.10000000000002,
          183.945,
          186.1825,
          184.8825,
          161.23250000000002,
          145.13000000000002,
          149.2225,
          145.8375,
          133.32,
          131.68,
          133.2425,
          141.04250000000002,
          158.6325,
          165.11,
          178.58249999999998,
          208.12,
          248.39,
          265.9925,
          245.2425,
          216.175,
          154.8075,
          124.9725,
          127.38000000000001,
          135.4275,
          155.2125,
          169.32500000000002,
          186.2125,
          206.28499999999997,
          198.71749999999997,
          194.925,
          203.79749999999999,
          218.77499999999998,
          237.98749999999998,
          238.08499999999998,
          228.565,
          229.36999999999998,
          226.5725,
          236.685,
          238.27750000000003,
          276.3675,
          348.7075,
          383.1825,
          408.8725,
          413.0125,
          404.99499999999995,
          395.0225,
          358.23,
          371.4425,
          354.64,
          353.67,
          359.6475,
          377.34250000000003,
          392.89,
          396.79499999999996,
          422.7525,
          453.88749999999993,
          509.13749999999993,
          560.33,
          593.8325,
          581.5825,
          620.2575,
          646.2575,
          840.6274999999999,
          1119.1025,
          1173.15,
          1276.9,
          1348.175,
          1490.35,
          1714.9499999999998,
          1889.025,
          1646.6999999999998,
          1573.55,
          1796.1750000000002,
          1808.8000000000002,
          1705.975,
          1896.75,
          2089.1499999999996,
          2216.175,
          2314.9750000000004,
          2641.1000000000004,
          3454.275,
          3810.9749999999995,
          2750.675,
          2363.125,
          2566.45,
          2584.575,
          2359.025,
          2046.475,
          2166.7,
          2230.7,
          2011.5,
          2000.575,
          2399.725,
          2802.0249999999996,
          3138.975,
          3211.3500000000004,
          3230.7000000000003,
          3588.475,
          3580.825,
          3377.5,
          3096.575,
          3187.85,
          3445.5,
          3650.925,
          3945.1749999999997,
          4181.35,
          4431.75,
          4645.299999999999,
          4404.375,
          4257.15,
          4190.724999999999,
          4165.224999999999,
          3961.5499999999997,
          3975.8999999999996,
          3901.7249999999995,
          3468.5,
          3208.6499999999996,
          2887,
          2506.5,
          2803.925,
          3013.5,
          2817.5000000000005,
          2605.625,
          2687.1749999999997,
          2571.425,
          2716,
          3072.85,
          3403.075,
          3355.7,
          3088.875,
          2993.075,
          2874.525,
          2697.975,
          2223.3999999999996,
          2056.6000000000004,
          1910.025,
          1841.3249999999998,
          1644.625,
          1223.25,
          1161.7749999999999,
          1126.0500000000002,
          1139.825,
          1233.875,
          1483.925,
          1604.725,
          1671.6999999999998,
          1830.1999999999998,
          1772.5000000000002,
          1547.525,
          1519.075,
          1656.525,
          1552.75
         ],
         "high": [
          185.7,
          197.35,
          188.45,
          191.75,
          193.08,
          194.36,
          189.96,
          183.71,
          172.3146337890625,
          158.72231689453128,
          153.97240844726565,
          149.90495422363284,
          141.61247711181642,
          138.05,
          147.92,
          179.23,
          171.01,
          193.59,
          230.96,
          289.17,
          287.22,
          277.99,
          252.47,
          229.9142809946835,
          192.36089049734176,
          158.66669524867086,
          150.46,
          176.37,
          189.75,
          200.16,
          227.45,
          216.87,
          209.92,
          217.05,
          247.13,
          253.65,
          250.48,
          237.14,
          249.17,
          232.68,
          249.18,
          245.24,
          320.77,
          416.06,
          407.66,
          444.48,
          447.7,
          429.87,
          489,
          397.3616729016122,
          394.08,
          376.64,
          370.02,
          378.57,
          395.08,
          421.46,
          411.56,
          468.77,
          478.43,
          581.64,
          623.45,
          636.66,
          603.47,
          676.71,
          716.57,
          1017.36,
          1353.5,
          1292.7,
          1439.6,
          1478.2,
          1764.7,
          1876.9,
          2155,
          1938.4,
          1734.6,
          1944,
          1891,
          1807,
          2145.1,
          2198.6,
          2549.2,
          2645.9,
          2985.8,
          3986,
          4381.4,
          3589.4,
          3062.4058822724037,
          2896.5,
          2859,
          2640.9,
          2485.558180142025,
          2398.2,
          2410.4,
          2223.529147517753,
          2199.9,
          2698.5,
          3194.4,
          3334.8,
          3341.3,
          3400,
          4030.2,
          3972.2,
          3677.3,
          3423.1434366674976,
          3490,
          3677.3,
          3969.6,
          4374,
          4462.2,
          4670,
          4869.7,
          4770.8,
          4557.3,
          4784.2,
          4495,
          4213.844047469889,
          4160,
          4128.9,
          3966.761755933736,
          3717.630877966868,
          3463.140438983434,
          3175.0702194917167,
          3078.8,
          3286.5,
          3199.4,
          2881.5,
          3046.7,
          2774.7,
          2987.7,
          3300.1,
          3581.4,
          3555.6,
          3247.5795997165487,
          3181.9,
          3080.6511499291373,
          2977.5880749645685,
          2837.781537482284,
          2530.590768741142,
          2293.595384370571,
          2101.810192185286,
          1971.5675960926428,
          1808.0962980463214,
          1515.6731490231607,
          1338.7240745115803,
          1275.2,
          1424.7,
          1664.5,
          1785.6,
          1750.9,
          2030.9,
          2012.9,
          1737.2426721660609,
          1649,
          1790.3,
          1784
         ],
         "low": [
          93.03625,
          130.28812499999998,
          154.78406249999998,
          152.96,
          171.334140625,
          177.63957031249998,
          177.16,
          137.58,
          131.83,
          143.21,
          139.13,
          116.22,
          122.38,
          125.53,
          134.72,
          137.99343463897708,
          148.31296731948854,
          156.71148365974426,
          167.64699182987212,
          187.88349591493608,
          218.13674795746803,
          209.9,
          195.31,
          87.69,
          100.67,
          118.8,
          124.04,
          139.22542381216772,
          147.21896190608385,
          158.27198095304192,
          172.24224047652098,
          180.14,
          175,
          191.28,
          196.79,
          208.95132001489128,
          223.46941000744562,
          217.85,
          215.66,
          221.03,
          227.03,
          225.81,
          234.2,
          255.84456570318318,
          302.2760328515916,
          342.7292664257958,
          375.80088321289793,
          370.15,
          309,
          323.11,
          354.35,
          313.2,
          334.48,
          333.22,
          359.39864602817534,
          365.34,
          372.34,
          370.52,
          405.73257162676094,
          429.8100358133804,
          469.47376790669017,
          514.9018839533451,
          530.08,
          567.9748459883363,
          546.28,
          620.1868364970842,
          730.4071682485421,
          913,
          1041,
          1162.926208531068,
          1255.5506042655338,
          1372.9503021327669,
          1543.9501510663833,
          1292.4,
          1412.2,
          1627.571893883298,
          1711.873446941649,
          1546,
          1677.7,
          1814.952930867706,
          1925,
          2051.4,
          2199.5441163584637,
          2420.322058179232,
          2937.298529089616,
          1730,
          2051,
          2269,
          2256.7,
          2042,
          1699.9,
          1962,
          2048.5,
          1845.6,
          1718.8,
          2059.044786879438,
          2229.3848934397192,
          2515.7049467198594,
          2827.33997335993,
          3019.344986679965,
          3125.0224933399827,
          2994.1,
          3099.9,
          2650,
          2780.6,
          3223.854609166874,
          3334.677304583437,
          3477,
          3718.988076145859,
          3950.1690380729297,
          4190.959519036465,
          3958,
          3912,
          3480,
          3832.4,
          3642,
          3752,
          3582.6,
          2998,
          2921.8,
          2300,
          2159.5,
          2476.8,
          2822.355054872929,
          2575.7,
          2301.1,
          2533.3,
          2444.7,
          2498.7,
          2678.8367977323896,
          2875.8433988661945,
          3139.459199433097,
          2950,
          2881.1,
          2714.5,
          2482,
          1703,
          1900.6,
          1700,
          1734.2,
          1423,
          880,
          1042.7,
          996,
          1043.9,
          1005.3,
          1209.9905093139475,
          1346.9577546569737,
          1475.841377328487,
          1573.7706886642434,
          1523.4,
          1423.6,
          1421.9,
          1490.1,
          1325.5
         ],
         "open": [
          93.03625,
          130.28812499999998,
          154.78406249999998,
          166.56828124999998,
          171.334140625,
          177.63957031249998,
          181.91103515625,
          183.39676757812498,
          172.3146337890625,
          158.72231689453128,
          153.97240844726565,
          149.90495422363284,
          141.61247711181642,
          136.6462385559082,
          134.9443692779541,
          137.99343463897708,
          148.31296731948854,
          156.71148365974426,
          167.64699182987212,
          187.88349591493608,
          218.13674795746803,
          242.064623978734,
          243.653561989367,
          229.9142809946835,
          192.36089049734176,
          158.66669524867086,
          143.02334762433543,
          139.22542381216772,
          147.21896190608385,
          158.27198095304192,
          172.24224047652098,
          189.26362023826047,
          193.99056011913024,
          194.45778005956512,
          199.12764002978255,
          208.95132001489128,
          223.46941000744562,
          230.7772050037228,
          229.6711025018614,
          229.52055125093068,
          228.04652562546534,
          232.36576281273267,
          235.32163140636635,
          255.84456570318318,
          302.2760328515916,
          342.7292664257958,
          375.80088321289793,
          394.40669160644893,
          399.7008458032244,
          397.3616729016122,
          377.7958364508061,
          374.6191682254031,
          364.62958411270154,
          359.14979205635075,
          359.39864602817534,
          368.37057301408765,
          380.6302865070438,
          388.7126432535219,
          405.73257162676094,
          429.8100358133804,
          469.47376790669017,
          514.9018839533451,
          554.3671919766725,
          567.9748459883363,
          594.1161729941682,
          620.1868364970842,
          730.4071682485421,
          924.754834124271,
          1048.9524170621355,
          1162.926208531068,
          1255.5506042655338,
          1372.9503021327669,
          1543.9501510663833,
          1716.4875755331918,
          1681.5937877665958,
          1627.571893883298,
          1711.873446941649,
          1760.3367234708246,
          1733.1558617354121,
          1814.952930867706,
          1952.0514654338529,
          2084.1132327169266,
          2199.5441163584637,
          2420.322058179232,
          2937.298529089616,
          3374.1367645448076,
          3062.4058822724037,
          2712.765441136202,
          2639.607720568101,
          2612.09136028405,
          2485.558180142025,
          2266.0165900710126,
          2216.358295035506,
          2223.529147517753,
          2117.5145737588764,
          2059.044786879438,
          2229.3848934397192,
          2515.7049467198594,
          2827.33997335993,
          3019.344986679965,
          3125.0224933399827,
          3356.7487466699913,
          3468.7868733349956,
          3423.1434366674976,
          3259.8592183337487,
          3223.854609166874,
          3334.677304583437,
          3492.8011522917186,
          3718.988076145859,
          3950.1690380729297,
          4190.959519036465,
          4418.129759518232,
          4411.252379759117,
          4334.201189879558,
          4262.463094939779,
          4213.844047469889,
          4087.697023734944,
          4031.798511867472,
          3966.761755933736,
          3717.630877966868,
          3463.140438983434,
          3175.0702194917167,
          2840.7851097458583,
          2822.355054872929,
          2917.9275274364645,
          2867.7137637182323,
          2736.669381859116,
          2711.922190929558,
          2641.6735954647793,
          2678.8367977323896,
          2875.8433988661945,
          3139.459199433097,
          3247.5795997165487,
          3168.2272998582744,
          3080.6511499291373,
          2977.5880749645685,
          2837.781537482284,
          2530.590768741142,
          2293.595384370571,
          2101.810192185286,
          1971.5675960926428,
          1808.0962980463214,
          1515.6731490231607,
          1338.7240745115803,
          1232.3870372557903,
          1186.106018627895,
          1209.9905093139475,
          1346.9577546569737,
          1475.841377328487,
          1573.7706886642434,
          1701.9853443321217,
          1737.2426721660609,
          1642.3838360830305,
          1580.7294180415151,
          1618.6272090207576
         ],
         "type": "candlestick",
         "x": [
          "2019-10-07T00:00:00",
          "2019-10-14T00:00:00",
          "2019-10-21T00:00:00",
          "2019-10-28T00:00:00",
          "2019-11-04T00:00:00",
          "2019-11-11T00:00:00",
          "2019-11-18T00:00:00",
          "2019-11-25T00:00:00",
          "2019-12-02T00:00:00",
          "2019-12-09T00:00:00",
          "2019-12-16T00:00:00",
          "2019-12-23T00:00:00",
          "2019-12-30T00:00:00",
          "2020-01-06T00:00:00",
          "2020-01-13T00:00:00",
          "2020-01-20T00:00:00",
          "2020-01-27T00:00:00",
          "2020-02-03T00:00:00",
          "2020-02-10T00:00:00",
          "2020-02-17T00:00:00",
          "2020-02-24T00:00:00",
          "2020-03-02T00:00:00",
          "2020-03-09T00:00:00",
          "2020-03-16T00:00:00",
          "2020-03-23T00:00:00",
          "2020-03-30T00:00:00",
          "2020-04-06T00:00:00",
          "2020-04-13T00:00:00",
          "2020-04-20T00:00:00",
          "2020-04-27T00:00:00",
          "2020-05-04T00:00:00",
          "2020-05-11T00:00:00",
          "2020-05-18T00:00:00",
          "2020-05-25T00:00:00",
          "2020-06-01T00:00:00",
          "2020-06-08T00:00:00",
          "2020-06-15T00:00:00",
          "2020-06-22T00:00:00",
          "2020-06-29T00:00:00",
          "2020-07-06T00:00:00",
          "2020-07-13T00:00:00",
          "2020-07-20T00:00:00",
          "2020-07-27T00:00:00",
          "2020-08-03T00:00:00",
          "2020-08-10T00:00:00",
          "2020-08-17T00:00:00",
          "2020-08-24T00:00:00",
          "2020-08-31T00:00:00",
          "2020-09-07T00:00:00",
          "2020-09-14T00:00:00",
          "2020-09-21T00:00:00",
          "2020-09-28T00:00:00",
          "2020-10-05T00:00:00",
          "2020-10-12T00:00:00",
          "2020-10-19T00:00:00",
          "2020-10-26T00:00:00",
          "2020-11-02T00:00:00",
          "2020-11-09T00:00:00",
          "2020-11-16T00:00:00",
          "2020-11-23T00:00:00",
          "2020-11-30T00:00:00",
          "2020-12-07T00:00:00",
          "2020-12-14T00:00:00",
          "2020-12-21T00:00:00",
          "2020-12-28T00:00:00",
          "2021-01-04T00:00:00",
          "2021-01-11T00:00:00",
          "2021-01-18T00:00:00",
          "2021-01-25T00:00:00",
          "2021-02-01T00:00:00",
          "2021-02-08T00:00:00",
          "2021-02-15T00:00:00",
          "2021-02-22T00:00:00",
          "2021-03-01T00:00:00",
          "2021-03-08T00:00:00",
          "2021-03-15T00:00:00",
          "2021-03-22T00:00:00",
          "2021-03-29T00:00:00",
          "2021-04-05T00:00:00",
          "2021-04-12T00:00:00",
          "2021-04-19T00:00:00",
          "2021-04-26T00:00:00",
          "2021-05-03T00:00:00",
          "2021-05-10T00:00:00",
          "2021-05-17T00:00:00",
          "2021-05-24T00:00:00",
          "2021-05-31T00:00:00",
          "2021-06-07T00:00:00",
          "2021-06-14T00:00:00",
          "2021-06-21T00:00:00",
          "2021-06-28T00:00:00",
          "2021-07-05T00:00:00",
          "2021-07-12T00:00:00",
          "2021-07-19T00:00:00",
          "2021-07-26T00:00:00",
          "2021-08-02T00:00:00",
          "2021-08-09T00:00:00",
          "2021-08-16T00:00:00",
          "2021-08-23T00:00:00",
          "2021-08-30T00:00:00",
          "2021-09-06T00:00:00",
          "2021-09-13T00:00:00",
          "2021-09-20T00:00:00",
          "2021-09-27T00:00:00",
          "2021-10-04T00:00:00",
          "2021-10-11T00:00:00",
          "2021-10-18T00:00:00",
          "2021-10-25T00:00:00",
          "2021-11-01T00:00:00",
          "2021-11-08T00:00:00",
          "2021-11-15T00:00:00",
          "2021-11-22T00:00:00",
          "2021-11-29T00:00:00",
          "2021-12-06T00:00:00",
          "2021-12-13T00:00:00",
          "2021-12-20T00:00:00",
          "2021-12-27T00:00:00",
          "2022-01-03T00:00:00",
          "2022-01-10T00:00:00",
          "2022-01-17T00:00:00",
          "2022-01-24T00:00:00",
          "2022-01-31T00:00:00",
          "2022-02-07T00:00:00",
          "2022-02-14T00:00:00",
          "2022-02-21T00:00:00",
          "2022-02-28T00:00:00",
          "2022-03-07T00:00:00",
          "2022-03-14T00:00:00",
          "2022-03-21T00:00:00",
          "2022-03-28T00:00:00",
          "2022-04-04T00:00:00",
          "2022-04-11T00:00:00",
          "2022-04-18T00:00:00",
          "2022-04-25T00:00:00",
          "2022-05-02T00:00:00",
          "2022-05-09T00:00:00",
          "2022-05-16T00:00:00",
          "2022-05-23T00:00:00",
          "2022-05-30T00:00:00",
          "2022-06-06T00:00:00",
          "2022-06-13T00:00:00",
          "2022-06-20T00:00:00",
          "2022-06-27T00:00:00",
          "2022-07-04T00:00:00",
          "2022-07-11T00:00:00",
          "2022-07-18T00:00:00",
          "2022-07-25T00:00:00",
          "2022-08-01T00:00:00",
          "2022-08-08T00:00:00",
          "2022-08-15T00:00:00",
          "2022-08-22T00:00:00",
          "2022-08-29T00:00:00",
          "2022-09-05T00:00:00",
          "2022-09-12T00:00:00",
          "2022-09-19T00:00:00"
         ]
        }
       ],
       "layout": {
        "template": {
         "data": {
          "bar": [
           {
            "error_x": {
             "color": "#2a3f5f"
            },
            "error_y": {
             "color": "#2a3f5f"
            },
            "marker": {
             "line": {
              "color": "#E5ECF6",
              "width": 0.5
             },
             "pattern": {
              "fillmode": "overlay",
              "size": 10,
              "solidity": 0.2
             }
            },
            "type": "bar"
           }
          ],
          "barpolar": [
           {
            "marker": {
             "line": {
              "color": "#E5ECF6",
              "width": 0.5
             },
             "pattern": {
              "fillmode": "overlay",
              "size": 10,
              "solidity": 0.2
             }
            },
            "type": "barpolar"
           }
          ],
          "carpet": [
           {
            "aaxis": {
             "endlinecolor": "#2a3f5f",
             "gridcolor": "white",
             "linecolor": "white",
             "minorgridcolor": "white",
             "startlinecolor": "#2a3f5f"
            },
            "baxis": {
             "endlinecolor": "#2a3f5f",
             "gridcolor": "white",
             "linecolor": "white",
             "minorgridcolor": "white",
             "startlinecolor": "#2a3f5f"
            },
            "type": "carpet"
           }
          ],
          "choropleth": [
           {
            "colorbar": {
             "outlinewidth": 0,
             "ticks": ""
            },
            "type": "choropleth"
           }
          ],
          "contour": [
           {
            "colorbar": {
             "outlinewidth": 0,
             "ticks": ""
            },
            "colorscale": [
             [
              0,
              "#0d0887"
             ],
             [
              0.1111111111111111,
              "#46039f"
             ],
             [
              0.2222222222222222,
              "#7201a8"
             ],
             [
              0.3333333333333333,
              "#9c179e"
             ],
             [
              0.4444444444444444,
              "#bd3786"
             ],
             [
              0.5555555555555556,
              "#d8576b"
             ],
             [
              0.6666666666666666,
              "#ed7953"
             ],
             [
              0.7777777777777778,
              "#fb9f3a"
             ],
             [
              0.8888888888888888,
              "#fdca26"
             ],
             [
              1,
              "#f0f921"
             ]
            ],
            "type": "contour"
           }
          ],
          "contourcarpet": [
           {
            "colorbar": {
             "outlinewidth": 0,
             "ticks": ""
            },
            "type": "contourcarpet"
           }
          ],
          "heatmap": [
           {
            "colorbar": {
             "outlinewidth": 0,
             "ticks": ""
            },
            "colorscale": [
             [
              0,
              "#0d0887"
             ],
             [
              0.1111111111111111,
              "#46039f"
             ],
             [
              0.2222222222222222,
              "#7201a8"
             ],
             [
              0.3333333333333333,
              "#9c179e"
             ],
             [
              0.4444444444444444,
              "#bd3786"
             ],
             [
              0.5555555555555556,
              "#d8576b"
             ],
             [
              0.6666666666666666,
              "#ed7953"
             ],
             [
              0.7777777777777778,
              "#fb9f3a"
             ],
             [
              0.8888888888888888,
              "#fdca26"
             ],
             [
              1,
              "#f0f921"
             ]
            ],
            "type": "heatmap"
           }
          ],
          "heatmapgl": [
           {
            "colorbar": {
             "outlinewidth": 0,
             "ticks": ""
            },
            "colorscale": [
             [
              0,
              "#0d0887"
             ],
             [
              0.1111111111111111,
              "#46039f"
             ],
             [
              0.2222222222222222,
              "#7201a8"
             ],
             [
              0.3333333333333333,
              "#9c179e"
             ],
             [
              0.4444444444444444,
              "#bd3786"
             ],
             [
              0.5555555555555556,
              "#d8576b"
             ],
             [
              0.6666666666666666,
              "#ed7953"
             ],
             [
              0.7777777777777778,
              "#fb9f3a"
             ],
             [
              0.8888888888888888,
              "#fdca26"
             ],
             [
              1,
              "#f0f921"
             ]
            ],
            "type": "heatmapgl"
           }
          ],
          "histogram": [
           {
            "marker": {
             "pattern": {
              "fillmode": "overlay",
              "size": 10,
              "solidity": 0.2
             }
            },
            "type": "histogram"
           }
          ],
          "histogram2d": [
           {
            "colorbar": {
             "outlinewidth": 0,
             "ticks": ""
            },
            "colorscale": [
             [
              0,
              "#0d0887"
             ],
             [
              0.1111111111111111,
              "#46039f"
             ],
             [
              0.2222222222222222,
              "#7201a8"
             ],
             [
              0.3333333333333333,
              "#9c179e"
             ],
             [
              0.4444444444444444,
              "#bd3786"
             ],
             [
              0.5555555555555556,
              "#d8576b"
             ],
             [
              0.6666666666666666,
              "#ed7953"
             ],
             [
              0.7777777777777778,
              "#fb9f3a"
             ],
             [
              0.8888888888888888,
              "#fdca26"
             ],
             [
              1,
              "#f0f921"
             ]
            ],
            "type": "histogram2d"
           }
          ],
          "histogram2dcontour": [
           {
            "colorbar": {
             "outlinewidth": 0,
             "ticks": ""
            },
            "colorscale": [
             [
              0,
              "#0d0887"
             ],
             [
              0.1111111111111111,
              "#46039f"
             ],
             [
              0.2222222222222222,
              "#7201a8"
             ],
             [
              0.3333333333333333,
              "#9c179e"
             ],
             [
              0.4444444444444444,
              "#bd3786"
             ],
             [
              0.5555555555555556,
              "#d8576b"
             ],
             [
              0.6666666666666666,
              "#ed7953"
             ],
             [
              0.7777777777777778,
              "#fb9f3a"
             ],
             [
              0.8888888888888888,
              "#fdca26"
             ],
             [
              1,
              "#f0f921"
             ]
            ],
            "type": "histogram2dcontour"
           }
          ],
          "mesh3d": [
           {
            "colorbar": {
             "outlinewidth": 0,
             "ticks": ""
            },
            "type": "mesh3d"
           }
          ],
          "parcoords": [
           {
            "line": {
             "colorbar": {
              "outlinewidth": 0,
              "ticks": ""
             }
            },
            "type": "parcoords"
           }
          ],
          "pie": [
           {
            "automargin": true,
            "type": "pie"
           }
          ],
          "scatter": [
           {
            "marker": {
             "colorbar": {
              "outlinewidth": 0,
              "ticks": ""
             }
            },
            "type": "scatter"
           }
          ],
          "scatter3d": [
           {
            "line": {
             "colorbar": {
              "outlinewidth": 0,
              "ticks": ""
             }
            },
            "marker": {
             "colorbar": {
              "outlinewidth": 0,
              "ticks": ""
             }
            },
            "type": "scatter3d"
           }
          ],
          "scattercarpet": [
           {
            "marker": {
             "colorbar": {
              "outlinewidth": 0,
              "ticks": ""
             }
            },
            "type": "scattercarpet"
           }
          ],
          "scattergeo": [
           {
            "marker": {
             "colorbar": {
              "outlinewidth": 0,
              "ticks": ""
             }
            },
            "type": "scattergeo"
           }
          ],
          "scattergl": [
           {
            "marker": {
             "colorbar": {
              "outlinewidth": 0,
              "ticks": ""
             }
            },
            "type": "scattergl"
           }
          ],
          "scattermapbox": [
           {
            "marker": {
             "colorbar": {
              "outlinewidth": 0,
              "ticks": ""
             }
            },
            "type": "scattermapbox"
           }
          ],
          "scatterpolar": [
           {
            "marker": {
             "colorbar": {
              "outlinewidth": 0,
              "ticks": ""
             }
            },
            "type": "scatterpolar"
           }
          ],
          "scatterpolargl": [
           {
            "marker": {
             "colorbar": {
              "outlinewidth": 0,
              "ticks": ""
             }
            },
            "type": "scatterpolargl"
           }
          ],
          "scatterternary": [
           {
            "marker": {
             "colorbar": {
              "outlinewidth": 0,
              "ticks": ""
             }
            },
            "type": "scatterternary"
           }
          ],
          "surface": [
           {
            "colorbar": {
             "outlinewidth": 0,
             "ticks": ""
            },
            "colorscale": [
             [
              0,
              "#0d0887"
             ],
             [
              0.1111111111111111,
              "#46039f"
             ],
             [
              0.2222222222222222,
              "#7201a8"
             ],
             [
              0.3333333333333333,
              "#9c179e"
             ],
             [
              0.4444444444444444,
              "#bd3786"
             ],
             [
              0.5555555555555556,
              "#d8576b"
             ],
             [
              0.6666666666666666,
              "#ed7953"
             ],
             [
              0.7777777777777778,
              "#fb9f3a"
             ],
             [
              0.8888888888888888,
              "#fdca26"
             ],
             [
              1,
              "#f0f921"
             ]
            ],
            "type": "surface"
           }
          ],
          "table": [
           {
            "cells": {
             "fill": {
              "color": "#EBF0F8"
             },
             "line": {
              "color": "white"
             }
            },
            "header": {
             "fill": {
              "color": "#C8D4E3"
             },
             "line": {
              "color": "white"
             }
            },
            "type": "table"
           }
          ]
         },
         "layout": {
          "annotationdefaults": {
           "arrowcolor": "#2a3f5f",
           "arrowhead": 0,
           "arrowwidth": 1
          },
          "autotypenumbers": "strict",
          "coloraxis": {
           "colorbar": {
            "outlinewidth": 0,
            "ticks": ""
           }
          },
          "colorscale": {
           "diverging": [
            [
             0,
             "#8e0152"
            ],
            [
             0.1,
             "#c51b7d"
            ],
            [
             0.2,
             "#de77ae"
            ],
            [
             0.3,
             "#f1b6da"
            ],
            [
             0.4,
             "#fde0ef"
            ],
            [
             0.5,
             "#f7f7f7"
            ],
            [
             0.6,
             "#e6f5d0"
            ],
            [
             0.7,
             "#b8e186"
            ],
            [
             0.8,
             "#7fbc41"
            ],
            [
             0.9,
             "#4d9221"
            ],
            [
             1,
             "#276419"
            ]
           ],
           "sequential": [
            [
             0,
             "#0d0887"
            ],
            [
             0.1111111111111111,
             "#46039f"
            ],
            [
             0.2222222222222222,
             "#7201a8"
            ],
            [
             0.3333333333333333,
             "#9c179e"
            ],
            [
             0.4444444444444444,
             "#bd3786"
            ],
            [
             0.5555555555555556,
             "#d8576b"
            ],
            [
             0.6666666666666666,
             "#ed7953"
            ],
            [
             0.7777777777777778,
             "#fb9f3a"
            ],
            [
             0.8888888888888888,
             "#fdca26"
            ],
            [
             1,
             "#f0f921"
            ]
           ],
           "sequentialminus": [
            [
             0,
             "#0d0887"
            ],
            [
             0.1111111111111111,
             "#46039f"
            ],
            [
             0.2222222222222222,
             "#7201a8"
            ],
            [
             0.3333333333333333,
             "#9c179e"
            ],
            [
             0.4444444444444444,
             "#bd3786"
            ],
            [
             0.5555555555555556,
             "#d8576b"
            ],
            [
             0.6666666666666666,
             "#ed7953"
            ],
            [
             0.7777777777777778,
             "#fb9f3a"
            ],
            [
             0.8888888888888888,
             "#fdca26"
            ],
            [
             1,
             "#f0f921"
            ]
           ]
          },
          "colorway": [
           "#636efa",
           "#EF553B",
           "#00cc96",
           "#ab63fa",
           "#FFA15A",
           "#19d3f3",
           "#FF6692",
           "#B6E880",
           "#FF97FF",
           "#FECB52"
          ],
          "font": {
           "color": "#2a3f5f"
          },
          "geo": {
           "bgcolor": "white",
           "lakecolor": "white",
           "landcolor": "#E5ECF6",
           "showlakes": true,
           "showland": true,
           "subunitcolor": "white"
          },
          "hoverlabel": {
           "align": "left"
          },
          "hovermode": "closest",
          "mapbox": {
           "style": "light"
          },
          "paper_bgcolor": "white",
          "plot_bgcolor": "#E5ECF6",
          "polar": {
           "angularaxis": {
            "gridcolor": "white",
            "linecolor": "white",
            "ticks": ""
           },
           "bgcolor": "#E5ECF6",
           "radialaxis": {
            "gridcolor": "white",
            "linecolor": "white",
            "ticks": ""
           }
          },
          "scene": {
           "xaxis": {
            "backgroundcolor": "#E5ECF6",
            "gridcolor": "white",
            "gridwidth": 2,
            "linecolor": "white",
            "showbackground": true,
            "ticks": "",
            "zerolinecolor": "white"
           },
           "yaxis": {
            "backgroundcolor": "#E5ECF6",
            "gridcolor": "white",
            "gridwidth": 2,
            "linecolor": "white",
            "showbackground": true,
            "ticks": "",
            "zerolinecolor": "white"
           },
           "zaxis": {
            "backgroundcolor": "#E5ECF6",
            "gridcolor": "white",
            "gridwidth": 2,
            "linecolor": "white",
            "showbackground": true,
            "ticks": "",
            "zerolinecolor": "white"
           }
          },
          "shapedefaults": {
           "line": {
            "color": "#2a3f5f"
           }
          },
          "ternary": {
           "aaxis": {
            "gridcolor": "white",
            "linecolor": "white",
            "ticks": ""
           },
           "baxis": {
            "gridcolor": "white",
            "linecolor": "white",
            "ticks": ""
           },
           "bgcolor": "#E5ECF6",
           "caxis": {
            "gridcolor": "white",
            "linecolor": "white",
            "ticks": ""
           }
          },
          "title": {
           "x": 0.05
          },
          "xaxis": {
           "automargin": true,
           "gridcolor": "white",
           "linecolor": "white",
           "ticks": "",
           "title": {
            "standoff": 15
           },
           "zerolinecolor": "white",
           "zerolinewidth": 2
          },
          "yaxis": {
           "automargin": true,
           "gridcolor": "white",
           "linecolor": "white",
           "ticks": "",
           "title": {
            "standoff": 15
           },
           "zerolinecolor": "white",
           "zerolinewidth": 2
          }
         }
        }
       }
      }
     },
     "metadata": {},
     "output_type": "display_data"
    },
    {
     "data": {
      "application/vnd.plotly.v1+json": {
       "config": {
        "plotlyServerURL": "https://plot.ly"
       },
       "data": [
        {
         "close": [
          181.03,
          175.47,
          184.22,
          181.53,
          188.73,
          183.68,
          139.96,
          150.85,
          150.65,
          142.3,
          132.28,
          134.22,
          135.18,
          146.35,
          166.74,
          167.48,
          188.26,
          228.82,
          259.21,
          275.55,
          217.47,
          199.45,
          123.5,
          122.32,
          124.38,
          142.83,
          158.85,
          180.24,
          197.71,
          210.04,
          187.82,
          206.96,
          199.9,
          231.42,
          244.78,
          231.51,
          227.76,
          224.89,
          227.66,
          242.87,
          239.19,
          311.31,
          372.23,
          390.38,
          433.91,
          390.91,
          429.05,
          353.04,
          366.42,
          370.92,
          357.76,
          352.46,
          374.34,
          378.49,
          406.27,
          397.01,
          454.71,
          448.39,
          560.62,
          576.58,
          602.09,
          590.69,
          638.09,
          684.09,
          979.91,
          1254.5,
          1232.4,
          1394.6,
          1312.8,
          1614.6,
          1802.1,
          1935.1,
          1420.9,
          1726.5,
          1848.1,
          1783.9,
          1687,
          2077.2,
          2150.2,
          2240.3,
          2322.3,
          2951.3,
          3928.5,
          3584.8,
          2098.5,
          2387.5,
          2712.8,
          2509.8,
          2243.3,
          1983.1,
          2323.5,
          2140.7,
          1891.6,
          2192,
          2555.9,
          3013.7,
          3312.4,
          3241.7,
          3226.1,
          3952.6,
          3404.4,
          3328.4,
          3060.9,
          3419.9,
          3414.8,
          3847.3,
          4082.4,
          4290,
          4616.9,
          4627.3,
          4261.4,
          4297.9,
          4200.8,
          4132.7,
          3925.4,
          4066.2,
          3829.2,
          3150.8,
          3348.3,
          2540.5,
          2602.6,
          3057.5,
          2872.8,
          2622.1,
          2617.8,
          2550.9,
          2515.4,
          2862.2,
          3296.5,
          3522.2,
          3202.4,
          2988,
          2921.3,
          2824.4,
          2519,
          2142.2,
          2041.2,
          1811.6,
          1804.6,
          1432.9,
          1126.7,
          1197.2,
          1072.9,
          1167.3,
          1338.2,
          1598,
          1679.1,
          1700.4,
          1935.9,
          1617.8,
          1426.6,
          1578.8,
          1766.9,
          1334.6,
          1295.7
         ],
         "high": [
          197.35,
          188.45,
          191.75,
          193.08,
          194.36,
          189.96,
          183.71,
          157.87,
          152.18,
          151.27,
          142.48,
          137.79,
          138.05,
          147.92,
          179.23,
          171.01,
          193.59,
          230.96,
          289.17,
          287.22,
          277.99,
          252.47,
          208.56,
          153.4,
          144.02,
          150.46,
          176.37,
          189.75,
          200.16,
          227.45,
          216.87,
          209.92,
          217.05,
          247.13,
          253.65,
          250.48,
          237.14,
          249.17,
          232.68,
          249.18,
          245.24,
          320.77,
          416.06,
          407.66,
          444.48,
          447.7,
          429.87,
          489,
          390.35,
          394.08,
          376.64,
          370.02,
          378.57,
          395.08,
          421.46,
          411.56,
          468.77,
          478.43,
          581.64,
          623.45,
          636.66,
          603.47,
          676.71,
          716.57,
          1017.36,
          1353.5,
          1292.7,
          1439.6,
          1478.2,
          1764.7,
          1876.9,
          2155,
          1938.4,
          1734.6,
          1944,
          1891,
          1807,
          2145.1,
          2198.6,
          2549.2,
          2645.9,
          2985.8,
          3986,
          4381.4,
          3589.4,
          2915.5,
          2896.5,
          2859,
          2640.9,
          2259.6,
          2398.2,
          2410.4,
          2168.1,
          2199.9,
          2698.5,
          3194.4,
          3334.8,
          3341.3,
          3400,
          4030.2,
          3972.2,
          3677.3,
          3346.7,
          3490,
          3677.3,
          3969.6,
          4374,
          4462.2,
          4670,
          4869.7,
          4770.8,
          4557.3,
          4784.2,
          4495,
          4146.1,
          4160,
          4128.9,
          3896,
          3413.7,
          3359.2,
          2723.4,
          3078.8,
          3286.5,
          3199.4,
          2881.5,
          3046.7,
          2774.7,
          2987.7,
          3300.1,
          3581.4,
          3555.6,
          3215.1,
          3181.9,
          3037.9,
          2966.5,
          2529.4,
          2142.4,
          2087.3,
          2014.9,
          1918,
          1453.2,
          1280.3,
          1238.1,
          1275.2,
          1424.7,
          1664.5,
          1785.6,
          1750.9,
          2030.9,
          2012.9,
          1722.1,
          1649,
          1790.3,
          1784,
          1410
         ],
         "low": [
          168.64,
          168.46,
          152.96,
          176.9,
          180.09,
          177.16,
          137.58,
          131.83,
          143.21,
          139.13,
          116.22,
          122.38,
          125.53,
          134.72,
          142.18,
          155.21,
          165,
          184.44,
          216.36,
          242.52,
          209.9,
          195.31,
          87.69,
          100.67,
          118.8,
          124.04,
          142.79,
          148.46,
          166.74,
          189.94,
          180.14,
          175,
          191.28,
          196.79,
          222.1,
          225.57,
          217.85,
          215.66,
          221.03,
          227.03,
          225.81,
          234.2,
          295.23,
          362.46,
          366.72,
          379.53,
          370.15,
          309,
          323.11,
          354.35,
          313.2,
          334.48,
          333.22,
          361.43,
          365.34,
          372.34,
          370.52,
          434.02,
          445.9,
          480.67,
          560,
          530.08,
          575.54,
          546.28,
          681.15,
          888.5,
          913,
          1041,
          1207.1,
          1269.3,
          1566.2,
          1663.9,
          1292.4,
          1412.2,
          1666.1,
          1712.2,
          1546,
          1677.7,
          1930.6,
          1925,
          2051.4,
          2305,
          2951.3,
          3349.2,
          1730,
          2051,
          2269,
          2256.7,
          2042,
          1699.9,
          1962,
          2048.5,
          1845.6,
          1718.8,
          2152.5,
          2444,
          2895,
          2950,
          3055,
          3145,
          2994.1,
          3099.9,
          2650,
          2780.6,
          3270,
          3372,
          3477,
          3890.8,
          4150.1,
          4467.3,
          3958,
          3912,
          3480,
          3832.4,
          3642,
          3752,
          3582.6,
          2998,
          2921.8,
          2300,
          2159.5,
          2476.8,
          2837.2,
          2575.7,
          2301.1,
          2533.3,
          2444.7,
          2498.7,
          2832.6,
          3212.2,
          3142.6,
          2950,
          2881.1,
          2714.5,
          2482,
          1703,
          1900.6,
          1700,
          1734.2,
          1423,
          880,
          1042.7,
          996,
          1043.9,
          1005.3,
          1335,
          1356.2,
          1556.4,
          1653.6,
          1523.4,
          1423.6,
          1421.9,
          1490.1,
          1325.5,
          1219.2
         ],
         "open": [
          170.1,
          181.03,
          175.47,
          184.27,
          181.55,
          188.73,
          183.68,
          139.97,
          150.85,
          150.65,
          142.3,
          132.33,
          134.21,
          135.18,
          146.38,
          166.74,
          167.48,
          188.26,
          228.82,
          258.68,
          275.61,
          217.47,
          199.48,
          123.5,
          122.32,
          124.38,
          142.84,
          158.85,
          180.24,
          197.71,
          210.04,
          187.82,
          206.96,
          199.76,
          231.42,
          244.78,
          231.51,
          227.76,
          224.92,
          227.66,
          242.87,
          239.19,
          311.31,
          372.23,
          390.38,
          433.91,
          390.91,
          429.05,
          353.04,
          366.42,
          370.96,
          357.72,
          352.46,
          374.37,
          378.49,
          406.27,
          397.01,
          454.71,
          448.39,
          560.62,
          576.58,
          602.09,
          590.69,
          638.09,
          684.09,
          979.91,
          1254.5,
          1232.4,
          1394.6,
          1312.8,
          1614.6,
          1802.1,
          1935.1,
          1420.9,
          1726.5,
          1848.1,
          1783.9,
          1687,
          2077.2,
          2150.2,
          2240.3,
          2322.3,
          2951.3,
          3928.5,
          3584.8,
          2098.5,
          2387.5,
          2712.8,
          2509.9,
          2243.3,
          1983.1,
          2323.2,
          2140.7,
          1891.6,
          2192,
          2556,
          3013.7,
          3312.4,
          3241.7,
          3226.1,
          3952.6,
          3404.4,
          3328.7,
          3060.9,
          3419.9,
          3414.8,
          3847.3,
          4082.4,
          4290,
          4616.9,
          4627.3,
          4261.4,
          4297.9,
          4200.8,
          4132.7,
          3925.4,
          4066.2,
          3829.2,
          3150.8,
          3348.3,
          2540.5,
          2602.6,
          3057.5,
          2872.8,
          2622.1,
          2617.8,
          2550.9,
          2515.4,
          2862.2,
          3296.5,
          3522.2,
          3202.4,
          2988,
          2921.3,
          2824.4,
          2519,
          2142.2,
          2041.2,
          1811.6,
          1804.6,
          1433.1,
          1126.9,
          1197.2,
          1072.9,
          1167.3,
          1338.2,
          1598,
          1679.1,
          1700.4,
          1935.9,
          1617.8,
          1426.6,
          1578.8,
          1766.9,
          1334.8
         ],
         "type": "candlestick",
         "x": [
          "2019-10-07T00:00:00",
          "2019-10-14T00:00:00",
          "2019-10-21T00:00:00",
          "2019-10-28T00:00:00",
          "2019-11-04T00:00:00",
          "2019-11-11T00:00:00",
          "2019-11-18T00:00:00",
          "2019-11-25T00:00:00",
          "2019-12-02T00:00:00",
          "2019-12-09T00:00:00",
          "2019-12-16T00:00:00",
          "2019-12-23T00:00:00",
          "2019-12-30T00:00:00",
          "2020-01-06T00:00:00",
          "2020-01-13T00:00:00",
          "2020-01-20T00:00:00",
          "2020-01-27T00:00:00",
          "2020-02-03T00:00:00",
          "2020-02-10T00:00:00",
          "2020-02-17T00:00:00",
          "2020-02-24T00:00:00",
          "2020-03-02T00:00:00",
          "2020-03-09T00:00:00",
          "2020-03-16T00:00:00",
          "2020-03-23T00:00:00",
          "2020-03-30T00:00:00",
          "2020-04-06T00:00:00",
          "2020-04-13T00:00:00",
          "2020-04-20T00:00:00",
          "2020-04-27T00:00:00",
          "2020-05-04T00:00:00",
          "2020-05-11T00:00:00",
          "2020-05-18T00:00:00",
          "2020-05-25T00:00:00",
          "2020-06-01T00:00:00",
          "2020-06-08T00:00:00",
          "2020-06-15T00:00:00",
          "2020-06-22T00:00:00",
          "2020-06-29T00:00:00",
          "2020-07-06T00:00:00",
          "2020-07-13T00:00:00",
          "2020-07-20T00:00:00",
          "2020-07-27T00:00:00",
          "2020-08-03T00:00:00",
          "2020-08-10T00:00:00",
          "2020-08-17T00:00:00",
          "2020-08-24T00:00:00",
          "2020-08-31T00:00:00",
          "2020-09-07T00:00:00",
          "2020-09-14T00:00:00",
          "2020-09-21T00:00:00",
          "2020-09-28T00:00:00",
          "2020-10-05T00:00:00",
          "2020-10-12T00:00:00",
          "2020-10-19T00:00:00",
          "2020-10-26T00:00:00",
          "2020-11-02T00:00:00",
          "2020-11-09T00:00:00",
          "2020-11-16T00:00:00",
          "2020-11-23T00:00:00",
          "2020-11-30T00:00:00",
          "2020-12-07T00:00:00",
          "2020-12-14T00:00:00",
          "2020-12-21T00:00:00",
          "2020-12-28T00:00:00",
          "2021-01-04T00:00:00",
          "2021-01-11T00:00:00",
          "2021-01-18T00:00:00",
          "2021-01-25T00:00:00",
          "2021-02-01T00:00:00",
          "2021-02-08T00:00:00",
          "2021-02-15T00:00:00",
          "2021-02-22T00:00:00",
          "2021-03-01T00:00:00",
          "2021-03-08T00:00:00",
          "2021-03-15T00:00:00",
          "2021-03-22T00:00:00",
          "2021-03-29T00:00:00",
          "2021-04-05T00:00:00",
          "2021-04-12T00:00:00",
          "2021-04-19T00:00:00",
          "2021-04-26T00:00:00",
          "2021-05-03T00:00:00",
          "2021-05-10T00:00:00",
          "2021-05-17T00:00:00",
          "2021-05-24T00:00:00",
          "2021-05-31T00:00:00",
          "2021-06-07T00:00:00",
          "2021-06-14T00:00:00",
          "2021-06-21T00:00:00",
          "2021-06-28T00:00:00",
          "2021-07-05T00:00:00",
          "2021-07-12T00:00:00",
          "2021-07-19T00:00:00",
          "2021-07-26T00:00:00",
          "2021-08-02T00:00:00",
          "2021-08-09T00:00:00",
          "2021-08-16T00:00:00",
          "2021-08-23T00:00:00",
          "2021-08-30T00:00:00",
          "2021-09-06T00:00:00",
          "2021-09-13T00:00:00",
          "2021-09-20T00:00:00",
          "2021-09-27T00:00:00",
          "2021-10-04T00:00:00",
          "2021-10-11T00:00:00",
          "2021-10-18T00:00:00",
          "2021-10-25T00:00:00",
          "2021-11-01T00:00:00",
          "2021-11-08T00:00:00",
          "2021-11-15T00:00:00",
          "2021-11-22T00:00:00",
          "2021-11-29T00:00:00",
          "2021-12-06T00:00:00",
          "2021-12-13T00:00:00",
          "2021-12-20T00:00:00",
          "2021-12-27T00:00:00",
          "2022-01-03T00:00:00",
          "2022-01-10T00:00:00",
          "2022-01-17T00:00:00",
          "2022-01-24T00:00:00",
          "2022-01-31T00:00:00",
          "2022-02-07T00:00:00",
          "2022-02-14T00:00:00",
          "2022-02-21T00:00:00",
          "2022-02-28T00:00:00",
          "2022-03-07T00:00:00",
          "2022-03-14T00:00:00",
          "2022-03-21T00:00:00",
          "2022-03-28T00:00:00",
          "2022-04-04T00:00:00",
          "2022-04-11T00:00:00",
          "2022-04-18T00:00:00",
          "2022-04-25T00:00:00",
          "2022-05-02T00:00:00",
          "2022-05-09T00:00:00",
          "2022-05-16T00:00:00",
          "2022-05-23T00:00:00",
          "2022-05-30T00:00:00",
          "2022-06-06T00:00:00",
          "2022-06-13T00:00:00",
          "2022-06-20T00:00:00",
          "2022-06-27T00:00:00",
          "2022-07-04T00:00:00",
          "2022-07-11T00:00:00",
          "2022-07-18T00:00:00",
          "2022-07-25T00:00:00",
          "2022-08-01T00:00:00",
          "2022-08-08T00:00:00",
          "2022-08-15T00:00:00",
          "2022-08-22T00:00:00",
          "2022-08-29T00:00:00",
          "2022-09-05T00:00:00",
          "2022-09-12T00:00:00",
          "2022-09-19T00:00:00"
         ]
        }
       ],
       "layout": {
        "template": {
         "data": {
          "bar": [
           {
            "error_x": {
             "color": "#2a3f5f"
            },
            "error_y": {
             "color": "#2a3f5f"
            },
            "marker": {
             "line": {
              "color": "#E5ECF6",
              "width": 0.5
             },
             "pattern": {
              "fillmode": "overlay",
              "size": 10,
              "solidity": 0.2
             }
            },
            "type": "bar"
           }
          ],
          "barpolar": [
           {
            "marker": {
             "line": {
              "color": "#E5ECF6",
              "width": 0.5
             },
             "pattern": {
              "fillmode": "overlay",
              "size": 10,
              "solidity": 0.2
             }
            },
            "type": "barpolar"
           }
          ],
          "carpet": [
           {
            "aaxis": {
             "endlinecolor": "#2a3f5f",
             "gridcolor": "white",
             "linecolor": "white",
             "minorgridcolor": "white",
             "startlinecolor": "#2a3f5f"
            },
            "baxis": {
             "endlinecolor": "#2a3f5f",
             "gridcolor": "white",
             "linecolor": "white",
             "minorgridcolor": "white",
             "startlinecolor": "#2a3f5f"
            },
            "type": "carpet"
           }
          ],
          "choropleth": [
           {
            "colorbar": {
             "outlinewidth": 0,
             "ticks": ""
            },
            "type": "choropleth"
           }
          ],
          "contour": [
           {
            "colorbar": {
             "outlinewidth": 0,
             "ticks": ""
            },
            "colorscale": [
             [
              0,
              "#0d0887"
             ],
             [
              0.1111111111111111,
              "#46039f"
             ],
             [
              0.2222222222222222,
              "#7201a8"
             ],
             [
              0.3333333333333333,
              "#9c179e"
             ],
             [
              0.4444444444444444,
              "#bd3786"
             ],
             [
              0.5555555555555556,
              "#d8576b"
             ],
             [
              0.6666666666666666,
              "#ed7953"
             ],
             [
              0.7777777777777778,
              "#fb9f3a"
             ],
             [
              0.8888888888888888,
              "#fdca26"
             ],
             [
              1,
              "#f0f921"
             ]
            ],
            "type": "contour"
           }
          ],
          "contourcarpet": [
           {
            "colorbar": {
             "outlinewidth": 0,
             "ticks": ""
            },
            "type": "contourcarpet"
           }
          ],
          "heatmap": [
           {
            "colorbar": {
             "outlinewidth": 0,
             "ticks": ""
            },
            "colorscale": [
             [
              0,
              "#0d0887"
             ],
             [
              0.1111111111111111,
              "#46039f"
             ],
             [
              0.2222222222222222,
              "#7201a8"
             ],
             [
              0.3333333333333333,
              "#9c179e"
             ],
             [
              0.4444444444444444,
              "#bd3786"
             ],
             [
              0.5555555555555556,
              "#d8576b"
             ],
             [
              0.6666666666666666,
              "#ed7953"
             ],
             [
              0.7777777777777778,
              "#fb9f3a"
             ],
             [
              0.8888888888888888,
              "#fdca26"
             ],
             [
              1,
              "#f0f921"
             ]
            ],
            "type": "heatmap"
           }
          ],
          "heatmapgl": [
           {
            "colorbar": {
             "outlinewidth": 0,
             "ticks": ""
            },
            "colorscale": [
             [
              0,
              "#0d0887"
             ],
             [
              0.1111111111111111,
              "#46039f"
             ],
             [
              0.2222222222222222,
              "#7201a8"
             ],
             [
              0.3333333333333333,
              "#9c179e"
             ],
             [
              0.4444444444444444,
              "#bd3786"
             ],
             [
              0.5555555555555556,
              "#d8576b"
             ],
             [
              0.6666666666666666,
              "#ed7953"
             ],
             [
              0.7777777777777778,
              "#fb9f3a"
             ],
             [
              0.8888888888888888,
              "#fdca26"
             ],
             [
              1,
              "#f0f921"
             ]
            ],
            "type": "heatmapgl"
           }
          ],
          "histogram": [
           {
            "marker": {
             "pattern": {
              "fillmode": "overlay",
              "size": 10,
              "solidity": 0.2
             }
            },
            "type": "histogram"
           }
          ],
          "histogram2d": [
           {
            "colorbar": {
             "outlinewidth": 0,
             "ticks": ""
            },
            "colorscale": [
             [
              0,
              "#0d0887"
             ],
             [
              0.1111111111111111,
              "#46039f"
             ],
             [
              0.2222222222222222,
              "#7201a8"
             ],
             [
              0.3333333333333333,
              "#9c179e"
             ],
             [
              0.4444444444444444,
              "#bd3786"
             ],
             [
              0.5555555555555556,
              "#d8576b"
             ],
             [
              0.6666666666666666,
              "#ed7953"
             ],
             [
              0.7777777777777778,
              "#fb9f3a"
             ],
             [
              0.8888888888888888,
              "#fdca26"
             ],
             [
              1,
              "#f0f921"
             ]
            ],
            "type": "histogram2d"
           }
          ],
          "histogram2dcontour": [
           {
            "colorbar": {
             "outlinewidth": 0,
             "ticks": ""
            },
            "colorscale": [
             [
              0,
              "#0d0887"
             ],
             [
              0.1111111111111111,
              "#46039f"
             ],
             [
              0.2222222222222222,
              "#7201a8"
             ],
             [
              0.3333333333333333,
              "#9c179e"
             ],
             [
              0.4444444444444444,
              "#bd3786"
             ],
             [
              0.5555555555555556,
              "#d8576b"
             ],
             [
              0.6666666666666666,
              "#ed7953"
             ],
             [
              0.7777777777777778,
              "#fb9f3a"
             ],
             [
              0.8888888888888888,
              "#fdca26"
             ],
             [
              1,
              "#f0f921"
             ]
            ],
            "type": "histogram2dcontour"
           }
          ],
          "mesh3d": [
           {
            "colorbar": {
             "outlinewidth": 0,
             "ticks": ""
            },
            "type": "mesh3d"
           }
          ],
          "parcoords": [
           {
            "line": {
             "colorbar": {
              "outlinewidth": 0,
              "ticks": ""
             }
            },
            "type": "parcoords"
           }
          ],
          "pie": [
           {
            "automargin": true,
            "type": "pie"
           }
          ],
          "scatter": [
           {
            "marker": {
             "colorbar": {
              "outlinewidth": 0,
              "ticks": ""
             }
            },
            "type": "scatter"
           }
          ],
          "scatter3d": [
           {
            "line": {
             "colorbar": {
              "outlinewidth": 0,
              "ticks": ""
             }
            },
            "marker": {
             "colorbar": {
              "outlinewidth": 0,
              "ticks": ""
             }
            },
            "type": "scatter3d"
           }
          ],
          "scattercarpet": [
           {
            "marker": {
             "colorbar": {
              "outlinewidth": 0,
              "ticks": ""
             }
            },
            "type": "scattercarpet"
           }
          ],
          "scattergeo": [
           {
            "marker": {
             "colorbar": {
              "outlinewidth": 0,
              "ticks": ""
             }
            },
            "type": "scattergeo"
           }
          ],
          "scattergl": [
           {
            "marker": {
             "colorbar": {
              "outlinewidth": 0,
              "ticks": ""
             }
            },
            "type": "scattergl"
           }
          ],
          "scattermapbox": [
           {
            "marker": {
             "colorbar": {
              "outlinewidth": 0,
              "ticks": ""
             }
            },
            "type": "scattermapbox"
           }
          ],
          "scatterpolar": [
           {
            "marker": {
             "colorbar": {
              "outlinewidth": 0,
              "ticks": ""
             }
            },
            "type": "scatterpolar"
           }
          ],
          "scatterpolargl": [
           {
            "marker": {
             "colorbar": {
              "outlinewidth": 0,
              "ticks": ""
             }
            },
            "type": "scatterpolargl"
           }
          ],
          "scatterternary": [
           {
            "marker": {
             "colorbar": {
              "outlinewidth": 0,
              "ticks": ""
             }
            },
            "type": "scatterternary"
           }
          ],
          "surface": [
           {
            "colorbar": {
             "outlinewidth": 0,
             "ticks": ""
            },
            "colorscale": [
             [
              0,
              "#0d0887"
             ],
             [
              0.1111111111111111,
              "#46039f"
             ],
             [
              0.2222222222222222,
              "#7201a8"
             ],
             [
              0.3333333333333333,
              "#9c179e"
             ],
             [
              0.4444444444444444,
              "#bd3786"
             ],
             [
              0.5555555555555556,
              "#d8576b"
             ],
             [
              0.6666666666666666,
              "#ed7953"
             ],
             [
              0.7777777777777778,
              "#fb9f3a"
             ],
             [
              0.8888888888888888,
              "#fdca26"
             ],
             [
              1,
              "#f0f921"
             ]
            ],
            "type": "surface"
           }
          ],
          "table": [
           {
            "cells": {
             "fill": {
              "color": "#EBF0F8"
             },
             "line": {
              "color": "white"
             }
            },
            "header": {
             "fill": {
              "color": "#C8D4E3"
             },
             "line": {
              "color": "white"
             }
            },
            "type": "table"
           }
          ]
         },
         "layout": {
          "annotationdefaults": {
           "arrowcolor": "#2a3f5f",
           "arrowhead": 0,
           "arrowwidth": 1
          },
          "autotypenumbers": "strict",
          "coloraxis": {
           "colorbar": {
            "outlinewidth": 0,
            "ticks": ""
           }
          },
          "colorscale": {
           "diverging": [
            [
             0,
             "#8e0152"
            ],
            [
             0.1,
             "#c51b7d"
            ],
            [
             0.2,
             "#de77ae"
            ],
            [
             0.3,
             "#f1b6da"
            ],
            [
             0.4,
             "#fde0ef"
            ],
            [
             0.5,
             "#f7f7f7"
            ],
            [
             0.6,
             "#e6f5d0"
            ],
            [
             0.7,
             "#b8e186"
            ],
            [
             0.8,
             "#7fbc41"
            ],
            [
             0.9,
             "#4d9221"
            ],
            [
             1,
             "#276419"
            ]
           ],
           "sequential": [
            [
             0,
             "#0d0887"
            ],
            [
             0.1111111111111111,
             "#46039f"
            ],
            [
             0.2222222222222222,
             "#7201a8"
            ],
            [
             0.3333333333333333,
             "#9c179e"
            ],
            [
             0.4444444444444444,
             "#bd3786"
            ],
            [
             0.5555555555555556,
             "#d8576b"
            ],
            [
             0.6666666666666666,
             "#ed7953"
            ],
            [
             0.7777777777777778,
             "#fb9f3a"
            ],
            [
             0.8888888888888888,
             "#fdca26"
            ],
            [
             1,
             "#f0f921"
            ]
           ],
           "sequentialminus": [
            [
             0,
             "#0d0887"
            ],
            [
             0.1111111111111111,
             "#46039f"
            ],
            [
             0.2222222222222222,
             "#7201a8"
            ],
            [
             0.3333333333333333,
             "#9c179e"
            ],
            [
             0.4444444444444444,
             "#bd3786"
            ],
            [
             0.5555555555555556,
             "#d8576b"
            ],
            [
             0.6666666666666666,
             "#ed7953"
            ],
            [
             0.7777777777777778,
             "#fb9f3a"
            ],
            [
             0.8888888888888888,
             "#fdca26"
            ],
            [
             1,
             "#f0f921"
            ]
           ]
          },
          "colorway": [
           "#636efa",
           "#EF553B",
           "#00cc96",
           "#ab63fa",
           "#FFA15A",
           "#19d3f3",
           "#FF6692",
           "#B6E880",
           "#FF97FF",
           "#FECB52"
          ],
          "font": {
           "color": "#2a3f5f"
          },
          "geo": {
           "bgcolor": "white",
           "lakecolor": "white",
           "landcolor": "#E5ECF6",
           "showlakes": true,
           "showland": true,
           "subunitcolor": "white"
          },
          "hoverlabel": {
           "align": "left"
          },
          "hovermode": "closest",
          "mapbox": {
           "style": "light"
          },
          "paper_bgcolor": "white",
          "plot_bgcolor": "#E5ECF6",
          "polar": {
           "angularaxis": {
            "gridcolor": "white",
            "linecolor": "white",
            "ticks": ""
           },
           "bgcolor": "#E5ECF6",
           "radialaxis": {
            "gridcolor": "white",
            "linecolor": "white",
            "ticks": ""
           }
          },
          "scene": {
           "xaxis": {
            "backgroundcolor": "#E5ECF6",
            "gridcolor": "white",
            "gridwidth": 2,
            "linecolor": "white",
            "showbackground": true,
            "ticks": "",
            "zerolinecolor": "white"
           },
           "yaxis": {
            "backgroundcolor": "#E5ECF6",
            "gridcolor": "white",
            "gridwidth": 2,
            "linecolor": "white",
            "showbackground": true,
            "ticks": "",
            "zerolinecolor": "white"
           },
           "zaxis": {
            "backgroundcolor": "#E5ECF6",
            "gridcolor": "white",
            "gridwidth": 2,
            "linecolor": "white",
            "showbackground": true,
            "ticks": "",
            "zerolinecolor": "white"
           }
          },
          "shapedefaults": {
           "line": {
            "color": "#2a3f5f"
           }
          },
          "ternary": {
           "aaxis": {
            "gridcolor": "white",
            "linecolor": "white",
            "ticks": ""
           },
           "baxis": {
            "gridcolor": "white",
            "linecolor": "white",
            "ticks": ""
           },
           "bgcolor": "#E5ECF6",
           "caxis": {
            "gridcolor": "white",
            "linecolor": "white",
            "ticks": ""
           }
          },
          "title": {
           "x": 0.05
          },
          "xaxis": {
           "automargin": true,
           "gridcolor": "white",
           "linecolor": "white",
           "ticks": "",
           "title": {
            "standoff": 15
           },
           "zerolinecolor": "white",
           "zerolinewidth": 2
          },
          "yaxis": {
           "automargin": true,
           "gridcolor": "white",
           "linecolor": "white",
           "ticks": "",
           "title": {
            "standoff": 15
           },
           "zerolinecolor": "white",
           "zerolinewidth": 2
          }
         }
        }
       }
      }
     },
     "metadata": {},
     "output_type": "display_data"
    }
   ],
   "source": [
    "import plotly.graph_objects as go\n",
    "\n",
    "fig = go.Figure(data=[go.Candlestick(x=heikin_ashi_candles.index,\n",
    "                open=heikin_ashi_candles['ha_Open'],\n",
    "                high=heikin_ashi_candles['ha_High'],\n",
    "                low=heikin_ashi_candles['ha_Low'],\n",
    "                close=heikin_ashi_candles['ha_Close'])])\n",
    "\n",
    "fig2 = go.Figure(data=[go.Candlestick(x=trimmed_weekly.index,\n",
    "                open=trimmed_weekly['Open'],\n",
    "                high=trimmed_weekly['High'],\n",
    "                low=trimmed_weekly['Low'],\n",
    "                close=trimmed_weekly['Close'])])\n",
    "\n",
    "# fig.update_yaxes(type=\"log\")\n",
    "# fig2.update_yaxes(type=\"log\")\n",
    "fig.show()\n",
    "fig2.show()\n"
   ]
  },
  {
   "cell_type": "markdown",
   "metadata": {},
   "source": [
    "For each candle calculate the following metrics:\n",
    "-  Close/low\n",
    "-  close/high\n",
    "-  close/open"
   ]
  },
  {
   "cell_type": "code",
   "execution_count": 115,
   "metadata": {},
   "outputs": [],
   "source": [
    "# closes = np.array(heikin_ashi_candles[\"Close\"])\n",
    "# open_prices = np.array(heikin_ashi_candles[\"Open\"])\n",
    "# highs = np.array(heikin_ashi_candles[\"High\"])\n",
    "# lows = np.array(heikin_ashi_candles[\"Low\"])\n",
    "\n",
    "# c_l = np.divide(closes,lows)\n",
    "# c_h = np.divide(closes, highs)\n",
    "# c_o = np.divide(closes, open_prices)"
   ]
  },
  {
   "cell_type": "markdown",
   "metadata": {},
   "source": [
    "### Backtesting\n",
    "Now that we have matched the heikin ashi candles to the normal candles, we can backtest a simple trading strategy that sells when the HA candle is red and buys when it's green."
   ]
  },
  {
   "cell_type": "code",
   "execution_count": 116,
   "metadata": {},
   "outputs": [],
   "source": [
    "def single_test(raw_data: pd.DataFrame, sample_size=None):\n",
    "    normal_candles = raw_data.__copy__()\n",
    "    ha = convert_data_to_heikin_ashi_processed(raw_data)\n",
    "    normal_candles[\"Date\"] = pd.to_datetime(normal_candles[\"unix\"], unit=\"ms\")\n",
    "    normal_candles.columns = ['Unix', 'Close', 'High', 'Low', 'Open', 'Date']\n",
    "    normal_candles.set_index('Date', inplace=True)\n",
    "    combined_data=pd.concat([normal_candles, ha], axis=1).dropna()\n",
    "    test_df = combined_data.loc[:,[\"Open\", \"Green\"]]\n",
    "    if sample_size !=None:\n",
    "        test_df = test_df.iloc[len(test_df)-sample_size-1:]\n",
    "    \n",
    "\n",
    "    longs, shorts, outcome, profit, final_equity, equity_curve=backtest_heikin_ashi(test_df)\n",
    "    fig = go.Figure(data=[go.Candlestick(x=combined_data.index,\n",
    "                    open=combined_data['Open'],\n",
    "                    high=combined_data['High'],\n",
    "                    low=combined_data['Low'],\n",
    "                    close=combined_data['Close'])])\n",
    "    \n",
    "    fig2 = go.Figure(data=[go.Candlestick(x=combined_data.index,\n",
    "                    open=combined_data['ha_Open'],\n",
    "                    high=combined_data['ha_High'],\n",
    "                    low=combined_data['ha_Low'],\n",
    "                    close=combined_data['ha_Close'])])\n",
    "    # plt.vlines(longs, ymin=raw_data['low'].min(), ymax=raw_data['high'].max(), colors='green')\n",
    "    # plt.vlines(shorts, ymin=raw_data['low'].min(), ymax=raw_data['high'].max(), colors='red')\n",
    "    return longs, shorts, outcome, profit, final_equity, equity_curve, fig, fig2\n",
    "\n",
    "def single_test_lower_timeframe(raw_data: pd.DataFrame, no_consecutive, sample_size=None):\n",
    "    normal_candles = raw_data.__copy__()\n",
    "    ha = convert_data_to_heikin_ashi_processed(raw_data)\n",
    "    normal_candles[\"Date\"] = pd.to_datetime(normal_candles[\"unix\"], unit=\"ms\")\n",
    "    normal_candles.columns = ['Unix', 'Close', 'High', 'Low', 'Open', 'Date']\n",
    "    normal_candles.set_index('Date', inplace=True)\n",
    "    combined_data=pd.concat([normal_candles, ha], axis=1).dropna()\n",
    "    test_df = combined_data.loc[:,[\"Open\", \"Green\"]]\n",
    "    if sample_size !=None:\n",
    "        test_df = test_df.iloc[len(test_df)-sample_size-1:]\n",
    "    \n",
    "    longs, shorts, outcome, profit, final_equity, equity_curve=backtest_heikin_ashi_lower_timeframe(test_df, no_consecutive)\n",
    "    fig = go.Figure(data=[go.Candlestick(x=combined_data.index,\n",
    "                    open=combined_data['Open'],\n",
    "                    high=combined_data['High'],\n",
    "                    low=combined_data['Low'],\n",
    "                    close=combined_data['Close'])])\n",
    "    \n",
    "    fig2 = go.Figure(data=[go.Candlestick(x=combined_data.index,\n",
    "                    open=combined_data['ha_Open'],\n",
    "                    high=combined_data['ha_High'],\n",
    "                    low=combined_data['ha_Low'],\n",
    "                    close=combined_data['ha_Close'])])\n",
    "    # plt.vlines(longs, ymin=raw_data['low'].min(), ymax=raw_data['high'].max(), colors='green')\n",
    "    # plt.vlines(shorts, ymin=raw_data['low'].min(), ymax=raw_data['high'].max(), colors='red')\n",
    "    print(np.sum(outcome)/len(outcome))\n",
    "    print(np.mean(profit))\n",
    "    print(final_equity)\n",
    "    return longs, shorts, outcome, profit, final_equity, equity_curve, fig, fig2\n",
    "\n",
    "    \n",
    "\n",
    "def backtest_heikin_ashi(test_df): # raw data contains normal OHCL candles\n",
    "    equity=1\n",
    "    fee_rate=0.0006\n",
    "    state='neutral'\n",
    "    timestamps = test_df.index.date\n",
    "    equity_record=[]\n",
    "    longs=[]\n",
    "    shorts=[]\n",
    "    outcome=[]\n",
    "    profit=[]\n",
    "    sl=None\n",
    "    entry=None\n",
    "    equity_curve=[]\n",
    "    print('Datapoints: ',len(test_df))\n",
    "    for i in range(1,len(test_df)):\n",
    "\n",
    "        time=timestamps[i]\n",
    "        \n",
    "        current=test_df.iloc[i]['Open'].item() # uses opens now as opens are confirmed\n",
    "        green= test_df.iloc[i][\"Green\"]\n",
    "        \n",
    "        if green and state != 'long':\n",
    "            #remember to calculate profit if flipping from short\n",
    "            if state=='short':\n",
    "                outcome.append(current<entry)\n",
    "                profit.append(1-(current/entry))\n",
    "                equity=equity*(1+(1-(current/entry))-fee_rate)\n",
    "                # equity=(entry*trade_amount-current*trade_amount)+equity\n",
    "            entry=current\n",
    "            equity_curve.append([time,equity])\n",
    "            state='long'\n",
    "            longs.append(time)\n",
    "        elif not(green) and state != 'short':\n",
    "            if state=='long':\n",
    "                outcome.append(current>entry)\n",
    "                profit.append(current/entry -1)\n",
    "                equity=equity*(1+(current/entry -1)-fee_rate)\n",
    "            entry=current\n",
    "            equity_curve.append([time,equity])    \n",
    "            # trade_amount=equity*entry\n",
    "            state='short'\n",
    "            shorts.append(time)\n",
    "            #print(state+' from $'+str(current))\n",
    "        if equity < 0.05:\n",
    "            equity=0\n",
    "            print('went broke')\n",
    "            break\n",
    "\n",
    "        if i==len(test_df)-1:\n",
    "            if state=='long':\n",
    "                equity=equity*(current/entry)\n",
    "            elif state=='short':\n",
    "                equity=equity*(2-current/entry)\n",
    "            equity_curve.append([time,equity])\n",
    "\n",
    "    \n",
    "    return longs,shorts,np.array(outcome), np.array(profit), equity, np.array(equity_curve)\n",
    "\n",
    "def backtest_heikin_ashi_lower_timeframe(test_df, no_consecutive): # raw data contains normal OHCL candles\n",
    "    equity=1\n",
    "    fee_rate=0.0006\n",
    "    state='neutral'\n",
    "    timestamps = test_df.index.date\n",
    "    equity_record=[]\n",
    "    longs=[]\n",
    "    shorts=[]\n",
    "    outcome=[]\n",
    "    profit=[]\n",
    "    sl=None\n",
    "    entry=None\n",
    "    equity_curve=[]\n",
    "    print('Datapoints: ',len(test_df))\n",
    "    for i in range(1,len(test_df)):\n",
    "\n",
    "        time=timestamps[i]\n",
    "        \n",
    "        current=test_df.iloc[i]['Open'].item() # uses opens now as opens are confirmed\n",
    "        green= test_df.iloc[i-no_consecutive:i+1][\"Green\"].all()\n",
    "        \n",
    "        if green and state != 'long':\n",
    "            #remember to calculate profit if flipping from short\n",
    "            if state=='short':\n",
    "                outcome.append(current<entry)\n",
    "                profit.append(1-(current/entry))\n",
    "                equity=equity*(1+(1-(current/entry))-fee_rate)\n",
    "                # equity=(entry*trade_amount-current*trade_amount)+equity\n",
    "            entry=current\n",
    "            equity_curve.append([time,equity])\n",
    "            state='long'\n",
    "            longs.append(time)\n",
    "        elif not(green) and state != 'short':\n",
    "            if state=='long':\n",
    "                outcome.append(current>entry)\n",
    "                profit.append(current/entry -1)\n",
    "                equity=equity*(1+(current/entry -1)-fee_rate)\n",
    "            entry=current\n",
    "            equity_curve.append([time,equity])    \n",
    "            # trade_amount=equity*entry\n",
    "            state='short'\n",
    "            shorts.append(time)\n",
    "            #print(state+' from $'+str(current))\n",
    "        if equity < 0.05:\n",
    "            equity=0\n",
    "            print('went broke')\n",
    "            break\n",
    "\n",
    "        if i==len(test_df)-1:\n",
    "            if state=='long':\n",
    "                equity=equity*(current/entry)\n",
    "            elif state=='short':\n",
    "                equity=equity*(2-current/entry)\n",
    "            equity_curve.append([time,equity])\n",
    "\n",
    "    \n",
    "    return longs,shorts,np.array(outcome), np.array(profit), equity, np.array(equity_curve)"
   ]
  },
  {
   "cell_type": "code",
   "execution_count": 117,
   "metadata": {},
   "outputs": [
    {
     "name": "stdout",
     "output_type": "stream",
     "text": [
      "Datapoints:  155\n",
      "Datapoints:  155\n",
      "Datapoints:  155\n",
      "Datapoints:  155\n",
      "Datapoints:  155\n",
      "Datapoints:  155\n",
      "Datapoints:  155\n"
     ]
    },
    {
     "data": {
      "application/vnd.plotly.v1+json": {
       "config": {
        "plotlyServerURL": "https://plot.ly"
       },
       "data": [
        {
         "close": [
          186.82,
          174.33,
          181.98,
          186.08,
          184.59,
          177.83,
          146.04,
          148.78,
          147.12,
          132.36,
          127.74,
          131.12,
          144.22,
          143.57,
          166.59,
          169.82,
          189.54,
          222.95,
          267.76,
          265.76,
          232.09,
          202.73,
          111.05,
          136.56,
          132.33,
          171.43,
          156.78,
          170.45,
          196.75,
          206.9,
          186.18,
          214.79,
          204.1,
          248.4,
          246.5,
          230.94,
          243.17,
          227.83,
          241.75,
          239.37,
          236.03,
          322.31,
          386.3,
          395.91,
          431.04,
          408,
          433.99,
          353.58,
          377.28,
          340.28,
          353.3,
          353.82,
          386.77,
          379.55,
          393.05,
          383.61,
          444.59,
          460.96,
          609.14,
          617,
          591.57,
          586.15,
          608.03,
          729.16,
          1042.67,
          1087.9,
          1259.1,
          1317.3,
          1375,
          1751.6,
          1779,
          1777.3,
          1571.7,
          1833.9,
          1794.9,
          1681.3,
          1816.8,
          2108.1,
          2136.5,
          2161.6,
          2534.8,
          3431.3,
          3948.9,
          3282.9,
          2652.1,
          2707.1,
          2592.3,
          2582.1,
          1885,
          2084.5,
          2196.8,
          2032.4,
          1818.6,
          2228.9,
          2607.7,
          3162.1,
          3147.2,
          3322.5,
          3228.8,
          3928.4,
          3285.7,
          2977,
          2926,
          3386.9,
          3542.5,
          3745.3,
          4220.5,
          4322,
          4810.8,
          4563.9,
          4088.8,
          4449.2,
          4354,
          3783.9,
          3946.6,
          4039.5,
          3765.3,
          3083.1,
          3210.3,
          2440.8,
          2688.3,
          3142,
          2930.8,
          2570.6,
          2922.6,
          2491.7,
          2590.1,
          2890.7,
          3334.6,
          3520,
          2979.3,
          3056.4,
          3007.7,
          2856.5,
          2228.9,
          2020.9,
          1971.1,
          1997.6,
          1858.3,
          1207.4,
          1127.1,
          1190.6,
          1149.5,
          1095.3,
          1581,
          1440.3,
          1630.7,
          1777.5,
          1899.2,
          1624.5,
          1551.7,
          1618,
          1716.7,
          1375.7,
          1295.7
         ],
         "high": [
          197.35,
          188.45,
          191.75,
          193.08,
          194.36,
          189.33,
          178.03,
          157.87,
          152.18,
          147.85,
          135.18,
          137.79,
          144.44,
          147.92,
          179.23,
          171.65,
          195.24,
          230.96,
          289.17,
          287.22,
          266.26,
          252.47,
          206.33,
          153.4,
          144.02,
          172.03,
          176.37,
          189.75,
          200.16,
          227.45,
          216.87,
          217.05,
          215.99,
          251.32,
          253.65,
          250.48,
          247,
          249.17,
          242.07,
          249.18,
          242.11,
          334.01,
          416.06,
          407.66,
          447.7,
          434.18,
          439.34,
          489,
          390.35,
          394.08,
          368.08,
          370.02,
          395.08,
          387.98,
          421.46,
          410.79,
          468.77,
          478.43,
          611.21,
          623.45,
          636.66,
          595.22,
          676.71,
          746.83,
          1169.9,
          1353.5,
          1292.7,
          1478.2,
          1442.5,
          1780,
          1876.9,
          2155,
          1782.5,
          1844.6,
          1944,
          1868.8,
          1842.7,
          2145.1,
          2202.1,
          2549.2,
          2645.9,
          3456.6,
          4213.3,
          4381.4,
          3567.7,
          2915.5,
          2896.5,
          2637.6,
          2640.9,
          2147.4,
          2398.2,
          2410.4,
          2047,
          2558,
          2698.5,
          3194.4,
          3341.3,
          3400,
          3360.7,
          4030.2,
          3948.3,
          3677.3,
          3174.9,
          3490,
          3677.3,
          4002.3,
          4374,
          4462.2,
          4825.8,
          4869.7,
          4563.9,
          4557.3,
          4784.2,
          4495,
          4115.3,
          4160,
          4039.5,
          3896,
          3413.7,
          3275.1,
          2723.4,
          3189.4,
          3286.5,
          3199.4,
          2954.3,
          3046.7,
          2774.7,
          2987.7,
          3430,
          3581.4,
          3555.6,
          3145,
          3181.9,
          3037.9,
          2966.5,
          2460.1,
          2129.2,
          2021,
          2014.9,
          1873.7,
          1266.3,
          1280.3,
          1236.2,
          1275.2,
          1597.3,
          1664.5,
          1785.6,
          1819.2,
          2030.9,
          1958.6,
          1722.1,
          1649,
          1790.3,
          1761.9,
          1410
         ],
         "low": [
          177.24,
          168.46,
          152.96,
          176.9,
          180.09,
          173.9,
          131.83,
          141.02,
          143.21,
          129.27,
          116.22,
          122.38,
          125.53,
          135.29,
          143.5,
          155.21,
          169.82,
          184.44,
          218.08,
          245.82,
          209.9,
          189.92,
          87.69,
          109.48,
          123.6,
          128.78,
          149.6,
          148.46,
          168.43,
          192.78,
          175,
          185.9,
          191.28,
          196.79,
          222.1,
          217.85,
          225.34,
          215.66,
          222.86,
          234.58,
          225.81,
          235.63,
          295.23,
          362.46,
          366.72,
          379.53,
          370.15,
          309,
          325.66,
          330.77,
          313.2,
          334.48,
          333.22,
          361.43,
          365.34,
          372.34,
          370.52,
          439.23,
          457.92,
          480.67,
          560,
          530.08,
          578.91,
          546.28,
          688,
          913,
          986.1,
          1041,
          1207.1,
          1361,
          1663.9,
          1550,
          1292.4,
          1442.3,
          1710.7,
          1654.3,
          1546,
          1771,
          1930.6,
          1925,
          2051.4,
          2483.4,
          3162.1,
          3118.4,
          1730,
          2182.3,
          2527,
          2256.7,
          1860,
          1699.9,
          2016.9,
          2003,
          1803.3,
          1718.8,
          2152.5,
          2444,
          2982.3,
          2950,
          3055,
          3188.1,
          2994.1,
          2915,
          2650,
          2780.6,
          3343,
          3404.1,
          3477,
          3890.8,
          4287.6,
          4467.3,
          3958,
          3912,
          3480,
          3669.8,
          3642,
          3893.2,
          3582.6,
          2921.8,
          3052.2,
          2159.5,
          2315.7,
          2577,
          2832.1,
          2559.6,
          2301.1,
          2444.7,
          2480.6,
          2508,
          2887.7,
          3212.2,
          2950,
          2881.1,
          2796.2,
          2714.5,
          2223,
          1703,
          1900.6,
          1700,
          1734.2,
          1162.5,
          880,
          1042.7,
          996,
          1075.7,
          1005.3,
          1435,
          1356.2,
          1556.4,
          1653.6,
          1523.4,
          1421.9,
          1473.2,
          1490.1,
          1279.8,
          1219.2
         ],
         "open": [
          180.2,
          186.82,
          174.25,
          182.04,
          186.08,
          184.59,
          177.83,
          146.01,
          148.78,
          147.12,
          132.36,
          127.79,
          131.12,
          144.23,
          143.61,
          166.65,
          169.82,
          189.54,
          222.92,
          267.81,
          265.71,
          232.21,
          202.73,
          111.05,
          136.56,
          132.33,
          171.5,
          156.78,
          170.45,
          196.75,
          206.9,
          186.18,
          214.79,
          204.1,
          248.4,
          246.5,
          230.94,
          243.17,
          227.92,
          241.73,
          239.37,
          236.03,
          322.31,
          386.3,
          395.9,
          431.2,
          407.92,
          433.91,
          353.58,
          377.28,
          340.28,
          353.3,
          353.82,
          386.74,
          379.55,
          393.05,
          383.61,
          444.59,
          460.96,
          609.14,
          617,
          591.57,
          586.15,
          608.03,
          729.16,
          1042.67,
          1087.9,
          1259.1,
          1317.3,
          1375,
          1751.6,
          1779,
          1777.3,
          1571.7,
          1833.9,
          1794.9,
          1681.3,
          1816.8,
          2108.1,
          2136.5,
          2161.6,
          2534,
          3431.3,
          3948.9,
          3283.9,
          2652.1,
          2707.1,
          2592.3,
          2582.1,
          1885.6,
          2084.5,
          2196.8,
          2032.4,
          1818.6,
          2228.9,
          2607.7,
          3162.1,
          3147.2,
          3322.5,
          3228.8,
          3928.4,
          3285.7,
          2976.8,
          2926,
          3386.9,
          3542.4,
          3745.3,
          4220.8,
          4322,
          4810.8,
          4563.9,
          4088.8,
          4449.2,
          4354,
          3783.9,
          3946.7,
          4039.5,
          3765.3,
          3083.1,
          3210.3,
          2440.8,
          2688.3,
          3142,
          2930.8,
          2570.6,
          2922.6,
          2491.7,
          2590.1,
          2890.7,
          3334.6,
          3520,
          2979.3,
          3056.4,
          3007.7,
          2856.5,
          2228.9,
          2020.9,
          1971.1,
          1997.6,
          1858.3,
          1207.4,
          1127.1,
          1190.6,
          1149.5,
          1095.3,
          1581.1,
          1440.3,
          1630.7,
          1777.5,
          1899.2,
          1624.5,
          1551.7,
          1618,
          1716.6,
          1375.7
         ],
         "type": "candlestick",
         "x": [
          "2019-10-08T00:00:00",
          "2019-10-15T00:00:00",
          "2019-10-22T00:00:00",
          "2019-10-29T00:00:00",
          "2019-11-05T00:00:00",
          "2019-11-12T00:00:00",
          "2019-11-19T00:00:00",
          "2019-11-26T00:00:00",
          "2019-12-03T00:00:00",
          "2019-12-10T00:00:00",
          "2019-12-17T00:00:00",
          "2019-12-24T00:00:00",
          "2019-12-31T00:00:00",
          "2020-01-07T00:00:00",
          "2020-01-14T00:00:00",
          "2020-01-21T00:00:00",
          "2020-01-28T00:00:00",
          "2020-02-04T00:00:00",
          "2020-02-11T00:00:00",
          "2020-02-18T00:00:00",
          "2020-02-25T00:00:00",
          "2020-03-03T00:00:00",
          "2020-03-10T00:00:00",
          "2020-03-17T00:00:00",
          "2020-03-24T00:00:00",
          "2020-03-31T00:00:00",
          "2020-04-07T00:00:00",
          "2020-04-14T00:00:00",
          "2020-04-21T00:00:00",
          "2020-04-28T00:00:00",
          "2020-05-05T00:00:00",
          "2020-05-12T00:00:00",
          "2020-05-19T00:00:00",
          "2020-05-26T00:00:00",
          "2020-06-02T00:00:00",
          "2020-06-09T00:00:00",
          "2020-06-16T00:00:00",
          "2020-06-23T00:00:00",
          "2020-06-30T00:00:00",
          "2020-07-07T00:00:00",
          "2020-07-14T00:00:00",
          "2020-07-21T00:00:00",
          "2020-07-28T00:00:00",
          "2020-08-04T00:00:00",
          "2020-08-11T00:00:00",
          "2020-08-18T00:00:00",
          "2020-08-25T00:00:00",
          "2020-09-01T00:00:00",
          "2020-09-08T00:00:00",
          "2020-09-15T00:00:00",
          "2020-09-22T00:00:00",
          "2020-09-29T00:00:00",
          "2020-10-06T00:00:00",
          "2020-10-13T00:00:00",
          "2020-10-20T00:00:00",
          "2020-10-27T00:00:00",
          "2020-11-03T00:00:00",
          "2020-11-10T00:00:00",
          "2020-11-17T00:00:00",
          "2020-11-24T00:00:00",
          "2020-12-01T00:00:00",
          "2020-12-08T00:00:00",
          "2020-12-15T00:00:00",
          "2020-12-22T00:00:00",
          "2020-12-29T00:00:00",
          "2021-01-05T00:00:00",
          "2021-01-12T00:00:00",
          "2021-01-19T00:00:00",
          "2021-01-26T00:00:00",
          "2021-02-02T00:00:00",
          "2021-02-09T00:00:00",
          "2021-02-16T00:00:00",
          "2021-02-23T00:00:00",
          "2021-03-02T00:00:00",
          "2021-03-09T00:00:00",
          "2021-03-16T00:00:00",
          "2021-03-23T00:00:00",
          "2021-03-30T00:00:00",
          "2021-04-06T00:00:00",
          "2021-04-13T00:00:00",
          "2021-04-20T00:00:00",
          "2021-04-27T00:00:00",
          "2021-05-04T00:00:00",
          "2021-05-11T00:00:00",
          "2021-05-18T00:00:00",
          "2021-05-25T00:00:00",
          "2021-06-01T00:00:00",
          "2021-06-08T00:00:00",
          "2021-06-15T00:00:00",
          "2021-06-22T00:00:00",
          "2021-06-29T00:00:00",
          "2021-07-06T00:00:00",
          "2021-07-13T00:00:00",
          "2021-07-20T00:00:00",
          "2021-07-27T00:00:00",
          "2021-08-03T00:00:00",
          "2021-08-10T00:00:00",
          "2021-08-17T00:00:00",
          "2021-08-24T00:00:00",
          "2021-08-31T00:00:00",
          "2021-09-07T00:00:00",
          "2021-09-14T00:00:00",
          "2021-09-21T00:00:00",
          "2021-09-28T00:00:00",
          "2021-10-05T00:00:00",
          "2021-10-12T00:00:00",
          "2021-10-19T00:00:00",
          "2021-10-26T00:00:00",
          "2021-11-02T00:00:00",
          "2021-11-09T00:00:00",
          "2021-11-16T00:00:00",
          "2021-11-23T00:00:00",
          "2021-11-30T00:00:00",
          "2021-12-07T00:00:00",
          "2021-12-14T00:00:00",
          "2021-12-21T00:00:00",
          "2021-12-28T00:00:00",
          "2022-01-04T00:00:00",
          "2022-01-11T00:00:00",
          "2022-01-18T00:00:00",
          "2022-01-25T00:00:00",
          "2022-02-01T00:00:00",
          "2022-02-08T00:00:00",
          "2022-02-15T00:00:00",
          "2022-02-22T00:00:00",
          "2022-03-01T00:00:00",
          "2022-03-08T00:00:00",
          "2022-03-15T00:00:00",
          "2022-03-22T00:00:00",
          "2022-03-29T00:00:00",
          "2022-04-05T00:00:00",
          "2022-04-12T00:00:00",
          "2022-04-19T00:00:00",
          "2022-04-26T00:00:00",
          "2022-05-03T00:00:00",
          "2022-05-10T00:00:00",
          "2022-05-17T00:00:00",
          "2022-05-24T00:00:00",
          "2022-05-31T00:00:00",
          "2022-06-07T00:00:00",
          "2022-06-14T00:00:00",
          "2022-06-21T00:00:00",
          "2022-06-28T00:00:00",
          "2022-07-05T00:00:00",
          "2022-07-12T00:00:00",
          "2022-07-19T00:00:00",
          "2022-07-26T00:00:00",
          "2022-08-02T00:00:00",
          "2022-08-09T00:00:00",
          "2022-08-16T00:00:00",
          "2022-08-23T00:00:00",
          "2022-08-30T00:00:00",
          "2022-09-06T00:00:00",
          "2022-09-13T00:00:00",
          "2022-09-20T00:00:00"
         ]
        }
       ],
       "layout": {
        "template": {
         "data": {
          "bar": [
           {
            "error_x": {
             "color": "#2a3f5f"
            },
            "error_y": {
             "color": "#2a3f5f"
            },
            "marker": {
             "line": {
              "color": "#E5ECF6",
              "width": 0.5
             },
             "pattern": {
              "fillmode": "overlay",
              "size": 10,
              "solidity": 0.2
             }
            },
            "type": "bar"
           }
          ],
          "barpolar": [
           {
            "marker": {
             "line": {
              "color": "#E5ECF6",
              "width": 0.5
             },
             "pattern": {
              "fillmode": "overlay",
              "size": 10,
              "solidity": 0.2
             }
            },
            "type": "barpolar"
           }
          ],
          "carpet": [
           {
            "aaxis": {
             "endlinecolor": "#2a3f5f",
             "gridcolor": "white",
             "linecolor": "white",
             "minorgridcolor": "white",
             "startlinecolor": "#2a3f5f"
            },
            "baxis": {
             "endlinecolor": "#2a3f5f",
             "gridcolor": "white",
             "linecolor": "white",
             "minorgridcolor": "white",
             "startlinecolor": "#2a3f5f"
            },
            "type": "carpet"
           }
          ],
          "choropleth": [
           {
            "colorbar": {
             "outlinewidth": 0,
             "ticks": ""
            },
            "type": "choropleth"
           }
          ],
          "contour": [
           {
            "colorbar": {
             "outlinewidth": 0,
             "ticks": ""
            },
            "colorscale": [
             [
              0,
              "#0d0887"
             ],
             [
              0.1111111111111111,
              "#46039f"
             ],
             [
              0.2222222222222222,
              "#7201a8"
             ],
             [
              0.3333333333333333,
              "#9c179e"
             ],
             [
              0.4444444444444444,
              "#bd3786"
             ],
             [
              0.5555555555555556,
              "#d8576b"
             ],
             [
              0.6666666666666666,
              "#ed7953"
             ],
             [
              0.7777777777777778,
              "#fb9f3a"
             ],
             [
              0.8888888888888888,
              "#fdca26"
             ],
             [
              1,
              "#f0f921"
             ]
            ],
            "type": "contour"
           }
          ],
          "contourcarpet": [
           {
            "colorbar": {
             "outlinewidth": 0,
             "ticks": ""
            },
            "type": "contourcarpet"
           }
          ],
          "heatmap": [
           {
            "colorbar": {
             "outlinewidth": 0,
             "ticks": ""
            },
            "colorscale": [
             [
              0,
              "#0d0887"
             ],
             [
              0.1111111111111111,
              "#46039f"
             ],
             [
              0.2222222222222222,
              "#7201a8"
             ],
             [
              0.3333333333333333,
              "#9c179e"
             ],
             [
              0.4444444444444444,
              "#bd3786"
             ],
             [
              0.5555555555555556,
              "#d8576b"
             ],
             [
              0.6666666666666666,
              "#ed7953"
             ],
             [
              0.7777777777777778,
              "#fb9f3a"
             ],
             [
              0.8888888888888888,
              "#fdca26"
             ],
             [
              1,
              "#f0f921"
             ]
            ],
            "type": "heatmap"
           }
          ],
          "heatmapgl": [
           {
            "colorbar": {
             "outlinewidth": 0,
             "ticks": ""
            },
            "colorscale": [
             [
              0,
              "#0d0887"
             ],
             [
              0.1111111111111111,
              "#46039f"
             ],
             [
              0.2222222222222222,
              "#7201a8"
             ],
             [
              0.3333333333333333,
              "#9c179e"
             ],
             [
              0.4444444444444444,
              "#bd3786"
             ],
             [
              0.5555555555555556,
              "#d8576b"
             ],
             [
              0.6666666666666666,
              "#ed7953"
             ],
             [
              0.7777777777777778,
              "#fb9f3a"
             ],
             [
              0.8888888888888888,
              "#fdca26"
             ],
             [
              1,
              "#f0f921"
             ]
            ],
            "type": "heatmapgl"
           }
          ],
          "histogram": [
           {
            "marker": {
             "pattern": {
              "fillmode": "overlay",
              "size": 10,
              "solidity": 0.2
             }
            },
            "type": "histogram"
           }
          ],
          "histogram2d": [
           {
            "colorbar": {
             "outlinewidth": 0,
             "ticks": ""
            },
            "colorscale": [
             [
              0,
              "#0d0887"
             ],
             [
              0.1111111111111111,
              "#46039f"
             ],
             [
              0.2222222222222222,
              "#7201a8"
             ],
             [
              0.3333333333333333,
              "#9c179e"
             ],
             [
              0.4444444444444444,
              "#bd3786"
             ],
             [
              0.5555555555555556,
              "#d8576b"
             ],
             [
              0.6666666666666666,
              "#ed7953"
             ],
             [
              0.7777777777777778,
              "#fb9f3a"
             ],
             [
              0.8888888888888888,
              "#fdca26"
             ],
             [
              1,
              "#f0f921"
             ]
            ],
            "type": "histogram2d"
           }
          ],
          "histogram2dcontour": [
           {
            "colorbar": {
             "outlinewidth": 0,
             "ticks": ""
            },
            "colorscale": [
             [
              0,
              "#0d0887"
             ],
             [
              0.1111111111111111,
              "#46039f"
             ],
             [
              0.2222222222222222,
              "#7201a8"
             ],
             [
              0.3333333333333333,
              "#9c179e"
             ],
             [
              0.4444444444444444,
              "#bd3786"
             ],
             [
              0.5555555555555556,
              "#d8576b"
             ],
             [
              0.6666666666666666,
              "#ed7953"
             ],
             [
              0.7777777777777778,
              "#fb9f3a"
             ],
             [
              0.8888888888888888,
              "#fdca26"
             ],
             [
              1,
              "#f0f921"
             ]
            ],
            "type": "histogram2dcontour"
           }
          ],
          "mesh3d": [
           {
            "colorbar": {
             "outlinewidth": 0,
             "ticks": ""
            },
            "type": "mesh3d"
           }
          ],
          "parcoords": [
           {
            "line": {
             "colorbar": {
              "outlinewidth": 0,
              "ticks": ""
             }
            },
            "type": "parcoords"
           }
          ],
          "pie": [
           {
            "automargin": true,
            "type": "pie"
           }
          ],
          "scatter": [
           {
            "marker": {
             "colorbar": {
              "outlinewidth": 0,
              "ticks": ""
             }
            },
            "type": "scatter"
           }
          ],
          "scatter3d": [
           {
            "line": {
             "colorbar": {
              "outlinewidth": 0,
              "ticks": ""
             }
            },
            "marker": {
             "colorbar": {
              "outlinewidth": 0,
              "ticks": ""
             }
            },
            "type": "scatter3d"
           }
          ],
          "scattercarpet": [
           {
            "marker": {
             "colorbar": {
              "outlinewidth": 0,
              "ticks": ""
             }
            },
            "type": "scattercarpet"
           }
          ],
          "scattergeo": [
           {
            "marker": {
             "colorbar": {
              "outlinewidth": 0,
              "ticks": ""
             }
            },
            "type": "scattergeo"
           }
          ],
          "scattergl": [
           {
            "marker": {
             "colorbar": {
              "outlinewidth": 0,
              "ticks": ""
             }
            },
            "type": "scattergl"
           }
          ],
          "scattermapbox": [
           {
            "marker": {
             "colorbar": {
              "outlinewidth": 0,
              "ticks": ""
             }
            },
            "type": "scattermapbox"
           }
          ],
          "scatterpolar": [
           {
            "marker": {
             "colorbar": {
              "outlinewidth": 0,
              "ticks": ""
             }
            },
            "type": "scatterpolar"
           }
          ],
          "scatterpolargl": [
           {
            "marker": {
             "colorbar": {
              "outlinewidth": 0,
              "ticks": ""
             }
            },
            "type": "scatterpolargl"
           }
          ],
          "scatterternary": [
           {
            "marker": {
             "colorbar": {
              "outlinewidth": 0,
              "ticks": ""
             }
            },
            "type": "scatterternary"
           }
          ],
          "surface": [
           {
            "colorbar": {
             "outlinewidth": 0,
             "ticks": ""
            },
            "colorscale": [
             [
              0,
              "#0d0887"
             ],
             [
              0.1111111111111111,
              "#46039f"
             ],
             [
              0.2222222222222222,
              "#7201a8"
             ],
             [
              0.3333333333333333,
              "#9c179e"
             ],
             [
              0.4444444444444444,
              "#bd3786"
             ],
             [
              0.5555555555555556,
              "#d8576b"
             ],
             [
              0.6666666666666666,
              "#ed7953"
             ],
             [
              0.7777777777777778,
              "#fb9f3a"
             ],
             [
              0.8888888888888888,
              "#fdca26"
             ],
             [
              1,
              "#f0f921"
             ]
            ],
            "type": "surface"
           }
          ],
          "table": [
           {
            "cells": {
             "fill": {
              "color": "#EBF0F8"
             },
             "line": {
              "color": "white"
             }
            },
            "header": {
             "fill": {
              "color": "#C8D4E3"
             },
             "line": {
              "color": "white"
             }
            },
            "type": "table"
           }
          ]
         },
         "layout": {
          "annotationdefaults": {
           "arrowcolor": "#2a3f5f",
           "arrowhead": 0,
           "arrowwidth": 1
          },
          "autotypenumbers": "strict",
          "coloraxis": {
           "colorbar": {
            "outlinewidth": 0,
            "ticks": ""
           }
          },
          "colorscale": {
           "diverging": [
            [
             0,
             "#8e0152"
            ],
            [
             0.1,
             "#c51b7d"
            ],
            [
             0.2,
             "#de77ae"
            ],
            [
             0.3,
             "#f1b6da"
            ],
            [
             0.4,
             "#fde0ef"
            ],
            [
             0.5,
             "#f7f7f7"
            ],
            [
             0.6,
             "#e6f5d0"
            ],
            [
             0.7,
             "#b8e186"
            ],
            [
             0.8,
             "#7fbc41"
            ],
            [
             0.9,
             "#4d9221"
            ],
            [
             1,
             "#276419"
            ]
           ],
           "sequential": [
            [
             0,
             "#0d0887"
            ],
            [
             0.1111111111111111,
             "#46039f"
            ],
            [
             0.2222222222222222,
             "#7201a8"
            ],
            [
             0.3333333333333333,
             "#9c179e"
            ],
            [
             0.4444444444444444,
             "#bd3786"
            ],
            [
             0.5555555555555556,
             "#d8576b"
            ],
            [
             0.6666666666666666,
             "#ed7953"
            ],
            [
             0.7777777777777778,
             "#fb9f3a"
            ],
            [
             0.8888888888888888,
             "#fdca26"
            ],
            [
             1,
             "#f0f921"
            ]
           ],
           "sequentialminus": [
            [
             0,
             "#0d0887"
            ],
            [
             0.1111111111111111,
             "#46039f"
            ],
            [
             0.2222222222222222,
             "#7201a8"
            ],
            [
             0.3333333333333333,
             "#9c179e"
            ],
            [
             0.4444444444444444,
             "#bd3786"
            ],
            [
             0.5555555555555556,
             "#d8576b"
            ],
            [
             0.6666666666666666,
             "#ed7953"
            ],
            [
             0.7777777777777778,
             "#fb9f3a"
            ],
            [
             0.8888888888888888,
             "#fdca26"
            ],
            [
             1,
             "#f0f921"
            ]
           ]
          },
          "colorway": [
           "#636efa",
           "#EF553B",
           "#00cc96",
           "#ab63fa",
           "#FFA15A",
           "#19d3f3",
           "#FF6692",
           "#B6E880",
           "#FF97FF",
           "#FECB52"
          ],
          "font": {
           "color": "#2a3f5f"
          },
          "geo": {
           "bgcolor": "white",
           "lakecolor": "white",
           "landcolor": "#E5ECF6",
           "showlakes": true,
           "showland": true,
           "subunitcolor": "white"
          },
          "hoverlabel": {
           "align": "left"
          },
          "hovermode": "closest",
          "mapbox": {
           "style": "light"
          },
          "paper_bgcolor": "white",
          "plot_bgcolor": "#E5ECF6",
          "polar": {
           "angularaxis": {
            "gridcolor": "white",
            "linecolor": "white",
            "ticks": ""
           },
           "bgcolor": "#E5ECF6",
           "radialaxis": {
            "gridcolor": "white",
            "linecolor": "white",
            "ticks": ""
           }
          },
          "scene": {
           "xaxis": {
            "backgroundcolor": "#E5ECF6",
            "gridcolor": "white",
            "gridwidth": 2,
            "linecolor": "white",
            "showbackground": true,
            "ticks": "",
            "zerolinecolor": "white"
           },
           "yaxis": {
            "backgroundcolor": "#E5ECF6",
            "gridcolor": "white",
            "gridwidth": 2,
            "linecolor": "white",
            "showbackground": true,
            "ticks": "",
            "zerolinecolor": "white"
           },
           "zaxis": {
            "backgroundcolor": "#E5ECF6",
            "gridcolor": "white",
            "gridwidth": 2,
            "linecolor": "white",
            "showbackground": true,
            "ticks": "",
            "zerolinecolor": "white"
           }
          },
          "shapedefaults": {
           "line": {
            "color": "#2a3f5f"
           }
          },
          "ternary": {
           "aaxis": {
            "gridcolor": "white",
            "linecolor": "white",
            "ticks": ""
           },
           "baxis": {
            "gridcolor": "white",
            "linecolor": "white",
            "ticks": ""
           },
           "bgcolor": "#E5ECF6",
           "caxis": {
            "gridcolor": "white",
            "linecolor": "white",
            "ticks": ""
           }
          },
          "title": {
           "x": 0.05
          },
          "xaxis": {
           "automargin": true,
           "gridcolor": "white",
           "linecolor": "white",
           "ticks": "",
           "title": {
            "standoff": 15
           },
           "zerolinecolor": "white",
           "zerolinewidth": 2
          },
          "yaxis": {
           "automargin": true,
           "gridcolor": "white",
           "linecolor": "white",
           "ticks": "",
           "title": {
            "standoff": 15
           },
           "zerolinecolor": "white",
           "zerolinewidth": 2
          }
         }
        }
       }
      }
     },
     "metadata": {},
     "output_type": "display_data"
    },
    {
     "data": {
      "application/vnd.plotly.v1+json": {
       "config": {
        "plotlyServerURL": "https://plot.ly"
       },
       "data": [
        {
         "close": [
          172.99,
          185.40249999999997,
          179.51500000000001,
          175.235,
          184.525,
          186.28000000000003,
          181.41250000000002,
          158.4325,
          148.42,
          147.82250000000002,
          139.15,
          127.875,
          129.76999999999998,
          136.32750000000001,
          142.7525,
          158.23250000000002,
          165.83249999999998,
          181.105,
          206.97250000000003,
          249.48250000000002,
          266.6525,
          243.49,
          219.3325,
          151.95,
          127.6225,
          134.12750000000003,
          151.14249999999998,
          163.5625,
          166.36,
          183.9475,
          205.97,
          196.2375,
          200.98,
          206.54,
          225.15249999999997,
          242.6625,
          236.4425,
          236.61249999999998,
          233.9575,
          233.65,
          241.215,
          235.82999999999998,
          281.995,
          354.97499999999997,
          388.08250000000004,
          410.34,
          413.22749999999996,
          412.84999999999997,
          396.3725,
          361.71750000000003,
          360.60249999999996,
          343.715,
          352.905,
          367.22249999999997,
          378.925,
          389.84999999999997,
          389.9475,
          416.8725,
          455.8025,
          534.8075,
          582.565,
          601.3075,
          575.755,
          612.45,
          657.575,
          907.4325,
          1099.2675,
          1156.45,
          1273.9,
          1335.475,
          1566.9,
          1767.85,
          1815.325,
          1605.9750000000001,
          1673.125,
          1820.875,
          1749.825,
          1721.7,
          1960.25,
          2094.325,
          2193.075,
          2348.425,
          2976.325,
          3688.9,
          3682.8999999999996,
          2808.425,
          2614.25,
          2680.7250000000004,
          2517.1749999999997,
          2242,
          1954.35,
          2174.1000000000004,
          2160.65,
          1925.3249999999998,
          2081.0750000000003,
          2421.8999999999996,
          2852.05,
          3158.2250000000004,
          3204.925,
          3241.75,
          3593.875,
          3539.125,
          3213.75,
          2931.925,
          3145.875,
          3487.425,
          3673.5250000000005,
          3954.2,
          4223.95,
          4561.55,
          4677.924999999999,
          4293.65,
          4251.825,
          4266.85,
          4075.6749999999997,
          3871.9500000000003,
          4009.85,
          3856.7250000000004,
          3416.55,
          3189.825,
          2771.425,
          2542.05,
          2899.175,
          3047.8500000000004,
          2815.1000000000004,
          2687.15,
          2726.425,
          2584.275,
          2744.125,
          3135.75,
          3412.05,
          3251.2250000000004,
          3015.45,
          3010.55,
          2904.15,
          2568.725,
          2103.225,
          2005.4500000000003,
          1922.4250000000002,
          1901.25,
          1525.475,
          1120.1999999999998,
          1160.1749999999997,
          1143.075,
          1148.925,
          1319.725,
          1530.2250000000001,
          1553.1999999999998,
          1695.95,
          1840.3,
          1751.4250000000002,
          1580.05,
          1572.975,
          1653.7749999999999,
          1533.5
         ],
         "high": [
          185.7,
          197.35,
          188.45,
          191.75,
          193.08,
          194.36,
          189.33,
          181.8719921875,
          170.15224609375002,
          159.286123046875,
          153.5543115234375,
          146.35215576171873,
          137.79,
          144.44,
          147.92,
          179.23,
          171.65,
          195.24,
          230.96,
          289.17,
          287.22,
          266.26,
          252.47,
          231.2165471571684,
          191.5832735785842,
          159.60288678929209,
          172.03,
          176.37,
          189.75,
          200.16,
          227.45,
          216.87,
          217.05,
          215.99,
          251.32,
          253.65,
          250.48,
          247,
          249.17,
          242.07,
          249.18,
          242.11,
          334.01,
          416.06,
          407.66,
          447.7,
          434.18,
          439.34,
          489,
          400.4247978201739,
          394.08,
          370.8368244550435,
          370.02,
          395.08,
          387.98,
          421.46,
          410.79,
          468.77,
          478.43,
          611.21,
          623.45,
          636.66,
          595.22,
          676.71,
          746.83,
          1169.9,
          1353.5,
          1292.7,
          1478.2,
          1442.5,
          1780,
          1876.9,
          2155,
          1782.5,
          1844.6,
          1944,
          1868.8,
          1842.7,
          2145.1,
          2202.1,
          2549.2,
          2645.9,
          3456.6,
          4213.3,
          4381.4,
          3567.7,
          3110.5173500409983,
          2896.5,
          2771.5543375102498,
          2644.3646687551245,
          2443.1823343775623,
          2398.2,
          2410.4,
          2173.5415417971954,
          2558,
          2698.5,
          3194.4,
          3341.3,
          3400,
          3360.7,
          4030.2,
          3948.3,
          3677.3,
          3332.8107583415986,
          3490,
          3677.3,
          4002.3,
          4374,
          4462.2,
          4825.8,
          4869.7,
          4563.9,
          4557.3,
          4784.2,
          4495,
          4183.9324183980325,
          4160,
          4039.5,
          3937.8103022997543,
          3677.180151149877,
          3433.5025755749384,
          3102.4637877874693,
          3189.4,
          3286.5,
          3199.4,
          2954.3,
          3046.7,
          2774.7,
          2987.7,
          3430,
          3581.4,
          3555.6,
          3208.9905584901308,
          3181.9,
          3061.3851396225327,
          2982.767569811266,
          2775.746284905633,
          2439.485642452816,
          2222.467821226408,
          2072.446410613204,
          1986.848205306602,
          1756.161602653301,
          1438.1808013266505,
          1299.177900663325,
          1275.2,
          1597.3,
          1664.5,
          1785.6,
          1819.2,
          2030.9,
          1958.6,
          1731.8125113307162,
          1655.931255665358,
          1790.3,
          1761.9
         ],
         "low": [
          92.12,
          132.555,
          158.97875,
          152.96,
          172.2409375,
          178.38296875,
          173.9,
          131.83,
          141.02,
          143.21,
          129.27,
          116.22,
          122.38,
          125.53,
          134.88464447021482,
          138.8185722351074,
          148.5255361175537,
          157.17901805877685,
          169.14200902938842,
          188.05725451469422,
          218.7698772573471,
          209.9,
          189.92,
          87.69,
          109.48,
          123.6,
          128.78,
          149.003846697323,
          148.46,
          161.32158667433077,
          172.63454333716538,
          175,
          185.9,
          191.28,
          196.79,
          213.42998572928641,
          217.85,
          225.34,
          215.66,
          222.86,
          233.92148392904022,
          225.81,
          235.63,
          259.34706049113004,
          307.16103024556503,
          347.62176512278256,
          378.98088256139124,
          370.15,
          309,
          325.66,
          330.77,
          313.2,
          334.48,
          333.22,
          361.1564780568804,
          365.34,
          372.34,
          370.52,
          400.90946737855506,
          428.35598368927754,
          480.67,
          532.0733709223194,
          530.08,
          571.2227177305799,
          546.28,
          624.705679432645,
          766.0690897163224,
          932.6682948581612,
          1041,
          1159.2295737145405,
          1247.3522868572702,
          1407.1261434286353,
          1550,
          1292.4,
          1442.3,
          1663.4078839642898,
          1654.3,
          1546,
          1733.8416104955363,
          1847.0458052477682,
          1925,
          2051.4,
          2215.152600655971,
          2595.7388003279857,
          3118.4,
          1730,
          2182.3,
          2527,
          2256.7,
          1860,
          1699.9,
          2016.9,
          2003,
          1803.3,
          1718.8,
          2065.2541354492987,
          2243.577067724649,
          2547.8135338623247,
          2853.0192669311627,
          3028.9721334655815,
          3135.3610667327907,
          2994.1,
          2915,
          2650,
          2780.6,
          3139.1214395853995,
          3313.2732197927,
          3477,
          3723.799554948175,
          3973.8747774740873,
          4267.7123887370435,
          3958,
          3912,
          3480,
          3669.8,
          3642,
          3893.2,
          3582.6,
          2921.8,
          3052.2,
          2159.5,
          2315.7,
          2577,
          2832.1,
          2559.6,
          2301.1,
          2444.7,
          2480.6,
          2508,
          2707.174467921045,
          2921.4622339605226,
          2950,
          2881.1,
          2796.2,
          2714.5,
          2223,
          1703,
          1900.6,
          1700,
          1734.2,
          1162.5,
          880,
          1042.7,
          996,
          1075.7,
          1005.3,
          1252.3753625829156,
          1356.2,
          1472.250090645729,
          1584.1000453228644,
          1523.4,
          1421.9,
          1473.2,
          1490.1,
          1279.8
         ],
         "open": [
          92.12,
          132.555,
          158.97875,
          169.246875,
          172.2409375,
          178.38296875,
          182.331484375,
          181.8719921875,
          170.15224609375002,
          159.286123046875,
          153.5543115234375,
          146.35215576171873,
          137.11357788085937,
          133.44178894042966,
          134.88464447021482,
          138.8185722351074,
          148.5255361175537,
          157.17901805877685,
          169.14200902938842,
          188.05725451469422,
          218.7698772573471,
          242.71118862867354,
          243.10059431433677,
          231.2165471571684,
          191.5832735785842,
          159.60288678929209,
          146.86519339464604,
          149.003846697323,
          156.2831733486615,
          161.32158667433077,
          172.63454333716538,
          189.3022716685827,
          192.76988583429136,
          196.8749429171457,
          201.70747145857285,
          213.42998572928641,
          228.0462428646432,
          232.2443714323216,
          234.42843571616078,
          234.1929678580804,
          233.92148392904022,
          237.5682419645201,
          236.69912098226004,
          259.34706049113004,
          307.16103024556503,
          347.62176512278256,
          378.98088256139124,
          396.1041912806956,
          404.4770956403478,
          400.4247978201739,
          381.071148910087,
          370.8368244550435,
          357.27591222752176,
          355.09045611376087,
          361.1564780568804,
          370.0407390284402,
          379.9453695142201,
          384.94643475711007,
          400.90946737855506,
          428.35598368927754,
          481.58174184463877,
          532.0733709223194,
          566.6904354611597,
          571.2227177305799,
          591.83635886529,
          624.705679432645,
          766.0690897163224,
          932.6682948581612,
          1044.5591474290807,
          1159.2295737145405,
          1247.3522868572702,
          1407.1261434286353,
          1587.4880717143176,
          1701.4065358571588,
          1653.6907679285796,
          1663.4078839642898,
          1742.141441982145,
          1745.9832209910724,
          1733.8416104955363,
          1847.0458052477682,
          1970.6854026238839,
          2081.880201311942,
          2215.152600655971,
          2595.7388003279857,
          3142.319400163993,
          3412.6097000819964,
          3110.5173500409983,
          2862.383675020499,
          2771.5543375102498,
          2644.3646687551245,
          2443.1823343775623,
          2198.766167188781,
          2186.4330835943906,
          2173.5415417971954,
          2049.4332708985976,
          2065.2541354492987,
          2243.577067724649,
          2547.8135338623247,
          2853.0192669311627,
          3028.9721334655815,
          3135.3610667327907,
          3364.618033366395,
          3451.8715166831976,
          3332.8107583415986,
          3132.3678791707994,
          3139.1214395853995,
          3313.2732197927,
          3493.39910989635,
          3723.799554948175,
          3973.8747774740873,
          4267.7123887370435,
          4472.818694368521,
          4383.2343471842605,
          4317.52967359213,
          4292.189836796066,
          4183.9324183980325,
          4027.941209199016,
          4018.8956045995083,
          3937.8103022997543,
          3677.180151149877,
          3433.5025755749384,
          3102.4637877874693,
          2822.2568938937347,
          2860.7159469468675,
          2954.282973473434,
          2884.6914867367173,
          2785.9207433683587,
          2756.1728716841794,
          2670.2239358420898,
          2707.174467921045,
          2921.4622339605226,
          3166.756116980261,
          3208.9905584901308,
          3112.2202792450653,
          3061.3851396225327,
          2982.767569811266,
          2775.746284905633,
          2439.485642452816,
          2222.467821226408,
          2072.446410613204,
          1986.848205306602,
          1756.161602653301,
          1438.1808013266505,
          1299.177900663325,
          1221.1264503316625,
          1185.0257251658313,
          1252.3753625829156,
          1391.3001812914579,
          1472.250090645729,
          1584.1000453228644,
          1712.2000226614323,
          1731.8125113307162,
          1655.931255665358,
          1614.453127832679,
          1634.1140639163395
         ],
         "type": "candlestick",
         "x": [
          "2019-10-08T00:00:00",
          "2019-10-15T00:00:00",
          "2019-10-22T00:00:00",
          "2019-10-29T00:00:00",
          "2019-11-05T00:00:00",
          "2019-11-12T00:00:00",
          "2019-11-19T00:00:00",
          "2019-11-26T00:00:00",
          "2019-12-03T00:00:00",
          "2019-12-10T00:00:00",
          "2019-12-17T00:00:00",
          "2019-12-24T00:00:00",
          "2019-12-31T00:00:00",
          "2020-01-07T00:00:00",
          "2020-01-14T00:00:00",
          "2020-01-21T00:00:00",
          "2020-01-28T00:00:00",
          "2020-02-04T00:00:00",
          "2020-02-11T00:00:00",
          "2020-02-18T00:00:00",
          "2020-02-25T00:00:00",
          "2020-03-03T00:00:00",
          "2020-03-10T00:00:00",
          "2020-03-17T00:00:00",
          "2020-03-24T00:00:00",
          "2020-03-31T00:00:00",
          "2020-04-07T00:00:00",
          "2020-04-14T00:00:00",
          "2020-04-21T00:00:00",
          "2020-04-28T00:00:00",
          "2020-05-05T00:00:00",
          "2020-05-12T00:00:00",
          "2020-05-19T00:00:00",
          "2020-05-26T00:00:00",
          "2020-06-02T00:00:00",
          "2020-06-09T00:00:00",
          "2020-06-16T00:00:00",
          "2020-06-23T00:00:00",
          "2020-06-30T00:00:00",
          "2020-07-07T00:00:00",
          "2020-07-14T00:00:00",
          "2020-07-21T00:00:00",
          "2020-07-28T00:00:00",
          "2020-08-04T00:00:00",
          "2020-08-11T00:00:00",
          "2020-08-18T00:00:00",
          "2020-08-25T00:00:00",
          "2020-09-01T00:00:00",
          "2020-09-08T00:00:00",
          "2020-09-15T00:00:00",
          "2020-09-22T00:00:00",
          "2020-09-29T00:00:00",
          "2020-10-06T00:00:00",
          "2020-10-13T00:00:00",
          "2020-10-20T00:00:00",
          "2020-10-27T00:00:00",
          "2020-11-03T00:00:00",
          "2020-11-10T00:00:00",
          "2020-11-17T00:00:00",
          "2020-11-24T00:00:00",
          "2020-12-01T00:00:00",
          "2020-12-08T00:00:00",
          "2020-12-15T00:00:00",
          "2020-12-22T00:00:00",
          "2020-12-29T00:00:00",
          "2021-01-05T00:00:00",
          "2021-01-12T00:00:00",
          "2021-01-19T00:00:00",
          "2021-01-26T00:00:00",
          "2021-02-02T00:00:00",
          "2021-02-09T00:00:00",
          "2021-02-16T00:00:00",
          "2021-02-23T00:00:00",
          "2021-03-02T00:00:00",
          "2021-03-09T00:00:00",
          "2021-03-16T00:00:00",
          "2021-03-23T00:00:00",
          "2021-03-30T00:00:00",
          "2021-04-06T00:00:00",
          "2021-04-13T00:00:00",
          "2021-04-20T00:00:00",
          "2021-04-27T00:00:00",
          "2021-05-04T00:00:00",
          "2021-05-11T00:00:00",
          "2021-05-18T00:00:00",
          "2021-05-25T00:00:00",
          "2021-06-01T00:00:00",
          "2021-06-08T00:00:00",
          "2021-06-15T00:00:00",
          "2021-06-22T00:00:00",
          "2021-06-29T00:00:00",
          "2021-07-06T00:00:00",
          "2021-07-13T00:00:00",
          "2021-07-20T00:00:00",
          "2021-07-27T00:00:00",
          "2021-08-03T00:00:00",
          "2021-08-10T00:00:00",
          "2021-08-17T00:00:00",
          "2021-08-24T00:00:00",
          "2021-08-31T00:00:00",
          "2021-09-07T00:00:00",
          "2021-09-14T00:00:00",
          "2021-09-21T00:00:00",
          "2021-09-28T00:00:00",
          "2021-10-05T00:00:00",
          "2021-10-12T00:00:00",
          "2021-10-19T00:00:00",
          "2021-10-26T00:00:00",
          "2021-11-02T00:00:00",
          "2021-11-09T00:00:00",
          "2021-11-16T00:00:00",
          "2021-11-23T00:00:00",
          "2021-11-30T00:00:00",
          "2021-12-07T00:00:00",
          "2021-12-14T00:00:00",
          "2021-12-21T00:00:00",
          "2021-12-28T00:00:00",
          "2022-01-04T00:00:00",
          "2022-01-11T00:00:00",
          "2022-01-18T00:00:00",
          "2022-01-25T00:00:00",
          "2022-02-01T00:00:00",
          "2022-02-08T00:00:00",
          "2022-02-15T00:00:00",
          "2022-02-22T00:00:00",
          "2022-03-01T00:00:00",
          "2022-03-08T00:00:00",
          "2022-03-15T00:00:00",
          "2022-03-22T00:00:00",
          "2022-03-29T00:00:00",
          "2022-04-05T00:00:00",
          "2022-04-12T00:00:00",
          "2022-04-19T00:00:00",
          "2022-04-26T00:00:00",
          "2022-05-03T00:00:00",
          "2022-05-10T00:00:00",
          "2022-05-17T00:00:00",
          "2022-05-24T00:00:00",
          "2022-05-31T00:00:00",
          "2022-06-07T00:00:00",
          "2022-06-14T00:00:00",
          "2022-06-21T00:00:00",
          "2022-06-28T00:00:00",
          "2022-07-05T00:00:00",
          "2022-07-12T00:00:00",
          "2022-07-19T00:00:00",
          "2022-07-26T00:00:00",
          "2022-08-02T00:00:00",
          "2022-08-09T00:00:00",
          "2022-08-16T00:00:00",
          "2022-08-23T00:00:00",
          "2022-08-30T00:00:00",
          "2022-09-06T00:00:00",
          "2022-09-13T00:00:00",
          "2022-09-20T00:00:00"
         ]
        }
       ],
       "layout": {
        "template": {
         "data": {
          "bar": [
           {
            "error_x": {
             "color": "#2a3f5f"
            },
            "error_y": {
             "color": "#2a3f5f"
            },
            "marker": {
             "line": {
              "color": "#E5ECF6",
              "width": 0.5
             },
             "pattern": {
              "fillmode": "overlay",
              "size": 10,
              "solidity": 0.2
             }
            },
            "type": "bar"
           }
          ],
          "barpolar": [
           {
            "marker": {
             "line": {
              "color": "#E5ECF6",
              "width": 0.5
             },
             "pattern": {
              "fillmode": "overlay",
              "size": 10,
              "solidity": 0.2
             }
            },
            "type": "barpolar"
           }
          ],
          "carpet": [
           {
            "aaxis": {
             "endlinecolor": "#2a3f5f",
             "gridcolor": "white",
             "linecolor": "white",
             "minorgridcolor": "white",
             "startlinecolor": "#2a3f5f"
            },
            "baxis": {
             "endlinecolor": "#2a3f5f",
             "gridcolor": "white",
             "linecolor": "white",
             "minorgridcolor": "white",
             "startlinecolor": "#2a3f5f"
            },
            "type": "carpet"
           }
          ],
          "choropleth": [
           {
            "colorbar": {
             "outlinewidth": 0,
             "ticks": ""
            },
            "type": "choropleth"
           }
          ],
          "contour": [
           {
            "colorbar": {
             "outlinewidth": 0,
             "ticks": ""
            },
            "colorscale": [
             [
              0,
              "#0d0887"
             ],
             [
              0.1111111111111111,
              "#46039f"
             ],
             [
              0.2222222222222222,
              "#7201a8"
             ],
             [
              0.3333333333333333,
              "#9c179e"
             ],
             [
              0.4444444444444444,
              "#bd3786"
             ],
             [
              0.5555555555555556,
              "#d8576b"
             ],
             [
              0.6666666666666666,
              "#ed7953"
             ],
             [
              0.7777777777777778,
              "#fb9f3a"
             ],
             [
              0.8888888888888888,
              "#fdca26"
             ],
             [
              1,
              "#f0f921"
             ]
            ],
            "type": "contour"
           }
          ],
          "contourcarpet": [
           {
            "colorbar": {
             "outlinewidth": 0,
             "ticks": ""
            },
            "type": "contourcarpet"
           }
          ],
          "heatmap": [
           {
            "colorbar": {
             "outlinewidth": 0,
             "ticks": ""
            },
            "colorscale": [
             [
              0,
              "#0d0887"
             ],
             [
              0.1111111111111111,
              "#46039f"
             ],
             [
              0.2222222222222222,
              "#7201a8"
             ],
             [
              0.3333333333333333,
              "#9c179e"
             ],
             [
              0.4444444444444444,
              "#bd3786"
             ],
             [
              0.5555555555555556,
              "#d8576b"
             ],
             [
              0.6666666666666666,
              "#ed7953"
             ],
             [
              0.7777777777777778,
              "#fb9f3a"
             ],
             [
              0.8888888888888888,
              "#fdca26"
             ],
             [
              1,
              "#f0f921"
             ]
            ],
            "type": "heatmap"
           }
          ],
          "heatmapgl": [
           {
            "colorbar": {
             "outlinewidth": 0,
             "ticks": ""
            },
            "colorscale": [
             [
              0,
              "#0d0887"
             ],
             [
              0.1111111111111111,
              "#46039f"
             ],
             [
              0.2222222222222222,
              "#7201a8"
             ],
             [
              0.3333333333333333,
              "#9c179e"
             ],
             [
              0.4444444444444444,
              "#bd3786"
             ],
             [
              0.5555555555555556,
              "#d8576b"
             ],
             [
              0.6666666666666666,
              "#ed7953"
             ],
             [
              0.7777777777777778,
              "#fb9f3a"
             ],
             [
              0.8888888888888888,
              "#fdca26"
             ],
             [
              1,
              "#f0f921"
             ]
            ],
            "type": "heatmapgl"
           }
          ],
          "histogram": [
           {
            "marker": {
             "pattern": {
              "fillmode": "overlay",
              "size": 10,
              "solidity": 0.2
             }
            },
            "type": "histogram"
           }
          ],
          "histogram2d": [
           {
            "colorbar": {
             "outlinewidth": 0,
             "ticks": ""
            },
            "colorscale": [
             [
              0,
              "#0d0887"
             ],
             [
              0.1111111111111111,
              "#46039f"
             ],
             [
              0.2222222222222222,
              "#7201a8"
             ],
             [
              0.3333333333333333,
              "#9c179e"
             ],
             [
              0.4444444444444444,
              "#bd3786"
             ],
             [
              0.5555555555555556,
              "#d8576b"
             ],
             [
              0.6666666666666666,
              "#ed7953"
             ],
             [
              0.7777777777777778,
              "#fb9f3a"
             ],
             [
              0.8888888888888888,
              "#fdca26"
             ],
             [
              1,
              "#f0f921"
             ]
            ],
            "type": "histogram2d"
           }
          ],
          "histogram2dcontour": [
           {
            "colorbar": {
             "outlinewidth": 0,
             "ticks": ""
            },
            "colorscale": [
             [
              0,
              "#0d0887"
             ],
             [
              0.1111111111111111,
              "#46039f"
             ],
             [
              0.2222222222222222,
              "#7201a8"
             ],
             [
              0.3333333333333333,
              "#9c179e"
             ],
             [
              0.4444444444444444,
              "#bd3786"
             ],
             [
              0.5555555555555556,
              "#d8576b"
             ],
             [
              0.6666666666666666,
              "#ed7953"
             ],
             [
              0.7777777777777778,
              "#fb9f3a"
             ],
             [
              0.8888888888888888,
              "#fdca26"
             ],
             [
              1,
              "#f0f921"
             ]
            ],
            "type": "histogram2dcontour"
           }
          ],
          "mesh3d": [
           {
            "colorbar": {
             "outlinewidth": 0,
             "ticks": ""
            },
            "type": "mesh3d"
           }
          ],
          "parcoords": [
           {
            "line": {
             "colorbar": {
              "outlinewidth": 0,
              "ticks": ""
             }
            },
            "type": "parcoords"
           }
          ],
          "pie": [
           {
            "automargin": true,
            "type": "pie"
           }
          ],
          "scatter": [
           {
            "marker": {
             "colorbar": {
              "outlinewidth": 0,
              "ticks": ""
             }
            },
            "type": "scatter"
           }
          ],
          "scatter3d": [
           {
            "line": {
             "colorbar": {
              "outlinewidth": 0,
              "ticks": ""
             }
            },
            "marker": {
             "colorbar": {
              "outlinewidth": 0,
              "ticks": ""
             }
            },
            "type": "scatter3d"
           }
          ],
          "scattercarpet": [
           {
            "marker": {
             "colorbar": {
              "outlinewidth": 0,
              "ticks": ""
             }
            },
            "type": "scattercarpet"
           }
          ],
          "scattergeo": [
           {
            "marker": {
             "colorbar": {
              "outlinewidth": 0,
              "ticks": ""
             }
            },
            "type": "scattergeo"
           }
          ],
          "scattergl": [
           {
            "marker": {
             "colorbar": {
              "outlinewidth": 0,
              "ticks": ""
             }
            },
            "type": "scattergl"
           }
          ],
          "scattermapbox": [
           {
            "marker": {
             "colorbar": {
              "outlinewidth": 0,
              "ticks": ""
             }
            },
            "type": "scattermapbox"
           }
          ],
          "scatterpolar": [
           {
            "marker": {
             "colorbar": {
              "outlinewidth": 0,
              "ticks": ""
             }
            },
            "type": "scatterpolar"
           }
          ],
          "scatterpolargl": [
           {
            "marker": {
             "colorbar": {
              "outlinewidth": 0,
              "ticks": ""
             }
            },
            "type": "scatterpolargl"
           }
          ],
          "scatterternary": [
           {
            "marker": {
             "colorbar": {
              "outlinewidth": 0,
              "ticks": ""
             }
            },
            "type": "scatterternary"
           }
          ],
          "surface": [
           {
            "colorbar": {
             "outlinewidth": 0,
             "ticks": ""
            },
            "colorscale": [
             [
              0,
              "#0d0887"
             ],
             [
              0.1111111111111111,
              "#46039f"
             ],
             [
              0.2222222222222222,
              "#7201a8"
             ],
             [
              0.3333333333333333,
              "#9c179e"
             ],
             [
              0.4444444444444444,
              "#bd3786"
             ],
             [
              0.5555555555555556,
              "#d8576b"
             ],
             [
              0.6666666666666666,
              "#ed7953"
             ],
             [
              0.7777777777777778,
              "#fb9f3a"
             ],
             [
              0.8888888888888888,
              "#fdca26"
             ],
             [
              1,
              "#f0f921"
             ]
            ],
            "type": "surface"
           }
          ],
          "table": [
           {
            "cells": {
             "fill": {
              "color": "#EBF0F8"
             },
             "line": {
              "color": "white"
             }
            },
            "header": {
             "fill": {
              "color": "#C8D4E3"
             },
             "line": {
              "color": "white"
             }
            },
            "type": "table"
           }
          ]
         },
         "layout": {
          "annotationdefaults": {
           "arrowcolor": "#2a3f5f",
           "arrowhead": 0,
           "arrowwidth": 1
          },
          "autotypenumbers": "strict",
          "coloraxis": {
           "colorbar": {
            "outlinewidth": 0,
            "ticks": ""
           }
          },
          "colorscale": {
           "diverging": [
            [
             0,
             "#8e0152"
            ],
            [
             0.1,
             "#c51b7d"
            ],
            [
             0.2,
             "#de77ae"
            ],
            [
             0.3,
             "#f1b6da"
            ],
            [
             0.4,
             "#fde0ef"
            ],
            [
             0.5,
             "#f7f7f7"
            ],
            [
             0.6,
             "#e6f5d0"
            ],
            [
             0.7,
             "#b8e186"
            ],
            [
             0.8,
             "#7fbc41"
            ],
            [
             0.9,
             "#4d9221"
            ],
            [
             1,
             "#276419"
            ]
           ],
           "sequential": [
            [
             0,
             "#0d0887"
            ],
            [
             0.1111111111111111,
             "#46039f"
            ],
            [
             0.2222222222222222,
             "#7201a8"
            ],
            [
             0.3333333333333333,
             "#9c179e"
            ],
            [
             0.4444444444444444,
             "#bd3786"
            ],
            [
             0.5555555555555556,
             "#d8576b"
            ],
            [
             0.6666666666666666,
             "#ed7953"
            ],
            [
             0.7777777777777778,
             "#fb9f3a"
            ],
            [
             0.8888888888888888,
             "#fdca26"
            ],
            [
             1,
             "#f0f921"
            ]
           ],
           "sequentialminus": [
            [
             0,
             "#0d0887"
            ],
            [
             0.1111111111111111,
             "#46039f"
            ],
            [
             0.2222222222222222,
             "#7201a8"
            ],
            [
             0.3333333333333333,
             "#9c179e"
            ],
            [
             0.4444444444444444,
             "#bd3786"
            ],
            [
             0.5555555555555556,
             "#d8576b"
            ],
            [
             0.6666666666666666,
             "#ed7953"
            ],
            [
             0.7777777777777778,
             "#fb9f3a"
            ],
            [
             0.8888888888888888,
             "#fdca26"
            ],
            [
             1,
             "#f0f921"
            ]
           ]
          },
          "colorway": [
           "#636efa",
           "#EF553B",
           "#00cc96",
           "#ab63fa",
           "#FFA15A",
           "#19d3f3",
           "#FF6692",
           "#B6E880",
           "#FF97FF",
           "#FECB52"
          ],
          "font": {
           "color": "#2a3f5f"
          },
          "geo": {
           "bgcolor": "white",
           "lakecolor": "white",
           "landcolor": "#E5ECF6",
           "showlakes": true,
           "showland": true,
           "subunitcolor": "white"
          },
          "hoverlabel": {
           "align": "left"
          },
          "hovermode": "closest",
          "mapbox": {
           "style": "light"
          },
          "paper_bgcolor": "white",
          "plot_bgcolor": "#E5ECF6",
          "polar": {
           "angularaxis": {
            "gridcolor": "white",
            "linecolor": "white",
            "ticks": ""
           },
           "bgcolor": "#E5ECF6",
           "radialaxis": {
            "gridcolor": "white",
            "linecolor": "white",
            "ticks": ""
           }
          },
          "scene": {
           "xaxis": {
            "backgroundcolor": "#E5ECF6",
            "gridcolor": "white",
            "gridwidth": 2,
            "linecolor": "white",
            "showbackground": true,
            "ticks": "",
            "zerolinecolor": "white"
           },
           "yaxis": {
            "backgroundcolor": "#E5ECF6",
            "gridcolor": "white",
            "gridwidth": 2,
            "linecolor": "white",
            "showbackground": true,
            "ticks": "",
            "zerolinecolor": "white"
           },
           "zaxis": {
            "backgroundcolor": "#E5ECF6",
            "gridcolor": "white",
            "gridwidth": 2,
            "linecolor": "white",
            "showbackground": true,
            "ticks": "",
            "zerolinecolor": "white"
           }
          },
          "shapedefaults": {
           "line": {
            "color": "#2a3f5f"
           }
          },
          "ternary": {
           "aaxis": {
            "gridcolor": "white",
            "linecolor": "white",
            "ticks": ""
           },
           "baxis": {
            "gridcolor": "white",
            "linecolor": "white",
            "ticks": ""
           },
           "bgcolor": "#E5ECF6",
           "caxis": {
            "gridcolor": "white",
            "linecolor": "white",
            "ticks": ""
           }
          },
          "title": {
           "x": 0.05
          },
          "xaxis": {
           "automargin": true,
           "gridcolor": "white",
           "linecolor": "white",
           "ticks": "",
           "title": {
            "standoff": 15
           },
           "zerolinecolor": "white",
           "zerolinewidth": 2
          },
          "yaxis": {
           "automargin": true,
           "gridcolor": "white",
           "linecolor": "white",
           "ticks": "",
           "title": {
            "standoff": 15
           },
           "zerolinecolor": "white",
           "zerolinewidth": 2
          }
         }
        }
       }
      }
     },
     "metadata": {},
     "output_type": "display_data"
    },
    {
     "data": {
      "text/plain": [
       "[(0, 3.9798426860962155),\n",
       " (1, 11.503463180334128),\n",
       " (2, 21.1821500468291),\n",
       " (3, 22.06738877662046),\n",
       " (4, 11.492588865355833),\n",
       " (5, 13.237586320527331),\n",
       " (6, 7.877609484491442)]"
      ]
     },
     "execution_count": 117,
     "metadata": {},
     "output_type": "execute_result"
    }
   ],
   "source": [
    "result = []\n",
    "for i in range(7):\n",
    "    weekly_candles_offset=price.get_price_data('1w',data=crypto, offset=i)\n",
    "    longs, shorts, outcome, profit, final_equity, equity_curve, fig, fig2 = single_test(weekly_candles_offset)\n",
    "    # fig.add_vline(x=longs[0], line_width=3, line_dash=\"dash\", line_color=\"green\")\n",
    "    result.append((i,final_equity))\n",
    "fig.show()\n",
    "fig2.show()\n",
    "result"
   ]
  },
  {
   "cell_type": "code",
   "execution_count": 118,
   "metadata": {},
   "outputs": [
    {
     "data": {
      "image/png": "[encoded data removed]",
      "text/plain": [
       "<Figure size 432x288 with 1 Axes>"
      ]
     },
     "metadata": {
      "needs_background": "light"
     },
     "output_type": "display_data"
    }
   ],
   "source": [
    "plt.plot(equity_curve[:,0], equity_curve[:,1])\n",
    "\n",
    "plt.tick_params(axis='x',labelsize=10,rotation=90)"
   ]
  },
  {
   "cell_type": "markdown",
   "metadata": {},
   "source": []
  }
 ],
 "metadata": {
  "kernelspec": {
   "display_name": "Python 3.9.7 ('saturn')",
   "language": "python",
   "name": "python3"
  },
  "language_info": {
   "codemirror_mode": {
    "name": "ipython",
    "version": 3
   },
   "file_extension": ".py",
   "mimetype": "text/x-python",
   "name": "python",
   "nbconvert_exporter": "python",
   "pygments_lexer": "ipython3",
   "version": "3.9.7"
  },
  "orig_nbformat": 4,
  "vscode": {
   "interpreter": {
    "hash": "8884f941927773f5e6925e064953d9237720c7689d63a5a0c6845a5cf4bdc370"
   }
  }
 },
 "nbformat": 4,
 "nbformat_minor": 2
}
