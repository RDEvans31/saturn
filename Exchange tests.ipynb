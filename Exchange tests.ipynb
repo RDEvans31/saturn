{
 "cells": [
  {
   "cell_type": "code",
   "execution_count": 6,
   "metadata": {},
   "outputs": [],
   "source": [
    "import price_data as price\n",
    "import chart\n",
    "import pandas as pd\n",
    "import numpy as np\n",
    "import ccxt\n",
    "from datetime import datetime\n",
    "from users import users\n",
    "from ftx_client import FtxClient\n",
    "import math\n",
    "\n",
    "ftx_ccxt = ccxt.ftx({\n",
    "    'apiKey': 'mFRyLR4AAhLTc5RlWov3PKTcIbMHw3vGZwiHnsrn',\n",
    "    'secret': 'oKaY1WEqTuhnNnq0iRi_Ry-CYckvE89-gPUPf21B',\n",
    "    'enableRateLimit': True\n",
    "})\n",
    "ftx_ccxt.password = 'Ev443978??'\n",
    "cex= ccxt.cex({\n",
    "    'uid' : 'up109520414',\n",
    "    'apiKey': '1X2uEcPlvBCe4CcMtzWKguG1SDI',\n",
    "    'secret': '8JY4fDg6hRz0DTolZHz77XPdC1o',\n",
    "    'enableRateLimit': True,\n",
    "    })\n",
    "\n",
    "ftx_ha_trader = ccxt.ftx({\n",
    "    'apiKey': 'mFRyLR4AAhLTc5RlWov3PKTcIbMHw3vGZwiHnsrn',\n",
    "    'secret': 'oKaY1WEqTuhnNnq0iRi_Ry-CYckvE89-gPUPf21B',\n",
    "    'enableRateLimit': True,\n",
    "})\n",
    "\n",
    "ftx_ha_trader.headers = { 'FTX-SUBACCOUNT':'HA_Trader' }\n",
    "main=FtxClient(api_key='mFRyLR4AAhLTc5RlWov3PKTcIbMHw3vGZwiHnsrn',api_secret='oKaY1WEqTuhnNnq0iRi_Ry-CYckvE89-gPUPf21B')\n",
    "# ftx_ccxt.headers = {'FTX-SUBACCOUNT':'Savings'}\n",
    "\n",
    "def get_limit(symbol, markets):\n",
    "    return float(next(filter(lambda x:x['symbol']==symbol, markets))['limits']['amount']['min'])\n"
   ]
  },
  {
   "cell_type": "code",
   "execution_count": 5,
   "metadata": {},
   "outputs": [],
   "source": [
    "noDecimals=np.absolute(np.log10(next(filter(lambda x:x['symbol']=='MATIC/USD', ftx_ccxt.fetch_markets()))['precision']['amount']))"
   ]
  },
  {
   "cell_type": "code",
   "execution_count": 6,
   "metadata": {},
   "outputs": [
    {
     "name": "stdout",
     "output_type": "stream",
     "text": [
      "{'free': 0.01889786, 'used': 0.0, 'total': 0.01889786}\n"
     ]
    }
   ],
   "source": [
    "rob = ccxt.ftx(users['rob']['exchanges']['ftx']['api'])\n",
    "if 'header' in users['rob']['exchanges']['ftx']:\n",
    "    rob.headers = users['rob']['exchanges']['ftx']['header']\n",
    "    print(rob.fetchPartialBalance('BTC'))"
   ]
  },
  {
   "cell_type": "code",
   "execution_count": 7,
   "metadata": {},
   "outputs": [
    {
     "data": {
      "text/plain": [
       "{'free': 4.46752782, 'used': 0.0, 'total': 4.46752782}"
      ]
     },
     "execution_count": 7,
     "metadata": {},
     "output_type": "execute_result"
    }
   ],
   "source": [
    "def transfer_ftx_to_cex(ftx_dict: dict,cex: dict,usd_amount: float,headers: dict=None, blockchain = 'SOL'):\n",
    "    ftx = ccxt.ftx(ftx_dict)\n",
    "    ftx.password=ftx_dict['password']\n",
    "    cex = ccxt.cex(cex)\n",
    "    if headers != None:\n",
    "        ftx.headers = headers\n",
    "    symbol=blockchain+'/'+'USD'\n",
    "    current_price=price.get_current_price(symbol)\n",
    "    amount = usd_amount/current_price\n",
    "    noDecimals=int(np.absolute(np.log10(next(filter(lambda x:x['symbol']==symbol, ftx.fetch_markets()))['precision']['amount'])))\n",
    "    amount_to_buy = round(amount,noDecimals)\n",
    "    deposit_address = cex.fetchDepositAddress(blockchain)\n",
    "    # ftx.createMarketBuyOrder(symbol='SOL/USD', amount=amount_to_buy)\n",
    "    ftx.withdraw(code=blockchain, amount=amount_to_buy, address=deposit_address['address'])\n",
    "    \n",
    "\n",
    "my_ftx = {\n",
    "    'apiKey': 'mFRyLR4AAhLTc5RlWov3PKTcIbMHw3vGZwiHnsrn',\n",
    "    'secret': 'oKaY1WEqTuhnNnq0iRi_Ry-CYckvE89-gPUPf21B',\n",
    "    'enableRateLimit': True,\n",
    "    'password': 'Ev443978??'\n",
    "}\n",
    "\n",
    "my_cex = {\n",
    "    'uid' : 'up109520414',\n",
    "    'apiKey': '1X2uEcPlvBCe4CcMtzWKguG1SDI',\n",
    "    'secret': '8JY4fDg6hRz0DTolZHz77XPdC1o',\n",
    "    'enableRateLimit': True,\n",
    "}\n",
    "\n",
    "my_savings = {'FTX-SUBACCOUNT':'Savings'}\n",
    "# transfer_ftx_to_cex(my_ftx,my_cex,50, my_savings)\n",
    "edward = ccxt.ftx(users['edward']['exchanges']['ftx']['api'])\n",
    "edward.fetch_partial_balance('USD')\n"
   ]
  },
  {
   "cell_type": "code",
   "execution_count": 9,
   "metadata": {},
   "outputs": [
    {
     "data": {
      "text/plain": [
       "{'info': {'future': 'ETH-PERP',\n",
       "  'size': '0.789',\n",
       "  'side': 'sell',\n",
       "  'netSize': '-0.789',\n",
       "  'longOrderSize': '0.408',\n",
       "  'shortOrderSize': '0.0',\n",
       "  'cost': '-2099.2923',\n",
       "  'entryPrice': '2660.7',\n",
       "  'unrealizedPnl': '0.0',\n",
       "  'realizedPnl': '-166.08498096',\n",
       "  'initialMarginRequirement': '1.0',\n",
       "  'maintenanceMarginRequirement': '0.03',\n",
       "  'openSize': '0.789',\n",
       "  'collateralUsed': '2099.2923',\n",
       "  'estimatedLiquidationPrice': '5190.092549589353',\n",
       "  'recentAverageOpenPrice': '2635.6',\n",
       "  'recentPnl': '-19.8039',\n",
       "  'recentBreakEvenPrice': '2635.6',\n",
       "  'cumulativeBuySize': '0.0',\n",
       "  'cumulativeSellSize': '0.789'},\n",
       " 'symbol': 'ETH-PERP',\n",
       " 'timestamp': None,\n",
       " 'datetime': None,\n",
       " 'initialMargin': 2099.2923,\n",
       " 'initialMarginPercentage': 1.0,\n",
       " 'maintenanceMargin': 62.978769,\n",
       " 'maintenanceMarginPercentage': 0.03,\n",
       " 'entryPrice': None,\n",
       " 'notional': 2099.2923,\n",
       " 'leverage': 1,\n",
       " 'unrealizedPnl': -19.8039,\n",
       " 'contracts': 0.789,\n",
       " 'contractSize': 1.0,\n",
       " 'marginRatio': 0.0305,\n",
       " 'liquidationPrice': 5190.092549589353,\n",
       " 'markPrice': 2660.7,\n",
       " 'collateral': 2058.6694906259995,\n",
       " 'marginType': 'cross',\n",
       " 'side': 'short',\n",
       " 'percentage': -0.94}"
      ]
     },
     "execution_count": 9,
     "metadata": {},
     "output_type": "execute_result"
    }
   ],
   "source": [
    "next(filter(lambda x: x['symbol']=='ETH-PERP',ftx_ccxt.fetch_positions()))"
   ]
  }
 ],
 "metadata": {
  "interpreter": {
   "hash": "57137cf68fa83062c029c49015c3b482b5148bfe1829be2dc6f144850d51c7f7"
  },
  "kernelspec": {
   "display_name": "Python 3.9.7 64-bit ('saturn': conda)",
   "name": "python3"
  },
  "language_info": {
   "codemirror_mode": {
    "name": "ipython",
    "version": 3
   },
   "file_extension": ".py",
   "mimetype": "text/x-python",
   "name": "python",
   "nbconvert_exporter": "python",
   "pygments_lexer": "ipython3",
   "version": "3.9.10"
  },
  "orig_nbformat": 4
 },
 "nbformat": 4,
 "nbformat_minor": 2
}
