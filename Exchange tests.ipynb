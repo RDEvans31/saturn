{
 "cells": [
  {
   "cell_type": "code",
   "execution_count": 2,
   "metadata": {},
   "outputs": [],
   "source": [
    "import price_data as price\n",
    "import chart\n",
    "import pandas as pd\n",
    "import numpy as np\n",
    "import ccxt\n",
    "from datetime import datetime\n",
    "from users import users\n",
    "from ftx_client import FtxClient\n",
    "import math\n",
    "\n",
    "ftx_ccxt = ccxt.ftx({\n",
    "    'apiKey': 'mFRyLR4AAhLTc5RlWov3PKTcIbMHw3vGZwiHnsrn',\n",
    "    'secret': 'oKaY1WEqTuhnNnq0iRi_Ry-CYckvE89-gPUPf21B',\n",
    "    'enableRateLimit': True\n",
    "})\n",
    "ftx_ccxt.password = 'Ev443978??'\n",
    "cex= ccxt.cex({\n",
    "    'uid' : 'up109520414',\n",
    "    'apiKey': '1X2uEcPlvBCe4CcMtzWKguG1SDI',\n",
    "    'secret': '8JY4fDg6hRz0DTolZHz77XPdC1o',\n",
    "    'enableRateLimit': True,\n",
    "    })\n",
    "\n",
    "ftx_ccxt.headers = {'FTX-SUBACCOUNT':'Savings'}\n",
    "\n",
    "def get_limit(symbol, markets):\n",
    "    return float(next(filter(lambda x:x['symbol']==symbol, markets))['limits']['amount']['min'])\n"
   ]
  },
  {
   "cell_type": "code",
   "execution_count": 3,
   "metadata": {},
   "outputs": [],
   "source": [
    "def accumulate(risk, risk_ethbtc, exchange_str, exchange, symbols):\n",
    "    usd_balance=exchange.fetch_partial_balance('USD')['free']\n",
    "    gbp_balance=exchange.fetch_partial_balance('GBP')['free']\n",
    "    markets=exchange.fetch_markets()\n",
    "    print('USD balance: ', usd_balance)\n",
    "    if risk>=0.5:\n",
    "        print('ETHBTC risk level', risk_ethbtc)\n",
    "        #sell btc\n",
    "        price=price_data.get_price_data('1m', symbol='BTC/USD')\n",
    "        try:\n",
    "            balance=float(exchange.fetch_partial_balance('BTC')['total'])\n",
    "        except:\n",
    "            print('No balance for BTC ')\n",
    "        current_price=price.iloc[-1]['close'].item()\n",
    "        dynamic_sell_amount=round((-1/(50*(risk-1))), 2)*balance\n",
    "        exchange.create_limit_sell_order('BTC/USD',dynamic_sell_amount,current_price)\n",
    "        print('Sold %s of %s' %(dynamic_sell_amount, 'BTC/USD'))\n",
    "        usd_amount=dynamic_sell_amount*current_price\n",
    "        if risk_ethbtc<0.5: #move those profits over to eth\n",
    "                usd_balance=exchange.fetch_partial_balance('USD')['free']   \n",
    "                eth_price=price_data.get_price_data('1m',symbol='ETH/USD')       \n",
    "                #buy\n",
    "                current_eth_price=eth_price.iloc[-1]['close'].item()\n",
    "                buy_amount=usd_amount/current_eth_price\n",
    "                if buy_amount<usd_balance:\n",
    "                    print('Buying eth with BTC profits')\n",
    "                    amount_to_buy=round(buy_amount/current_eth_price,3) #eth has a precision of 0.001\n",
    "                    limit=get_limit('ETH/USD', markets)\n",
    "                    if amount_to_buy>limit:\n",
    "                        # exchange.create_limit_buy_order('ETH/USD',amount_to_buy,current_price)\n",
    "                        print('Bought %s of %s' %(amount_to_buy, 'ETH/USD'))\n",
    "                    elif limit<usd_balance:\n",
    "                        print('Amount not above limit: %s, %s' % (limit,amount_to_buy))\n",
    "                        # exchange.create_limit_buy_order('ETH/USD',limit,current_price)\n",
    "                        print('Bought %s of %s' %(limit, 'ETH/USD'))\n",
    "                    else:\n",
    "                        print('Minimum amount was above usd balance.')\n",
    "\n",
    "        else:#start selling alts\n",
    "            #selling\n",
    "            for i in range(len(symbols)-1): #sells everything except btc\n",
    "                symbol=symbols[i+1]\n",
    "                price=price_data.get_price_data('1m', symbol=symbol, exchange_str=exchange_str)\n",
    "                noDecimals=np.absolute(np.log10(next(filter(lambda x:x['symbol']==symbol, exchange.fetch_markets()))['precision']['amount']))\n",
    "                try:\n",
    "                    balance=float(exchange.fetch_partial_balance(symbol.split('/')[0])['total'])\n",
    "                except:\n",
    "                    print('No balance for : ', symbol)\n",
    "                current_price=price.iloc[-1]['close'].item()\n",
    "                dynamic_sell_amount=round(round((-1/(50*(risk_ethbtc-1))), 2)*balance,noDecimals)\n",
    "                # exchange.create_limit_sell_order(symbol,dynamic_sell_amount,current_price)\n",
    "                print('Sold %s of %s' %(dynamic_sell_amount, symbol))\n",
    "\n",
    "\n",
    "\n",
    "    elif risk<0.5 and usd_balance>daily_buy_amount:\n",
    "        list_of_limits = [get_limit(symbol, markets) for symbol in symbols]\n",
    "        max_min_amount = max(list_of_limits)\n",
    "        for i in range(len(symbols)):\n",
    "            usd_balance=exchange.fetch_partial_balance('USD')['free']\n",
    "            symbol=symbols[i]\n",
    "            print('Symbol:', symbol)\n",
    "            price=price_data.get_price_data('1m', symbol=symbol, exchange_str=exchange_str)\n",
    "            noDecimals=np.absolute(np.log10(next(filter(lambda x:x['symbol']==symbol, exchange.fetch_markets()))['precision']['amount']))\n",
    "            current_price=price.iloc[-1]['close'].item()\n",
    "            #buy\n",
    "            dynamic_buy_amount=round(daily_buy_amount*((0.5/(risk-0.15))-1),2)\n",
    "            if dynamic_buy_amount<usd_balance:\n",
    "                amount_to_buy=round(dynamic_buy_amount/current_price,4)\n",
    "                limit=get_limit(symbol, markets)\n",
    "                if amount_to_buy>limit:\n",
    "                    # exchange.create_limit_buy_order(symbol,amount_to_buy,current_price)\n",
    "                    print('Bought %s of %s' %(amount_to_buy, symbol))\n",
    "                elif limit<usd_balance:\n",
    "                    print('Amount not above limit: %s, %s' % (limit,amount_to_buy))\n",
    "                    # exchange.create_limit_buy_order(symbol,limit,current_price)\n",
    "                    print('Bought %s of %s' %(limit, symbol))\n",
    "                else:\n",
    "                    print('Minimum amount was above usd balance.')\n",
    "            else:\n",
    "                print('No balance')\n",
    "    else:\n",
    "        print('Not doing anything')"
   ]
  },
  {
   "cell_type": "code",
   "execution_count": 4,
   "metadata": {},
   "outputs": [
    {
     "name": "stdout",
     "output_type": "stream",
     "text": [
      "rob\n",
      "False\n",
      "ftx\n",
      "cex\n",
      "70 5 14.0\n",
      "1\n",
      "edward\n",
      "True\n",
      "ftx\n",
      "7 2 3.5\n",
      "2\n"
     ]
    }
   ],
   "source": [
    "for key, user in users.items():\n",
    "    print(key)\n",
    "    weekly=user['weekly']\n",
    "    if weekly and datetime.today().weekday() == 0:\n",
    "        buy_amount=user['daily_buy_amount']*7\n",
    "    number_of_cryptos = 0\n",
    "    for name, details in user['exchanges'].items():\n",
    "        print(name)\n",
    "        exchange: ccxt.Exchange\n",
    "        if name=='ftx':\n",
    "            exchange = ccxt.ftx(details['api'])\n",
    "            if 'header' in details:\n",
    "                exchange.headers = details['header']\n",
    "        elif name=='cex':\n",
    "            exchange = ccxt.cex(details['api'])\n",
    "        symbols=details['symbols']\n",
    "        number_of_cryptos = number_of_cryptos + len(symbols)\n",
    "    print(buy_amount, number_of_cryptos, buy_amount/number_of_cryptos)\n",
    "    m=5\n",
    "    d = math.ceil((m*number_of_cryptos)/buy_amount)\n",
    "    print(d)\n",
    "        "
   ]
  },
  {
   "cell_type": "code",
   "execution_count": 5,
   "metadata": {},
   "outputs": [],
   "source": [
    "noDecimals=np.absolute(np.log10(next(filter(lambda x:x['symbol']=='MATIC/USD', ftx_ccxt.fetch_markets()))['precision']['amount']))"
   ]
  },
  {
   "cell_type": "code",
   "execution_count": 6,
   "metadata": {},
   "outputs": [
    {
     "name": "stdout",
     "output_type": "stream",
     "text": [
      "{'free': 0.01889786, 'used': 0.0, 'total': 0.01889786}\n"
     ]
    }
   ],
   "source": [
    "rob = ccxt.ftx(users['rob']['exchanges']['ftx']['api'])\n",
    "if 'header' in users['rob']['exchanges']['ftx']:\n",
    "    rob.headers = users['rob']['exchanges']['ftx']['header']\n",
    "    print(rob.fetchPartialBalance('BTC'))"
   ]
  },
  {
   "cell_type": "code",
   "execution_count": 7,
   "metadata": {},
   "outputs": [
    {
     "data": {
      "text/plain": [
       "{'free': 4.46752782, 'used': 0.0, 'total': 4.46752782}"
      ]
     },
     "execution_count": 7,
     "metadata": {},
     "output_type": "execute_result"
    }
   ],
   "source": [
    "def transfer_ftx_to_cex(ftx_dict: dict,cex: dict,usd_amount: float,headers: dict=None, blockchain = 'SOL'):\n",
    "    ftx = ccxt.ftx(ftx_dict)\n",
    "    ftx.password=ftx_dict['password']\n",
    "    cex = ccxt.cex(cex)\n",
    "    if headers != None:\n",
    "        ftx.headers = headers\n",
    "    symbol=blockchain+'/'+'USD'\n",
    "    current_price=price.get_current_price(symbol)\n",
    "    amount = usd_amount/current_price\n",
    "    noDecimals=int(np.absolute(np.log10(next(filter(lambda x:x['symbol']==symbol, ftx.fetch_markets()))['precision']['amount'])))\n",
    "    amount_to_buy = round(amount,noDecimals)\n",
    "    deposit_address = cex.fetchDepositAddress(blockchain)\n",
    "    # ftx.createMarketBuyOrder(symbol='SOL/USD', amount=amount_to_buy)\n",
    "    ftx.withdraw(code=blockchain, amount=amount_to_buy, address=deposit_address['address'])\n",
    "    \n",
    "\n",
    "my_ftx = {\n",
    "    'apiKey': 'mFRyLR4AAhLTc5RlWov3PKTcIbMHw3vGZwiHnsrn',\n",
    "    'secret': 'oKaY1WEqTuhnNnq0iRi_Ry-CYckvE89-gPUPf21B',\n",
    "    'enableRateLimit': True,\n",
    "    'password': 'Ev443978??'\n",
    "}\n",
    "\n",
    "my_cex = {\n",
    "    'uid' : 'up109520414',\n",
    "    'apiKey': '1X2uEcPlvBCe4CcMtzWKguG1SDI',\n",
    "    'secret': '8JY4fDg6hRz0DTolZHz77XPdC1o',\n",
    "    'enableRateLimit': True,\n",
    "}\n",
    "\n",
    "my_savings = {'FTX-SUBACCOUNT':'Savings'}\n",
    "# transfer_ftx_to_cex(my_ftx,my_cex,50, my_savings)\n",
    "edward = ccxt.ftx(users['edward']['exchanges']['ftx']['api'])\n",
    "edward.fetch_partial_balance('USD')\n"
   ]
  }
 ],
 "metadata": {
  "interpreter": {
   "hash": "57137cf68fa83062c029c49015c3b482b5148bfe1829be2dc6f144850d51c7f7"
  },
  "kernelspec": {
   "display_name": "Python 3.9.7 64-bit ('saturn': conda)",
   "name": "python3"
  },
  "language_info": {
   "codemirror_mode": {
    "name": "ipython",
    "version": 3
   },
   "file_extension": ".py",
   "mimetype": "text/x-python",
   "name": "python",
   "nbconvert_exporter": "python",
   "pygments_lexer": "ipython3",
   "version": "3.9.7"
  },
  "orig_nbformat": 4
 },
 "nbformat": 4,
 "nbformat_minor": 2
}
