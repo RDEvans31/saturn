{
 "cells": [
  {
   "cell_type": "code",
   "execution_count": 2,
   "metadata": {},
   "outputs": [],
   "source": [
    "import ccxt\n",
    "import price_data as price\n",
    "import chart\n",
    "import time\n",
    "import schedule\n",
    "import numpy as np\n",
    "from datetime import datetime\n",
    "from ftx_client import FtxClient\n",
    "\n",
    "ftx_ccxt = ccxt.ftx({\n",
    "    'apiKey': 'mFRyLR4AAhLTc5RlWov3PKTcIbMHw3vGZwiHnsrn',\n",
    "    'secret': 'oKaY1WEqTuhnNnq0iRi_Ry-CYckvE89-gPUPf21B',\n",
    "    'enableRateLimit': True,\n",
    "})\n",
    "\n",
    "# ftx_ccxt.headers = {'FTX-SUBACCOUNT':'MeanReversion'}\n",
    "\n",
    "main=FtxClient(api_key='mFRyLR4AAhLTc5RlWov3PKTcIbMHw3vGZwiHnsrn',api_secret='oKaY1WEqTuhnNnq0iRi_Ry-CYckvE89-gPUPf21B')\n",
    "Savings=FtxClient(api_key='mFRyLR4AAhLTc5RlWov3PKTcIbMHw3vGZwiHnsrn',api_secret='oKaY1WEqTuhnNnq0iRi_Ry-CYckvE89-gPUPf21B',subaccount_name='Savings')\n",
    "MeanReversion=FtxClient(api_key='mFRyLR4AAhLTc5RlWov3PKTcIbMHw3vGZwiHnsrn',api_secret='oKaY1WEqTuhnNnq0iRi_Ry-CYckvE89-gPUPf21B',subaccount_name='MeanReversion')"
   ]
  },
  {
   "cell_type": "code",
   "execution_count": 1,
   "metadata": {},
   "outputs": [],
   "source": [
    "import price_data as price\n",
    "import chart\n",
    "import pandas as pd\n",
    "import numpy as np\n",
    "import ccxt\n",
    "from datetime import datetime\n",
    "from users import users\n",
    "from ftx_client import FtxClient\n",
    "\n",
    "ftx_ccxt = ccxt.ftx({\n",
    "    'apiKey': 'mFRyLR4AAhLTc5RlWov3PKTcIbMHw3vGZwiHnsrn',\n",
    "    'secret': 'oKaY1WEqTuhnNnq0iRi_Ry-CYckvE89-gPUPf21B',\n",
    "    'enableRateLimit': True\n",
    "})\n",
    "ftx_ccxt.password = 'Ev443978??'\n",
    "cex= ccxt.cex({\n",
    "    'uid' : 'up109520414',\n",
    "    'apiKey': '1X2uEcPlvBCe4CcMtzWKguG1SDI',\n",
    "    'secret': '8JY4fDg6hRz0DTolZHz77XPdC1o',\n",
    "    'enableRateLimit': True,\n",
    "    })\n",
    "\n",
    "ftx_ccxt.headers = {'FTX-SUBACCOUNT':'Savings'}\n",
    "\n",
    "def get_limit(symbol, markets):\n",
    "    return float(next(filter(lambda x:x['symbol']==symbol, markets))['limits']['amount']['min'])\n"
   ]
  },
  {
   "cell_type": "code",
   "execution_count": 3,
   "metadata": {},
   "outputs": [
    {
     "data": {
      "text/plain": [
       "3536.88886287"
      ]
     },
     "execution_count": 3,
     "metadata": {},
     "output_type": "execute_result"
    }
   ],
   "source": [
    "ftx_ccxt.fetch_partial_balance('USD')['total']"
   ]
  },
  {
   "cell_type": "code",
   "execution_count": 4,
   "metadata": {},
   "outputs": [],
   "source": [
    "# position=main.get_position('ETH-PERP',True)\n",
    "# print(main.get_conditional_orders())\n",
    "# balance=float(next(filter(lambda x:x['coin']=='USD', ShortTerm.get_balances()))['total'])\n",
    "# PnL=float(position['recentPnl'])\n",
    "# percentage_profit=(PnL/balance)*100\n",
    "# tp_amount=np.log(percentage_profit)/10\n",
    "# position_size=float(position['size'])"
   ]
  },
  {
   "cell_type": "code",
   "execution_count": 5,
   "metadata": {},
   "outputs": [],
   "source": [
    "noDecimals=np.absolute(np.log10(next(filter(lambda x:x['symbol']=='MATIC/USD', ftx_ccxt.fetch_markets()))['precision']['amount']))"
   ]
  },
  {
   "cell_type": "code",
   "execution_count": 9,
   "metadata": {},
   "outputs": [
    {
     "ename": "TypeError",
     "evalue": "'module' object is not subscriptable",
     "output_type": "error",
     "traceback": [
      "\u001b[1;31m---------------------------------------------------------------------------\u001b[0m",
      "\u001b[1;31mTypeError\u001b[0m                                 Traceback (most recent call last)",
      "\u001b[1;32m<ipython-input-9-19bc38cb7de3>\u001b[0m in \u001b[0;36m<module>\u001b[1;34m\u001b[0m\n\u001b[1;32m----> 1\u001b[1;33m \u001b[0mrob\u001b[0m \u001b[1;33m=\u001b[0m \u001b[0mccxt\u001b[0m\u001b[1;33m.\u001b[0m\u001b[0mftx\u001b[0m\u001b[1;33m(\u001b[0m\u001b[0musers\u001b[0m\u001b[1;33m[\u001b[0m\u001b[1;34m'rob'\u001b[0m\u001b[1;33m]\u001b[0m\u001b[1;33m[\u001b[0m\u001b[1;34m'exchanges'\u001b[0m\u001b[1;33m]\u001b[0m\u001b[1;33m[\u001b[0m\u001b[1;34m'ftx'\u001b[0m\u001b[1;33m]\u001b[0m\u001b[1;33m[\u001b[0m\u001b[1;34m'api'\u001b[0m\u001b[1;33m]\u001b[0m\u001b[1;33m)\u001b[0m\u001b[1;33m\u001b[0m\u001b[1;33m\u001b[0m\u001b[0m\n\u001b[0m",
      "\u001b[1;31mTypeError\u001b[0m: 'module' object is not subscriptable"
     ]
    }
   ],
   "source": [
    "rob = ccxt.ftx(users['rob']['exchanges']['ftx']['api'])"
   ]
  },
  {
   "cell_type": "code",
   "execution_count": 7,
   "metadata": {},
   "outputs": [
    {
     "name": "stdout",
     "output_type": "stream",
     "text": [
      "{'daily_buy_amount': 10, 'exchanges': {'ftx': {'symbols': ['BTC/USD', 'ETH/USD', 'SOL/USD', 'MATIC/USD'], 'api': {'apiKey': 'mFRyLR4AAhLTc5RlWov3PKTcIbMHw3vGZwiHnsrn', 'secret': 'oKaY1WEqTuhnNnq0iRi_Ry-CYckvE89-gPUPf21B', 'enableRateLimit': True}, 'header': {'FTX-SUBACCOUNT': 'Savings'}}, 'cex': {'symbols': ['ADA/USD'], 'api': {'uid': 'up109520414', 'apiKey': '1X2uEcPlvBCe4CcMtzWKguG1SDI', 'secret': '8JY4fDg6hRz0DTolZHz77XPdC1o', 'enableRateLimit': True}}}}\n",
      "{'daily_buy_amount': 10, 'exchanges': {'ftx': {'symbols': ['BTC/USD', 'ETH/USD', 'SOL/USD', 'MATIC/USD'], 'api': {'apiKey': 'mFRyLR4AAhLTc5RlWov3PKTcIbMHw3vGZwiHnsrn', 'secret': 'oKaY1WEqTuhnNnq0iRi_Ry-CYckvE89-gPUPf21B', 'enableRateLimit': True}}}}\n"
     ]
    }
   ],
   "source": [
    "def transfer_ftx_to_cex(ftx_dict: dict,cex: dict,usd_amount: float,headers: dict=None, blockchain = 'SOL'):\n",
    "    ftx = ccxt.ftx(ftx_dict)\n",
    "    ftx.password=ftx_dict['password']\n",
    "    cex = ccxt.cex(cex)\n",
    "    if headers != None:\n",
    "        ftx.headers = headers\n",
    "    symbol=blockchain+'/'+'USD'\n",
    "    current_price=price.get_current_price(symbol)\n",
    "    amount = usd_amount/current_price\n",
    "    noDecimals=int(np.absolute(np.log10(next(filter(lambda x:x['symbol']==symbol, ftx.fetch_markets()))['precision']['amount'])))\n",
    "    amount_to_buy = round(amount,noDecimals)\n",
    "    deposit_address = cex.fetchDepositAddress(blockchain)\n",
    "    # ftx.createMarketBuyOrder(symbol='SOL/USD', amount=amount_to_buy)\n",
    "    ftx.withdraw(code=blockchain, amount=amount_to_buy, address=deposit_address['address'])\n",
    "    \n",
    "\n",
    "my_ftx = {\n",
    "    'apiKey': 'mFRyLR4AAhLTc5RlWov3PKTcIbMHw3vGZwiHnsrn',\n",
    "    'secret': 'oKaY1WEqTuhnNnq0iRi_Ry-CYckvE89-gPUPf21B',\n",
    "    'enableRateLimit': True,\n",
    "    'password': 'Ev443978??'\n",
    "}\n",
    "\n",
    "my_cex = {\n",
    "    'uid' : 'up109520414',\n",
    "    'apiKey': '1X2uEcPlvBCe4CcMtzWKguG1SDI',\n",
    "    'secret': '8JY4fDg6hRz0DTolZHz77XPdC1o',\n",
    "    'enableRateLimit': True,\n",
    "}\n",
    "\n",
    "my_savings = {'FTX-SUBACCOUNT':'Savings'}\n",
    "# transfer_ftx_to_cex(my_ftx,my_cex,50, my_savings)\n",
    "\n",
    "users_=users\n",
    "for key in users_:\n",
    "    print(users_[key])"
   ]
  }
 ],
 "metadata": {
  "interpreter": {
   "hash": "57137cf68fa83062c029c49015c3b482b5148bfe1829be2dc6f144850d51c7f7"
  },
  "kernelspec": {
   "display_name": "Python 3.9.7 64-bit ('saturn': conda)",
   "name": "python3"
  },
  "language_info": {
   "codemirror_mode": {
    "name": "ipython",
    "version": 3
   },
   "file_extension": ".py",
   "mimetype": "text/x-python",
   "name": "python",
   "nbconvert_exporter": "python",
   "pygments_lexer": "ipython3",
   "version": "3.9.7"
  },
  "orig_nbformat": 4
 },
 "nbformat": 4,
 "nbformat_minor": 2
}
