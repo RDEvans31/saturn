{
 "cells": [
  {
   "cell_type": "code",
   "execution_count": 1,
   "source": [
    "import ccxt\r\n",
    "import price_data as price\r\n",
    "import chart\r\n",
    "import time\r\n",
    "import schedule\r\n",
    "import numpy as np\r\n",
    "from datetime import datetime\r\n",
    "from ftx_client import FtxClient\r\n",
    "\r\n",
    "ftx_ccxt = ccxt.ftx({\r\n",
    "    'apiKey': 'mFRyLR4AAhLTc5RlWov3PKTcIbMHw3vGZwiHnsrn',\r\n",
    "    'secret': 'oKaY1WEqTuhnNnq0iRi_Ry-CYckvE89-gPUPf21B',\r\n",
    "    'enableRateLimit': True,\r\n",
    "})\r\n",
    "\r\n",
    "# ftx_ccxt.headers = {'FTX-SUBACCOUNT':'MeanReversion'}\r\n",
    "\r\n",
    "main=FtxClient(api_key='mFRyLR4AAhLTc5RlWov3PKTcIbMHw3vGZwiHnsrn',api_secret='oKaY1WEqTuhnNnq0iRi_Ry-CYckvE89-gPUPf21B')\r\n",
    "Savings=FtxClient(api_key='mFRyLR4AAhLTc5RlWov3PKTcIbMHw3vGZwiHnsrn',api_secret='oKaY1WEqTuhnNnq0iRi_Ry-CYckvE89-gPUPf21B',subaccount_name='Savings')\r\n",
    "MeanReversion=FtxClient(api_key='mFRyLR4AAhLTc5RlWov3PKTcIbMHw3vGZwiHnsrn',api_secret='oKaY1WEqTuhnNnq0iRi_Ry-CYckvE89-gPUPf21B',subaccount_name='MeanReversion')"
   ],
   "outputs": [],
   "metadata": {}
  },
  {
   "cell_type": "code",
   "execution_count": 27,
   "source": [
    "import price_data as price\r\n",
    "import chart\r\n",
    "import pandas as pd\r\n",
    "import numpy as np\r\n",
    "import ccxt\r\n",
    "from datetime import datetime\r\n",
    "\r\n",
    "from ftx_client import FtxClient\r\n",
    "\r\n",
    "ftx_ccxt = ccxt.ftx({\r\n",
    "    'apiKey': 'mFRyLR4AAhLTc5RlWov3PKTcIbMHw3vGZwiHnsrn',\r\n",
    "    'secret': 'oKaY1WEqTuhnNnq0iRi_Ry-CYckvE89-gPUPf21B',\r\n",
    "    'enableRateLimit': True,\r\n",
    "})\r\n",
    "cex= ccxt.cex({\r\n",
    "    'uid' : 'up109520414',\r\n",
    "    'apiKey': 'Kn1RVH1X4TbIKX2usChMkQEXf10',\r\n",
    "    'secret': 'bkksHHNIh9LgmFi8vZCInMIEWqc',\r\n",
    "    'enableRateLimit': True,\r\n",
    "    })\r\n",
    "\r\n",
    "ftx_ccxt.headers = {'FTX-SUBACCOUNT':'Savings'}\r\n",
    "\r\n",
    "main=FtxClient(api_key='mFRyLR4AAhLTc5RlWov3PKTcIbMHw3vGZwiHnsrn',api_secret='oKaY1WEqTuhnNnq0iRi_Ry-CYckvE89-gPUPf21B')\r\n",
    "Savings=FtxClient(api_key='mFRyLR4AAhLTc5RlWov3PKTcIbMHw3vGZwiHnsrn',api_secret='oKaY1WEqTuhnNnq0iRi_Ry-CYckvE89-gPUPf21B',subaccount_name='Savings')\r\n",
    "ShortTerm=FtxClient(api_key='mFRyLR4AAhLTc5RlWov3PKTcIbMHw3vGZwiHnsrn',api_secret='oKaY1WEqTuhnNnq0iRi_Ry-CYckvE89-gPUPf21B',subaccount_name='Minute_MeanReversion')\r\n",
    "\r\n",
    "def get_limit(symbol, markets):\r\n",
    "    return float(next(filter(lambda x:x['symbol']==symbol, markets))['limits']['amount']['min'])\r\n"
   ],
   "outputs": [],
   "metadata": {}
  },
  {
   "cell_type": "code",
   "execution_count": 29,
   "source": [
    "markets=ftx_ccxt.fetch_markets()\r\n",
    "get_limit('ETH/USD', markets)"
   ],
   "outputs": [
    {
     "output_type": "execute_result",
     "data": {
      "text/plain": [
       "0.001"
      ]
     },
     "metadata": {},
     "execution_count": 29
    }
   ],
   "metadata": {}
  },
  {
   "cell_type": "code",
   "execution_count": 3,
   "source": [
    "position=main.get_position('ETH-PERP',True)\r\n",
    "print(main.get_conditional_orders())\r\n",
    "balance=float(next(filter(lambda x:x['coin']=='USD', ShortTerm.get_balances()))['total'])\r\n",
    "PnL=float(position['recentPnl'])\r\n",
    "percentage_profit=(PnL/balance)*100\r\n",
    "tp_amount=np.log(percentage_profit)/10\r\n",
    "position_size=float(position['size'])\r\n",
    "main.cancel_orders('ETH-PERP')"
   ],
   "outputs": [
    {
     "output_type": "stream",
     "name": "stdout",
     "text": [
      "[]\n"
     ]
    },
    {
     "output_type": "error",
     "ename": "TypeError",
     "evalue": "float() argument must be a string or a number, not 'NoneType'",
     "traceback": [
      "\u001b[1;31m---------------------------------------------------------------------------\u001b[0m",
      "\u001b[1;31mTypeError\u001b[0m                                 Traceback (most recent call last)",
      "\u001b[1;32m<ipython-input-3-b7e16a1bcf86>\u001b[0m in \u001b[0;36m<module>\u001b[1;34m\u001b[0m\n\u001b[0;32m      2\u001b[0m \u001b[0mprint\u001b[0m\u001b[1;33m(\u001b[0m\u001b[0mmain\u001b[0m\u001b[1;33m.\u001b[0m\u001b[0mget_conditional_orders\u001b[0m\u001b[1;33m(\u001b[0m\u001b[1;33m)\u001b[0m\u001b[1;33m)\u001b[0m\u001b[1;33m\u001b[0m\u001b[1;33m\u001b[0m\u001b[0m\n\u001b[0;32m      3\u001b[0m \u001b[0mbalance\u001b[0m\u001b[1;33m=\u001b[0m\u001b[0mfloat\u001b[0m\u001b[1;33m(\u001b[0m\u001b[0mnext\u001b[0m\u001b[1;33m(\u001b[0m\u001b[0mfilter\u001b[0m\u001b[1;33m(\u001b[0m\u001b[1;32mlambda\u001b[0m \u001b[0mx\u001b[0m\u001b[1;33m:\u001b[0m\u001b[0mx\u001b[0m\u001b[1;33m[\u001b[0m\u001b[1;34m'coin'\u001b[0m\u001b[1;33m]\u001b[0m\u001b[1;33m==\u001b[0m\u001b[1;34m'USD'\u001b[0m\u001b[1;33m,\u001b[0m \u001b[0mShortTerm\u001b[0m\u001b[1;33m.\u001b[0m\u001b[0mget_balances\u001b[0m\u001b[1;33m(\u001b[0m\u001b[1;33m)\u001b[0m\u001b[1;33m)\u001b[0m\u001b[1;33m)\u001b[0m\u001b[1;33m[\u001b[0m\u001b[1;34m'total'\u001b[0m\u001b[1;33m]\u001b[0m\u001b[1;33m)\u001b[0m\u001b[1;33m\u001b[0m\u001b[1;33m\u001b[0m\u001b[0m\n\u001b[1;32m----> 4\u001b[1;33m \u001b[0mPnL\u001b[0m\u001b[1;33m=\u001b[0m\u001b[0mfloat\u001b[0m\u001b[1;33m(\u001b[0m\u001b[0mposition\u001b[0m\u001b[1;33m[\u001b[0m\u001b[1;34m'recentPnl'\u001b[0m\u001b[1;33m]\u001b[0m\u001b[1;33m)\u001b[0m\u001b[1;33m\u001b[0m\u001b[1;33m\u001b[0m\u001b[0m\n\u001b[0m\u001b[0;32m      5\u001b[0m \u001b[0mpercentage_profit\u001b[0m\u001b[1;33m=\u001b[0m\u001b[1;33m(\u001b[0m\u001b[0mPnL\u001b[0m\u001b[1;33m/\u001b[0m\u001b[0mbalance\u001b[0m\u001b[1;33m)\u001b[0m\u001b[1;33m*\u001b[0m\u001b[1;36m100\u001b[0m\u001b[1;33m\u001b[0m\u001b[1;33m\u001b[0m\u001b[0m\n\u001b[0;32m      6\u001b[0m \u001b[0mtp_amount\u001b[0m\u001b[1;33m=\u001b[0m\u001b[0mnp\u001b[0m\u001b[1;33m.\u001b[0m\u001b[0mlog\u001b[0m\u001b[1;33m(\u001b[0m\u001b[0mpercentage_profit\u001b[0m\u001b[1;33m)\u001b[0m\u001b[1;33m/\u001b[0m\u001b[1;36m10\u001b[0m\u001b[1;33m\u001b[0m\u001b[1;33m\u001b[0m\u001b[0m\n",
      "\u001b[1;31mTypeError\u001b[0m: float() argument must be a string or a number, not 'NoneType'"
     ]
    }
   ],
   "metadata": {}
  },
  {
   "cell_type": "code",
   "execution_count": 8,
   "source": [
    "next(filter(lambda x:x['symbol']=='ETH/USD', ftx_ccxt.fetch_markets()))['limits']['amount']['min']"
   ],
   "outputs": [
    {
     "output_type": "execute_result",
     "data": {
      "text/plain": [
       "0.001"
      ]
     },
     "metadata": {},
     "execution_count": 8
    }
   ],
   "metadata": {}
  },
  {
   "cell_type": "code",
   "execution_count": null,
   "source": [
    "balance=float(next(filter(lambda x : x['coin']=='USD',Savings.get_balances()))['free'])\r\n",
    "Savings._post('subaccounts/transfer',{\r\n",
    "  \"coin\": \"USD\",\r\n",
    "  \"size\": balance,\r\n",
    "  \"source\": 'Savings',\r\n",
    "  \"destination\": \"MeanReversion\",\r\n",
    "})"
   ],
   "outputs": [],
   "metadata": {}
  },
  {
   "cell_type": "code",
   "execution_count": 26,
   "source": [
    "string='BTC/USD'\r\n",
    "string.split('/')[0]\r\n",
    "Savings.get_balances()"
   ],
   "outputs": [
    {
     "output_type": "execute_result",
     "data": {
      "text/plain": [
       "[{'coin': 'ETHBEAR',\n",
       "  'total': 0.0,\n",
       "  'free': 0.0,\n",
       "  'availableWithoutBorrow': 0.0,\n",
       "  'usdValue': 0.0,\n",
       "  'spotBorrow': 0.0},\n",
       " {'coin': 'BEAR',\n",
       "  'total': 0.0,\n",
       "  'free': 0.0,\n",
       "  'availableWithoutBorrow': 0.0,\n",
       "  'usdValue': 0.0,\n",
       "  'spotBorrow': 0.0},\n",
       " {'coin': 'USD',\n",
       "  'total': 4177.97257653,\n",
       "  'free': 1245.50323685,\n",
       "  'availableWithoutBorrow': 1177.97257653,\n",
       "  'usdValue': 4177.972576537225,\n",
       "  'spotBorrow': 0.0},\n",
       " {'coin': 'ADABULL',\n",
       "  'total': 0.0,\n",
       "  'free': 0.0,\n",
       "  'availableWithoutBorrow': 0.0,\n",
       "  'usdValue': 0.0,\n",
       "  'spotBorrow': 0.0},\n",
       " {'coin': 'ETH',\n",
       "  'total': 0.0,\n",
       "  'free': 0.27400285,\n",
       "  'availableWithoutBorrow': 0.0,\n",
       "  'usdValue': 0.0,\n",
       "  'spotBorrow': 0.0},\n",
       " {'coin': 'USDT',\n",
       "  'total': 0.0,\n",
       "  'free': 1109.50689739,\n",
       "  'availableWithoutBorrow': 0.0,\n",
       "  'usdValue': 0.0,\n",
       "  'spotBorrow': 0.0},\n",
       " {'coin': 'SOL',\n",
       "  'total': 0.0,\n",
       "  'free': 7.3589318,\n",
       "  'availableWithoutBorrow': 0.0,\n",
       "  'usdValue': 0.0,\n",
       "  'spotBorrow': 0.0},\n",
       " {'coin': 'DOGE',\n",
       "  'total': 0.0,\n",
       "  'free': 3599.18761335,\n",
       "  'availableWithoutBorrow': 0.0,\n",
       "  'usdValue': 0.0,\n",
       "  'spotBorrow': 0.0},\n",
       " {'coin': 'FTT',\n",
       "  'total': 0.0,\n",
       "  'free': 0.0,\n",
       "  'availableWithoutBorrow': 0.0,\n",
       "  'usdValue': 0.0,\n",
       "  'spotBorrow': 0.0},\n",
       " {'coin': 'BNB',\n",
       "  'total': 0.0,\n",
       "  'free': 2.19631668,\n",
       "  'availableWithoutBorrow': 0.0,\n",
       "  'usdValue': 4.9241263198e-07,\n",
       "  'spotBorrow': 0.0},\n",
       " {'coin': 'BTC',\n",
       "  'total': 0.00149995,\n",
       "  'free': 0.02205577,\n",
       "  'availableWithoutBorrow': 0.00149995,\n",
       "  'usdValue': 76.18868298469889,\n",
       "  'spotBorrow': 0.0},\n",
       " {'coin': 'GBP',\n",
       "  'total': 0.0,\n",
       "  'free': 813.74055783,\n",
       "  'availableWithoutBorrow': 0.0,\n",
       "  'usdValue': 8.06690757e-09,\n",
       "  'spotBorrow': 0.0}]"
      ]
     },
     "metadata": {},
     "execution_count": 26
    }
   ],
   "metadata": {}
  },
  {
   "cell_type": "code",
   "execution_count": null,
   "source": [
    "next(filter(lambda x:x['coin']=='USD', main.get_balances()))['total']"
   ],
   "outputs": [],
   "metadata": {}
  }
 ],
 "metadata": {
  "orig_nbformat": 4,
  "language_info": {
   "name": "python",
   "version": "3.9.5",
   "mimetype": "text/x-python",
   "codemirror_mode": {
    "name": "ipython",
    "version": 3
   },
   "pygments_lexer": "ipython3",
   "nbconvert_exporter": "python",
   "file_extension": ".py"
  },
  "kernelspec": {
   "name": "python3",
   "display_name": "Python 3.9.5 64-bit"
  },
  "interpreter": {
   "hash": "976a7013ae9b6375dd3b6fd8012ded46dcef65ed674c8a499dd2f473ac3f0d66"
  }
 },
 "nbformat": 4,
 "nbformat_minor": 2
}