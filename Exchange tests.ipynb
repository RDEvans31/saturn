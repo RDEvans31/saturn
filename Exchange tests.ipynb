{
 "cells": [
  {
   "cell_type": "code",
   "execution_count": 37,
   "source": [
    "import ccxt\r\n",
    "import price_data as price\r\n",
    "import chart\r\n",
    "import time\r\n",
    "import schedule\r\n",
    "import numpy as np\r\n",
    "from datetime import datetime\r\n",
    "from ftx_client import FtxClient\r\n",
    "\r\n",
    "ftx_ccxt = ccxt.ftx({\r\n",
    "    'apiKey': 'mFRyLR4AAhLTc5RlWov3PKTcIbMHw3vGZwiHnsrn',\r\n",
    "    'secret': 'oKaY1WEqTuhnNnq0iRi_Ry-CYckvE89-gPUPf21B',\r\n",
    "    'enableRateLimit': True,\r\n",
    "})\r\n",
    "\r\n",
    "# ftx_ccxt.headers = {'FTX-SUBACCOUNT':'MeanReversion'}\r\n",
    "\r\n",
    "main=FtxClient(api_key='mFRyLR4AAhLTc5RlWov3PKTcIbMHw3vGZwiHnsrn',api_secret='oKaY1WEqTuhnNnq0iRi_Ry-CYckvE89-gPUPf21B')\r\n",
    "Savings=FtxClient(api_key='mFRyLR4AAhLTc5RlWov3PKTcIbMHw3vGZwiHnsrn',api_secret='oKaY1WEqTuhnNnq0iRi_Ry-CYckvE89-gPUPf21B',subaccount_name='Savings')\r\n",
    "MeanReversion=FtxClient(api_key='mFRyLR4AAhLTc5RlWov3PKTcIbMHw3vGZwiHnsrn',api_secret='oKaY1WEqTuhnNnq0iRi_Ry-CYckvE89-gPUPf21B',subaccount_name='MeanReversion')"
   ],
   "outputs": [],
   "metadata": {}
  },
  {
   "cell_type": "code",
   "execution_count": 38,
   "source": [
    "next(filter(lambda x: x['future']=='ETH-PERP',ftx_ccxt.fetch_positions()))"
   ],
   "outputs": [
    {
     "output_type": "execute_result",
     "data": {
      "text/plain": [
       "{'future': 'ETH-PERP',\n",
       " 'size': '0.466',\n",
       " 'side': 'buy',\n",
       " 'netSize': '0.466',\n",
       " 'longOrderSize': '0.0',\n",
       " 'shortOrderSize': '0.0',\n",
       " 'cost': '990.6228',\n",
       " 'entryPrice': '2125.8',\n",
       " 'unrealizedPnl': '0.0',\n",
       " 'realizedPnl': '-17.28490821',\n",
       " 'initialMarginRequirement': '0.33333333',\n",
       " 'maintenanceMarginRequirement': '0.03',\n",
       " 'openSize': '0.466',\n",
       " 'collateralUsed': '330.207596697924',\n",
       " 'estimatedLiquidationPrice': '766.9702791262823'}"
      ]
     },
     "metadata": {},
     "execution_count": 38
    }
   ],
   "metadata": {}
  },
  {
   "cell_type": "code",
   "execution_count": 59,
   "source": [
    "position=main.get_position('ETH-PERP',True)\r\n",
    "\r\n",
    "position"
   ],
   "outputs": [
    {
     "output_type": "execute_result",
     "data": {
      "text/plain": [
       "{'future': 'ETH-PERP',\n",
       " 'size': 0.375,\n",
       " 'side': 'buy',\n",
       " 'netSize': 0.375,\n",
       " 'longOrderSize': 0.0,\n",
       " 'shortOrderSize': 0.0,\n",
       " 'cost': 878.7375,\n",
       " 'entryPrice': 2343.3,\n",
       " 'unrealizedPnl': 0.0,\n",
       " 'realizedPnl': 81.55321858,\n",
       " 'initialMarginRequirement': 0.33333333,\n",
       " 'maintenanceMarginRequirement': 0.03,\n",
       " 'openSize': 0.375,\n",
       " 'collateralUsed': 292.912497070875,\n",
       " 'estimatedLiquidationPrice': 377.6835358315569,\n",
       " 'recentAverageOpenPrice': 2140.9,\n",
       " 'recentPnl': 91.8043,\n",
       " 'recentBreakEvenPrice': 2098.488533333333,\n",
       " 'cumulativeBuySize': 0.466,\n",
       " 'cumulativeSellSize': 0.091}"
      ]
     },
     "metadata": {},
     "execution_count": 59
    }
   ],
   "metadata": {}
  },
  {
   "cell_type": "code",
   "execution_count": 16,
   "source": [
    "balance=float(next(filter(lambda x : x['coin']=='USD',Savings.get_balances()))['free'])\r\n",
    "Savings._post('subaccounts/transfer',{\r\n",
    "  \"coin\": \"USD\",\r\n",
    "  \"size\": balance,\r\n",
    "  \"source\": 'Savings',\r\n",
    "  \"destination\": \"MeanReversion\",\r\n",
    "})"
   ],
   "outputs": [
    {
     "output_type": "execute_result",
     "data": {
      "text/plain": [
       "{'id': 13954749,\n",
       " 'coin': 'USD',\n",
       " 'size': 215.72174781,\n",
       " 'time': '2021-07-23T11:11:16.726267+00:00',\n",
       " 'notes': 'Transfer from Savings to MeanReversion',\n",
       " 'status': 'complete'}"
      ]
     },
     "metadata": {},
     "execution_count": 16
    }
   ],
   "metadata": {}
  },
  {
   "cell_type": "code",
   "execution_count": 26,
   "source": [
    "MeanReversion.place_conditional_order('ETH-PERP','sell',0.05,'stop',limit_price=1800,trigger_price=1800)\r\n"
   ],
   "outputs": [
    {
     "output_type": "execute_result",
     "data": {
      "text/plain": [
       "{'id': 60960036,\n",
       " 'market': 'ETH-PERP',\n",
       " 'future': 'ETH-PERP',\n",
       " 'side': 'sell',\n",
       " 'type': 'stop',\n",
       " 'orderPrice': 1800.0,\n",
       " 'triggerPrice': 1800.0,\n",
       " 'size': 0.05,\n",
       " 'status': 'open',\n",
       " 'createdAt': '2021-07-23T11:32:58.069339+00:00',\n",
       " 'triggeredAt': None,\n",
       " 'orderId': None,\n",
       " 'error': None,\n",
       " 'reduceOnly': False,\n",
       " 'trailValue': None,\n",
       " 'trailStart': None,\n",
       " 'cancelledAt': None,\n",
       " 'cancelReason': None,\n",
       " 'retryUntilFilled': False,\n",
       " 'orderType': 'limit'}"
      ]
     },
     "metadata": {},
     "execution_count": 26
    }
   ],
   "metadata": {}
  },
  {
   "cell_type": "code",
   "execution_count": 30,
   "source": [
    "float(next(filter(lambda x:x['coin']=='USD',main.get_balances()))['free'])*1.5"
   ],
   "outputs": [
    {
     "output_type": "execute_result",
     "data": {
      "text/plain": [
       "997.7755117949999"
      ]
     },
     "metadata": {},
     "execution_count": 30
    }
   ],
   "metadata": {}
  }
 ],
 "metadata": {
  "orig_nbformat": 4,
  "language_info": {
   "name": "python",
   "version": "3.9.5",
   "mimetype": "text/x-python",
   "codemirror_mode": {
    "name": "ipython",
    "version": 3
   },
   "pygments_lexer": "ipython3",
   "nbconvert_exporter": "python",
   "file_extension": ".py"
  },
  "kernelspec": {
   "name": "python3",
   "display_name": "Python 3.9.5 64-bit"
  },
  "interpreter": {
   "hash": "976a7013ae9b6375dd3b6fd8012ded46dcef65ed674c8a499dd2f473ac3f0d66"
  }
 },
 "nbformat": 4,
 "nbformat_minor": 2
}