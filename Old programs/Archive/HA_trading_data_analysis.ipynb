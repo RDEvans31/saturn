{
 "cells": [
  {
   "cell_type": "code",
   "execution_count": 1,
   "metadata": {},
   "outputs": [],
   "source": [
    "import pandas as pd\n",
    "from scipy.interpolate import interp1d\n",
    "from scipy.stats import norm\n",
    "import numpy as np\n",
    "import matplotlib.pyplot as plt\n",
    "%matplotlib inline\n",
    "import price_data as price\n",
    "import mplfinance as mpf\n",
    "import matplotlib.dates as mpl_dates\n",
    "import chart\n",
    "\n",
    "crypto=price.get_price_data('1d', symbol='ETH/USD')"
   ]
  },
  {
   "cell_type": "markdown",
   "metadata": {},
   "source": [
    "# Creating Heikin Ashi candles\n",
    "First we must download the candlestick data"
   ]
  },
  {
   "cell_type": "code",
   "execution_count": 2,
   "metadata": {},
   "outputs": [
    {
     "data": {
      "text/html": [
       "<div>\n",
       "<style scoped>\n",
       "    .dataframe tbody tr th:only-of-type {\n",
       "        vertical-align: middle;\n",
       "    }\n",
       "\n",
       "    .dataframe tbody tr th {\n",
       "        vertical-align: top;\n",
       "    }\n",
       "\n",
       "    .dataframe thead th {\n",
       "        text-align: right;\n",
       "    }\n",
       "</style>\n",
       "<table border=\"1\" class=\"dataframe\">\n",
       "  <thead>\n",
       "    <tr style=\"text-align: right;\">\n",
       "      <th></th>\n",
       "      <th>unix</th>\n",
       "      <th>close</th>\n",
       "      <th>high</th>\n",
       "      <th>low</th>\n",
       "      <th>open</th>\n",
       "    </tr>\n",
       "  </thead>\n",
       "  <tbody>\n",
       "    <tr>\n",
       "      <th>0</th>\n",
       "      <td>1568592000000</td>\n",
       "      <td>210.98</td>\n",
       "      <td>224.26</td>\n",
       "      <td>188.37</td>\n",
       "      <td>189.26</td>\n",
       "    </tr>\n",
       "    <tr>\n",
       "      <th>1</th>\n",
       "      <td>1569196800000</td>\n",
       "      <td>169.39</td>\n",
       "      <td>211.56</td>\n",
       "      <td>152.21</td>\n",
       "      <td>211.13</td>\n",
       "    </tr>\n",
       "    <tr>\n",
       "      <th>2</th>\n",
       "      <td>1569801600000</td>\n",
       "      <td>170.07</td>\n",
       "      <td>185.70</td>\n",
       "      <td>145.00</td>\n",
       "      <td>169.39</td>\n",
       "    </tr>\n",
       "    <tr>\n",
       "      <th>3</th>\n",
       "      <td>1570406400000</td>\n",
       "      <td>181.03</td>\n",
       "      <td>197.35</td>\n",
       "      <td>168.64</td>\n",
       "      <td>170.10</td>\n",
       "    </tr>\n",
       "    <tr>\n",
       "      <th>4</th>\n",
       "      <td>1571011200000</td>\n",
       "      <td>175.47</td>\n",
       "      <td>188.45</td>\n",
       "      <td>168.46</td>\n",
       "      <td>181.03</td>\n",
       "    </tr>\n",
       "    <tr>\n",
       "      <th>...</th>\n",
       "      <td>...</td>\n",
       "      <td>...</td>\n",
       "      <td>...</td>\n",
       "      <td>...</td>\n",
       "      <td>...</td>\n",
       "    </tr>\n",
       "    <tr>\n",
       "      <th>158</th>\n",
       "      <td>1664150400000</td>\n",
       "      <td>1276.70</td>\n",
       "      <td>1400.40</td>\n",
       "      <td>1254.00</td>\n",
       "      <td>1294.40</td>\n",
       "    </tr>\n",
       "    <tr>\n",
       "      <th>159</th>\n",
       "      <td>1664755200000</td>\n",
       "      <td>1323.40</td>\n",
       "      <td>1384.00</td>\n",
       "      <td>1262.80</td>\n",
       "      <td>1276.70</td>\n",
       "    </tr>\n",
       "    <tr>\n",
       "      <th>160</th>\n",
       "      <td>1665360000000</td>\n",
       "      <td>1305.80</td>\n",
       "      <td>1343.40</td>\n",
       "      <td>1189.00</td>\n",
       "      <td>1323.50</td>\n",
       "    </tr>\n",
       "    <tr>\n",
       "      <th>161</th>\n",
       "      <td>1665964800000</td>\n",
       "      <td>1364.30</td>\n",
       "      <td>1371.40</td>\n",
       "      <td>1252.20</td>\n",
       "      <td>1305.80</td>\n",
       "    </tr>\n",
       "    <tr>\n",
       "      <th>162</th>\n",
       "      <td>1666569600000</td>\n",
       "      <td>1544.80</td>\n",
       "      <td>1596.00</td>\n",
       "      <td>1323.80</td>\n",
       "      <td>1364.30</td>\n",
       "    </tr>\n",
       "  </tbody>\n",
       "</table>\n",
       "<p>163 rows × 5 columns</p>\n",
       "</div>"
      ],
      "text/plain": [
       "              unix    close     high      low     open\n",
       "0    1568592000000   210.98   224.26   188.37   189.26\n",
       "1    1569196800000   169.39   211.56   152.21   211.13\n",
       "2    1569801600000   170.07   185.70   145.00   169.39\n",
       "3    1570406400000   181.03   197.35   168.64   170.10\n",
       "4    1571011200000   175.47   188.45   168.46   181.03\n",
       "..             ...      ...      ...      ...      ...\n",
       "158  1664150400000  1276.70  1400.40  1254.00  1294.40\n",
       "159  1664755200000  1323.40  1384.00  1262.80  1276.70\n",
       "160  1665360000000  1305.80  1343.40  1189.00  1323.50\n",
       "161  1665964800000  1364.30  1371.40  1252.20  1305.80\n",
       "162  1666569600000  1544.80  1596.00  1323.80  1364.30\n",
       "\n",
       "[163 rows x 5 columns]"
      ]
     },
     "execution_count": 2,
     "metadata": {},
     "output_type": "execute_result"
    }
   ],
   "source": [
    "crypto[\"Date\"] = pd.to_datetime(crypto[\"unix\"], unit=\"ms\")\n",
    "weekly_candles_original=price.get_price_data('1w',data=crypto, offset=0)\n",
    "weekly_candles = weekly_candles_original.copy()\n",
    "weekly_candles[\"Date\"] = pd.to_datetime(weekly_candles[\"unix\"], unit=\"ms\")\n",
    "weekly_candles.columns = ['Unix', 'Close', 'High', 'Low', 'Open', 'Date']\n",
    "weekly_candles.set_index('Date', inplace=True)\n",
    "weekly_candles_original"
   ]
  },
  {
   "cell_type": "code",
   "execution_count": 3,
   "metadata": {},
   "outputs": [
    {
     "data": {
      "text/html": [
       "<div>\n",
       "<style scoped>\n",
       "    .dataframe tbody tr th:only-of-type {\n",
       "        vertical-align: middle;\n",
       "    }\n",
       "\n",
       "    .dataframe tbody tr th {\n",
       "        vertical-align: top;\n",
       "    }\n",
       "\n",
       "    .dataframe thead th {\n",
       "        text-align: right;\n",
       "    }\n",
       "</style>\n",
       "<table border=\"1\" class=\"dataframe\">\n",
       "  <thead>\n",
       "    <tr style=\"text-align: right;\">\n",
       "      <th></th>\n",
       "      <th>unix</th>\n",
       "      <th>close</th>\n",
       "      <th>high</th>\n",
       "      <th>low</th>\n",
       "      <th>open</th>\n",
       "      <th>Date</th>\n",
       "    </tr>\n",
       "  </thead>\n",
       "  <tbody>\n",
       "    <tr>\n",
       "      <th>0</th>\n",
       "      <td>1568419200000</td>\n",
       "      <td>188.76</td>\n",
       "      <td>189.19</td>\n",
       "      <td>180.39</td>\n",
       "      <td>181.565</td>\n",
       "      <td>2019-09-14</td>\n",
       "    </tr>\n",
       "    <tr>\n",
       "      <th>1</th>\n",
       "      <td>1568505600000</td>\n",
       "      <td>189.26</td>\n",
       "      <td>190.86</td>\n",
       "      <td>186.21</td>\n",
       "      <td>188.760</td>\n",
       "      <td>2019-09-15</td>\n",
       "    </tr>\n",
       "    <tr>\n",
       "      <th>2</th>\n",
       "      <td>1568592000000</td>\n",
       "      <td>197.70</td>\n",
       "      <td>199.39</td>\n",
       "      <td>188.37</td>\n",
       "      <td>189.260</td>\n",
       "      <td>2019-09-16</td>\n",
       "    </tr>\n",
       "    <tr>\n",
       "      <th>3</th>\n",
       "      <td>1568678400000</td>\n",
       "      <td>207.93</td>\n",
       "      <td>215.06</td>\n",
       "      <td>196.20</td>\n",
       "      <td>197.710</td>\n",
       "      <td>2019-09-17</td>\n",
       "    </tr>\n",
       "    <tr>\n",
       "      <th>4</th>\n",
       "      <td>1568764800000</td>\n",
       "      <td>210.11</td>\n",
       "      <td>217.12</td>\n",
       "      <td>207.76</td>\n",
       "      <td>207.830</td>\n",
       "      <td>2019-09-18</td>\n",
       "    </tr>\n",
       "    <tr>\n",
       "      <th>...</th>\n",
       "      <td>...</td>\n",
       "      <td>...</td>\n",
       "      <td>...</td>\n",
       "      <td>...</td>\n",
       "      <td>...</td>\n",
       "      <td>...</td>\n",
       "    </tr>\n",
       "    <tr>\n",
       "      <th>1135</th>\n",
       "      <td>1666483200000</td>\n",
       "      <td>1364.30</td>\n",
       "      <td>1371.40</td>\n",
       "      <td>1299.30</td>\n",
       "      <td>1314.000</td>\n",
       "      <td>2022-10-23</td>\n",
       "    </tr>\n",
       "    <tr>\n",
       "      <th>1136</th>\n",
       "      <td>1666569600000</td>\n",
       "      <td>1343.80</td>\n",
       "      <td>1370.70</td>\n",
       "      <td>1323.80</td>\n",
       "      <td>1364.300</td>\n",
       "      <td>2022-10-24</td>\n",
       "    </tr>\n",
       "    <tr>\n",
       "      <th>1137</th>\n",
       "      <td>1666656000000</td>\n",
       "      <td>1460.20</td>\n",
       "      <td>1526.20</td>\n",
       "      <td>1335.00</td>\n",
       "      <td>1343.800</td>\n",
       "      <td>2022-10-25</td>\n",
       "    </tr>\n",
       "    <tr>\n",
       "      <th>1138</th>\n",
       "      <td>1666742400000</td>\n",
       "      <td>1566.80</td>\n",
       "      <td>1596.00</td>\n",
       "      <td>1457.90</td>\n",
       "      <td>1460.200</td>\n",
       "      <td>2022-10-26</td>\n",
       "    </tr>\n",
       "    <tr>\n",
       "      <th>1139</th>\n",
       "      <td>1666828800000</td>\n",
       "      <td>1544.80</td>\n",
       "      <td>1578.40</td>\n",
       "      <td>1531.00</td>\n",
       "      <td>1566.800</td>\n",
       "      <td>2022-10-27</td>\n",
       "    </tr>\n",
       "  </tbody>\n",
       "</table>\n",
       "<p>1140 rows × 6 columns</p>\n",
       "</div>"
      ],
      "text/plain": [
       "               unix    close     high      low      open       Date\n",
       "0     1568419200000   188.76   189.19   180.39   181.565 2019-09-14\n",
       "1     1568505600000   189.26   190.86   186.21   188.760 2019-09-15\n",
       "2     1568592000000   197.70   199.39   188.37   189.260 2019-09-16\n",
       "3     1568678400000   207.93   215.06   196.20   197.710 2019-09-17\n",
       "4     1568764800000   210.11   217.12   207.76   207.830 2019-09-18\n",
       "...             ...      ...      ...      ...       ...        ...\n",
       "1135  1666483200000  1364.30  1371.40  1299.30  1314.000 2022-10-23\n",
       "1136  1666569600000  1343.80  1370.70  1323.80  1364.300 2022-10-24\n",
       "1137  1666656000000  1460.20  1526.20  1335.00  1343.800 2022-10-25\n",
       "1138  1666742400000  1566.80  1596.00  1457.90  1460.200 2022-10-26\n",
       "1139  1666828800000  1544.80  1578.40  1531.00  1566.800 2022-10-27\n",
       "\n",
       "[1140 rows x 6 columns]"
      ]
     },
     "execution_count": 3,
     "metadata": {},
     "output_type": "execute_result"
    }
   ],
   "source": [
    "crypto"
   ]
  },
  {
   "cell_type": "code",
   "execution_count": 4,
   "metadata": {},
   "outputs": [
    {
     "data": {
      "text/html": [
       "<div>\n",
       "<style scoped>\n",
       "    .dataframe tbody tr th:only-of-type {\n",
       "        vertical-align: middle;\n",
       "    }\n",
       "\n",
       "    .dataframe tbody tr th {\n",
       "        vertical-align: top;\n",
       "    }\n",
       "\n",
       "    .dataframe thead th {\n",
       "        text-align: right;\n",
       "    }\n",
       "</style>\n",
       "<table border=\"1\" class=\"dataframe\">\n",
       "  <thead>\n",
       "    <tr style=\"text-align: right;\">\n",
       "      <th></th>\n",
       "      <th>Unix</th>\n",
       "      <th>Close</th>\n",
       "      <th>High</th>\n",
       "      <th>Low</th>\n",
       "      <th>Open</th>\n",
       "    </tr>\n",
       "    <tr>\n",
       "      <th>Date</th>\n",
       "      <th></th>\n",
       "      <th></th>\n",
       "      <th></th>\n",
       "      <th></th>\n",
       "      <th></th>\n",
       "    </tr>\n",
       "  </thead>\n",
       "  <tbody>\n",
       "    <tr>\n",
       "      <th>2019-09-16</th>\n",
       "      <td>1568592000000</td>\n",
       "      <td>210.98</td>\n",
       "      <td>224.26</td>\n",
       "      <td>188.37</td>\n",
       "      <td>189.26</td>\n",
       "    </tr>\n",
       "    <tr>\n",
       "      <th>2019-09-23</th>\n",
       "      <td>1569196800000</td>\n",
       "      <td>169.39</td>\n",
       "      <td>211.56</td>\n",
       "      <td>152.21</td>\n",
       "      <td>211.13</td>\n",
       "    </tr>\n",
       "    <tr>\n",
       "      <th>2019-09-30</th>\n",
       "      <td>1569801600000</td>\n",
       "      <td>170.07</td>\n",
       "      <td>185.70</td>\n",
       "      <td>145.00</td>\n",
       "      <td>169.39</td>\n",
       "    </tr>\n",
       "    <tr>\n",
       "      <th>2019-10-07</th>\n",
       "      <td>1570406400000</td>\n",
       "      <td>181.03</td>\n",
       "      <td>197.35</td>\n",
       "      <td>168.64</td>\n",
       "      <td>170.10</td>\n",
       "    </tr>\n",
       "    <tr>\n",
       "      <th>2019-10-14</th>\n",
       "      <td>1571011200000</td>\n",
       "      <td>175.47</td>\n",
       "      <td>188.45</td>\n",
       "      <td>168.46</td>\n",
       "      <td>181.03</td>\n",
       "    </tr>\n",
       "    <tr>\n",
       "      <th>...</th>\n",
       "      <td>...</td>\n",
       "      <td>...</td>\n",
       "      <td>...</td>\n",
       "      <td>...</td>\n",
       "      <td>...</td>\n",
       "    </tr>\n",
       "    <tr>\n",
       "      <th>2022-09-26</th>\n",
       "      <td>1664150400000</td>\n",
       "      <td>1276.70</td>\n",
       "      <td>1400.40</td>\n",
       "      <td>1254.00</td>\n",
       "      <td>1294.40</td>\n",
       "    </tr>\n",
       "    <tr>\n",
       "      <th>2022-10-03</th>\n",
       "      <td>1664755200000</td>\n",
       "      <td>1323.40</td>\n",
       "      <td>1384.00</td>\n",
       "      <td>1262.80</td>\n",
       "      <td>1276.70</td>\n",
       "    </tr>\n",
       "    <tr>\n",
       "      <th>2022-10-10</th>\n",
       "      <td>1665360000000</td>\n",
       "      <td>1305.80</td>\n",
       "      <td>1343.40</td>\n",
       "      <td>1189.00</td>\n",
       "      <td>1323.50</td>\n",
       "    </tr>\n",
       "    <tr>\n",
       "      <th>2022-10-17</th>\n",
       "      <td>1665964800000</td>\n",
       "      <td>1364.30</td>\n",
       "      <td>1371.40</td>\n",
       "      <td>1252.20</td>\n",
       "      <td>1305.80</td>\n",
       "    </tr>\n",
       "    <tr>\n",
       "      <th>2022-10-24</th>\n",
       "      <td>1666569600000</td>\n",
       "      <td>1544.80</td>\n",
       "      <td>1596.00</td>\n",
       "      <td>1323.80</td>\n",
       "      <td>1364.30</td>\n",
       "    </tr>\n",
       "  </tbody>\n",
       "</table>\n",
       "<p>163 rows × 5 columns</p>\n",
       "</div>"
      ],
      "text/plain": [
       "                     Unix    Close     High      Low     Open\n",
       "Date                                                         \n",
       "2019-09-16  1568592000000   210.98   224.26   188.37   189.26\n",
       "2019-09-23  1569196800000   169.39   211.56   152.21   211.13\n",
       "2019-09-30  1569801600000   170.07   185.70   145.00   169.39\n",
       "2019-10-07  1570406400000   181.03   197.35   168.64   170.10\n",
       "2019-10-14  1571011200000   175.47   188.45   168.46   181.03\n",
       "...                   ...      ...      ...      ...      ...\n",
       "2022-09-26  1664150400000  1276.70  1400.40  1254.00  1294.40\n",
       "2022-10-03  1664755200000  1323.40  1384.00  1262.80  1276.70\n",
       "2022-10-10  1665360000000  1305.80  1343.40  1189.00  1323.50\n",
       "2022-10-17  1665964800000  1364.30  1371.40  1252.20  1305.80\n",
       "2022-10-24  1666569600000  1544.80  1596.00  1323.80  1364.30\n",
       "\n",
       "[163 rows x 5 columns]"
      ]
     },
     "execution_count": 4,
     "metadata": {},
     "output_type": "execute_result"
    }
   ],
   "source": [
    "weekly_candles"
   ]
  },
  {
   "cell_type": "markdown",
   "metadata": {},
   "source": [
    "Then we define a function to convert each candle stick into Heikin Ashi Candlestick"
   ]
  },
  {
   "cell_type": "code",
   "execution_count": 5,
   "metadata": {},
   "outputs": [],
   "source": [
    "def heikin_ashi(previous_open, previous_close, candle):\n",
    "    # print(candle)\n",
    "    price_values = candle[[\"open\",\"high\",\"low\",\"close\"]]\n",
    "    close = np.mean(price_values)\n",
    "    open_price = 0.5*(previous_open+previous_close)\n",
    "    high=max([max(price_values), open_price,close])\n",
    "    low = min([min(price_values), open_price,close])\n",
    "    \n",
    "    return candle[\"unix\"], open_price, high, close, low\n",
    "\n",
    "def convert_data_to_heikin_ashi(data):\n",
    "    timestamps, opens, closes, highs, lows  = [0], [0],[0],[0],[0]\n",
    "    #initialise values\n",
    "    for i in range(1,len(data)):\n",
    "        timestamp, open_price, high, close, low = heikin_ashi(opens[-1], closes[-1],data.iloc[i])\n",
    "        timestamps.append(timestamp)\n",
    "        opens.append(open_price)\n",
    "        highs.append(high)\n",
    "        lows.append(low)\n",
    "        closes.append(close)\n",
    "\n",
    "    return pd.DataFrame({'unix':timestamps,'open':opens,'high':highs,'low':lows,'close':closes}).sort_values(by=['unix'], ignore_index=True)\n",
    "    \n"
   ]
  },
  {
   "cell_type": "markdown",
   "metadata": {},
   "source": [
    "Then we convert weekly candles and observe"
   ]
  },
  {
   "cell_type": "code",
   "execution_count": 6,
   "metadata": {},
   "outputs": [
    {
     "data": {
      "text/html": [
       "<div>\n",
       "<style scoped>\n",
       "    .dataframe tbody tr th:only-of-type {\n",
       "        vertical-align: middle;\n",
       "    }\n",
       "\n",
       "    .dataframe tbody tr th {\n",
       "        vertical-align: top;\n",
       "    }\n",
       "\n",
       "    .dataframe thead th {\n",
       "        text-align: right;\n",
       "    }\n",
       "</style>\n",
       "<table border=\"1\" class=\"dataframe\">\n",
       "  <thead>\n",
       "    <tr style=\"text-align: right;\">\n",
       "      <th></th>\n",
       "      <th>Unix</th>\n",
       "      <th>Close</th>\n",
       "      <th>High</th>\n",
       "      <th>Low</th>\n",
       "      <th>Open</th>\n",
       "    </tr>\n",
       "    <tr>\n",
       "      <th>Date</th>\n",
       "      <th></th>\n",
       "      <th></th>\n",
       "      <th></th>\n",
       "      <th></th>\n",
       "      <th></th>\n",
       "    </tr>\n",
       "  </thead>\n",
       "  <tbody>\n",
       "    <tr>\n",
       "      <th>2019-09-16</th>\n",
       "      <td>1568592000000</td>\n",
       "      <td>210.98</td>\n",
       "      <td>224.26</td>\n",
       "      <td>188.37</td>\n",
       "      <td>189.26</td>\n",
       "    </tr>\n",
       "    <tr>\n",
       "      <th>2019-09-23</th>\n",
       "      <td>1569196800000</td>\n",
       "      <td>169.39</td>\n",
       "      <td>211.56</td>\n",
       "      <td>152.21</td>\n",
       "      <td>211.13</td>\n",
       "    </tr>\n",
       "    <tr>\n",
       "      <th>2019-09-30</th>\n",
       "      <td>1569801600000</td>\n",
       "      <td>170.07</td>\n",
       "      <td>185.70</td>\n",
       "      <td>145.00</td>\n",
       "      <td>169.39</td>\n",
       "    </tr>\n",
       "    <tr>\n",
       "      <th>2019-10-07</th>\n",
       "      <td>1570406400000</td>\n",
       "      <td>181.03</td>\n",
       "      <td>197.35</td>\n",
       "      <td>168.64</td>\n",
       "      <td>170.10</td>\n",
       "    </tr>\n",
       "    <tr>\n",
       "      <th>2019-10-14</th>\n",
       "      <td>1571011200000</td>\n",
       "      <td>175.47</td>\n",
       "      <td>188.45</td>\n",
       "      <td>168.46</td>\n",
       "      <td>181.03</td>\n",
       "    </tr>\n",
       "    <tr>\n",
       "      <th>...</th>\n",
       "      <td>...</td>\n",
       "      <td>...</td>\n",
       "      <td>...</td>\n",
       "      <td>...</td>\n",
       "      <td>...</td>\n",
       "    </tr>\n",
       "    <tr>\n",
       "      <th>2022-09-26</th>\n",
       "      <td>1664150400000</td>\n",
       "      <td>1276.70</td>\n",
       "      <td>1400.40</td>\n",
       "      <td>1254.00</td>\n",
       "      <td>1294.40</td>\n",
       "    </tr>\n",
       "    <tr>\n",
       "      <th>2022-10-03</th>\n",
       "      <td>1664755200000</td>\n",
       "      <td>1323.40</td>\n",
       "      <td>1384.00</td>\n",
       "      <td>1262.80</td>\n",
       "      <td>1276.70</td>\n",
       "    </tr>\n",
       "    <tr>\n",
       "      <th>2022-10-10</th>\n",
       "      <td>1665360000000</td>\n",
       "      <td>1305.80</td>\n",
       "      <td>1343.40</td>\n",
       "      <td>1189.00</td>\n",
       "      <td>1323.50</td>\n",
       "    </tr>\n",
       "    <tr>\n",
       "      <th>2022-10-17</th>\n",
       "      <td>1665964800000</td>\n",
       "      <td>1364.30</td>\n",
       "      <td>1371.40</td>\n",
       "      <td>1252.20</td>\n",
       "      <td>1305.80</td>\n",
       "    </tr>\n",
       "    <tr>\n",
       "      <th>2022-10-24</th>\n",
       "      <td>1666569600000</td>\n",
       "      <td>1544.80</td>\n",
       "      <td>1596.00</td>\n",
       "      <td>1323.80</td>\n",
       "      <td>1364.30</td>\n",
       "    </tr>\n",
       "  </tbody>\n",
       "</table>\n",
       "<p>163 rows × 5 columns</p>\n",
       "</div>"
      ],
      "text/plain": [
       "                     Unix    Close     High      Low     Open\n",
       "Date                                                         \n",
       "2019-09-16  1568592000000   210.98   224.26   188.37   189.26\n",
       "2019-09-23  1569196800000   169.39   211.56   152.21   211.13\n",
       "2019-09-30  1569801600000   170.07   185.70   145.00   169.39\n",
       "2019-10-07  1570406400000   181.03   197.35   168.64   170.10\n",
       "2019-10-14  1571011200000   175.47   188.45   168.46   181.03\n",
       "...                   ...      ...      ...      ...      ...\n",
       "2022-09-26  1664150400000  1276.70  1400.40  1254.00  1294.40\n",
       "2022-10-03  1664755200000  1323.40  1384.00  1262.80  1276.70\n",
       "2022-10-10  1665360000000  1305.80  1343.40  1189.00  1323.50\n",
       "2022-10-17  1665964800000  1364.30  1371.40  1252.20  1305.80\n",
       "2022-10-24  1666569600000  1544.80  1596.00  1323.80  1364.30\n",
       "\n",
       "[163 rows x 5 columns]"
      ]
     },
     "execution_count": 6,
     "metadata": {},
     "output_type": "execute_result"
    }
   ],
   "source": [
    "weekly_candles\n",
    "# convert_data_to_heikin_ashi(weekly_candles)"
   ]
  },
  {
   "cell_type": "markdown",
   "metadata": {},
   "source": [
    "Shift timestamps up one, delete the top and bottom row (top row is null, bottom row is incomplete). The candle at each timestamp represents the previous week, any data we observe at time=t is from the past."
   ]
  },
  {
   "cell_type": "code",
   "execution_count": 7,
   "metadata": {},
   "outputs": [
    {
     "data": {
      "text/html": [
       "<div>\n",
       "<style scoped>\n",
       "    .dataframe tbody tr th:only-of-type {\n",
       "        vertical-align: middle;\n",
       "    }\n",
       "\n",
       "    .dataframe tbody tr th {\n",
       "        vertical-align: top;\n",
       "    }\n",
       "\n",
       "    .dataframe thead th {\n",
       "        text-align: right;\n",
       "    }\n",
       "</style>\n",
       "<table border=\"1\" class=\"dataframe\">\n",
       "  <thead>\n",
       "    <tr style=\"text-align: right;\">\n",
       "      <th></th>\n",
       "      <th>ha_Open</th>\n",
       "      <th>ha_High</th>\n",
       "      <th>ha_Low</th>\n",
       "      <th>ha_Close</th>\n",
       "      <th>Green</th>\n",
       "    </tr>\n",
       "    <tr>\n",
       "      <th>Date</th>\n",
       "      <th></th>\n",
       "      <th></th>\n",
       "      <th></th>\n",
       "      <th></th>\n",
       "      <th></th>\n",
       "    </tr>\n",
       "  </thead>\n",
       "  <tbody>\n",
       "    <tr>\n",
       "      <th>2019-10-07</th>\n",
       "      <td>93.036250</td>\n",
       "      <td>185.700000</td>\n",
       "      <td>93.036250</td>\n",
       "      <td>167.5400</td>\n",
       "      <td>True</td>\n",
       "    </tr>\n",
       "    <tr>\n",
       "      <th>2019-10-14</th>\n",
       "      <td>130.288125</td>\n",
       "      <td>197.350000</td>\n",
       "      <td>130.288125</td>\n",
       "      <td>179.2800</td>\n",
       "      <td>True</td>\n",
       "    </tr>\n",
       "    <tr>\n",
       "      <th>2019-10-21</th>\n",
       "      <td>154.784062</td>\n",
       "      <td>188.450000</td>\n",
       "      <td>154.784062</td>\n",
       "      <td>178.3525</td>\n",
       "      <td>True</td>\n",
       "    </tr>\n",
       "    <tr>\n",
       "      <th>2019-10-28</th>\n",
       "      <td>166.568281</td>\n",
       "      <td>191.750000</td>\n",
       "      <td>152.960000</td>\n",
       "      <td>176.1000</td>\n",
       "      <td>True</td>\n",
       "    </tr>\n",
       "    <tr>\n",
       "      <th>2019-11-04</th>\n",
       "      <td>171.334141</td>\n",
       "      <td>193.080000</td>\n",
       "      <td>171.334141</td>\n",
       "      <td>183.9450</td>\n",
       "      <td>True</td>\n",
       "    </tr>\n",
       "    <tr>\n",
       "      <th>...</th>\n",
       "      <td>...</td>\n",
       "      <td>...</td>\n",
       "      <td>...</td>\n",
       "      <td>...</td>\n",
       "      <td>...</td>\n",
       "    </tr>\n",
       "    <tr>\n",
       "      <th>2022-09-26</th>\n",
       "      <td>1585.688605</td>\n",
       "      <td>1585.688605</td>\n",
       "      <td>1219.200000</td>\n",
       "      <td>1314.6000</td>\n",
       "      <td>False</td>\n",
       "    </tr>\n",
       "    <tr>\n",
       "      <th>2022-10-03</th>\n",
       "      <td>1450.144302</td>\n",
       "      <td>1450.144302</td>\n",
       "      <td>1254.000000</td>\n",
       "      <td>1306.3750</td>\n",
       "      <td>False</td>\n",
       "    </tr>\n",
       "    <tr>\n",
       "      <th>2022-10-10</th>\n",
       "      <td>1378.259651</td>\n",
       "      <td>1384.000000</td>\n",
       "      <td>1262.800000</td>\n",
       "      <td>1311.7250</td>\n",
       "      <td>False</td>\n",
       "    </tr>\n",
       "    <tr>\n",
       "      <th>2022-10-17</th>\n",
       "      <td>1344.992326</td>\n",
       "      <td>1344.992326</td>\n",
       "      <td>1189.000000</td>\n",
       "      <td>1290.4250</td>\n",
       "      <td>False</td>\n",
       "    </tr>\n",
       "    <tr>\n",
       "      <th>2022-10-24</th>\n",
       "      <td>1317.708663</td>\n",
       "      <td>1371.400000</td>\n",
       "      <td>1252.200000</td>\n",
       "      <td>1323.4250</td>\n",
       "      <td>True</td>\n",
       "    </tr>\n",
       "  </tbody>\n",
       "</table>\n",
       "<p>160 rows × 5 columns</p>\n",
       "</div>"
      ],
      "text/plain": [
       "                ha_Open      ha_High       ha_Low   ha_Close  Green\n",
       "Date                                                               \n",
       "2019-10-07    93.036250   185.700000    93.036250   167.5400   True\n",
       "2019-10-14   130.288125   197.350000   130.288125   179.2800   True\n",
       "2019-10-21   154.784062   188.450000   154.784062   178.3525   True\n",
       "2019-10-28   166.568281   191.750000   152.960000   176.1000   True\n",
       "2019-11-04   171.334141   193.080000   171.334141   183.9450   True\n",
       "...                 ...          ...          ...        ...    ...\n",
       "2022-09-26  1585.688605  1585.688605  1219.200000  1314.6000  False\n",
       "2022-10-03  1450.144302  1450.144302  1254.000000  1306.3750  False\n",
       "2022-10-10  1378.259651  1384.000000  1262.800000  1311.7250  False\n",
       "2022-10-17  1344.992326  1344.992326  1189.000000  1290.4250  False\n",
       "2022-10-24  1317.708663  1371.400000  1252.200000  1323.4250   True\n",
       "\n",
       "[160 rows x 5 columns]"
      ]
     },
     "execution_count": 7,
     "metadata": {},
     "output_type": "execute_result"
    }
   ],
   "source": [
    "def convert_data_to_heikin_ashi_processed(data):\n",
    "    timestamps, opens, closes, highs, lows  = [0], [0],[0],[0],[0]\n",
    "    #initialise values\n",
    "    for i in range(1,len(data)):\n",
    "        timestamp, open_price, high, close, low = heikin_ashi(opens[-1], closes[-1],data.iloc[i])\n",
    "        timestamps.append(timestamp)\n",
    "        opens.append(open_price)\n",
    "        highs.append(high)\n",
    "        lows.append(low)\n",
    "        closes.append(close)\n",
    "\n",
    "    candles = pd.DataFrame({'unix':timestamps,'ha_Open':opens,'ha_High':highs,'ha_Low':lows,'ha_Close':closes}).sort_values(by=['unix'], ignore_index=True)\n",
    "    timestamp_df=candles['unix'].shift(periods=-1)\n",
    "    candles[\"unix\"] = timestamp_df\n",
    "    candles[\"Date\"] = pd.to_datetime(candles[\"unix\"], unit=\"ms\")\n",
    "    candles[\"Green\"] = candles[\"ha_Close\"]>candles[\"ha_Open\"]\n",
    "    candles.drop([0,1,len(candles)-1], inplace=True)\n",
    "    candles.set_index(\"Date\", inplace=True)\n",
    "    candles.drop(\"unix\", axis=1, inplace=True)\n",
    "    return candles\n",
    "\n",
    "heikin_ashi_candles = convert_data_to_heikin_ashi_processed(weekly_candles_original)\n",
    "# weekly_candles.to_csv('weekly.csv')\n",
    "# heikin_ashi_candles.to_csv('weekly_ha.csv')\n",
    "heikin_ashi_candles\n"
   ]
  },
  {
   "cell_type": "markdown",
   "metadata": {},
   "source": [
    "Now we plot the heikin ashi candles using the mpfinance module."
   ]
  },
  {
   "cell_type": "code",
   "execution_count": 8,
   "metadata": {},
   "outputs": [
    {
     "data": {
      "text/html": [
       "<div>\n",
       "<style scoped>\n",
       "    .dataframe tbody tr th:only-of-type {\n",
       "        vertical-align: middle;\n",
       "    }\n",
       "\n",
       "    .dataframe tbody tr th {\n",
       "        vertical-align: top;\n",
       "    }\n",
       "\n",
       "    .dataframe thead th {\n",
       "        text-align: right;\n",
       "    }\n",
       "</style>\n",
       "<table border=\"1\" class=\"dataframe\">\n",
       "  <thead>\n",
       "    <tr style=\"text-align: right;\">\n",
       "      <th></th>\n",
       "      <th>Open</th>\n",
       "      <th>Green</th>\n",
       "    </tr>\n",
       "    <tr>\n",
       "      <th>Date</th>\n",
       "      <th></th>\n",
       "      <th></th>\n",
       "    </tr>\n",
       "  </thead>\n",
       "  <tbody>\n",
       "    <tr>\n",
       "      <th>2019-10-07</th>\n",
       "      <td>170.10</td>\n",
       "      <td>True</td>\n",
       "    </tr>\n",
       "    <tr>\n",
       "      <th>2019-10-14</th>\n",
       "      <td>181.03</td>\n",
       "      <td>True</td>\n",
       "    </tr>\n",
       "    <tr>\n",
       "      <th>2019-10-21</th>\n",
       "      <td>175.47</td>\n",
       "      <td>True</td>\n",
       "    </tr>\n",
       "    <tr>\n",
       "      <th>2019-10-28</th>\n",
       "      <td>184.27</td>\n",
       "      <td>True</td>\n",
       "    </tr>\n",
       "    <tr>\n",
       "      <th>2019-11-04</th>\n",
       "      <td>181.55</td>\n",
       "      <td>True</td>\n",
       "    </tr>\n",
       "    <tr>\n",
       "      <th>...</th>\n",
       "      <td>...</td>\n",
       "      <td>...</td>\n",
       "    </tr>\n",
       "    <tr>\n",
       "      <th>2022-09-26</th>\n",
       "      <td>1294.40</td>\n",
       "      <td>False</td>\n",
       "    </tr>\n",
       "    <tr>\n",
       "      <th>2022-10-03</th>\n",
       "      <td>1276.70</td>\n",
       "      <td>False</td>\n",
       "    </tr>\n",
       "    <tr>\n",
       "      <th>2022-10-10</th>\n",
       "      <td>1323.50</td>\n",
       "      <td>False</td>\n",
       "    </tr>\n",
       "    <tr>\n",
       "      <th>2022-10-17</th>\n",
       "      <td>1305.80</td>\n",
       "      <td>False</td>\n",
       "    </tr>\n",
       "    <tr>\n",
       "      <th>2022-10-24</th>\n",
       "      <td>1364.30</td>\n",
       "      <td>True</td>\n",
       "    </tr>\n",
       "  </tbody>\n",
       "</table>\n",
       "<p>160 rows × 2 columns</p>\n",
       "</div>"
      ],
      "text/plain": [
       "               Open  Green\n",
       "Date                      \n",
       "2019-10-07   170.10   True\n",
       "2019-10-14   181.03   True\n",
       "2019-10-21   175.47   True\n",
       "2019-10-28   184.27   True\n",
       "2019-11-04   181.55   True\n",
       "...             ...    ...\n",
       "2022-09-26  1294.40  False\n",
       "2022-10-03  1276.70  False\n",
       "2022-10-10  1323.50  False\n",
       "2022-10-17  1305.80  False\n",
       "2022-10-24  1364.30   True\n",
       "\n",
       "[160 rows x 2 columns]"
      ]
     },
     "execution_count": 8,
     "metadata": {},
     "output_type": "execute_result"
    }
   ],
   "source": [
    "# weekly_candles.drop(labels=[\"unix\"], inplace=True)\n",
    "# heikin_ashi_candles.drop(labels=[\"unix\"], inplace=True)\n",
    "# heikin_ashi_candles=heikin_ashi_candles.drop([\"unix\"], axis=1)\n",
    "trimmed_weekly=weekly_candles[3:]\n",
    "combnined_df=pd.concat([trimmed_weekly, heikin_ashi_candles], axis=1)\n",
    "testing_df_weekly = combnined_df.loc[:,[\"Open\", \"Green\"]]\n",
    "testing_df_weekly"
   ]
  },
  {
   "cell_type": "markdown",
   "metadata": {},
   "source": [
    "Note: We will assess action on the close of the heikin ashi candle, say timestamp t, at which the current price will be the open of the normal candle at timestamp t."
   ]
  },
  {
   "cell_type": "code",
   "execution_count": 9,
   "metadata": {},
   "outputs": [
    {
     "data": {
      "application/vnd.plotly.v1+json": {
       "config": {
        "plotlyServerURL": "https://plot.ly"
       },
       "data": [
        {
         "close": [
          167.54,
          179.27999999999997,
          178.35250000000002,
          176.10000000000002,
          183.945,
          186.1825,
          184.8825,
          161.23250000000002,
          145.13000000000002,
          149.2225,
          145.8375,
          133.32,
          131.68,
          133.2425,
          141.04250000000002,
          158.6325,
          165.11,
          178.58249999999998,
          208.12,
          248.39,
          265.9925,
          245.2425,
          216.175,
          154.8075,
          124.9725,
          127.38000000000001,
          135.4275,
          155.2125,
          169.32500000000002,
          186.2125,
          206.28499999999997,
          198.71749999999997,
          194.925,
          203.79749999999999,
          218.77499999999998,
          237.98749999999998,
          238.08499999999998,
          228.565,
          229.36999999999998,
          226.5725,
          236.685,
          238.27750000000003,
          276.3675,
          348.7075,
          383.1825,
          408.8725,
          413.0125,
          404.99499999999995,
          395.0225,
          358.23,
          371.4425,
          354.64,
          353.67,
          359.6475,
          377.34250000000003,
          392.89,
          396.79499999999996,
          422.7525,
          453.88749999999993,
          509.13749999999993,
          560.33,
          593.8325,
          581.5825,
          620.2575,
          646.2575,
          840.6274999999999,
          1119.1025,
          1173.15,
          1276.9,
          1348.175,
          1490.35,
          1714.9499999999998,
          1889.025,
          1646.6999999999998,
          1573.55,
          1796.1750000000002,
          1808.8000000000002,
          1705.975,
          1896.75,
          2089.1499999999996,
          2216.175,
          2314.9750000000004,
          2641.1000000000004,
          3454.275,
          3810.9749999999995,
          2750.675,
          2363.125,
          2566.45,
          2584.575,
          2359.025,
          2046.475,
          2166.7,
          2230.7,
          2011.5,
          2000.575,
          2399.725,
          2802.0249999999996,
          3138.975,
          3211.3500000000004,
          3230.7000000000003,
          3588.475,
          3580.825,
          3377.5,
          3096.575,
          3187.85,
          3445.5,
          3650.925,
          3945.1749999999997,
          4181.35,
          4431.75,
          4645.299999999999,
          4404.375,
          4257.15,
          4190.724999999999,
          4165.224999999999,
          3961.5499999999997,
          3975.8999999999996,
          3901.7249999999995,
          3468.5,
          3208.6499999999996,
          2887,
          2506.5,
          2803.925,
          3013.5,
          2817.5000000000005,
          2605.625,
          2687.1749999999997,
          2571.425,
          2716,
          3072.85,
          3403.075,
          3355.7,
          3088.875,
          2993.075,
          2874.525,
          2697.975,
          2223.3999999999996,
          2056.6000000000004,
          1910.025,
          1841.3249999999998,
          1644.625,
          1223.25,
          1161.7749999999999,
          1126.0500000000002,
          1139.825,
          1233.875,
          1483.925,
          1604.725,
          1671.6999999999998,
          1830.1999999999998,
          1772.5000000000002,
          1547.525,
          1519.075,
          1656.525,
          1552.75,
          1314.6,
          1306.375,
          1311.725,
          1290.425,
          1323.425
         ],
         "high": [
          185.7,
          197.35,
          188.45,
          191.75,
          193.08,
          194.36,
          189.96,
          183.71,
          172.3146337890625,
          158.72231689453128,
          153.97240844726565,
          149.90495422363284,
          141.61247711181642,
          138.05,
          147.92,
          179.23,
          171.01,
          193.59,
          230.96,
          289.17,
          287.22,
          277.99,
          252.47,
          229.9142809946835,
          192.36089049734176,
          158.66669524867086,
          150.46,
          176.37,
          189.75,
          200.16,
          227.45,
          216.87,
          209.92,
          217.05,
          247.13,
          253.65,
          250.48,
          237.14,
          249.17,
          232.68,
          249.18,
          245.24,
          320.77,
          416.06,
          407.66,
          444.48,
          447.7,
          429.87,
          489,
          397.3616729016122,
          394.08,
          376.64,
          370.02,
          378.57,
          395.08,
          421.46,
          411.56,
          468.77,
          478.43,
          581.64,
          623.45,
          636.66,
          603.47,
          676.71,
          716.57,
          1017.36,
          1353.5,
          1292.7,
          1439.6,
          1478.2,
          1764.7,
          1876.9,
          2155,
          1938.4,
          1734.6,
          1944,
          1891,
          1807,
          2145.1,
          2198.6,
          2549.2,
          2645.9,
          2985.8,
          3986,
          4381.4,
          3589.4,
          3062.4058822724037,
          2896.5,
          2859,
          2640.9,
          2485.558180142025,
          2398.2,
          2410.4,
          2223.529147517753,
          2199.9,
          2698.5,
          3194.4,
          3334.8,
          3341.3,
          3400,
          4030.2,
          3972.2,
          3677.3,
          3423.1434366674976,
          3490,
          3677.3,
          3969.6,
          4374,
          4462.2,
          4670,
          4869.7,
          4770.8,
          4557.3,
          4784.2,
          4495,
          4213.844047469889,
          4160,
          4128.9,
          3966.761755933736,
          3717.630877966868,
          3463.140438983434,
          3175.0702194917167,
          3078.8,
          3286.5,
          3199.4,
          2881.5,
          3046.7,
          2774.7,
          2987.7,
          3300.1,
          3581.4,
          3555.6,
          3247.5795997165487,
          3181.9,
          3080.6511499291373,
          2977.5880749645685,
          2837.781537482284,
          2530.590768741142,
          2293.595384370571,
          2101.810192185286,
          1971.5675960926428,
          1808.0962980463214,
          1515.6731490231607,
          1338.7240745115803,
          1275.2,
          1424.7,
          1664.5,
          1785.6,
          1750.9,
          2030.9,
          2012.9,
          1737.2426721660609,
          1649,
          1790.3,
          1784,
          1585.6886045103788,
          1450.1443022551894,
          1384,
          1344.9923255637973,
          1371.4
         ],
         "low": [
          93.03625,
          130.28812499999998,
          154.78406249999998,
          152.96,
          171.334140625,
          177.63957031249998,
          177.16,
          137.58,
          131.83,
          143.21,
          139.13,
          116.22,
          122.38,
          125.53,
          134.72,
          137.99343463897708,
          148.31296731948854,
          156.71148365974426,
          167.64699182987212,
          187.88349591493608,
          218.13674795746803,
          209.9,
          195.31,
          87.69,
          100.67,
          118.8,
          124.04,
          139.22542381216772,
          147.21896190608385,
          158.27198095304192,
          172.24224047652098,
          180.14,
          175,
          191.28,
          196.79,
          208.95132001489128,
          223.46941000744562,
          217.85,
          215.66,
          221.03,
          227.03,
          225.81,
          234.2,
          255.84456570318318,
          302.2760328515916,
          342.7292664257958,
          375.80088321289793,
          370.15,
          309,
          323.11,
          354.35,
          313.2,
          334.48,
          333.22,
          359.39864602817534,
          365.34,
          372.34,
          370.52,
          405.73257162676094,
          429.8100358133804,
          469.47376790669017,
          514.9018839533451,
          530.08,
          567.9748459883363,
          546.28,
          620.1868364970842,
          730.4071682485421,
          913,
          1041,
          1162.926208531068,
          1255.5506042655338,
          1372.9503021327669,
          1543.9501510663833,
          1292.4,
          1412.2,
          1627.571893883298,
          1711.873446941649,
          1546,
          1677.7,
          1814.952930867706,
          1925,
          2051.4,
          2199.5441163584637,
          2420.322058179232,
          2937.298529089616,
          1730,
          2051,
          2269,
          2256.7,
          2042,
          1699.9,
          1962,
          2048.5,
          1845.6,
          1718.8,
          2059.044786879438,
          2229.3848934397192,
          2515.7049467198594,
          2827.33997335993,
          3019.344986679965,
          3125.0224933399827,
          2994.1,
          3099.9,
          2650,
          2780.6,
          3223.854609166874,
          3334.677304583437,
          3477,
          3718.988076145859,
          3950.1690380729297,
          4190.959519036465,
          3958,
          3912,
          3480,
          3832.4,
          3642,
          3752,
          3582.6,
          2998,
          2921.8,
          2300,
          2159.5,
          2476.8,
          2822.355054872929,
          2575.7,
          2301.1,
          2533.3,
          2444.7,
          2498.7,
          2678.8367977323896,
          2875.8433988661945,
          3139.459199433097,
          2950,
          2881.1,
          2714.5,
          2482,
          1703,
          1900.6,
          1700,
          1734.2,
          1423,
          880,
          1042.7,
          996,
          1043.9,
          1005.3,
          1209.9905093139475,
          1346.9577546569737,
          1475.841377328487,
          1573.7706886642434,
          1523.4,
          1423.6,
          1421.9,
          1490.1,
          1325.5,
          1219.2,
          1254,
          1262.8,
          1189,
          1252.2
         ],
         "open": [
          93.03625,
          130.28812499999998,
          154.78406249999998,
          166.56828124999998,
          171.334140625,
          177.63957031249998,
          181.91103515625,
          183.39676757812498,
          172.3146337890625,
          158.72231689453128,
          153.97240844726565,
          149.90495422363284,
          141.61247711181642,
          136.6462385559082,
          134.9443692779541,
          137.99343463897708,
          148.31296731948854,
          156.71148365974426,
          167.64699182987212,
          187.88349591493608,
          218.13674795746803,
          242.064623978734,
          243.653561989367,
          229.9142809946835,
          192.36089049734176,
          158.66669524867086,
          143.02334762433543,
          139.22542381216772,
          147.21896190608385,
          158.27198095304192,
          172.24224047652098,
          189.26362023826047,
          193.99056011913024,
          194.45778005956512,
          199.12764002978255,
          208.95132001489128,
          223.46941000744562,
          230.7772050037228,
          229.6711025018614,
          229.52055125093068,
          228.04652562546534,
          232.36576281273267,
          235.32163140636635,
          255.84456570318318,
          302.2760328515916,
          342.7292664257958,
          375.80088321289793,
          394.40669160644893,
          399.7008458032244,
          397.3616729016122,
          377.7958364508061,
          374.6191682254031,
          364.62958411270154,
          359.14979205635075,
          359.39864602817534,
          368.37057301408765,
          380.6302865070438,
          388.7126432535219,
          405.73257162676094,
          429.8100358133804,
          469.47376790669017,
          514.9018839533451,
          554.3671919766725,
          567.9748459883363,
          594.1161729941682,
          620.1868364970842,
          730.4071682485421,
          924.754834124271,
          1048.9524170621355,
          1162.926208531068,
          1255.5506042655338,
          1372.9503021327669,
          1543.9501510663833,
          1716.4875755331918,
          1681.5937877665958,
          1627.571893883298,
          1711.873446941649,
          1760.3367234708246,
          1733.1558617354121,
          1814.952930867706,
          1952.0514654338529,
          2084.1132327169266,
          2199.5441163584637,
          2420.322058179232,
          2937.298529089616,
          3374.1367645448076,
          3062.4058822724037,
          2712.765441136202,
          2639.607720568101,
          2612.09136028405,
          2485.558180142025,
          2266.0165900710126,
          2216.358295035506,
          2223.529147517753,
          2117.5145737588764,
          2059.044786879438,
          2229.3848934397192,
          2515.7049467198594,
          2827.33997335993,
          3019.344986679965,
          3125.0224933399827,
          3356.7487466699913,
          3468.7868733349956,
          3423.1434366674976,
          3259.8592183337487,
          3223.854609166874,
          3334.677304583437,
          3492.8011522917186,
          3718.988076145859,
          3950.1690380729297,
          4190.959519036465,
          4418.129759518232,
          4411.252379759117,
          4334.201189879558,
          4262.463094939779,
          4213.844047469889,
          4087.697023734944,
          4031.798511867472,
          3966.761755933736,
          3717.630877966868,
          3463.140438983434,
          3175.0702194917167,
          2840.7851097458583,
          2822.355054872929,
          2917.9275274364645,
          2867.7137637182323,
          2736.669381859116,
          2711.922190929558,
          2641.6735954647793,
          2678.8367977323896,
          2875.8433988661945,
          3139.459199433097,
          3247.5795997165487,
          3168.2272998582744,
          3080.6511499291373,
          2977.5880749645685,
          2837.781537482284,
          2530.590768741142,
          2293.595384370571,
          2101.810192185286,
          1971.5675960926428,
          1808.0962980463214,
          1515.6731490231607,
          1338.7240745115803,
          1232.3870372557903,
          1186.106018627895,
          1209.9905093139475,
          1346.9577546569737,
          1475.841377328487,
          1573.7706886642434,
          1701.9853443321217,
          1737.2426721660609,
          1642.3838360830305,
          1580.7294180415151,
          1618.6272090207576,
          1585.6886045103788,
          1450.1443022551894,
          1378.2596511275947,
          1344.9923255637973,
          1317.7086627818985
         ],
         "type": "candlestick",
         "x": [
          "2019-10-07T00:00:00",
          "2019-10-14T00:00:00",
          "2019-10-21T00:00:00",
          "2019-10-28T00:00:00",
          "2019-11-04T00:00:00",
          "2019-11-11T00:00:00",
          "2019-11-18T00:00:00",
          "2019-11-25T00:00:00",
          "2019-12-02T00:00:00",
          "2019-12-09T00:00:00",
          "2019-12-16T00:00:00",
          "2019-12-23T00:00:00",
          "2019-12-30T00:00:00",
          "2020-01-06T00:00:00",
          "2020-01-13T00:00:00",
          "2020-01-20T00:00:00",
          "2020-01-27T00:00:00",
          "2020-02-03T00:00:00",
          "2020-02-10T00:00:00",
          "2020-02-17T00:00:00",
          "2020-02-24T00:00:00",
          "2020-03-02T00:00:00",
          "2020-03-09T00:00:00",
          "2020-03-16T00:00:00",
          "2020-03-23T00:00:00",
          "2020-03-30T00:00:00",
          "2020-04-06T00:00:00",
          "2020-04-13T00:00:00",
          "2020-04-20T00:00:00",
          "2020-04-27T00:00:00",
          "2020-05-04T00:00:00",
          "2020-05-11T00:00:00",
          "2020-05-18T00:00:00",
          "2020-05-25T00:00:00",
          "2020-06-01T00:00:00",
          "2020-06-08T00:00:00",
          "2020-06-15T00:00:00",
          "2020-06-22T00:00:00",
          "2020-06-29T00:00:00",
          "2020-07-06T00:00:00",
          "2020-07-13T00:00:00",
          "2020-07-20T00:00:00",
          "2020-07-27T00:00:00",
          "2020-08-03T00:00:00",
          "2020-08-10T00:00:00",
          "2020-08-17T00:00:00",
          "2020-08-24T00:00:00",
          "2020-08-31T00:00:00",
          "2020-09-07T00:00:00",
          "2020-09-14T00:00:00",
          "2020-09-21T00:00:00",
          "2020-09-28T00:00:00",
          "2020-10-05T00:00:00",
          "2020-10-12T00:00:00",
          "2020-10-19T00:00:00",
          "2020-10-26T00:00:00",
          "2020-11-02T00:00:00",
          "2020-11-09T00:00:00",
          "2020-11-16T00:00:00",
          "2020-11-23T00:00:00",
          "2020-11-30T00:00:00",
          "2020-12-07T00:00:00",
          "2020-12-14T00:00:00",
          "2020-12-21T00:00:00",
          "2020-12-28T00:00:00",
          "2021-01-04T00:00:00",
          "2021-01-11T00:00:00",
          "2021-01-18T00:00:00",
          "2021-01-25T00:00:00",
          "2021-02-01T00:00:00",
          "2021-02-08T00:00:00",
          "2021-02-15T00:00:00",
          "2021-02-22T00:00:00",
          "2021-03-01T00:00:00",
          "2021-03-08T00:00:00",
          "2021-03-15T00:00:00",
          "2021-03-22T00:00:00",
          "2021-03-29T00:00:00",
          "2021-04-05T00:00:00",
          "2021-04-12T00:00:00",
          "2021-04-19T00:00:00",
          "2021-04-26T00:00:00",
          "2021-05-03T00:00:00",
          "2021-05-10T00:00:00",
          "2021-05-17T00:00:00",
          "2021-05-24T00:00:00",
          "2021-05-31T00:00:00",
          "2021-06-07T00:00:00",
          "2021-06-14T00:00:00",
          "2021-06-21T00:00:00",
          "2021-06-28T00:00:00",
          "2021-07-05T00:00:00",
          "2021-07-12T00:00:00",
          "2021-07-19T00:00:00",
          "2021-07-26T00:00:00",
          "2021-08-02T00:00:00",
          "2021-08-09T00:00:00",
          "2021-08-16T00:00:00",
          "2021-08-23T00:00:00",
          "2021-08-30T00:00:00",
          "2021-09-06T00:00:00",
          "2021-09-13T00:00:00",
          "2021-09-20T00:00:00",
          "2021-09-27T00:00:00",
          "2021-10-04T00:00:00",
          "2021-10-11T00:00:00",
          "2021-10-18T00:00:00",
          "2021-10-25T00:00:00",
          "2021-11-01T00:00:00",
          "2021-11-08T00:00:00",
          "2021-11-15T00:00:00",
          "2021-11-22T00:00:00",
          "2021-11-29T00:00:00",
          "2021-12-06T00:00:00",
          "2021-12-13T00:00:00",
          "2021-12-20T00:00:00",
          "2021-12-27T00:00:00",
          "2022-01-03T00:00:00",
          "2022-01-10T00:00:00",
          "2022-01-17T00:00:00",
          "2022-01-24T00:00:00",
          "2022-01-31T00:00:00",
          "2022-02-07T00:00:00",
          "2022-02-14T00:00:00",
          "2022-02-21T00:00:00",
          "2022-02-28T00:00:00",
          "2022-03-07T00:00:00",
          "2022-03-14T00:00:00",
          "2022-03-21T00:00:00",
          "2022-03-28T00:00:00",
          "2022-04-04T00:00:00",
          "2022-04-11T00:00:00",
          "2022-04-18T00:00:00",
          "2022-04-25T00:00:00",
          "2022-05-02T00:00:00",
          "2022-05-09T00:00:00",
          "2022-05-16T00:00:00",
          "2022-05-23T00:00:00",
          "2022-05-30T00:00:00",
          "2022-06-06T00:00:00",
          "2022-06-13T00:00:00",
          "2022-06-20T00:00:00",
          "2022-06-27T00:00:00",
          "2022-07-04T00:00:00",
          "2022-07-11T00:00:00",
          "2022-07-18T00:00:00",
          "2022-07-25T00:00:00",
          "2022-08-01T00:00:00",
          "2022-08-08T00:00:00",
          "2022-08-15T00:00:00",
          "2022-08-22T00:00:00",
          "2022-08-29T00:00:00",
          "2022-09-05T00:00:00",
          "2022-09-12T00:00:00",
          "2022-09-19T00:00:00",
          "2022-09-26T00:00:00",
          "2022-10-03T00:00:00",
          "2022-10-10T00:00:00",
          "2022-10-17T00:00:00",
          "2022-10-24T00:00:00"
         ]
        }
       ],
       "layout": {
        "template": {
         "data": {
          "bar": [
           {
            "error_x": {
             "color": "#2a3f5f"
            },
            "error_y": {
             "color": "#2a3f5f"
            },
            "marker": {
             "line": {
              "color": "#E5ECF6",
              "width": 0.5
             },
             "pattern": {
              "fillmode": "overlay",
              "size": 10,
              "solidity": 0.2
             }
            },
            "type": "bar"
           }
          ],
          "barpolar": [
           {
            "marker": {
             "line": {
              "color": "#E5ECF6",
              "width": 0.5
             },
             "pattern": {
              "fillmode": "overlay",
              "size": 10,
              "solidity": 0.2
             }
            },
            "type": "barpolar"
           }
          ],
          "carpet": [
           {
            "aaxis": {
             "endlinecolor": "#2a3f5f",
             "gridcolor": "white",
             "linecolor": "white",
             "minorgridcolor": "white",
             "startlinecolor": "#2a3f5f"
            },
            "baxis": {
             "endlinecolor": "#2a3f5f",
             "gridcolor": "white",
             "linecolor": "white",
             "minorgridcolor": "white",
             "startlinecolor": "#2a3f5f"
            },
            "type": "carpet"
           }
          ],
          "choropleth": [
           {
            "colorbar": {
             "outlinewidth": 0,
             "ticks": ""
            },
            "type": "choropleth"
           }
          ],
          "contour": [
           {
            "colorbar": {
             "outlinewidth": 0,
             "ticks": ""
            },
            "colorscale": [
             [
              0,
              "#0d0887"
             ],
             [
              0.1111111111111111,
              "#46039f"
             ],
             [
              0.2222222222222222,
              "#7201a8"
             ],
             [
              0.3333333333333333,
              "#9c179e"
             ],
             [
              0.4444444444444444,
              "#bd3786"
             ],
             [
              0.5555555555555556,
              "#d8576b"
             ],
             [
              0.6666666666666666,
              "#ed7953"
             ],
             [
              0.7777777777777778,
              "#fb9f3a"
             ],
             [
              0.8888888888888888,
              "#fdca26"
             ],
             [
              1,
              "#f0f921"
             ]
            ],
            "type": "contour"
           }
          ],
          "contourcarpet": [
           {
            "colorbar": {
             "outlinewidth": 0,
             "ticks": ""
            },
            "type": "contourcarpet"
           }
          ],
          "heatmap": [
           {
            "colorbar": {
             "outlinewidth": 0,
             "ticks": ""
            },
            "colorscale": [
             [
              0,
              "#0d0887"
             ],
             [
              0.1111111111111111,
              "#46039f"
             ],
             [
              0.2222222222222222,
              "#7201a8"
             ],
             [
              0.3333333333333333,
              "#9c179e"
             ],
             [
              0.4444444444444444,
              "#bd3786"
             ],
             [
              0.5555555555555556,
              "#d8576b"
             ],
             [
              0.6666666666666666,
              "#ed7953"
             ],
             [
              0.7777777777777778,
              "#fb9f3a"
             ],
             [
              0.8888888888888888,
              "#fdca26"
             ],
             [
              1,
              "#f0f921"
             ]
            ],
            "type": "heatmap"
           }
          ],
          "heatmapgl": [
           {
            "colorbar": {
             "outlinewidth": 0,
             "ticks": ""
            },
            "colorscale": [
             [
              0,
              "#0d0887"
             ],
             [
              0.1111111111111111,
              "#46039f"
             ],
             [
              0.2222222222222222,
              "#7201a8"
             ],
             [
              0.3333333333333333,
              "#9c179e"
             ],
             [
              0.4444444444444444,
              "#bd3786"
             ],
             [
              0.5555555555555556,
              "#d8576b"
             ],
             [
              0.6666666666666666,
              "#ed7953"
             ],
             [
              0.7777777777777778,
              "#fb9f3a"
             ],
             [
              0.8888888888888888,
              "#fdca26"
             ],
             [
              1,
              "#f0f921"
             ]
            ],
            "type": "heatmapgl"
           }
          ],
          "histogram": [
           {
            "marker": {
             "pattern": {
              "fillmode": "overlay",
              "size": 10,
              "solidity": 0.2
             }
            },
            "type": "histogram"
           }
          ],
          "histogram2d": [
           {
            "colorbar": {
             "outlinewidth": 0,
             "ticks": ""
            },
            "colorscale": [
             [
              0,
              "#0d0887"
             ],
             [
              0.1111111111111111,
              "#46039f"
             ],
             [
              0.2222222222222222,
              "#7201a8"
             ],
             [
              0.3333333333333333,
              "#9c179e"
             ],
             [
              0.4444444444444444,
              "#bd3786"
             ],
             [
              0.5555555555555556,
              "#d8576b"
             ],
             [
              0.6666666666666666,
              "#ed7953"
             ],
             [
              0.7777777777777778,
              "#fb9f3a"
             ],
             [
              0.8888888888888888,
              "#fdca26"
             ],
             [
              1,
              "#f0f921"
             ]
            ],
            "type": "histogram2d"
           }
          ],
          "histogram2dcontour": [
           {
            "colorbar": {
             "outlinewidth": 0,
             "ticks": ""
            },
            "colorscale": [
             [
              0,
              "#0d0887"
             ],
             [
              0.1111111111111111,
              "#46039f"
             ],
             [
              0.2222222222222222,
              "#7201a8"
             ],
             [
              0.3333333333333333,
              "#9c179e"
             ],
             [
              0.4444444444444444,
              "#bd3786"
             ],
             [
              0.5555555555555556,
              "#d8576b"
             ],
             [
              0.6666666666666666,
              "#ed7953"
             ],
             [
              0.7777777777777778,
              "#fb9f3a"
             ],
             [
              0.8888888888888888,
              "#fdca26"
             ],
             [
              1,
              "#f0f921"
             ]
            ],
            "type": "histogram2dcontour"
           }
          ],
          "mesh3d": [
           {
            "colorbar": {
             "outlinewidth": 0,
             "ticks": ""
            },
            "type": "mesh3d"
           }
          ],
          "parcoords": [
           {
            "line": {
             "colorbar": {
              "outlinewidth": 0,
              "ticks": ""
             }
            },
            "type": "parcoords"
           }
          ],
          "pie": [
           {
            "automargin": true,
            "type": "pie"
           }
          ],
          "scatter": [
           {
            "marker": {
             "colorbar": {
              "outlinewidth": 0,
              "ticks": ""
             }
            },
            "type": "scatter"
           }
          ],
          "scatter3d": [
           {
            "line": {
             "colorbar": {
              "outlinewidth": 0,
              "ticks": ""
             }
            },
            "marker": {
             "colorbar": {
              "outlinewidth": 0,
              "ticks": ""
             }
            },
            "type": "scatter3d"
           }
          ],
          "scattercarpet": [
           {
            "marker": {
             "colorbar": {
              "outlinewidth": 0,
              "ticks": ""
             }
            },
            "type": "scattercarpet"
           }
          ],
          "scattergeo": [
           {
            "marker": {
             "colorbar": {
              "outlinewidth": 0,
              "ticks": ""
             }
            },
            "type": "scattergeo"
           }
          ],
          "scattergl": [
           {
            "marker": {
             "colorbar": {
              "outlinewidth": 0,
              "ticks": ""
             }
            },
            "type": "scattergl"
           }
          ],
          "scattermapbox": [
           {
            "marker": {
             "colorbar": {
              "outlinewidth": 0,
              "ticks": ""
             }
            },
            "type": "scattermapbox"
           }
          ],
          "scatterpolar": [
           {
            "marker": {
             "colorbar": {
              "outlinewidth": 0,
              "ticks": ""
             }
            },
            "type": "scatterpolar"
           }
          ],
          "scatterpolargl": [
           {
            "marker": {
             "colorbar": {
              "outlinewidth": 0,
              "ticks": ""
             }
            },
            "type": "scatterpolargl"
           }
          ],
          "scatterternary": [
           {
            "marker": {
             "colorbar": {
              "outlinewidth": 0,
              "ticks": ""
             }
            },
            "type": "scatterternary"
           }
          ],
          "surface": [
           {
            "colorbar": {
             "outlinewidth": 0,
             "ticks": ""
            },
            "colorscale": [
             [
              0,
              "#0d0887"
             ],
             [
              0.1111111111111111,
              "#46039f"
             ],
             [
              0.2222222222222222,
              "#7201a8"
             ],
             [
              0.3333333333333333,
              "#9c179e"
             ],
             [
              0.4444444444444444,
              "#bd3786"
             ],
             [
              0.5555555555555556,
              "#d8576b"
             ],
             [
              0.6666666666666666,
              "#ed7953"
             ],
             [
              0.7777777777777778,
              "#fb9f3a"
             ],
             [
              0.8888888888888888,
              "#fdca26"
             ],
             [
              1,
              "#f0f921"
             ]
            ],
            "type": "surface"
           }
          ],
          "table": [
           {
            "cells": {
             "fill": {
              "color": "#EBF0F8"
             },
             "line": {
              "color": "white"
             }
            },
            "header": {
             "fill": {
              "color": "#C8D4E3"
             },
             "line": {
              "color": "white"
             }
            },
            "type": "table"
           }
          ]
         },
         "layout": {
          "annotationdefaults": {
           "arrowcolor": "#2a3f5f",
           "arrowhead": 0,
           "arrowwidth": 1
          },
          "autotypenumbers": "strict",
          "coloraxis": {
           "colorbar": {
            "outlinewidth": 0,
            "ticks": ""
           }
          },
          "colorscale": {
           "diverging": [
            [
             0,
             "#8e0152"
            ],
            [
             0.1,
             "#c51b7d"
            ],
            [
             0.2,
             "#de77ae"
            ],
            [
             0.3,
             "#f1b6da"
            ],
            [
             0.4,
             "#fde0ef"
            ],
            [
             0.5,
             "#f7f7f7"
            ],
            [
             0.6,
             "#e6f5d0"
            ],
            [
             0.7,
             "#b8e186"
            ],
            [
             0.8,
             "#7fbc41"
            ],
            [
             0.9,
             "#4d9221"
            ],
            [
             1,
             "#276419"
            ]
           ],
           "sequential": [
            [
             0,
             "#0d0887"
            ],
            [
             0.1111111111111111,
             "#46039f"
            ],
            [
             0.2222222222222222,
             "#7201a8"
            ],
            [
             0.3333333333333333,
             "#9c179e"
            ],
            [
             0.4444444444444444,
             "#bd3786"
            ],
            [
             0.5555555555555556,
             "#d8576b"
            ],
            [
             0.6666666666666666,
             "#ed7953"
            ],
            [
             0.7777777777777778,
             "#fb9f3a"
            ],
            [
             0.8888888888888888,
             "#fdca26"
            ],
            [
             1,
             "#f0f921"
            ]
           ],
           "sequentialminus": [
            [
             0,
             "#0d0887"
            ],
            [
             0.1111111111111111,
             "#46039f"
            ],
            [
             0.2222222222222222,
             "#7201a8"
            ],
            [
             0.3333333333333333,
             "#9c179e"
            ],
            [
             0.4444444444444444,
             "#bd3786"
            ],
            [
             0.5555555555555556,
             "#d8576b"
            ],
            [
             0.6666666666666666,
             "#ed7953"
            ],
            [
             0.7777777777777778,
             "#fb9f3a"
            ],
            [
             0.8888888888888888,
             "#fdca26"
            ],
            [
             1,
             "#f0f921"
            ]
           ]
          },
          "colorway": [
           "#636efa",
           "#EF553B",
           "#00cc96",
           "#ab63fa",
           "#FFA15A",
           "#19d3f3",
           "#FF6692",
           "#B6E880",
           "#FF97FF",
           "#FECB52"
          ],
          "font": {
           "color": "#2a3f5f"
          },
          "geo": {
           "bgcolor": "white",
           "lakecolor": "white",
           "landcolor": "#E5ECF6",
           "showlakes": true,
           "showland": true,
           "subunitcolor": "white"
          },
          "hoverlabel": {
           "align": "left"
          },
          "hovermode": "closest",
          "mapbox": {
           "style": "light"
          },
          "paper_bgcolor": "white",
          "plot_bgcolor": "#E5ECF6",
          "polar": {
           "angularaxis": {
            "gridcolor": "white",
            "linecolor": "white",
            "ticks": ""
           },
           "bgcolor": "#E5ECF6",
           "radialaxis": {
            "gridcolor": "white",
            "linecolor": "white",
            "ticks": ""
           }
          },
          "scene": {
           "xaxis": {
            "backgroundcolor": "#E5ECF6",
            "gridcolor": "white",
            "gridwidth": 2,
            "linecolor": "white",
            "showbackground": true,
            "ticks": "",
            "zerolinecolor": "white"
           },
           "yaxis": {
            "backgroundcolor": "#E5ECF6",
            "gridcolor": "white",
            "gridwidth": 2,
            "linecolor": "white",
            "showbackground": true,
            "ticks": "",
            "zerolinecolor": "white"
           },
           "zaxis": {
            "backgroundcolor": "#E5ECF6",
            "gridcolor": "white",
            "gridwidth": 2,
            "linecolor": "white",
            "showbackground": true,
            "ticks": "",
            "zerolinecolor": "white"
           }
          },
          "shapedefaults": {
           "line": {
            "color": "#2a3f5f"
           }
          },
          "ternary": {
           "aaxis": {
            "gridcolor": "white",
            "linecolor": "white",
            "ticks": ""
           },
           "baxis": {
            "gridcolor": "white",
            "linecolor": "white",
            "ticks": ""
           },
           "bgcolor": "#E5ECF6",
           "caxis": {
            "gridcolor": "white",
            "linecolor": "white",
            "ticks": ""
           }
          },
          "title": {
           "x": 0.05
          },
          "xaxis": {
           "automargin": true,
           "gridcolor": "white",
           "linecolor": "white",
           "ticks": "",
           "title": {
            "standoff": 15
           },
           "zerolinecolor": "white",
           "zerolinewidth": 2
          },
          "yaxis": {
           "automargin": true,
           "gridcolor": "white",
           "linecolor": "white",
           "ticks": "",
           "title": {
            "standoff": 15
           },
           "zerolinecolor": "white",
           "zerolinewidth": 2
          }
         }
        }
       }
      }
     },
     "metadata": {},
     "output_type": "display_data"
    },
    {
     "data": {
      "application/vnd.plotly.v1+json": {
       "config": {
        "plotlyServerURL": "https://plot.ly"
       },
       "data": [
        {
         "close": [
          181.03,
          175.47,
          184.22,
          181.53,
          188.73,
          183.68,
          139.96,
          150.85,
          150.65,
          142.3,
          132.28,
          134.22,
          135.18,
          146.35,
          166.74,
          167.48,
          188.26,
          228.82,
          259.21,
          275.55,
          217.47,
          199.45,
          123.5,
          122.32,
          124.38,
          142.83,
          158.85,
          180.24,
          197.71,
          210.04,
          187.82,
          206.96,
          199.9,
          231.42,
          244.78,
          231.51,
          227.76,
          224.89,
          227.66,
          242.87,
          239.19,
          311.31,
          372.23,
          390.38,
          433.91,
          390.91,
          429.05,
          353.04,
          366.42,
          370.92,
          357.76,
          352.46,
          374.34,
          378.49,
          406.27,
          397.01,
          454.71,
          448.39,
          560.62,
          576.58,
          602.09,
          590.69,
          638.09,
          684.09,
          979.91,
          1254.5,
          1232.4,
          1394.6,
          1312.8,
          1614.6,
          1802.1,
          1935.1,
          1420.9,
          1726.5,
          1848.1,
          1783.9,
          1687,
          2077.2,
          2150.2,
          2240.3,
          2322.3,
          2951.3,
          3928.5,
          3584.8,
          2098.5,
          2387.5,
          2712.8,
          2509.8,
          2243.3,
          1983.1,
          2323.5,
          2140.7,
          1891.6,
          2192,
          2555.9,
          3013.7,
          3312.4,
          3241.7,
          3226.1,
          3952.6,
          3404.4,
          3328.4,
          3060.9,
          3419.9,
          3414.8,
          3847.3,
          4082.4,
          4290,
          4616.9,
          4627.3,
          4261.4,
          4297.9,
          4200.8,
          4132.7,
          3925.4,
          4066.2,
          3829.2,
          3150.8,
          3348.3,
          2540.5,
          2602.6,
          3057.5,
          2872.8,
          2622.1,
          2617.8,
          2550.9,
          2515.4,
          2862.2,
          3296.5,
          3522.2,
          3202.4,
          2988,
          2921.3,
          2824.4,
          2519,
          2142.2,
          2041.2,
          1811.6,
          1804.6,
          1432.9,
          1126.7,
          1197.2,
          1072.9,
          1167.3,
          1338.2,
          1598,
          1679.1,
          1700.4,
          1935.9,
          1617.8,
          1426.6,
          1578.8,
          1766.9,
          1334.6,
          1294.4,
          1276.7,
          1323.4,
          1305.8,
          1364.3,
          1544.8
         ],
         "high": [
          197.35,
          188.45,
          191.75,
          193.08,
          194.36,
          189.96,
          183.71,
          157.87,
          152.18,
          151.27,
          142.48,
          137.79,
          138.05,
          147.92,
          179.23,
          171.01,
          193.59,
          230.96,
          289.17,
          287.22,
          277.99,
          252.47,
          208.56,
          153.4,
          144.02,
          150.46,
          176.37,
          189.75,
          200.16,
          227.45,
          216.87,
          209.92,
          217.05,
          247.13,
          253.65,
          250.48,
          237.14,
          249.17,
          232.68,
          249.18,
          245.24,
          320.77,
          416.06,
          407.66,
          444.48,
          447.7,
          429.87,
          489,
          390.35,
          394.08,
          376.64,
          370.02,
          378.57,
          395.08,
          421.46,
          411.56,
          468.77,
          478.43,
          581.64,
          623.45,
          636.66,
          603.47,
          676.71,
          716.57,
          1017.36,
          1353.5,
          1292.7,
          1439.6,
          1478.2,
          1764.7,
          1876.9,
          2155,
          1938.4,
          1734.6,
          1944,
          1891,
          1807,
          2145.1,
          2198.6,
          2549.2,
          2645.9,
          2985.8,
          3986,
          4381.4,
          3589.4,
          2915.5,
          2896.5,
          2859,
          2640.9,
          2259.6,
          2398.2,
          2410.4,
          2168.1,
          2199.9,
          2698.5,
          3194.4,
          3334.8,
          3341.3,
          3400,
          4030.2,
          3972.2,
          3677.3,
          3346.7,
          3490,
          3677.3,
          3969.6,
          4374,
          4462.2,
          4670,
          4869.7,
          4770.8,
          4557.3,
          4784.2,
          4495,
          4146.1,
          4160,
          4128.9,
          3896,
          3413.7,
          3359.2,
          2723.4,
          3078.8,
          3286.5,
          3199.4,
          2881.5,
          3046.7,
          2774.7,
          2987.7,
          3300.1,
          3581.4,
          3555.6,
          3215.1,
          3181.9,
          3037.9,
          2966.5,
          2529.4,
          2142.4,
          2087.3,
          2014.9,
          1918,
          1453.2,
          1280.3,
          1238.1,
          1275.2,
          1424.7,
          1664.5,
          1785.6,
          1750.9,
          2030.9,
          2012.9,
          1722.1,
          1649,
          1790.3,
          1784,
          1410,
          1400.4,
          1384,
          1343.4,
          1371.4,
          1596
         ],
         "low": [
          168.64,
          168.46,
          152.96,
          176.9,
          180.09,
          177.16,
          137.58,
          131.83,
          143.21,
          139.13,
          116.22,
          122.38,
          125.53,
          134.72,
          142.18,
          155.21,
          165,
          184.44,
          216.36,
          242.52,
          209.9,
          195.31,
          87.69,
          100.67,
          118.8,
          124.04,
          142.79,
          148.46,
          166.74,
          189.94,
          180.14,
          175,
          191.28,
          196.79,
          222.1,
          225.57,
          217.85,
          215.66,
          221.03,
          227.03,
          225.81,
          234.2,
          295.23,
          362.46,
          366.72,
          379.53,
          370.15,
          309,
          323.11,
          354.35,
          313.2,
          334.48,
          333.22,
          361.43,
          365.34,
          372.34,
          370.52,
          434.02,
          445.9,
          480.67,
          560,
          530.08,
          575.54,
          546.28,
          681.15,
          888.5,
          913,
          1041,
          1207.1,
          1269.3,
          1566.2,
          1663.9,
          1292.4,
          1412.2,
          1666.1,
          1712.2,
          1546,
          1677.7,
          1930.6,
          1925,
          2051.4,
          2305,
          2951.3,
          3349.2,
          1730,
          2051,
          2269,
          2256.7,
          2042,
          1699.9,
          1962,
          2048.5,
          1845.6,
          1718.8,
          2152.5,
          2444,
          2895,
          2950,
          3055,
          3145,
          2994.1,
          3099.9,
          2650,
          2780.6,
          3270,
          3372,
          3477,
          3890.8,
          4150.1,
          4467.3,
          3958,
          3912,
          3480,
          3832.4,
          3642,
          3752,
          3582.6,
          2998,
          2921.8,
          2300,
          2159.5,
          2476.8,
          2837.2,
          2575.7,
          2301.1,
          2533.3,
          2444.7,
          2498.7,
          2832.6,
          3212.2,
          3142.6,
          2950,
          2881.1,
          2714.5,
          2482,
          1703,
          1900.6,
          1700,
          1734.2,
          1423,
          880,
          1042.7,
          996,
          1043.9,
          1005.3,
          1335,
          1356.2,
          1556.4,
          1653.6,
          1523.4,
          1423.6,
          1421.9,
          1490.1,
          1325.5,
          1219.2,
          1254,
          1262.8,
          1189,
          1252.2,
          1323.8
         ],
         "open": [
          170.1,
          181.03,
          175.47,
          184.27,
          181.55,
          188.73,
          183.68,
          139.97,
          150.85,
          150.65,
          142.3,
          132.33,
          134.21,
          135.18,
          146.38,
          166.74,
          167.48,
          188.26,
          228.82,
          258.68,
          275.61,
          217.47,
          199.48,
          123.5,
          122.32,
          124.38,
          142.84,
          158.85,
          180.24,
          197.71,
          210.04,
          187.82,
          206.96,
          199.76,
          231.42,
          244.78,
          231.51,
          227.76,
          224.92,
          227.66,
          242.87,
          239.19,
          311.31,
          372.23,
          390.38,
          433.91,
          390.91,
          429.05,
          353.04,
          366.42,
          370.96,
          357.72,
          352.46,
          374.37,
          378.49,
          406.27,
          397.01,
          454.71,
          448.39,
          560.62,
          576.58,
          602.09,
          590.69,
          638.09,
          684.09,
          979.91,
          1254.5,
          1232.4,
          1394.6,
          1312.8,
          1614.6,
          1802.1,
          1935.1,
          1420.9,
          1726.5,
          1848.1,
          1783.9,
          1687,
          2077.2,
          2150.2,
          2240.3,
          2322.3,
          2951.3,
          3928.5,
          3584.8,
          2098.5,
          2387.5,
          2712.8,
          2509.9,
          2243.3,
          1983.1,
          2323.2,
          2140.7,
          1891.6,
          2192,
          2556,
          3013.7,
          3312.4,
          3241.7,
          3226.1,
          3952.6,
          3404.4,
          3328.7,
          3060.9,
          3419.9,
          3414.8,
          3847.3,
          4082.4,
          4290,
          4616.9,
          4627.3,
          4261.4,
          4297.9,
          4200.8,
          4132.7,
          3925.4,
          4066.2,
          3829.2,
          3150.8,
          3348.3,
          2540.5,
          2602.6,
          3057.5,
          2872.8,
          2622.1,
          2617.8,
          2550.9,
          2515.4,
          2862.2,
          3296.5,
          3522.2,
          3202.4,
          2988,
          2921.3,
          2824.4,
          2519,
          2142.2,
          2041.2,
          1811.6,
          1804.6,
          1433.1,
          1126.9,
          1197.2,
          1072.9,
          1167.3,
          1338.2,
          1598,
          1679.1,
          1700.4,
          1935.9,
          1617.8,
          1426.6,
          1578.8,
          1766.9,
          1334.8,
          1294.4,
          1276.7,
          1323.5,
          1305.8,
          1364.3
         ],
         "type": "candlestick",
         "x": [
          "2019-10-07T00:00:00",
          "2019-10-14T00:00:00",
          "2019-10-21T00:00:00",
          "2019-10-28T00:00:00",
          "2019-11-04T00:00:00",
          "2019-11-11T00:00:00",
          "2019-11-18T00:00:00",
          "2019-11-25T00:00:00",
          "2019-12-02T00:00:00",
          "2019-12-09T00:00:00",
          "2019-12-16T00:00:00",
          "2019-12-23T00:00:00",
          "2019-12-30T00:00:00",
          "2020-01-06T00:00:00",
          "2020-01-13T00:00:00",
          "2020-01-20T00:00:00",
          "2020-01-27T00:00:00",
          "2020-02-03T00:00:00",
          "2020-02-10T00:00:00",
          "2020-02-17T00:00:00",
          "2020-02-24T00:00:00",
          "2020-03-02T00:00:00",
          "2020-03-09T00:00:00",
          "2020-03-16T00:00:00",
          "2020-03-23T00:00:00",
          "2020-03-30T00:00:00",
          "2020-04-06T00:00:00",
          "2020-04-13T00:00:00",
          "2020-04-20T00:00:00",
          "2020-04-27T00:00:00",
          "2020-05-04T00:00:00",
          "2020-05-11T00:00:00",
          "2020-05-18T00:00:00",
          "2020-05-25T00:00:00",
          "2020-06-01T00:00:00",
          "2020-06-08T00:00:00",
          "2020-06-15T00:00:00",
          "2020-06-22T00:00:00",
          "2020-06-29T00:00:00",
          "2020-07-06T00:00:00",
          "2020-07-13T00:00:00",
          "2020-07-20T00:00:00",
          "2020-07-27T00:00:00",
          "2020-08-03T00:00:00",
          "2020-08-10T00:00:00",
          "2020-08-17T00:00:00",
          "2020-08-24T00:00:00",
          "2020-08-31T00:00:00",
          "2020-09-07T00:00:00",
          "2020-09-14T00:00:00",
          "2020-09-21T00:00:00",
          "2020-09-28T00:00:00",
          "2020-10-05T00:00:00",
          "2020-10-12T00:00:00",
          "2020-10-19T00:00:00",
          "2020-10-26T00:00:00",
          "2020-11-02T00:00:00",
          "2020-11-09T00:00:00",
          "2020-11-16T00:00:00",
          "2020-11-23T00:00:00",
          "2020-11-30T00:00:00",
          "2020-12-07T00:00:00",
          "2020-12-14T00:00:00",
          "2020-12-21T00:00:00",
          "2020-12-28T00:00:00",
          "2021-01-04T00:00:00",
          "2021-01-11T00:00:00",
          "2021-01-18T00:00:00",
          "2021-01-25T00:00:00",
          "2021-02-01T00:00:00",
          "2021-02-08T00:00:00",
          "2021-02-15T00:00:00",
          "2021-02-22T00:00:00",
          "2021-03-01T00:00:00",
          "2021-03-08T00:00:00",
          "2021-03-15T00:00:00",
          "2021-03-22T00:00:00",
          "2021-03-29T00:00:00",
          "2021-04-05T00:00:00",
          "2021-04-12T00:00:00",
          "2021-04-19T00:00:00",
          "2021-04-26T00:00:00",
          "2021-05-03T00:00:00",
          "2021-05-10T00:00:00",
          "2021-05-17T00:00:00",
          "2021-05-24T00:00:00",
          "2021-05-31T00:00:00",
          "2021-06-07T00:00:00",
          "2021-06-14T00:00:00",
          "2021-06-21T00:00:00",
          "2021-06-28T00:00:00",
          "2021-07-05T00:00:00",
          "2021-07-12T00:00:00",
          "2021-07-19T00:00:00",
          "2021-07-26T00:00:00",
          "2021-08-02T00:00:00",
          "2021-08-09T00:00:00",
          "2021-08-16T00:00:00",
          "2021-08-23T00:00:00",
          "2021-08-30T00:00:00",
          "2021-09-06T00:00:00",
          "2021-09-13T00:00:00",
          "2021-09-20T00:00:00",
          "2021-09-27T00:00:00",
          "2021-10-04T00:00:00",
          "2021-10-11T00:00:00",
          "2021-10-18T00:00:00",
          "2021-10-25T00:00:00",
          "2021-11-01T00:00:00",
          "2021-11-08T00:00:00",
          "2021-11-15T00:00:00",
          "2021-11-22T00:00:00",
          "2021-11-29T00:00:00",
          "2021-12-06T00:00:00",
          "2021-12-13T00:00:00",
          "2021-12-20T00:00:00",
          "2021-12-27T00:00:00",
          "2022-01-03T00:00:00",
          "2022-01-10T00:00:00",
          "2022-01-17T00:00:00",
          "2022-01-24T00:00:00",
          "2022-01-31T00:00:00",
          "2022-02-07T00:00:00",
          "2022-02-14T00:00:00",
          "2022-02-21T00:00:00",
          "2022-02-28T00:00:00",
          "2022-03-07T00:00:00",
          "2022-03-14T00:00:00",
          "2022-03-21T00:00:00",
          "2022-03-28T00:00:00",
          "2022-04-04T00:00:00",
          "2022-04-11T00:00:00",
          "2022-04-18T00:00:00",
          "2022-04-25T00:00:00",
          "2022-05-02T00:00:00",
          "2022-05-09T00:00:00",
          "2022-05-16T00:00:00",
          "2022-05-23T00:00:00",
          "2022-05-30T00:00:00",
          "2022-06-06T00:00:00",
          "2022-06-13T00:00:00",
          "2022-06-20T00:00:00",
          "2022-06-27T00:00:00",
          "2022-07-04T00:00:00",
          "2022-07-11T00:00:00",
          "2022-07-18T00:00:00",
          "2022-07-25T00:00:00",
          "2022-08-01T00:00:00",
          "2022-08-08T00:00:00",
          "2022-08-15T00:00:00",
          "2022-08-22T00:00:00",
          "2022-08-29T00:00:00",
          "2022-09-05T00:00:00",
          "2022-09-12T00:00:00",
          "2022-09-19T00:00:00",
          "2022-09-26T00:00:00",
          "2022-10-03T00:00:00",
          "2022-10-10T00:00:00",
          "2022-10-17T00:00:00",
          "2022-10-24T00:00:00"
         ]
        }
       ],
       "layout": {
        "template": {
         "data": {
          "bar": [
           {
            "error_x": {
             "color": "#2a3f5f"
            },
            "error_y": {
             "color": "#2a3f5f"
            },
            "marker": {
             "line": {
              "color": "#E5ECF6",
              "width": 0.5
             },
             "pattern": {
              "fillmode": "overlay",
              "size": 10,
              "solidity": 0.2
             }
            },
            "type": "bar"
           }
          ],
          "barpolar": [
           {
            "marker": {
             "line": {
              "color": "#E5ECF6",
              "width": 0.5
             },
             "pattern": {
              "fillmode": "overlay",
              "size": 10,
              "solidity": 0.2
             }
            },
            "type": "barpolar"
           }
          ],
          "carpet": [
           {
            "aaxis": {
             "endlinecolor": "#2a3f5f",
             "gridcolor": "white",
             "linecolor": "white",
             "minorgridcolor": "white",
             "startlinecolor": "#2a3f5f"
            },
            "baxis": {
             "endlinecolor": "#2a3f5f",
             "gridcolor": "white",
             "linecolor": "white",
             "minorgridcolor": "white",
             "startlinecolor": "#2a3f5f"
            },
            "type": "carpet"
           }
          ],
          "choropleth": [
           {
            "colorbar": {
             "outlinewidth": 0,
             "ticks": ""
            },
            "type": "choropleth"
           }
          ],
          "contour": [
           {
            "colorbar": {
             "outlinewidth": 0,
             "ticks": ""
            },
            "colorscale": [
             [
              0,
              "#0d0887"
             ],
             [
              0.1111111111111111,
              "#46039f"
             ],
             [
              0.2222222222222222,
              "#7201a8"
             ],
             [
              0.3333333333333333,
              "#9c179e"
             ],
             [
              0.4444444444444444,
              "#bd3786"
             ],
             [
              0.5555555555555556,
              "#d8576b"
             ],
             [
              0.6666666666666666,
              "#ed7953"
             ],
             [
              0.7777777777777778,
              "#fb9f3a"
             ],
             [
              0.8888888888888888,
              "#fdca26"
             ],
             [
              1,
              "#f0f921"
             ]
            ],
            "type": "contour"
           }
          ],
          "contourcarpet": [
           {
            "colorbar": {
             "outlinewidth": 0,
             "ticks": ""
            },
            "type": "contourcarpet"
           }
          ],
          "heatmap": [
           {
            "colorbar": {
             "outlinewidth": 0,
             "ticks": ""
            },
            "colorscale": [
             [
              0,
              "#0d0887"
             ],
             [
              0.1111111111111111,
              "#46039f"
             ],
             [
              0.2222222222222222,
              "#7201a8"
             ],
             [
              0.3333333333333333,
              "#9c179e"
             ],
             [
              0.4444444444444444,
              "#bd3786"
             ],
             [
              0.5555555555555556,
              "#d8576b"
             ],
             [
              0.6666666666666666,
              "#ed7953"
             ],
             [
              0.7777777777777778,
              "#fb9f3a"
             ],
             [
              0.8888888888888888,
              "#fdca26"
             ],
             [
              1,
              "#f0f921"
             ]
            ],
            "type": "heatmap"
           }
          ],
          "heatmapgl": [
           {
            "colorbar": {
             "outlinewidth": 0,
             "ticks": ""
            },
            "colorscale": [
             [
              0,
              "#0d0887"
             ],
             [
              0.1111111111111111,
              "#46039f"
             ],
             [
              0.2222222222222222,
              "#7201a8"
             ],
             [
              0.3333333333333333,
              "#9c179e"
             ],
             [
              0.4444444444444444,
              "#bd3786"
             ],
             [
              0.5555555555555556,
              "#d8576b"
             ],
             [
              0.6666666666666666,
              "#ed7953"
             ],
             [
              0.7777777777777778,
              "#fb9f3a"
             ],
             [
              0.8888888888888888,
              "#fdca26"
             ],
             [
              1,
              "#f0f921"
             ]
            ],
            "type": "heatmapgl"
           }
          ],
          "histogram": [
           {
            "marker": {
             "pattern": {
              "fillmode": "overlay",
              "size": 10,
              "solidity": 0.2
             }
            },
            "type": "histogram"
           }
          ],
          "histogram2d": [
           {
            "colorbar": {
             "outlinewidth": 0,
             "ticks": ""
            },
            "colorscale": [
             [
              0,
              "#0d0887"
             ],
             [
              0.1111111111111111,
              "#46039f"
             ],
             [
              0.2222222222222222,
              "#7201a8"
             ],
             [
              0.3333333333333333,
              "#9c179e"
             ],
             [
              0.4444444444444444,
              "#bd3786"
             ],
             [
              0.5555555555555556,
              "#d8576b"
             ],
             [
              0.6666666666666666,
              "#ed7953"
             ],
             [
              0.7777777777777778,
              "#fb9f3a"
             ],
             [
              0.8888888888888888,
              "#fdca26"
             ],
             [
              1,
              "#f0f921"
             ]
            ],
            "type": "histogram2d"
           }
          ],
          "histogram2dcontour": [
           {
            "colorbar": {
             "outlinewidth": 0,
             "ticks": ""
            },
            "colorscale": [
             [
              0,
              "#0d0887"
             ],
             [
              0.1111111111111111,
              "#46039f"
             ],
             [
              0.2222222222222222,
              "#7201a8"
             ],
             [
              0.3333333333333333,
              "#9c179e"
             ],
             [
              0.4444444444444444,
              "#bd3786"
             ],
             [
              0.5555555555555556,
              "#d8576b"
             ],
             [
              0.6666666666666666,
              "#ed7953"
             ],
             [
              0.7777777777777778,
              "#fb9f3a"
             ],
             [
              0.8888888888888888,
              "#fdca26"
             ],
             [
              1,
              "#f0f921"
             ]
            ],
            "type": "histogram2dcontour"
           }
          ],
          "mesh3d": [
           {
            "colorbar": {
             "outlinewidth": 0,
             "ticks": ""
            },
            "type": "mesh3d"
           }
          ],
          "parcoords": [
           {
            "line": {
             "colorbar": {
              "outlinewidth": 0,
              "ticks": ""
             }
            },
            "type": "parcoords"
           }
          ],
          "pie": [
           {
            "automargin": true,
            "type": "pie"
           }
          ],
          "scatter": [
           {
            "marker": {
             "colorbar": {
              "outlinewidth": 0,
              "ticks": ""
             }
            },
            "type": "scatter"
           }
          ],
          "scatter3d": [
           {
            "line": {
             "colorbar": {
              "outlinewidth": 0,
              "ticks": ""
             }
            },
            "marker": {
             "colorbar": {
              "outlinewidth": 0,
              "ticks": ""
             }
            },
            "type": "scatter3d"
           }
          ],
          "scattercarpet": [
           {
            "marker": {
             "colorbar": {
              "outlinewidth": 0,
              "ticks": ""
             }
            },
            "type": "scattercarpet"
           }
          ],
          "scattergeo": [
           {
            "marker": {
             "colorbar": {
              "outlinewidth": 0,
              "ticks": ""
             }
            },
            "type": "scattergeo"
           }
          ],
          "scattergl": [
           {
            "marker": {
             "colorbar": {
              "outlinewidth": 0,
              "ticks": ""
             }
            },
            "type": "scattergl"
           }
          ],
          "scattermapbox": [
           {
            "marker": {
             "colorbar": {
              "outlinewidth": 0,
              "ticks": ""
             }
            },
            "type": "scattermapbox"
           }
          ],
          "scatterpolar": [
           {
            "marker": {
             "colorbar": {
              "outlinewidth": 0,
              "ticks": ""
             }
            },
            "type": "scatterpolar"
           }
          ],
          "scatterpolargl": [
           {
            "marker": {
             "colorbar": {
              "outlinewidth": 0,
              "ticks": ""
             }
            },
            "type": "scatterpolargl"
           }
          ],
          "scatterternary": [
           {
            "marker": {
             "colorbar": {
              "outlinewidth": 0,
              "ticks": ""
             }
            },
            "type": "scatterternary"
           }
          ],
          "surface": [
           {
            "colorbar": {
             "outlinewidth": 0,
             "ticks": ""
            },
            "colorscale": [
             [
              0,
              "#0d0887"
             ],
             [
              0.1111111111111111,
              "#46039f"
             ],
             [
              0.2222222222222222,
              "#7201a8"
             ],
             [
              0.3333333333333333,
              "#9c179e"
             ],
             [
              0.4444444444444444,
              "#bd3786"
             ],
             [
              0.5555555555555556,
              "#d8576b"
             ],
             [
              0.6666666666666666,
              "#ed7953"
             ],
             [
              0.7777777777777778,
              "#fb9f3a"
             ],
             [
              0.8888888888888888,
              "#fdca26"
             ],
             [
              1,
              "#f0f921"
             ]
            ],
            "type": "surface"
           }
          ],
          "table": [
           {
            "cells": {
             "fill": {
              "color": "#EBF0F8"
             },
             "line": {
              "color": "white"
             }
            },
            "header": {
             "fill": {
              "color": "#C8D4E3"
             },
             "line": {
              "color": "white"
             }
            },
            "type": "table"
           }
          ]
         },
         "layout": {
          "annotationdefaults": {
           "arrowcolor": "#2a3f5f",
           "arrowhead": 0,
           "arrowwidth": 1
          },
          "autotypenumbers": "strict",
          "coloraxis": {
           "colorbar": {
            "outlinewidth": 0,
            "ticks": ""
           }
          },
          "colorscale": {
           "diverging": [
            [
             0,
             "#8e0152"
            ],
            [
             0.1,
             "#c51b7d"
            ],
            [
             0.2,
             "#de77ae"
            ],
            [
             0.3,
             "#f1b6da"
            ],
            [
             0.4,
             "#fde0ef"
            ],
            [
             0.5,
             "#f7f7f7"
            ],
            [
             0.6,
             "#e6f5d0"
            ],
            [
             0.7,
             "#b8e186"
            ],
            [
             0.8,
             "#7fbc41"
            ],
            [
             0.9,
             "#4d9221"
            ],
            [
             1,
             "#276419"
            ]
           ],
           "sequential": [
            [
             0,
             "#0d0887"
            ],
            [
             0.1111111111111111,
             "#46039f"
            ],
            [
             0.2222222222222222,
             "#7201a8"
            ],
            [
             0.3333333333333333,
             "#9c179e"
            ],
            [
             0.4444444444444444,
             "#bd3786"
            ],
            [
             0.5555555555555556,
             "#d8576b"
            ],
            [
             0.6666666666666666,
             "#ed7953"
            ],
            [
             0.7777777777777778,
             "#fb9f3a"
            ],
            [
             0.8888888888888888,
             "#fdca26"
            ],
            [
             1,
             "#f0f921"
            ]
           ],
           "sequentialminus": [
            [
             0,
             "#0d0887"
            ],
            [
             0.1111111111111111,
             "#46039f"
            ],
            [
             0.2222222222222222,
             "#7201a8"
            ],
            [
             0.3333333333333333,
             "#9c179e"
            ],
            [
             0.4444444444444444,
             "#bd3786"
            ],
            [
             0.5555555555555556,
             "#d8576b"
            ],
            [
             0.6666666666666666,
             "#ed7953"
            ],
            [
             0.7777777777777778,
             "#fb9f3a"
            ],
            [
             0.8888888888888888,
             "#fdca26"
            ],
            [
             1,
             "#f0f921"
            ]
           ]
          },
          "colorway": [
           "#636efa",
           "#EF553B",
           "#00cc96",
           "#ab63fa",
           "#FFA15A",
           "#19d3f3",
           "#FF6692",
           "#B6E880",
           "#FF97FF",
           "#FECB52"
          ],
          "font": {
           "color": "#2a3f5f"
          },
          "geo": {
           "bgcolor": "white",
           "lakecolor": "white",
           "landcolor": "#E5ECF6",
           "showlakes": true,
           "showland": true,
           "subunitcolor": "white"
          },
          "hoverlabel": {
           "align": "left"
          },
          "hovermode": "closest",
          "mapbox": {
           "style": "light"
          },
          "paper_bgcolor": "white",
          "plot_bgcolor": "#E5ECF6",
          "polar": {
           "angularaxis": {
            "gridcolor": "white",
            "linecolor": "white",
            "ticks": ""
           },
           "bgcolor": "#E5ECF6",
           "radialaxis": {
            "gridcolor": "white",
            "linecolor": "white",
            "ticks": ""
           }
          },
          "scene": {
           "xaxis": {
            "backgroundcolor": "#E5ECF6",
            "gridcolor": "white",
            "gridwidth": 2,
            "linecolor": "white",
            "showbackground": true,
            "ticks": "",
            "zerolinecolor": "white"
           },
           "yaxis": {
            "backgroundcolor": "#E5ECF6",
            "gridcolor": "white",
            "gridwidth": 2,
            "linecolor": "white",
            "showbackground": true,
            "ticks": "",
            "zerolinecolor": "white"
           },
           "zaxis": {
            "backgroundcolor": "#E5ECF6",
            "gridcolor": "white",
            "gridwidth": 2,
            "linecolor": "white",
            "showbackground": true,
            "ticks": "",
            "zerolinecolor": "white"
           }
          },
          "shapedefaults": {
           "line": {
            "color": "#2a3f5f"
           }
          },
          "ternary": {
           "aaxis": {
            "gridcolor": "white",
            "linecolor": "white",
            "ticks": ""
           },
           "baxis": {
            "gridcolor": "white",
            "linecolor": "white",
            "ticks": ""
           },
           "bgcolor": "#E5ECF6",
           "caxis": {
            "gridcolor": "white",
            "linecolor": "white",
            "ticks": ""
           }
          },
          "title": {
           "x": 0.05
          },
          "xaxis": {
           "automargin": true,
           "gridcolor": "white",
           "linecolor": "white",
           "ticks": "",
           "title": {
            "standoff": 15
           },
           "zerolinecolor": "white",
           "zerolinewidth": 2
          },
          "yaxis": {
           "automargin": true,
           "gridcolor": "white",
           "linecolor": "white",
           "ticks": "",
           "title": {
            "standoff": 15
           },
           "zerolinecolor": "white",
           "zerolinewidth": 2
          }
         }
        }
       }
      }
     },
     "metadata": {},
     "output_type": "display_data"
    }
   ],
   "source": [
    "import plotly.graph_objects as go\n",
    "\n",
    "fig = go.Figure(data=[go.Candlestick(x=heikin_ashi_candles.index,\n",
    "                open=heikin_ashi_candles['ha_Open'],\n",
    "                high=heikin_ashi_candles['ha_High'],\n",
    "                low=heikin_ashi_candles['ha_Low'],\n",
    "                close=heikin_ashi_candles['ha_Close'])])\n",
    "\n",
    "fig2 = go.Figure(data=[go.Candlestick(x=trimmed_weekly.index,\n",
    "                open=trimmed_weekly['Open'],\n",
    "                high=trimmed_weekly['High'],\n",
    "                low=trimmed_weekly['Low'],\n",
    "                close=trimmed_weekly['Close'])])\n",
    "\n",
    "# fig.update_yaxes(type=\"log\")\n",
    "# fig2.update_yaxes(type=\"log\")\n",
    "fig.show()\n",
    "fig2.show()\n"
   ]
  },
  {
   "cell_type": "markdown",
   "metadata": {},
   "source": [
    "For each candle calculate the following metrics:\n",
    "-  Close/low\n",
    "-  close/high\n",
    "-  close/open"
   ]
  },
  {
   "cell_type": "code",
   "execution_count": 10,
   "metadata": {},
   "outputs": [],
   "source": [
    "# closes = np.array(heikin_ashi_candles[\"Close\"])\n",
    "# open_prices = np.array(heikin_ashi_candles[\"Open\"])\n",
    "# highs = np.array(heikin_ashi_candles[\"High\"])\n",
    "# lows = np.array(heikin_ashi_candles[\"Low\"])\n",
    "\n",
    "# c_l = np.divide(closes,lows)\n",
    "# c_h = np.divide(closes, highs)\n",
    "# c_o = np.divide(closes, open_prices)"
   ]
  },
  {
   "cell_type": "markdown",
   "metadata": {},
   "source": [
    "### Backtesting\n",
    "Now that we have matched the heikin ashi candles to the normal candles, we can backtest a simple trading strategy that sells when the HA candle is red and buys when it's green."
   ]
  },
  {
   "cell_type": "code",
   "execution_count": 11,
   "metadata": {},
   "outputs": [],
   "source": [
    "def single_test(raw_data: pd.DataFrame, sample_size=None):\n",
    "    normal_candles = raw_data.__copy__()\n",
    "    ha = convert_data_to_heikin_ashi_processed(raw_data)\n",
    "    normal_candles[\"Date\"] = pd.to_datetime(normal_candles[\"unix\"], unit=\"ms\")\n",
    "    normal_candles.columns = ['Unix', 'Close', 'High', 'Low', 'Open', 'Date']\n",
    "    normal_candles.set_index('Date', inplace=True)\n",
    "    combined_data=pd.concat([normal_candles, ha], axis=1).dropna()\n",
    "    test_df = combined_data.loc[:,[\"Open\", \"Green\"]]\n",
    "    if sample_size !=None:\n",
    "        test_df = test_df.iloc[len(test_df)-sample_size-1:]\n",
    "    \n",
    "\n",
    "    longs, shorts, outcome, profit, final_equity, equity_curve=backtest_heikin_ashi(test_df)\n",
    "    fig = go.Figure(data=[go.Candlestick(x=combined_data.index,\n",
    "                    open=combined_data['Open'],\n",
    "                    high=combined_data['High'],\n",
    "                    low=combined_data['Low'],\n",
    "                    close=combined_data['Close'])])\n",
    "    \n",
    "    fig2 = go.Figure(data=[go.Candlestick(x=combined_data.index,\n",
    "                    open=combined_data['ha_Open'],\n",
    "                    high=combined_data['ha_High'],\n",
    "                    low=combined_data['ha_Low'],\n",
    "                    close=combined_data['ha_Close'])])\n",
    "    # plt.vlines(longs, ymin=raw_data['low'].min(), ymax=raw_data['high'].max(), colors='green')\n",
    "    # plt.vlines(shorts, ymin=raw_data['low'].min(), ymax=raw_data['high'].max(), colors='red')\n",
    "    return longs, shorts, outcome, profit, final_equity, equity_curve, fig, fig2\n",
    "\n",
    "def single_test_lower_timeframe(raw_data: pd.DataFrame, no_consecutive, sample_size=None):\n",
    "    normal_candles = raw_data.__copy__()\n",
    "    ha = convert_data_to_heikin_ashi_processed(raw_data)\n",
    "    normal_candles[\"Date\"] = pd.to_datetime(normal_candles[\"unix\"], unit=\"ms\")\n",
    "    normal_candles.columns = ['Unix', 'Close', 'High', 'Low', 'Open', 'Date']\n",
    "    normal_candles.set_index('Date', inplace=True)\n",
    "    combined_data=pd.concat([normal_candles, ha], axis=1).dropna()\n",
    "    test_df = combined_data.loc[:,[\"Open\", \"Green\"]]\n",
    "    if sample_size !=None:\n",
    "        test_df = test_df.iloc[len(test_df)-sample_size-1:]\n",
    "    \n",
    "    longs, shorts, outcome, profit, final_equity, equity_curve=backtest_heikin_ashi_lower_timeframe(test_df, no_consecutive)\n",
    "    fig = go.Figure(data=[go.Candlestick(x=combined_data.index,\n",
    "                    open=combined_data['Open'],\n",
    "                    high=combined_data['High'],\n",
    "                    low=combined_data['Low'],\n",
    "                    close=combined_data['Close'])])\n",
    "    \n",
    "    fig2 = go.Figure(data=[go.Candlestick(x=combined_data.index,\n",
    "                    open=combined_data['ha_Open'],\n",
    "                    high=combined_data['ha_High'],\n",
    "                    low=combined_data['ha_Low'],\n",
    "                    close=combined_data['ha_Close'])])\n",
    "    # plt.vlines(longs, ymin=raw_data['low'].min(), ymax=raw_data['high'].max(), colors='green')\n",
    "    # plt.vlines(shorts, ymin=raw_data['low'].min(), ymax=raw_data['high'].max(), colors='red')\n",
    "    print(np.sum(outcome)/len(outcome))\n",
    "    print(np.mean(profit))\n",
    "    print(final_equity)\n",
    "    return longs, shorts, outcome, profit, final_equity, equity_curve, fig, fig2\n",
    "\n",
    "    \n",
    "\n",
    "def backtest_heikin_ashi(test_df): # raw data contains normal OHCL candles\n",
    "    equity=1\n",
    "    fee_rate=0.0006\n",
    "    state='neutral'\n",
    "    timestamps = test_df.index.date\n",
    "    equity_record=[]\n",
    "    longs=[]\n",
    "    shorts=[]\n",
    "    outcome=[]\n",
    "    profit=[]\n",
    "    sl=None\n",
    "    entry=None\n",
    "    equity_curve=[]\n",
    "    print('Datapoints: ',len(test_df))\n",
    "    for i in range(1,len(test_df)):\n",
    "\n",
    "        time=timestamps[i]\n",
    "        \n",
    "        current=test_df.iloc[i]['Open'].item() # uses opens now as opens are confirmed\n",
    "        green= test_df.iloc[i][\"Green\"]\n",
    "        \n",
    "        if green and state != 'long':\n",
    "            #remember to calculate profit if flipping from short\n",
    "            if state=='short':\n",
    "                outcome.append(current<entry)\n",
    "                profit.append(1-(current/entry))\n",
    "                equity=equity*(1+(1-(current/entry))-fee_rate)\n",
    "                # equity=(entry*trade_amount-current*trade_amount)+equity\n",
    "            entry=current\n",
    "            equity_curve.append([time,equity])\n",
    "            state='long'\n",
    "            longs.append(time)\n",
    "        elif not(green) and state != 'short':\n",
    "            if state=='long':\n",
    "                outcome.append(current>entry)\n",
    "                profit.append(current/entry -1)\n",
    "                equity=equity*(1+(current/entry -1)-fee_rate)\n",
    "            entry=current\n",
    "            equity_curve.append([time,equity])    \n",
    "            # trade_amount=equity*entry\n",
    "            state='short'\n",
    "            shorts.append(time)\n",
    "            #print(state+' from $'+str(current))\n",
    "        if equity < 0.05:\n",
    "            equity=0\n",
    "            print('went broke')\n",
    "            break\n",
    "\n",
    "        if i==len(test_df)-1:\n",
    "            if state=='long':\n",
    "                equity=equity*(current/entry)\n",
    "            elif state=='short':\n",
    "                equity=equity*(2-current/entry)\n",
    "            equity_curve.append([time,equity])\n",
    "\n",
    "    \n",
    "    return longs,shorts,np.array(outcome), np.array(profit), equity, np.array(equity_curve)\n",
    "\n",
    "def backtest_heikin_ashi_lower_timeframe(test_df, no_consecutive): # raw data contains normal OHCL candles\n",
    "    equity=1\n",
    "    fee_rate=0.0006\n",
    "    state='neutral'\n",
    "    timestamps = test_df.index.date\n",
    "    equity_record=[]\n",
    "    longs=[]\n",
    "    shorts=[]\n",
    "    outcome=[]\n",
    "    profit=[]\n",
    "    sl=None\n",
    "    entry=None\n",
    "    equity_curve=[]\n",
    "    print('Datapoints: ',len(test_df))\n",
    "    for i in range(1,len(test_df)):\n",
    "\n",
    "        time=timestamps[i]\n",
    "        \n",
    "        current=test_df.iloc[i]['Open'].item() # uses opens now as opens are confirmed\n",
    "        green= test_df.iloc[i-no_consecutive:i+1][\"Green\"].all()\n",
    "        \n",
    "        if green and state != 'long':\n",
    "            #remember to calculate profit if flipping from short\n",
    "            if state=='short':\n",
    "                outcome.append(current<entry)\n",
    "                profit.append(1-(current/entry))\n",
    "                equity=equity*(1+(1-(current/entry))-fee_rate)\n",
    "                # equity=(entry*trade_amount-current*trade_amount)+equity\n",
    "            entry=current\n",
    "            equity_curve.append([time,equity])\n",
    "            state='long'\n",
    "            longs.append(time)\n",
    "        elif not(green) and state != 'short':\n",
    "            if state=='long':\n",
    "                outcome.append(current>entry)\n",
    "                profit.append(current/entry -1)\n",
    "                equity=equity*(1+(current/entry -1)-fee_rate)\n",
    "            entry=current\n",
    "            equity_curve.append([time,equity])    \n",
    "            # trade_amount=equity*entry\n",
    "            state='short'\n",
    "            shorts.append(time)\n",
    "            #print(state+' from $'+str(current))\n",
    "        if equity < 0.05:\n",
    "            equity=0\n",
    "            print('went broke')\n",
    "            break\n",
    "\n",
    "        if i==len(test_df)-1:\n",
    "            if state=='long':\n",
    "                equity=equity*(current/entry)\n",
    "            elif state=='short':\n",
    "                equity=equity*(2-current/entry)\n",
    "            equity_curve.append([time,equity])\n",
    "\n",
    "    \n",
    "    return longs,shorts,np.array(outcome), np.array(profit), equity, np.array(equity_curve)"
   ]
  },
  {
   "cell_type": "code",
   "execution_count": 16,
   "metadata": {},
   "outputs": [
    {
     "name": "stdout",
     "output_type": "stream",
     "text": [
      "Datapoints:  159\n",
      "Datapoints:  159\n",
      "Datapoints:  159\n",
      "Datapoints:  159\n",
      "Datapoints:  159\n",
      "Datapoints:  159\n",
      "Datapoints:  159\n"
     ]
    },
    {
     "data": {
      "application/vnd.plotly.v1+json": {
       "config": {
        "plotlyServerURL": "https://plot.ly"
       },
       "data": [
        {
         "close": [
          177.19,
          160.61,
          182.32,
          186.32,
          184.49,
          160.78,
          150.95,
          148.13,
          144.66,
          128.15,
          125.3,
          126.73,
          137.69,
          164.07,
          162.53,
          184.51,
          212.95,
          268.26,
          257.36,
          227.7,
          228.71,
          108.95,
          136.91,
          138.97,
          141.44,
          169.79,
          172.61,
          185.56,
          205.96,
          212.32,
          203.45,
          198.6,
          220.24,
          243.24,
          230.25,
          231.09,
          232.35,
          226.45,
          242.05,
          233.43,
          275.57,
          335.24,
          395.26,
          425.3,
          416.22,
          383.56,
          382.55,
          367.94,
          389.36,
          348.92,
          352.41,
          351.19,
          377.8,
          414.53,
          387.34,
          417.15,
          462.8,
          471.65,
          520.45,
          616.54,
          558.76,
          643.59,
          612.22,
          737.27,
          1226.19,
          1231.5,
          1110.8,
          1332.2,
          1597,
          1788.3,
          1938.6,
          1481.2,
          1538.5,
          1827.4,
          1775.6,
          1586.1,
          1967.9,
          2080.8,
          2517.6,
          2400,
          2759,
          3490.9,
          3719,
          2773.2,
          2745.7,
          2857.1,
          2472.1,
          2373.3,
          1990.1,
          2106.3,
          2116,
          1919.3,
          2024.6,
          2384.1,
          2829.2,
          3046.9,
          3185.5,
          3093.4,
          3787.8,
          3424.5,
          3569.3,
          3154.5,
          3000.4,
          3588.4,
          3791.5,
          4053.9,
          4288.2,
          4535.3,
          4720.9,
          3998.2,
          4526.6,
          4515,
          4105.7,
          3958.4,
          4113.3,
          3709.5,
          3405.4,
          3241.5,
          3000.6,
          2424.7,
          2696.4,
          3074.8,
          2893.4,
          2597.6,
          2834.2,
          2607.5,
          2813.5,
          3112.7,
          3282.9,
          3226.7,
          3021.8,
          2983.8,
          2936.8,
          2747.1,
          1954.3,
          2017.7,
          1790.1,
          1832.5,
          1787.2,
          1067,
          1143.5,
          1070.4,
          1236.9,
          1192.8,
          1575.7,
          1725.1,
          1608.1,
          1881.1,
          1846.5,
          1695.2,
          1586.1,
          1636,
          1472.4,
          1326.3,
          1336.1,
          1352.2,
          1287.2,
          1282.6,
          1544.8
         ],
         "high": [
          197.35,
          178.01,
          193.08,
          194.36,
          192.76,
          186.06,
          162.52,
          157.87,
          151.81,
          145.12,
          135.18,
          137.79,
          147.9,
          171.68,
          179.23,
          186.87,
          216.14,
          277.83,
          289.17,
          277.99,
          234.52,
          252.47,
          146.43,
          153.4,
          150.46,
          176.37,
          175.2,
          194.45,
          227.45,
          219.29,
          216.87,
          217.05,
          220.57,
          253.65,
          250.48,
          239.37,
          249.17,
          233.34,
          249.18,
          245.24,
          280.43,
          342.55,
          416.06,
          432.04,
          447.7,
          419.12,
          489,
          400.92,
          394.08,
          392.47,
          370.02,
          356.33,
          395.08,
          421.46,
          419.44,
          421,
          476.86,
          495.57,
          623.45,
          636.66,
          620.64,
          676.71,
          671.17,
          758.6,
          1291.82,
          1353.5,
          1439.6,
          1478.2,
          1698.9,
          1840,
          1950.5,
          2155,
          1657.1,
          1879.9,
          1944,
          1868.8,
          1985.8,
          2151.9,
          2546.8,
          2645.9,
          2800.7,
          3611.6,
          4381.4,
          4178.2,
          2944.1,
          2896.5,
          2860.4,
          2640.9,
          2377.3,
          2289.9,
          2410.4,
          2194,
          2100,
          2558,
          2846.2,
          3276.5,
          3341.3,
          3400,
          3844,
          4030.2,
          3677.3,
          3594.7,
          3166.6,
          3656.7,
          3826.5,
          4374,
          4322.6,
          4670,
          4869.7,
          4809.6,
          4557.3,
          4784.2,
          4660,
          4238.4,
          4156.9,
          4160,
          3896,
          3415.6,
          3394.9,
          3034.1,
          2815.4,
          3286.5,
          3199.4,
          2944.9,
          3046.7,
          2836.1,
          2838.7,
          3130.8,
          3483.7,
          3581.4,
          3314.6,
          3181.9,
          3037.9,
          2966.5,
          2757.3,
          2162.9,
          2087.3,
          2014.9,
          1918,
          1802.6,
          1193.2,
          1280.3,
          1253.6,
          1275.2,
          1631.5,
          1785.6,
          1766,
          1943.7,
          2030.9,
          1848.2,
          1706,
          1686.7,
          1790.3,
          1483.1,
          1400.4,
          1384,
          1361.8,
          1343.4,
          1596
         ],
         "low": [
          171.85,
          152.96,
          160.53,
          176.9,
          180.45,
          155.79,
          131.83,
          143.21,
          139.13,
          116.22,
          123.19,
          122.38,
          125.53,
          135.29,
          158.9,
          155.21,
          174.81,
          212.95,
          237.43,
          209.9,
          212.29,
          100.56,
          87.69,
          115.47,
          123.6,
          138,
          148.46,
          164.16,
          184.82,
          195.25,
          175,
          191.28,
          196.11,
          217.47,
          225.57,
          217.85,
          225.34,
          215.66,
          223.21,
          225.81,
          231.46,
          268.12,
          295.23,
          362.46,
          393.12,
          370.15,
          368.28,
          309,
          353.28,
          313.2,
          337.58,
          333.22,
          347.3,
          361.43,
          380.5,
          370.52,
          415.4,
          440.51,
          471.15,
          493.89,
          530.08,
          534.23,
          546.28,
          603.64,
          716.31,
          913,
          1070,
          1041,
          1269.3,
          1492.3,
          1663.9,
          1370,
          1292.4,
          1442.3,
          1710.7,
          1546,
          1585.9,
          1930.6,
          2048.9,
          1925,
          2107.9,
          2726.3,
          3352.8,
          1821.8,
          1730,
          2182.3,
          2308.8,
          2256.7,
          1699.9,
          1716.1,
          2016.9,
          1864,
          1718.8,
          1997,
          2317.4,
          2721.6,
          2950,
          3055,
          3061.5,
          2994.1,
          3099.9,
          2650,
          2732,
          2968.4,
          3372,
          3477,
          3887.3,
          4150.1,
          4330.8,
          3958,
          3974.7,
          3912,
          3480,
          3642,
          3696.5,
          3582.6,
          3298,
          2921.8,
          2985.9,
          2159.5,
          2359.1,
          2673.1,
          2832.1,
          2301.1,
          2559.5,
          2444.7,
          2492.6,
          2768.2,
          3077.2,
          3142.6,
          2950,
          2881.1,
          2765.8,
          2687,
          1703,
          1900.6,
          1734.5,
          1700,
          1724,
          1011.2,
          880,
          996,
          1026.8,
          1005.3,
          1180.6,
          1356.2,
          1556.4,
          1605.9,
          1819.2,
          1523.4,
          1421.9,
          1490.1,
          1452.2,
          1219.2,
          1254,
          1262.8,
          1189,
          1263.5,
          1252.2
         ],
         "open": [
          191.78,
          177.19,
          160.59,
          182.32,
          186.3,
          184.49,
          160.78,
          150.95,
          148.14,
          144.66,
          128.15,
          125.3,
          126.73,
          137.71,
          164.12,
          162.53,
          184.56,
          212.95,
          268.31,
          257.36,
          227.7,
          228.71,
          108.95,
          136.83,
          138.97,
          141.41,
          169.73,
          172.61,
          185.56,
          206.02,
          212.32,
          203.45,
          198.6,
          220.3,
          243.24,
          230.25,
          231.01,
          232.35,
          226.45,
          242.05,
          233.43,
          275.57,
          335.25,
          395.26,
          425.3,
          416.22,
          383.56,
          382.55,
          367.94,
          389.36,
          348.92,
          352.41,
          351.19,
          377.8,
          414.53,
          387.34,
          417.08,
          462.8,
          471.65,
          520.45,
          616.54,
          558.76,
          643.59,
          612.22,
          737.28,
          1226.19,
          1231.5,
          1110.8,
          1332.2,
          1597,
          1788.3,
          1938.6,
          1481.2,
          1538.5,
          1827.4,
          1775.6,
          1586.1,
          1967.9,
          2080.7,
          2517.6,
          2400.1,
          2759,
          3490.9,
          3719,
          2773.2,
          2745.7,
          2857.1,
          2472.1,
          2373.3,
          1990.1,
          2106.3,
          2116,
          1919.3,
          2024.6,
          2384.1,
          2829.2,
          3046.9,
          3185.5,
          3092.9,
          3787.8,
          3424.5,
          3569.3,
          3154.5,
          3000.4,
          3588.3,
          3791.5,
          4053.9,
          4288.2,
          4535.3,
          4720.8,
          3998.3,
          4527.5,
          4515,
          4105.7,
          3958.4,
          4113.4,
          3709.5,
          3405.4,
          3241.5,
          3000.6,
          2424.7,
          2696.4,
          3074.8,
          2893.4,
          2597.6,
          2834.2,
          2607.5,
          2813.5,
          3113,
          3282.9,
          3226.7,
          3021.8,
          2983.8,
          2936.8,
          2747.1,
          1954.3,
          2017.7,
          1790.1,
          1832.5,
          1787.2,
          1067,
          1143.5,
          1070.4,
          1236.9,
          1192.8,
          1575.7,
          1725.1,
          1608.2,
          1881.1,
          1846.5,
          1695.2,
          1586,
          1636,
          1472.4,
          1326.3,
          1336.2,
          1352.3,
          1287,
          1282.6
         ],
         "type": "candlestick",
         "x": [
          "2019-10-11T00:00:00",
          "2019-10-18T00:00:00",
          "2019-10-25T00:00:00",
          "2019-11-01T00:00:00",
          "2019-11-08T00:00:00",
          "2019-11-15T00:00:00",
          "2019-11-22T00:00:00",
          "2019-11-29T00:00:00",
          "2019-12-06T00:00:00",
          "2019-12-13T00:00:00",
          "2019-12-20T00:00:00",
          "2019-12-27T00:00:00",
          "2020-01-03T00:00:00",
          "2020-01-10T00:00:00",
          "2020-01-17T00:00:00",
          "2020-01-24T00:00:00",
          "2020-01-31T00:00:00",
          "2020-02-07T00:00:00",
          "2020-02-14T00:00:00",
          "2020-02-21T00:00:00",
          "2020-02-28T00:00:00",
          "2020-03-06T00:00:00",
          "2020-03-13T00:00:00",
          "2020-03-20T00:00:00",
          "2020-03-27T00:00:00",
          "2020-04-03T00:00:00",
          "2020-04-10T00:00:00",
          "2020-04-17T00:00:00",
          "2020-04-24T00:00:00",
          "2020-05-01T00:00:00",
          "2020-05-08T00:00:00",
          "2020-05-15T00:00:00",
          "2020-05-22T00:00:00",
          "2020-05-29T00:00:00",
          "2020-06-05T00:00:00",
          "2020-06-12T00:00:00",
          "2020-06-19T00:00:00",
          "2020-06-26T00:00:00",
          "2020-07-03T00:00:00",
          "2020-07-10T00:00:00",
          "2020-07-17T00:00:00",
          "2020-07-24T00:00:00",
          "2020-07-31T00:00:00",
          "2020-08-07T00:00:00",
          "2020-08-14T00:00:00",
          "2020-08-21T00:00:00",
          "2020-08-28T00:00:00",
          "2020-09-04T00:00:00",
          "2020-09-11T00:00:00",
          "2020-09-18T00:00:00",
          "2020-09-25T00:00:00",
          "2020-10-02T00:00:00",
          "2020-10-09T00:00:00",
          "2020-10-16T00:00:00",
          "2020-10-23T00:00:00",
          "2020-10-30T00:00:00",
          "2020-11-06T00:00:00",
          "2020-11-13T00:00:00",
          "2020-11-20T00:00:00",
          "2020-11-27T00:00:00",
          "2020-12-04T00:00:00",
          "2020-12-11T00:00:00",
          "2020-12-18T00:00:00",
          "2020-12-25T00:00:00",
          "2021-01-01T00:00:00",
          "2021-01-08T00:00:00",
          "2021-01-15T00:00:00",
          "2021-01-22T00:00:00",
          "2021-01-29T00:00:00",
          "2021-02-05T00:00:00",
          "2021-02-12T00:00:00",
          "2021-02-19T00:00:00",
          "2021-02-26T00:00:00",
          "2021-03-05T00:00:00",
          "2021-03-12T00:00:00",
          "2021-03-19T00:00:00",
          "2021-03-26T00:00:00",
          "2021-04-02T00:00:00",
          "2021-04-09T00:00:00",
          "2021-04-16T00:00:00",
          "2021-04-23T00:00:00",
          "2021-04-30T00:00:00",
          "2021-05-07T00:00:00",
          "2021-05-14T00:00:00",
          "2021-05-21T00:00:00",
          "2021-05-28T00:00:00",
          "2021-06-04T00:00:00",
          "2021-06-11T00:00:00",
          "2021-06-18T00:00:00",
          "2021-06-25T00:00:00",
          "2021-07-02T00:00:00",
          "2021-07-09T00:00:00",
          "2021-07-16T00:00:00",
          "2021-07-23T00:00:00",
          "2021-07-30T00:00:00",
          "2021-08-06T00:00:00",
          "2021-08-13T00:00:00",
          "2021-08-20T00:00:00",
          "2021-08-27T00:00:00",
          "2021-09-03T00:00:00",
          "2021-09-10T00:00:00",
          "2021-09-17T00:00:00",
          "2021-09-24T00:00:00",
          "2021-10-01T00:00:00",
          "2021-10-08T00:00:00",
          "2021-10-15T00:00:00",
          "2021-10-22T00:00:00",
          "2021-10-29T00:00:00",
          "2021-11-05T00:00:00",
          "2021-11-12T00:00:00",
          "2021-11-19T00:00:00",
          "2021-11-26T00:00:00",
          "2021-12-03T00:00:00",
          "2021-12-10T00:00:00",
          "2021-12-17T00:00:00",
          "2021-12-24T00:00:00",
          "2021-12-31T00:00:00",
          "2022-01-07T00:00:00",
          "2022-01-14T00:00:00",
          "2022-01-21T00:00:00",
          "2022-01-28T00:00:00",
          "2022-02-04T00:00:00",
          "2022-02-11T00:00:00",
          "2022-02-18T00:00:00",
          "2022-02-25T00:00:00",
          "2022-03-04T00:00:00",
          "2022-03-11T00:00:00",
          "2022-03-18T00:00:00",
          "2022-03-25T00:00:00",
          "2022-04-01T00:00:00",
          "2022-04-08T00:00:00",
          "2022-04-15T00:00:00",
          "2022-04-22T00:00:00",
          "2022-04-29T00:00:00",
          "2022-05-06T00:00:00",
          "2022-05-13T00:00:00",
          "2022-05-20T00:00:00",
          "2022-05-27T00:00:00",
          "2022-06-03T00:00:00",
          "2022-06-10T00:00:00",
          "2022-06-17T00:00:00",
          "2022-06-24T00:00:00",
          "2022-07-01T00:00:00",
          "2022-07-08T00:00:00",
          "2022-07-15T00:00:00",
          "2022-07-22T00:00:00",
          "2022-07-29T00:00:00",
          "2022-08-05T00:00:00",
          "2022-08-12T00:00:00",
          "2022-08-19T00:00:00",
          "2022-08-26T00:00:00",
          "2022-09-02T00:00:00",
          "2022-09-09T00:00:00",
          "2022-09-16T00:00:00",
          "2022-09-23T00:00:00",
          "2022-09-30T00:00:00",
          "2022-10-07T00:00:00",
          "2022-10-14T00:00:00",
          "2022-10-21T00:00:00"
         ]
        }
       ],
       "layout": {
        "template": {
         "data": {
          "bar": [
           {
            "error_x": {
             "color": "#2a3f5f"
            },
            "error_y": {
             "color": "#2a3f5f"
            },
            "marker": {
             "line": {
              "color": "#E5ECF6",
              "width": 0.5
             },
             "pattern": {
              "fillmode": "overlay",
              "size": 10,
              "solidity": 0.2
             }
            },
            "type": "bar"
           }
          ],
          "barpolar": [
           {
            "marker": {
             "line": {
              "color": "#E5ECF6",
              "width": 0.5
             },
             "pattern": {
              "fillmode": "overlay",
              "size": 10,
              "solidity": 0.2
             }
            },
            "type": "barpolar"
           }
          ],
          "carpet": [
           {
            "aaxis": {
             "endlinecolor": "#2a3f5f",
             "gridcolor": "white",
             "linecolor": "white",
             "minorgridcolor": "white",
             "startlinecolor": "#2a3f5f"
            },
            "baxis": {
             "endlinecolor": "#2a3f5f",
             "gridcolor": "white",
             "linecolor": "white",
             "minorgridcolor": "white",
             "startlinecolor": "#2a3f5f"
            },
            "type": "carpet"
           }
          ],
          "choropleth": [
           {
            "colorbar": {
             "outlinewidth": 0,
             "ticks": ""
            },
            "type": "choropleth"
           }
          ],
          "contour": [
           {
            "colorbar": {
             "outlinewidth": 0,
             "ticks": ""
            },
            "colorscale": [
             [
              0,
              "#0d0887"
             ],
             [
              0.1111111111111111,
              "#46039f"
             ],
             [
              0.2222222222222222,
              "#7201a8"
             ],
             [
              0.3333333333333333,
              "#9c179e"
             ],
             [
              0.4444444444444444,
              "#bd3786"
             ],
             [
              0.5555555555555556,
              "#d8576b"
             ],
             [
              0.6666666666666666,
              "#ed7953"
             ],
             [
              0.7777777777777778,
              "#fb9f3a"
             ],
             [
              0.8888888888888888,
              "#fdca26"
             ],
             [
              1,
              "#f0f921"
             ]
            ],
            "type": "contour"
           }
          ],
          "contourcarpet": [
           {
            "colorbar": {
             "outlinewidth": 0,
             "ticks": ""
            },
            "type": "contourcarpet"
           }
          ],
          "heatmap": [
           {
            "colorbar": {
             "outlinewidth": 0,
             "ticks": ""
            },
            "colorscale": [
             [
              0,
              "#0d0887"
             ],
             [
              0.1111111111111111,
              "#46039f"
             ],
             [
              0.2222222222222222,
              "#7201a8"
             ],
             [
              0.3333333333333333,
              "#9c179e"
             ],
             [
              0.4444444444444444,
              "#bd3786"
             ],
             [
              0.5555555555555556,
              "#d8576b"
             ],
             [
              0.6666666666666666,
              "#ed7953"
             ],
             [
              0.7777777777777778,
              "#fb9f3a"
             ],
             [
              0.8888888888888888,
              "#fdca26"
             ],
             [
              1,
              "#f0f921"
             ]
            ],
            "type": "heatmap"
           }
          ],
          "heatmapgl": [
           {
            "colorbar": {
             "outlinewidth": 0,
             "ticks": ""
            },
            "colorscale": [
             [
              0,
              "#0d0887"
             ],
             [
              0.1111111111111111,
              "#46039f"
             ],
             [
              0.2222222222222222,
              "#7201a8"
             ],
             [
              0.3333333333333333,
              "#9c179e"
             ],
             [
              0.4444444444444444,
              "#bd3786"
             ],
             [
              0.5555555555555556,
              "#d8576b"
             ],
             [
              0.6666666666666666,
              "#ed7953"
             ],
             [
              0.7777777777777778,
              "#fb9f3a"
             ],
             [
              0.8888888888888888,
              "#fdca26"
             ],
             [
              1,
              "#f0f921"
             ]
            ],
            "type": "heatmapgl"
           }
          ],
          "histogram": [
           {
            "marker": {
             "pattern": {
              "fillmode": "overlay",
              "size": 10,
              "solidity": 0.2
             }
            },
            "type": "histogram"
           }
          ],
          "histogram2d": [
           {
            "colorbar": {
             "outlinewidth": 0,
             "ticks": ""
            },
            "colorscale": [
             [
              0,
              "#0d0887"
             ],
             [
              0.1111111111111111,
              "#46039f"
             ],
             [
              0.2222222222222222,
              "#7201a8"
             ],
             [
              0.3333333333333333,
              "#9c179e"
             ],
             [
              0.4444444444444444,
              "#bd3786"
             ],
             [
              0.5555555555555556,
              "#d8576b"
             ],
             [
              0.6666666666666666,
              "#ed7953"
             ],
             [
              0.7777777777777778,
              "#fb9f3a"
             ],
             [
              0.8888888888888888,
              "#fdca26"
             ],
             [
              1,
              "#f0f921"
             ]
            ],
            "type": "histogram2d"
           }
          ],
          "histogram2dcontour": [
           {
            "colorbar": {
             "outlinewidth": 0,
             "ticks": ""
            },
            "colorscale": [
             [
              0,
              "#0d0887"
             ],
             [
              0.1111111111111111,
              "#46039f"
             ],
             [
              0.2222222222222222,
              "#7201a8"
             ],
             [
              0.3333333333333333,
              "#9c179e"
             ],
             [
              0.4444444444444444,
              "#bd3786"
             ],
             [
              0.5555555555555556,
              "#d8576b"
             ],
             [
              0.6666666666666666,
              "#ed7953"
             ],
             [
              0.7777777777777778,
              "#fb9f3a"
             ],
             [
              0.8888888888888888,
              "#fdca26"
             ],
             [
              1,
              "#f0f921"
             ]
            ],
            "type": "histogram2dcontour"
           }
          ],
          "mesh3d": [
           {
            "colorbar": {
             "outlinewidth": 0,
             "ticks": ""
            },
            "type": "mesh3d"
           }
          ],
          "parcoords": [
           {
            "line": {
             "colorbar": {
              "outlinewidth": 0,
              "ticks": ""
             }
            },
            "type": "parcoords"
           }
          ],
          "pie": [
           {
            "automargin": true,
            "type": "pie"
           }
          ],
          "scatter": [
           {
            "marker": {
             "colorbar": {
              "outlinewidth": 0,
              "ticks": ""
             }
            },
            "type": "scatter"
           }
          ],
          "scatter3d": [
           {
            "line": {
             "colorbar": {
              "outlinewidth": 0,
              "ticks": ""
             }
            },
            "marker": {
             "colorbar": {
              "outlinewidth": 0,
              "ticks": ""
             }
            },
            "type": "scatter3d"
           }
          ],
          "scattercarpet": [
           {
            "marker": {
             "colorbar": {
              "outlinewidth": 0,
              "ticks": ""
             }
            },
            "type": "scattercarpet"
           }
          ],
          "scattergeo": [
           {
            "marker": {
             "colorbar": {
              "outlinewidth": 0,
              "ticks": ""
             }
            },
            "type": "scattergeo"
           }
          ],
          "scattergl": [
           {
            "marker": {
             "colorbar": {
              "outlinewidth": 0,
              "ticks": ""
             }
            },
            "type": "scattergl"
           }
          ],
          "scattermapbox": [
           {
            "marker": {
             "colorbar": {
              "outlinewidth": 0,
              "ticks": ""
             }
            },
            "type": "scattermapbox"
           }
          ],
          "scatterpolar": [
           {
            "marker": {
             "colorbar": {
              "outlinewidth": 0,
              "ticks": ""
             }
            },
            "type": "scatterpolar"
           }
          ],
          "scatterpolargl": [
           {
            "marker": {
             "colorbar": {
              "outlinewidth": 0,
              "ticks": ""
             }
            },
            "type": "scatterpolargl"
           }
          ],
          "scatterternary": [
           {
            "marker": {
             "colorbar": {
              "outlinewidth": 0,
              "ticks": ""
             }
            },
            "type": "scatterternary"
           }
          ],
          "surface": [
           {
            "colorbar": {
             "outlinewidth": 0,
             "ticks": ""
            },
            "colorscale": [
             [
              0,
              "#0d0887"
             ],
             [
              0.1111111111111111,
              "#46039f"
             ],
             [
              0.2222222222222222,
              "#7201a8"
             ],
             [
              0.3333333333333333,
              "#9c179e"
             ],
             [
              0.4444444444444444,
              "#bd3786"
             ],
             [
              0.5555555555555556,
              "#d8576b"
             ],
             [
              0.6666666666666666,
              "#ed7953"
             ],
             [
              0.7777777777777778,
              "#fb9f3a"
             ],
             [
              0.8888888888888888,
              "#fdca26"
             ],
             [
              1,
              "#f0f921"
             ]
            ],
            "type": "surface"
           }
          ],
          "table": [
           {
            "cells": {
             "fill": {
              "color": "#EBF0F8"
             },
             "line": {
              "color": "white"
             }
            },
            "header": {
             "fill": {
              "color": "#C8D4E3"
             },
             "line": {
              "color": "white"
             }
            },
            "type": "table"
           }
          ]
         },
         "layout": {
          "annotationdefaults": {
           "arrowcolor": "#2a3f5f",
           "arrowhead": 0,
           "arrowwidth": 1
          },
          "autotypenumbers": "strict",
          "coloraxis": {
           "colorbar": {
            "outlinewidth": 0,
            "ticks": ""
           }
          },
          "colorscale": {
           "diverging": [
            [
             0,
             "#8e0152"
            ],
            [
             0.1,
             "#c51b7d"
            ],
            [
             0.2,
             "#de77ae"
            ],
            [
             0.3,
             "#f1b6da"
            ],
            [
             0.4,
             "#fde0ef"
            ],
            [
             0.5,
             "#f7f7f7"
            ],
            [
             0.6,
             "#e6f5d0"
            ],
            [
             0.7,
             "#b8e186"
            ],
            [
             0.8,
             "#7fbc41"
            ],
            [
             0.9,
             "#4d9221"
            ],
            [
             1,
             "#276419"
            ]
           ],
           "sequential": [
            [
             0,
             "#0d0887"
            ],
            [
             0.1111111111111111,
             "#46039f"
            ],
            [
             0.2222222222222222,
             "#7201a8"
            ],
            [
             0.3333333333333333,
             "#9c179e"
            ],
            [
             0.4444444444444444,
             "#bd3786"
            ],
            [
             0.5555555555555556,
             "#d8576b"
            ],
            [
             0.6666666666666666,
             "#ed7953"
            ],
            [
             0.7777777777777778,
             "#fb9f3a"
            ],
            [
             0.8888888888888888,
             "#fdca26"
            ],
            [
             1,
             "#f0f921"
            ]
           ],
           "sequentialminus": [
            [
             0,
             "#0d0887"
            ],
            [
             0.1111111111111111,
             "#46039f"
            ],
            [
             0.2222222222222222,
             "#7201a8"
            ],
            [
             0.3333333333333333,
             "#9c179e"
            ],
            [
             0.4444444444444444,
             "#bd3786"
            ],
            [
             0.5555555555555556,
             "#d8576b"
            ],
            [
             0.6666666666666666,
             "#ed7953"
            ],
            [
             0.7777777777777778,
             "#fb9f3a"
            ],
            [
             0.8888888888888888,
             "#fdca26"
            ],
            [
             1,
             "#f0f921"
            ]
           ]
          },
          "colorway": [
           "#636efa",
           "#EF553B",
           "#00cc96",
           "#ab63fa",
           "#FFA15A",
           "#19d3f3",
           "#FF6692",
           "#B6E880",
           "#FF97FF",
           "#FECB52"
          ],
          "font": {
           "color": "#2a3f5f"
          },
          "geo": {
           "bgcolor": "white",
           "lakecolor": "white",
           "landcolor": "#E5ECF6",
           "showlakes": true,
           "showland": true,
           "subunitcolor": "white"
          },
          "hoverlabel": {
           "align": "left"
          },
          "hovermode": "closest",
          "mapbox": {
           "style": "light"
          },
          "paper_bgcolor": "white",
          "plot_bgcolor": "#E5ECF6",
          "polar": {
           "angularaxis": {
            "gridcolor": "white",
            "linecolor": "white",
            "ticks": ""
           },
           "bgcolor": "#E5ECF6",
           "radialaxis": {
            "gridcolor": "white",
            "linecolor": "white",
            "ticks": ""
           }
          },
          "scene": {
           "xaxis": {
            "backgroundcolor": "#E5ECF6",
            "gridcolor": "white",
            "gridwidth": 2,
            "linecolor": "white",
            "showbackground": true,
            "ticks": "",
            "zerolinecolor": "white"
           },
           "yaxis": {
            "backgroundcolor": "#E5ECF6",
            "gridcolor": "white",
            "gridwidth": 2,
            "linecolor": "white",
            "showbackground": true,
            "ticks": "",
            "zerolinecolor": "white"
           },
           "zaxis": {
            "backgroundcolor": "#E5ECF6",
            "gridcolor": "white",
            "gridwidth": 2,
            "linecolor": "white",
            "showbackground": true,
            "ticks": "",
            "zerolinecolor": "white"
           }
          },
          "shapedefaults": {
           "line": {
            "color": "#2a3f5f"
           }
          },
          "ternary": {
           "aaxis": {
            "gridcolor": "white",
            "linecolor": "white",
            "ticks": ""
           },
           "baxis": {
            "gridcolor": "white",
            "linecolor": "white",
            "ticks": ""
           },
           "bgcolor": "#E5ECF6",
           "caxis": {
            "gridcolor": "white",
            "linecolor": "white",
            "ticks": ""
           }
          },
          "title": {
           "x": 0.05
          },
          "xaxis": {
           "automargin": true,
           "gridcolor": "white",
           "linecolor": "white",
           "ticks": "",
           "title": {
            "standoff": 15
           },
           "zerolinecolor": "white",
           "zerolinewidth": 2
          },
          "yaxis": {
           "automargin": true,
           "gridcolor": "white",
           "linecolor": "white",
           "ticks": "",
           "title": {
            "standoff": 15
           },
           "zerolinecolor": "white",
           "zerolinewidth": 2
          }
         }
        }
       }
      }
     },
     "metadata": {},
     "output_type": "display_data"
    },
    {
     "data": {
      "application/vnd.plotly.v1+json": {
       "config": {
        "plotlyServerURL": "https://plot.ly"
       },
       "data": [
        {
         "close": [
          182.64,
          184.54250000000002,
          167.1925,
          174.13,
          184.97500000000002,
          186,
          171.78,
          151.51999999999998,
          150.04,
          145.935,
          133.5375,
          127.95500000000001,
          128.04999999999998,
          134.46249999999998,
          152.1875,
          166.195,
          172.28,
          197.115,
          242.9975,
          263.0675,
          243.2375,
          225.805,
          172.6725,
          119.995,
          136.16750000000002,
          138.6175,
          156.39249999999998,
          166.5,
          179.195,
          200.9475,
          208.21999999999997,
          201.91000000000003,
          202.595,
          208.88,
          233.66500000000002,
          237.385,
          229.64000000000001,
          234.4675,
          226.95,
          235.22250000000003,
          236.6325,
          255.22250000000003,
          305.37,
          360.45,
          403.765,
          420.585,
          397.2625,
          405.84749999999997,
          365.1025,
          376.16499999999996,
          360.9875,
          352.2325,
          348.2875,
          367.8425,
          393.805,
          400.4525,
          399.00249999999994,
          443.035,
          467.63250000000005,
          521.675,
          566.885,
          581.5049999999999,
          603.3225,
          618.315,
          677.9325,
          992.9,
          1181.0475000000001,
          1212.975,
          1240.55,
          1474.3500000000001,
          1679.4,
          1835.3250000000003,
          1736.2,
          1492.3000000000002,
          1672.025,
          1814.4250000000002,
          1694.125,
          1781.4249999999997,
          2032.8,
          2298.5,
          2372.125,
          2516.9249999999997,
          3146.9500000000003,
          3736.0249999999996,
          3123.05,
          2548.25,
          2670.4,
          2624.6,
          2435.75,
          2110.15,
          2025.6000000000001,
          2162.4,
          2023.325,
          1940.6750000000002,
          2240.925,
          2594.2249999999995,
          2968.5499999999997,
          3130.925,
          3183.475,
          3446.55,
          3559.15,
          3442.75,
          3242.125,
          3013.375,
          3303.475,
          3644.575,
          3924.1,
          4138,
          4410.900000000001,
          4614.174999999999,
          4371.650000000001,
          4264.225,
          4434.675,
          4190.175,
          3986.1249999999995,
          3981.2749999999996,
          3891.375,
          3577.225,
          3246.075,
          3155.725,
          2654.7250000000004,
          2573.9,
          2932.7,
          2999.925,
          2684.25,
          2759.5,
          2680.625,
          2688.075,
          2956.3,
          3239.2,
          3308.3999999999996,
          3128.2749999999996,
          3017.1500000000005,
          2931.075,
          2834.35,
          2290.4249999999997,
          2008.8749999999998,
          1907.4,
          1834.375,
          1815.425,
          1417,
          1070.925,
          1122.5500000000002,
          1146.9250000000002,
          1177.5500000000002,
          1395.15,
          1610.65,
          1663.9,
          1759.725,
          1894.425,
          1728.325,
          1602.3000000000002,
          1599.6999999999998,
          1587.725,
          1375.25,
          1329.1999999999998,
          1333.8,
          1297.575,
          1294.125
         ],
         "high": [
          195.69,
          197.35,
          178.01,
          193.08,
          194.36,
          192.76,
          186.06,
          176.5862109375,
          164.05310546875,
          157.04655273437498,
          151.4907763671875,
          142.51413818359373,
          137.79,
          147.9,
          171.68,
          179.23,
          186.87,
          216.14,
          277.83,
          289.17,
          277.99,
          240.2889835333824,
          252.47,
          202.85974588334562,
          161.42737294167281,
          150.46,
          176.37,
          175.2,
          194.45,
          227.45,
          219.29,
          216.87,
          217.05,
          220.57,
          253.65,
          250.48,
          239.37,
          249.17,
          233.34,
          249.18,
          245.24,
          280.43,
          342.55,
          416.06,
          432.04,
          447.7,
          419.12,
          489,
          400.92,
          394.08,
          392.47,
          370.1614247804871,
          361.1969623902436,
          395.08,
          421.46,
          419.44,
          421,
          476.86,
          495.57,
          623.45,
          636.66,
          620.64,
          676.71,
          671.17,
          758.6,
          1291.82,
          1353.5,
          1439.6,
          1478.2,
          1698.9,
          1840,
          1950.5,
          2155,
          1702.321049828273,
          1879.9,
          1944,
          1868.8,
          1985.8,
          2151.9,
          2546.8,
          2645.9,
          2800.7,
          3611.6,
          4381.4,
          4178.2,
          3185.767815197712,
          2896.5,
          2860.4,
          2696.652226899714,
          2566.201113449857,
          2338.1755567249284,
          2410.4,
          2194,
          2100,
          2558,
          2846.2,
          3276.5,
          3341.3,
          3400,
          3844,
          4030.2,
          3677.3,
          3594.7,
          3332.1034760201082,
          3656.7,
          3826.5,
          4374,
          4322.6,
          4670,
          4869.7,
          4809.6,
          4557.3,
          4784.2,
          4660,
          4284.225160388682,
          4156.9,
          4160,
          3974.800020048585,
          3776.012510024292,
          3511.043755012146,
          3333.384377506073,
          2994.0546887530368,
          3286.5,
          3199.4,
          2944.9,
          3046.7,
          2836.1,
          2838.7,
          3130.8,
          3483.7,
          3581.4,
          3314.6,
          3181.9,
          3083.7146129611215,
          3007.394806480561,
          2920.8724032402806,
          2605.64870162014,
          2307.26185081007,
          2107.330925405035,
          1970.8529627025175,
          1893.1389813512587,
          1655.0694906756294,
          1362.9972453378145,
          1253.6,
          1275.2,
          1631.5,
          1785.6,
          1766,
          1943.7,
          2030.9,
          1848.2,
          1752.3945258698004,
          1686.7,
          1790.3,
          1613.1243157337249,
          1494.1871578668624,
          1411.6935789334311,
          1372.7467894667157,
          1343.4
         ],
         "low": [
          83.97999999999999,
          133.31,
          152.96,
          160.53,
          168.5946875,
          176.78484375,
          155.79,
          131.83,
          143.21,
          139.13,
          116.22,
          123.19,
          122.38,
          125.53,
          133.0523922729492,
          142.6199461364746,
          154.4074730682373,
          163.34373653411865,
          180.22936826705933,
          211.61343413352967,
          209.9,
          212.29,
          100.56,
          87.69,
          115.47,
          123.6,
          138,
          148.46,
          158.27499205885454,
          168.73499602942726,
          184.84124801471364,
          175,
          191.28,
          196.11,
          204.8938280009196,
          219.2794140004598,
          217.85,
          225.34,
          215.66,
          223.21,
          225.81,
          231.46,
          244.8394876093786,
          275.1047438046893,
          317.7773719023446,
          360.7711859511723,
          370.15,
          368.28,
          309,
          353.28,
          313.2,
          337.58,
          333.22,
          347.3,
          361.2923655975609,
          377.5486827987804,
          370.52,
          394.00154569969504,
          418.51827284984756,
          443.0753864249238,
          482.3751932124619,
          524.630096606231,
          534.23,
          546.28,
          598.255012075779,
          638.0937560378895,
          815.4968780189447,
          998.2721890094724,
          1041,
          1173.086797252368,
          1323.718398626184,
          1501.559199313092,
          1370,
          1292.4,
          1442.3,
          1634.6677624570684,
          1546,
          1585.9,
          1745.3803453071334,
          1889.0901726535667,
          1925,
          2107.9,
          2374.9425215816955,
          2760.946260790848,
          1821.8,
          1730,
          2182.3,
          2308.8,
          2256.7,
          1699.9,
          1716.1,
          2016.9,
          1864,
          1718.8,
          1997,
          2130.064861147654,
          2362.144930573827,
          2665.3474652869136,
          2898.136232643457,
          3040.8056163217284,
          2994.1,
          3099.9,
          2650,
          2732,
          2968.4,
          3238.107119005027,
          3441.3410595025134,
          3682.7205297512564,
          3910.360264875628,
          4160.630132437815,
          3958,
          3974.7,
          3912,
          3480,
          3642,
          3696.5,
          3582.6,
          3298,
          2921.8,
          2985.9,
          2159.5,
          2359.1,
          2673.1,
          2832.1,
          2301.1,
          2559.5,
          2444.7,
          2492.6,
          2709.967614755883,
          2833.1338073779416,
          3036.1669036889707,
          2950,
          2881.1,
          2765.8,
          2687,
          1703,
          1900.6,
          1734.5,
          1700,
          1724,
          1011.2,
          880,
          996,
          1026.8,
          1005.3,
          1180.6,
          1290.6748278336136,
          1450.6624139168068,
          1557.2812069584033,
          1658.5031034792016,
          1523.4,
          1421.9,
          1490.1,
          1452.2,
          1219.2,
          1254,
          1262.8,
          1189,
          1263.5
         ],
         "open": [
          83.97999999999999,
          133.31,
          158.92625,
          163.059375,
          168.5946875,
          176.78484375,
          181.392421875,
          176.5862109375,
          164.05310546875,
          157.04655273437498,
          151.4907763671875,
          142.51413818359373,
          135.23456909179686,
          131.6422845458984,
          133.0523922729492,
          142.6199461364746,
          154.4074730682373,
          163.34373653411865,
          180.22936826705933,
          211.61343413352967,
          237.34046706676483,
          240.2889835333824,
          233.0469917666912,
          202.85974588334562,
          161.42737294167281,
          148.79743647083643,
          143.70746823541822,
          150.0499841177091,
          158.27499205885454,
          168.73499602942726,
          184.84124801471364,
          196.5306240073568,
          199.22031200367843,
          200.9076560018392,
          204.8938280009196,
          219.2794140004598,
          228.33220700022991,
          228.98610350011495,
          231.72680175005746,
          229.33840087502873,
          232.2804504375144,
          234.4564752187572,
          244.8394876093786,
          275.1047438046893,
          317.7773719023446,
          360.7711859511723,
          390.67809297558614,
          393.97029648779306,
          399.9088982438965,
          382.5056991219483,
          379.3353495609741,
          370.1614247804871,
          361.1969623902436,
          354.7422311951218,
          361.2923655975609,
          377.5486827987804,
          389.0005913993902,
          394.00154569969504,
          418.51827284984756,
          443.0753864249238,
          482.3751932124619,
          524.630096606231,
          553.0675483031155,
          578.1950241515577,
          598.255012075779,
          638.0937560378895,
          815.4968780189447,
          998.2721890094724,
          1105.623594504736,
          1173.086797252368,
          1323.718398626184,
          1501.559199313092,
          1668.4420996565461,
          1702.321049828273,
          1597.3105249141367,
          1634.6677624570684,
          1724.5463812285343,
          1709.3356906142672,
          1745.3803453071334,
          1889.0901726535667,
          2093.7950863267833,
          2232.9600431633917,
          2374.9425215816955,
          2760.946260790848,
          3248.485630395424,
          3185.767815197712,
          2867.0089075988562,
          2768.704453799428,
          2696.652226899714,
          2566.201113449857,
          2338.1755567249284,
          2181.8877783624644,
          2172.143889181232,
          2097.734444590616,
          2019.204722295308,
          2130.064861147654,
          2362.144930573827,
          2665.3474652869136,
          2898.136232643457,
          3040.8056163217284,
          3243.6778081608645,
          3401.413904080432,
          3422.081952040216,
          3332.1034760201082,
          3172.739238010054,
          3238.107119005027,
          3441.3410595025134,
          3682.7205297512564,
          3910.360264875628,
          4160.630132437815,
          4387.402566218907,
          4379.526283109453,
          4321.875641554727,
          4378.275320777364,
          4284.225160388682,
          4135.175080194341,
          4058.22504009717,
          3974.800020048585,
          3776.012510024292,
          3511.043755012146,
          3333.384377506073,
          2994.0546887530368,
          2783.9773443765184,
          2858.338672188259,
          2929.1318360941295,
          2806.6909180470648,
          2783.0954590235324,
          2731.860229511766,
          2709.967614755883,
          2833.1338073779416,
          3036.1669036889707,
          3172.283451844485,
          3150.2792259222424,
          3083.7146129611215,
          3007.394806480561,
          2920.8724032402806,
          2605.64870162014,
          2307.26185081007,
          2107.330925405035,
          1970.8529627025175,
          1893.1389813512587,
          1655.0694906756294,
          1362.9972453378145,
          1242.7736226689074,
          1194.849311334454,
          1186.199655667227,
          1290.6748278336136,
          1450.6624139168068,
          1557.2812069584033,
          1658.5031034792016,
          1776.4640517396008,
          1752.3945258698004,
          1677.3472629349003,
          1638.52363146745,
          1613.1243157337249,
          1494.1871578668624,
          1411.6935789334311,
          1372.7467894667157,
          1335.160894733358
         ],
         "type": "candlestick",
         "x": [
          "2019-10-11T00:00:00",
          "2019-10-18T00:00:00",
          "2019-10-25T00:00:00",
          "2019-11-01T00:00:00",
          "2019-11-08T00:00:00",
          "2019-11-15T00:00:00",
          "2019-11-22T00:00:00",
          "2019-11-29T00:00:00",
          "2019-12-06T00:00:00",
          "2019-12-13T00:00:00",
          "2019-12-20T00:00:00",
          "2019-12-27T00:00:00",
          "2020-01-03T00:00:00",
          "2020-01-10T00:00:00",
          "2020-01-17T00:00:00",
          "2020-01-24T00:00:00",
          "2020-01-31T00:00:00",
          "2020-02-07T00:00:00",
          "2020-02-14T00:00:00",
          "2020-02-21T00:00:00",
          "2020-02-28T00:00:00",
          "2020-03-06T00:00:00",
          "2020-03-13T00:00:00",
          "2020-03-20T00:00:00",
          "2020-03-27T00:00:00",
          "2020-04-03T00:00:00",
          "2020-04-10T00:00:00",
          "2020-04-17T00:00:00",
          "2020-04-24T00:00:00",
          "2020-05-01T00:00:00",
          "2020-05-08T00:00:00",
          "2020-05-15T00:00:00",
          "2020-05-22T00:00:00",
          "2020-05-29T00:00:00",
          "2020-06-05T00:00:00",
          "2020-06-12T00:00:00",
          "2020-06-19T00:00:00",
          "2020-06-26T00:00:00",
          "2020-07-03T00:00:00",
          "2020-07-10T00:00:00",
          "2020-07-17T00:00:00",
          "2020-07-24T00:00:00",
          "2020-07-31T00:00:00",
          "2020-08-07T00:00:00",
          "2020-08-14T00:00:00",
          "2020-08-21T00:00:00",
          "2020-08-28T00:00:00",
          "2020-09-04T00:00:00",
          "2020-09-11T00:00:00",
          "2020-09-18T00:00:00",
          "2020-09-25T00:00:00",
          "2020-10-02T00:00:00",
          "2020-10-09T00:00:00",
          "2020-10-16T00:00:00",
          "2020-10-23T00:00:00",
          "2020-10-30T00:00:00",
          "2020-11-06T00:00:00",
          "2020-11-13T00:00:00",
          "2020-11-20T00:00:00",
          "2020-11-27T00:00:00",
          "2020-12-04T00:00:00",
          "2020-12-11T00:00:00",
          "2020-12-18T00:00:00",
          "2020-12-25T00:00:00",
          "2021-01-01T00:00:00",
          "2021-01-08T00:00:00",
          "2021-01-15T00:00:00",
          "2021-01-22T00:00:00",
          "2021-01-29T00:00:00",
          "2021-02-05T00:00:00",
          "2021-02-12T00:00:00",
          "2021-02-19T00:00:00",
          "2021-02-26T00:00:00",
          "2021-03-05T00:00:00",
          "2021-03-12T00:00:00",
          "2021-03-19T00:00:00",
          "2021-03-26T00:00:00",
          "2021-04-02T00:00:00",
          "2021-04-09T00:00:00",
          "2021-04-16T00:00:00",
          "2021-04-23T00:00:00",
          "2021-04-30T00:00:00",
          "2021-05-07T00:00:00",
          "2021-05-14T00:00:00",
          "2021-05-21T00:00:00",
          "2021-05-28T00:00:00",
          "2021-06-04T00:00:00",
          "2021-06-11T00:00:00",
          "2021-06-18T00:00:00",
          "2021-06-25T00:00:00",
          "2021-07-02T00:00:00",
          "2021-07-09T00:00:00",
          "2021-07-16T00:00:00",
          "2021-07-23T00:00:00",
          "2021-07-30T00:00:00",
          "2021-08-06T00:00:00",
          "2021-08-13T00:00:00",
          "2021-08-20T00:00:00",
          "2021-08-27T00:00:00",
          "2021-09-03T00:00:00",
          "2021-09-10T00:00:00",
          "2021-09-17T00:00:00",
          "2021-09-24T00:00:00",
          "2021-10-01T00:00:00",
          "2021-10-08T00:00:00",
          "2021-10-15T00:00:00",
          "2021-10-22T00:00:00",
          "2021-10-29T00:00:00",
          "2021-11-05T00:00:00",
          "2021-11-12T00:00:00",
          "2021-11-19T00:00:00",
          "2021-11-26T00:00:00",
          "2021-12-03T00:00:00",
          "2021-12-10T00:00:00",
          "2021-12-17T00:00:00",
          "2021-12-24T00:00:00",
          "2021-12-31T00:00:00",
          "2022-01-07T00:00:00",
          "2022-01-14T00:00:00",
          "2022-01-21T00:00:00",
          "2022-01-28T00:00:00",
          "2022-02-04T00:00:00",
          "2022-02-11T00:00:00",
          "2022-02-18T00:00:00",
          "2022-02-25T00:00:00",
          "2022-03-04T00:00:00",
          "2022-03-11T00:00:00",
          "2022-03-18T00:00:00",
          "2022-03-25T00:00:00",
          "2022-04-01T00:00:00",
          "2022-04-08T00:00:00",
          "2022-04-15T00:00:00",
          "2022-04-22T00:00:00",
          "2022-04-29T00:00:00",
          "2022-05-06T00:00:00",
          "2022-05-13T00:00:00",
          "2022-05-20T00:00:00",
          "2022-05-27T00:00:00",
          "2022-06-03T00:00:00",
          "2022-06-10T00:00:00",
          "2022-06-17T00:00:00",
          "2022-06-24T00:00:00",
          "2022-07-01T00:00:00",
          "2022-07-08T00:00:00",
          "2022-07-15T00:00:00",
          "2022-07-22T00:00:00",
          "2022-07-29T00:00:00",
          "2022-08-05T00:00:00",
          "2022-08-12T00:00:00",
          "2022-08-19T00:00:00",
          "2022-08-26T00:00:00",
          "2022-09-02T00:00:00",
          "2022-09-09T00:00:00",
          "2022-09-16T00:00:00",
          "2022-09-23T00:00:00",
          "2022-09-30T00:00:00",
          "2022-10-07T00:00:00",
          "2022-10-14T00:00:00",
          "2022-10-21T00:00:00"
         ]
        }
       ],
       "layout": {
        "template": {
         "data": {
          "bar": [
           {
            "error_x": {
             "color": "#2a3f5f"
            },
            "error_y": {
             "color": "#2a3f5f"
            },
            "marker": {
             "line": {
              "color": "#E5ECF6",
              "width": 0.5
             },
             "pattern": {
              "fillmode": "overlay",
              "size": 10,
              "solidity": 0.2
             }
            },
            "type": "bar"
           }
          ],
          "barpolar": [
           {
            "marker": {
             "line": {
              "color": "#E5ECF6",
              "width": 0.5
             },
             "pattern": {
              "fillmode": "overlay",
              "size": 10,
              "solidity": 0.2
             }
            },
            "type": "barpolar"
           }
          ],
          "carpet": [
           {
            "aaxis": {
             "endlinecolor": "#2a3f5f",
             "gridcolor": "white",
             "linecolor": "white",
             "minorgridcolor": "white",
             "startlinecolor": "#2a3f5f"
            },
            "baxis": {
             "endlinecolor": "#2a3f5f",
             "gridcolor": "white",
             "linecolor": "white",
             "minorgridcolor": "white",
             "startlinecolor": "#2a3f5f"
            },
            "type": "carpet"
           }
          ],
          "choropleth": [
           {
            "colorbar": {
             "outlinewidth": 0,
             "ticks": ""
            },
            "type": "choropleth"
           }
          ],
          "contour": [
           {
            "colorbar": {
             "outlinewidth": 0,
             "ticks": ""
            },
            "colorscale": [
             [
              0,
              "#0d0887"
             ],
             [
              0.1111111111111111,
              "#46039f"
             ],
             [
              0.2222222222222222,
              "#7201a8"
             ],
             [
              0.3333333333333333,
              "#9c179e"
             ],
             [
              0.4444444444444444,
              "#bd3786"
             ],
             [
              0.5555555555555556,
              "#d8576b"
             ],
             [
              0.6666666666666666,
              "#ed7953"
             ],
             [
              0.7777777777777778,
              "#fb9f3a"
             ],
             [
              0.8888888888888888,
              "#fdca26"
             ],
             [
              1,
              "#f0f921"
             ]
            ],
            "type": "contour"
           }
          ],
          "contourcarpet": [
           {
            "colorbar": {
             "outlinewidth": 0,
             "ticks": ""
            },
            "type": "contourcarpet"
           }
          ],
          "heatmap": [
           {
            "colorbar": {
             "outlinewidth": 0,
             "ticks": ""
            },
            "colorscale": [
             [
              0,
              "#0d0887"
             ],
             [
              0.1111111111111111,
              "#46039f"
             ],
             [
              0.2222222222222222,
              "#7201a8"
             ],
             [
              0.3333333333333333,
              "#9c179e"
             ],
             [
              0.4444444444444444,
              "#bd3786"
             ],
             [
              0.5555555555555556,
              "#d8576b"
             ],
             [
              0.6666666666666666,
              "#ed7953"
             ],
             [
              0.7777777777777778,
              "#fb9f3a"
             ],
             [
              0.8888888888888888,
              "#fdca26"
             ],
             [
              1,
              "#f0f921"
             ]
            ],
            "type": "heatmap"
           }
          ],
          "heatmapgl": [
           {
            "colorbar": {
             "outlinewidth": 0,
             "ticks": ""
            },
            "colorscale": [
             [
              0,
              "#0d0887"
             ],
             [
              0.1111111111111111,
              "#46039f"
             ],
             [
              0.2222222222222222,
              "#7201a8"
             ],
             [
              0.3333333333333333,
              "#9c179e"
             ],
             [
              0.4444444444444444,
              "#bd3786"
             ],
             [
              0.5555555555555556,
              "#d8576b"
             ],
             [
              0.6666666666666666,
              "#ed7953"
             ],
             [
              0.7777777777777778,
              "#fb9f3a"
             ],
             [
              0.8888888888888888,
              "#fdca26"
             ],
             [
              1,
              "#f0f921"
             ]
            ],
            "type": "heatmapgl"
           }
          ],
          "histogram": [
           {
            "marker": {
             "pattern": {
              "fillmode": "overlay",
              "size": 10,
              "solidity": 0.2
             }
            },
            "type": "histogram"
           }
          ],
          "histogram2d": [
           {
            "colorbar": {
             "outlinewidth": 0,
             "ticks": ""
            },
            "colorscale": [
             [
              0,
              "#0d0887"
             ],
             [
              0.1111111111111111,
              "#46039f"
             ],
             [
              0.2222222222222222,
              "#7201a8"
             ],
             [
              0.3333333333333333,
              "#9c179e"
             ],
             [
              0.4444444444444444,
              "#bd3786"
             ],
             [
              0.5555555555555556,
              "#d8576b"
             ],
             [
              0.6666666666666666,
              "#ed7953"
             ],
             [
              0.7777777777777778,
              "#fb9f3a"
             ],
             [
              0.8888888888888888,
              "#fdca26"
             ],
             [
              1,
              "#f0f921"
             ]
            ],
            "type": "histogram2d"
           }
          ],
          "histogram2dcontour": [
           {
            "colorbar": {
             "outlinewidth": 0,
             "ticks": ""
            },
            "colorscale": [
             [
              0,
              "#0d0887"
             ],
             [
              0.1111111111111111,
              "#46039f"
             ],
             [
              0.2222222222222222,
              "#7201a8"
             ],
             [
              0.3333333333333333,
              "#9c179e"
             ],
             [
              0.4444444444444444,
              "#bd3786"
             ],
             [
              0.5555555555555556,
              "#d8576b"
             ],
             [
              0.6666666666666666,
              "#ed7953"
             ],
             [
              0.7777777777777778,
              "#fb9f3a"
             ],
             [
              0.8888888888888888,
              "#fdca26"
             ],
             [
              1,
              "#f0f921"
             ]
            ],
            "type": "histogram2dcontour"
           }
          ],
          "mesh3d": [
           {
            "colorbar": {
             "outlinewidth": 0,
             "ticks": ""
            },
            "type": "mesh3d"
           }
          ],
          "parcoords": [
           {
            "line": {
             "colorbar": {
              "outlinewidth": 0,
              "ticks": ""
             }
            },
            "type": "parcoords"
           }
          ],
          "pie": [
           {
            "automargin": true,
            "type": "pie"
           }
          ],
          "scatter": [
           {
            "marker": {
             "colorbar": {
              "outlinewidth": 0,
              "ticks": ""
             }
            },
            "type": "scatter"
           }
          ],
          "scatter3d": [
           {
            "line": {
             "colorbar": {
              "outlinewidth": 0,
              "ticks": ""
             }
            },
            "marker": {
             "colorbar": {
              "outlinewidth": 0,
              "ticks": ""
             }
            },
            "type": "scatter3d"
           }
          ],
          "scattercarpet": [
           {
            "marker": {
             "colorbar": {
              "outlinewidth": 0,
              "ticks": ""
             }
            },
            "type": "scattercarpet"
           }
          ],
          "scattergeo": [
           {
            "marker": {
             "colorbar": {
              "outlinewidth": 0,
              "ticks": ""
             }
            },
            "type": "scattergeo"
           }
          ],
          "scattergl": [
           {
            "marker": {
             "colorbar": {
              "outlinewidth": 0,
              "ticks": ""
             }
            },
            "type": "scattergl"
           }
          ],
          "scattermapbox": [
           {
            "marker": {
             "colorbar": {
              "outlinewidth": 0,
              "ticks": ""
             }
            },
            "type": "scattermapbox"
           }
          ],
          "scatterpolar": [
           {
            "marker": {
             "colorbar": {
              "outlinewidth": 0,
              "ticks": ""
             }
            },
            "type": "scatterpolar"
           }
          ],
          "scatterpolargl": [
           {
            "marker": {
             "colorbar": {
              "outlinewidth": 0,
              "ticks": ""
             }
            },
            "type": "scatterpolargl"
           }
          ],
          "scatterternary": [
           {
            "marker": {
             "colorbar": {
              "outlinewidth": 0,
              "ticks": ""
             }
            },
            "type": "scatterternary"
           }
          ],
          "surface": [
           {
            "colorbar": {
             "outlinewidth": 0,
             "ticks": ""
            },
            "colorscale": [
             [
              0,
              "#0d0887"
             ],
             [
              0.1111111111111111,
              "#46039f"
             ],
             [
              0.2222222222222222,
              "#7201a8"
             ],
             [
              0.3333333333333333,
              "#9c179e"
             ],
             [
              0.4444444444444444,
              "#bd3786"
             ],
             [
              0.5555555555555556,
              "#d8576b"
             ],
             [
              0.6666666666666666,
              "#ed7953"
             ],
             [
              0.7777777777777778,
              "#fb9f3a"
             ],
             [
              0.8888888888888888,
              "#fdca26"
             ],
             [
              1,
              "#f0f921"
             ]
            ],
            "type": "surface"
           }
          ],
          "table": [
           {
            "cells": {
             "fill": {
              "color": "#EBF0F8"
             },
             "line": {
              "color": "white"
             }
            },
            "header": {
             "fill": {
              "color": "#C8D4E3"
             },
             "line": {
              "color": "white"
             }
            },
            "type": "table"
           }
          ]
         },
         "layout": {
          "annotationdefaults": {
           "arrowcolor": "#2a3f5f",
           "arrowhead": 0,
           "arrowwidth": 1
          },
          "autotypenumbers": "strict",
          "coloraxis": {
           "colorbar": {
            "outlinewidth": 0,
            "ticks": ""
           }
          },
          "colorscale": {
           "diverging": [
            [
             0,
             "#8e0152"
            ],
            [
             0.1,
             "#c51b7d"
            ],
            [
             0.2,
             "#de77ae"
            ],
            [
             0.3,
             "#f1b6da"
            ],
            [
             0.4,
             "#fde0ef"
            ],
            [
             0.5,
             "#f7f7f7"
            ],
            [
             0.6,
             "#e6f5d0"
            ],
            [
             0.7,
             "#b8e186"
            ],
            [
             0.8,
             "#7fbc41"
            ],
            [
             0.9,
             "#4d9221"
            ],
            [
             1,
             "#276419"
            ]
           ],
           "sequential": [
            [
             0,
             "#0d0887"
            ],
            [
             0.1111111111111111,
             "#46039f"
            ],
            [
             0.2222222222222222,
             "#7201a8"
            ],
            [
             0.3333333333333333,
             "#9c179e"
            ],
            [
             0.4444444444444444,
             "#bd3786"
            ],
            [
             0.5555555555555556,
             "#d8576b"
            ],
            [
             0.6666666666666666,
             "#ed7953"
            ],
            [
             0.7777777777777778,
             "#fb9f3a"
            ],
            [
             0.8888888888888888,
             "#fdca26"
            ],
            [
             1,
             "#f0f921"
            ]
           ],
           "sequentialminus": [
            [
             0,
             "#0d0887"
            ],
            [
             0.1111111111111111,
             "#46039f"
            ],
            [
             0.2222222222222222,
             "#7201a8"
            ],
            [
             0.3333333333333333,
             "#9c179e"
            ],
            [
             0.4444444444444444,
             "#bd3786"
            ],
            [
             0.5555555555555556,
             "#d8576b"
            ],
            [
             0.6666666666666666,
             "#ed7953"
            ],
            [
             0.7777777777777778,
             "#fb9f3a"
            ],
            [
             0.8888888888888888,
             "#fdca26"
            ],
            [
             1,
             "#f0f921"
            ]
           ]
          },
          "colorway": [
           "#636efa",
           "#EF553B",
           "#00cc96",
           "#ab63fa",
           "#FFA15A",
           "#19d3f3",
           "#FF6692",
           "#B6E880",
           "#FF97FF",
           "#FECB52"
          ],
          "font": {
           "color": "#2a3f5f"
          },
          "geo": {
           "bgcolor": "white",
           "lakecolor": "white",
           "landcolor": "#E5ECF6",
           "showlakes": true,
           "showland": true,
           "subunitcolor": "white"
          },
          "hoverlabel": {
           "align": "left"
          },
          "hovermode": "closest",
          "mapbox": {
           "style": "light"
          },
          "paper_bgcolor": "white",
          "plot_bgcolor": "#E5ECF6",
          "polar": {
           "angularaxis": {
            "gridcolor": "white",
            "linecolor": "white",
            "ticks": ""
           },
           "bgcolor": "#E5ECF6",
           "radialaxis": {
            "gridcolor": "white",
            "linecolor": "white",
            "ticks": ""
           }
          },
          "scene": {
           "xaxis": {
            "backgroundcolor": "#E5ECF6",
            "gridcolor": "white",
            "gridwidth": 2,
            "linecolor": "white",
            "showbackground": true,
            "ticks": "",
            "zerolinecolor": "white"
           },
           "yaxis": {
            "backgroundcolor": "#E5ECF6",
            "gridcolor": "white",
            "gridwidth": 2,
            "linecolor": "white",
            "showbackground": true,
            "ticks": "",
            "zerolinecolor": "white"
           },
           "zaxis": {
            "backgroundcolor": "#E5ECF6",
            "gridcolor": "white",
            "gridwidth": 2,
            "linecolor": "white",
            "showbackground": true,
            "ticks": "",
            "zerolinecolor": "white"
           }
          },
          "shapedefaults": {
           "line": {
            "color": "#2a3f5f"
           }
          },
          "ternary": {
           "aaxis": {
            "gridcolor": "white",
            "linecolor": "white",
            "ticks": ""
           },
           "baxis": {
            "gridcolor": "white",
            "linecolor": "white",
            "ticks": ""
           },
           "bgcolor": "#E5ECF6",
           "caxis": {
            "gridcolor": "white",
            "linecolor": "white",
            "ticks": ""
           }
          },
          "title": {
           "x": 0.05
          },
          "xaxis": {
           "automargin": true,
           "gridcolor": "white",
           "linecolor": "white",
           "ticks": "",
           "title": {
            "standoff": 15
           },
           "zerolinecolor": "white",
           "zerolinewidth": 2
          },
          "yaxis": {
           "automargin": true,
           "gridcolor": "white",
           "linecolor": "white",
           "ticks": "",
           "title": {
            "standoff": 15
           },
           "zerolinecolor": "white",
           "zerolinewidth": 2
          }
         }
        }
       }
      }
     },
     "metadata": {},
     "output_type": "display_data"
    },
    {
     "data": {
      "text/plain": [
       "[(0, 22.534587502233716),\n",
       " (1, 22.534587502233716),\n",
       " (2, 22.534587502233716),\n",
       " (3, 22.534587502233716),\n",
       " (4, 22.534587502233716),\n",
       " (5, 22.534587502233716),\n",
       " (6, 22.534587502233716)]"
      ]
     },
     "execution_count": 16,
     "metadata": {},
     "output_type": "execute_result"
    }
   ],
   "source": [
    "result = []\n",
    "for i in range(7):\n",
    "    weekly_candles_offset=price.get_price_data('1w',data=crypto, offset=3)\n",
    "    longs, shorts, outcome, profit, final_equity, equity_curve, fig, fig2 = single_test(weekly_candles_offset)\n",
    "    # fig.add_vline(x=longs[0], line_width=3, line_dash=\"dash\", line_color=\"green\")\n",
    "    result.append((i,final_equity))\n",
    "fig.show()\n",
    "fig2.show()\n",
    "result"
   ]
  },
  {
   "cell_type": "code",
   "execution_count": 17,
   "metadata": {},
   "outputs": [
    {
     "data": {
      "image/png": "[encoded data removed]",
      "text/plain": [
       "<Figure size 432x288 with 1 Axes>"
      ]
     },
     "metadata": {
      "needs_background": "light"
     },
     "output_type": "display_data"
    }
   ],
   "source": [
    "plt.plot(equity_curve[:,0], equity_curve[:,1])\n",
    "\n",
    "plt.tick_params(axis='x',labelsize=10,rotation=90)"
   ]
  },
  {
   "cell_type": "markdown",
   "metadata": {},
   "source": []
  },
  {
   "cell_type": "code",
   "execution_count": 19,
   "metadata": {},
   "outputs": [
    {
     "name": "stdout",
     "output_type": "stream",
     "text": [
      "              unix    close     high      low     open\n",
      "0    1568937600000   165.96   221.97   152.21   220.83\n",
      "1    1569542400000   175.16   185.70   145.00   165.98\n",
      "2    1570147200000   191.78   195.69   167.93   175.16\n",
      "3    1570752000000   177.19   197.35   171.85   191.78\n",
      "4    1571356800000   160.61   178.01   152.96   177.19\n",
      "..             ...      ...      ...      ...      ...\n",
      "157  1663891200000  1336.10  1400.40  1254.00  1326.30\n",
      "158  1664496000000  1352.20  1384.00  1262.80  1336.20\n",
      "159  1665100800000  1287.20  1361.80  1189.00  1352.30\n",
      "160  1665705600000  1282.60  1343.40  1263.50  1287.00\n",
      "161  1666310400000  1544.80  1596.00  1252.20  1282.60\n",
      "\n",
      "[162 rows x 5 columns]\n"
     ]
    }
   ],
   "source": [
    "weekly_candles_offset=price.get_price_data('1w',data=crypto, offset=3)\n",
    "print(weekly_candles_offset)"
   ]
  }
 ],
 "metadata": {
  "kernelspec": {
   "display_name": "Python 3.9.7 ('saturn')",
   "language": "python",
   "name": "python3"
  },
  "language_info": {
   "codemirror_mode": {
    "name": "ipython",
    "version": 3
   },
   "file_extension": ".py",
   "mimetype": "text/x-python",
   "name": "python",
   "nbconvert_exporter": "python",
   "pygments_lexer": "ipython3",
   "version": "3.10.8"
  },
  "orig_nbformat": 4,
  "vscode": {
   "interpreter": {
    "hash": "8884f941927773f5e6925e064953d9237720c7689d63a5a0c6845a5cf4bdc370"
   }
  }
 },
 "nbformat": 4,
 "nbformat_minor": 2
}
