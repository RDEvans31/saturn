{
 "cells": [
  {
   "cell_type": "code",
   "execution_count": 16,
   "metadata": {},
   "outputs": [
    {
     "name": "stdout",
     "output_type": "stream",
     "text": [
      "0.5\n",
      "0.6999999999998181\n",
      "0.900000000000091\n",
      "1.099999999999909\n",
      "4\n",
      "[1549.7, 45.99] [1550.8, 12.087]\n"
     ]
    }
   ],
   "source": [
    "import pandas as pd\n",
    "from scipy.interpolate import interp1d\n",
    "from scipy.stats import norm\n",
    "import numpy as np\n",
    "import matplotlib.pyplot as plt\n",
    "%matplotlib inline\n",
    "import price_data as price\n",
    "import mplfinance as mpf\n",
    "import matplotlib.dates as mpl_dates\n",
    "import chart\n",
    "\n",
    "bids=price.get_order_book('ETH/USD')[\"bids\"]\n",
    "asks=price.get_order_book('ETH/USD')[\"asks\"]\n",
    "i=0\n",
    "diff = bids[0][0] - asks[0][0]\n",
    "while diff<1:\n",
    "    i = i+1\n",
    "    diff = asks[i][0]- bids[i][0] \n",
    "    print(diff)\n",
    "print(i)\n",
    "print(bids[i], asks[i]) \n"
   ]
  }
 ],
 "metadata": {
  "kernelspec": {
   "display_name": "Python 3.9.7 ('saturn')",
   "language": "python",
   "name": "python3"
  },
  "language_info": {
   "codemirror_mode": {
    "name": "ipython",
    "version": 3
   },
   "file_extension": ".py",
   "mimetype": "text/x-python",
   "name": "python",
   "nbconvert_exporter": "python",
   "pygments_lexer": "ipython3",
   "version": "3.9.7"
  },
  "orig_nbformat": 4,
  "vscode": {
   "interpreter": {
    "hash": "8884f941927773f5e6925e064953d9237720c7689d63a5a0c6845a5cf4bdc370"
   }
  }
 },
 "nbformat": 4,
 "nbformat_minor": 2
}
