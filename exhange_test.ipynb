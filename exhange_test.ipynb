{
 "metadata": {
  "language_info": {
   "codemirror_mode": {
    "name": "ipython",
    "version": 3
   },
   "file_extension": ".py",
   "mimetype": "text/x-python",
   "name": "python",
   "nbconvert_exporter": "python",
   "pygments_lexer": "ipython3",
   "version": "3.9.5"
  },
  "orig_nbformat": 4,
  "kernelspec": {
   "name": "python3",
   "display_name": "Python 3.9.5 64-bit"
  },
  "interpreter": {
   "hash": "976a7013ae9b6375dd3b6fd8012ded46dcef65ed674c8a499dd2f473ac3f0d66"
  }
 },
 "nbformat": 4,
 "nbformat_minor": 2,
 "cells": [
  {
   "cell_type": "code",
   "execution_count": 2,
   "metadata": {},
   "outputs": [],
   "source": [
    "import pandas as pd\n",
    "from scipy.interpolate import interp1d\n",
    "from scipy.stats import norm\n",
    "import numpy as np\n",
    "import matplotlib.pyplot as plt\n",
    "%matplotlib inline\n",
    "import price_data as price\n",
    "import ccxt\n"
   ]
  },
  {
   "cell_type": "code",
   "execution_count": 4,
   "metadata": {},
   "outputs": [],
   "source": [
    "ftx = ccxt.ftx({\n",
    "    'apiKey': 'mFRyLR4AAhLTc5RlWov3PKTcIbMHw3vGZwiHnsrn',\n",
    "    'secret': 'oKaY1WEqTuhnNnq0iRi_Ry-CYckvE89-gPUPf21B',\n",
    "    'enableRateLimit': True,\n",
    "})"
   ]
  },
  {
   "cell_type": "code",
   "execution_count": 6,
   "metadata": {},
   "outputs": [
    {
     "output_type": "execute_result",
     "data": {
      "text/plain": [
       "               unix    open    high     low   close\n",
       "0     1620255600000  3523.9  3548.6  3498.1  3529.8\n",
       "1     1620259200000  3529.8  3543.6  3452.6  3478.0\n",
       "2     1620262800000  3477.6  3498.9  3443.4  3476.5\n",
       "3     1620266400000  3476.5  3509.2  3464.8  3487.0\n",
       "4     1620270000000  3487.0  3487.0  3451.3  3474.0\n",
       "...             ...     ...     ...     ...     ...\n",
       "1496  1625641200000  2384.7  2410.4  2362.1  2379.3\n",
       "1497  1625644800000  2379.3  2400.7  2373.7  2383.5\n",
       "1498  1625648400000  2383.5  2390.8  2366.7  2379.6\n",
       "1499  1625652000000  2379.6  2382.9  2364.3  2373.6\n",
       "1500  1625655600000  2373.6  2393.8  2370.6  2385.0\n",
       "\n",
       "[1501 rows x 5 columns]"
      ],
      "text/html": "<div>\n<style scoped>\n    .dataframe tbody tr th:only-of-type {\n        vertical-align: middle;\n    }\n\n    .dataframe tbody tr th {\n        vertical-align: top;\n    }\n\n    .dataframe thead th {\n        text-align: right;\n    }\n</style>\n<table border=\"1\" class=\"dataframe\">\n  <thead>\n    <tr style=\"text-align: right;\">\n      <th></th>\n      <th>unix</th>\n      <th>open</th>\n      <th>high</th>\n      <th>low</th>\n      <th>close</th>\n    </tr>\n  </thead>\n  <tbody>\n    <tr>\n      <th>0</th>\n      <td>1620255600000</td>\n      <td>3523.9</td>\n      <td>3548.6</td>\n      <td>3498.1</td>\n      <td>3529.8</td>\n    </tr>\n    <tr>\n      <th>1</th>\n      <td>1620259200000</td>\n      <td>3529.8</td>\n      <td>3543.6</td>\n      <td>3452.6</td>\n      <td>3478.0</td>\n    </tr>\n    <tr>\n      <th>2</th>\n      <td>1620262800000</td>\n      <td>3477.6</td>\n      <td>3498.9</td>\n      <td>3443.4</td>\n      <td>3476.5</td>\n    </tr>\n    <tr>\n      <th>3</th>\n      <td>1620266400000</td>\n      <td>3476.5</td>\n      <td>3509.2</td>\n      <td>3464.8</td>\n      <td>3487.0</td>\n    </tr>\n    <tr>\n      <th>4</th>\n      <td>1620270000000</td>\n      <td>3487.0</td>\n      <td>3487.0</td>\n      <td>3451.3</td>\n      <td>3474.0</td>\n    </tr>\n    <tr>\n      <th>...</th>\n      <td>...</td>\n      <td>...</td>\n      <td>...</td>\n      <td>...</td>\n      <td>...</td>\n    </tr>\n    <tr>\n      <th>1496</th>\n      <td>1625641200000</td>\n      <td>2384.7</td>\n      <td>2410.4</td>\n      <td>2362.1</td>\n      <td>2379.3</td>\n    </tr>\n    <tr>\n      <th>1497</th>\n      <td>1625644800000</td>\n      <td>2379.3</td>\n      <td>2400.7</td>\n      <td>2373.7</td>\n      <td>2383.5</td>\n    </tr>\n    <tr>\n      <th>1498</th>\n      <td>1625648400000</td>\n      <td>2383.5</td>\n      <td>2390.8</td>\n      <td>2366.7</td>\n      <td>2379.6</td>\n    </tr>\n    <tr>\n      <th>1499</th>\n      <td>1625652000000</td>\n      <td>2379.6</td>\n      <td>2382.9</td>\n      <td>2364.3</td>\n      <td>2373.6</td>\n    </tr>\n    <tr>\n      <th>1500</th>\n      <td>1625655600000</td>\n      <td>2373.6</td>\n      <td>2393.8</td>\n      <td>2370.6</td>\n      <td>2385.0</td>\n    </tr>\n  </tbody>\n</table>\n<p>1501 rows × 5 columns</p>\n</div>"
     },
     "metadata": {},
     "execution_count": 6
    }
   ],
   "source": [
    "price.get_price_data('1d',symbol='ETH/USD')\n",
    "price.get_price_data('1h',symbol='ETH/USD')"
   ]
  },
  {
   "cell_type": "code",
   "execution_count": 8,
   "metadata": {},
   "outputs": [
    {
     "output_type": "execute_result",
     "data": {
      "text/plain": [
       "True"
      ]
     },
     "metadata": {},
     "execution_count": 8
    }
   ],
   "source": [
    "ftx.has['createMarketOrder']"
   ]
  },
  {
   "cell_type": "code",
   "execution_count": null,
   "metadata": {},
   "outputs": [],
   "source": []
  }
 ]
}