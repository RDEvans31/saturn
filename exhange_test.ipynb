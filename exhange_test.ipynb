{
 "metadata": {
  "language_info": {
   "codemirror_mode": {
    "name": "ipython",
    "version": 3
   },
   "file_extension": ".py",
   "mimetype": "text/x-python",
   "name": "python",
   "nbconvert_exporter": "python",
   "pygments_lexer": "ipython3",
   "version": "3.9.5"
  },
  "orig_nbformat": 4,
  "kernelspec": {
   "name": "python3",
   "display_name": "Python 3.9.5 64-bit"
  },
  "interpreter": {
   "hash": "976a7013ae9b6375dd3b6fd8012ded46dcef65ed674c8a499dd2f473ac3f0d66"
  }
 },
 "nbformat": 4,
 "nbformat_minor": 2,
 "cells": [
  {
   "cell_type": "code",
   "execution_count": 8,
   "metadata": {},
   "outputs": [],
   "source": [
    "import pandas as pd\n",
    "from scipy.interpolate import interp1d\n",
    "from scipy.stats import norm\n",
    "import numpy as np\n",
    "import matplotlib.pyplot as plt\n",
    "%matplotlib inline\n",
    "import price_data as price\n",
    "import ccxt\n",
    "import time\n"
   ]
  },
  {
   "cell_type": "code",
   "execution_count": 2,
   "metadata": {},
   "outputs": [],
   "source": [
    "ftx = ccxt.ftx({\n",
    "    'apiKey': 'mFRyLR4AAhLTc5RlWov3PKTcIbMHw3vGZwiHnsrn',\n",
    "    'secret': 'oKaY1WEqTuhnNnq0iRi_Ry-CYckvE89-gPUPf21B',\n",
    "    'enableRateLimit': True,\n",
    "})"
   ]
  },
  {
   "cell_type": "code",
   "execution_count": 3,
   "metadata": {},
   "outputs": [],
   "source": [
    "daily=price.get_price_data('1d',symbol='ETH/USD')\n",
    "hourly=price.get_price_data('1h',symbol='ETH/USD')"
   ]
  },
  {
   "cell_type": "code",
   "execution_count": 4,
   "metadata": {},
   "outputs": [
    {
     "output_type": "execute_result",
     "data": {
      "text/plain": [
       "Unnamed: 0      368.0000\n",
       "ema              28.0000\n",
       "channel          18.0000\n",
       "success_rate      0.9375\n",
       "Name: 368, dtype: float64"
      ]
     },
     "metadata": {},
     "execution_count": 4
    }
   ],
   "source": [
    "results_df = pd.read_csv('data/results.csv')\n",
    "results_df.iloc[results_df['success_rate'].idxmax()]"
   ]
  },
  {
   "cell_type": "code",
   "execution_count": 5,
   "metadata": {},
   "outputs": [
    {
     "output_type": "execute_result",
     "data": {
      "text/plain": [
       "64.36004952"
      ]
     },
     "metadata": {},
     "execution_count": 5
    }
   ],
   "source": [
    "float(next(filter(lambda x: x['coin']=='USD',ftx.fetch_balance()['info']['result']))['total'])"
   ]
  },
  {
   "cell_type": "code",
   "execution_count": 6,
   "metadata": {},
   "outputs": [
    {
     "output_type": "execute_result",
     "data": {
      "text/plain": [
       "{'future': 'ETH-PERP',\n",
       " 'size': '0.0',\n",
       " 'side': 'buy',\n",
       " 'netSize': '0.0',\n",
       " 'longOrderSize': '0.0',\n",
       " 'shortOrderSize': '0.0',\n",
       " 'cost': '0.0',\n",
       " 'entryPrice': None,\n",
       " 'unrealizedPnl': '0.0',\n",
       " 'realizedPnl': '7.9891152',\n",
       " 'initialMarginRequirement': '1.0',\n",
       " 'maintenanceMarginRequirement': '0.03',\n",
       " 'openSize': '0.0',\n",
       " 'collateralUsed': '0.0',\n",
       " 'estimatedLiquidationPrice': None}"
      ]
     },
     "metadata": {},
     "execution_count": 6
    }
   ],
   "source": [
    "next(filter(lambda x: x['future']=='ETH-PERP',ftx.fetch_positions()))"
   ]
  },
  {
   "cell_type": "code",
   "execution_count": 7,
   "metadata": {},
   "outputs": [
    {
     "output_type": "execute_result",
     "data": {
      "text/plain": [
       "0.0047789725209080045"
      ]
     },
     "metadata": {},
     "execution_count": 7
    }
   ],
   "source": [
    "trade_amount=10/hourly.iloc[-1]['close']\n",
    "trade_amount"
   ]
  },
  {
   "cell_type": "code",
   "execution_count": 20,
   "metadata": {},
   "outputs": [
    {
     "output_type": "execute_result",
     "data": {
      "text/plain": [
       "451607.0186111111"
      ]
     },
     "metadata": {},
     "execution_count": 20
    }
   ],
   "source": [
    "int(time.time())/3600 == "
   ]
  },
  {
   "cell_type": "code",
   "execution_count": null,
   "metadata": {},
   "outputs": [],
   "source": []
  }
 ]
}