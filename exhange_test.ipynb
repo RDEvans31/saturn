{
 "metadata": {
  "language_info": {
   "codemirror_mode": {
    "name": "ipython",
    "version": 3
   },
   "file_extension": ".py",
   "mimetype": "text/x-python",
   "name": "python",
   "nbconvert_exporter": "python",
   "pygments_lexer": "ipython3",
   "version": "3.9.5"
  },
  "orig_nbformat": 4,
  "kernelspec": {
   "name": "python3",
   "display_name": "Python 3.9.5 64-bit"
  },
  "interpreter": {
   "hash": "976a7013ae9b6375dd3b6fd8012ded46dcef65ed674c8a499dd2f473ac3f0d66"
  }
 },
 "nbformat": 4,
 "nbformat_minor": 2,
 "cells": [
  {
   "cell_type": "code",
   "execution_count": 2,
   "metadata": {},
   "outputs": [],
   "source": [
    "import pandas as pd\n",
    "from scipy.interpolate import interp1d\n",
    "from scipy.stats import norm\n",
    "import numpy as np\n",
    "import matplotlib.pyplot as plt\n",
    "%matplotlib inline\n",
    "import price_data as price\n",
    "import ccxt\n"
   ]
  },
  {
   "cell_type": "code",
   "execution_count": 3,
   "metadata": {},
   "outputs": [],
   "source": [
    "ftx = ccxt.ftx({\n",
    "    'apiKey': 'mFRyLR4AAhLTc5RlWov3PKTcIbMHw3vGZwiHnsrn',\n",
    "    'secret': 'oKaY1WEqTuhnNnq0iRi_Ry-CYckvE89-gPUPf21B',\n",
    "    'enableRateLimit': True,\n",
    "})"
   ]
  },
  {
   "cell_type": "code",
   "execution_count": 4,
   "metadata": {},
   "outputs": [
    {
     "output_type": "execute_result",
     "data": {
      "text/plain": [
       "               unix    open    high     low   close\n",
       "0     1620298800000  3487.5  3529.3  3471.5  3528.8\n",
       "1     1620302400000  3528.8  3533.0  3480.1  3496.5\n",
       "2     1620306000000  3496.5  3498.2  3465.3  3485.2\n",
       "3     1620309600000  3485.2  3519.9  3464.3  3510.8\n",
       "4     1620313200000  3510.8  3584.4  3510.8  3554.7\n",
       "...             ...     ...     ...     ...     ...\n",
       "1496  1625684400000  2366.8  2373.2  2355.7  2366.8\n",
       "1497  1625688000000  2366.8  2368.1  2356.4  2363.4\n",
       "1498  1625691600000  2363.4  2363.8  2337.6  2347.4\n",
       "1499  1625695200000  2347.4  2347.4  2311.8  2325.0\n",
       "1500  1625698800000  2325.0  2325.1  2309.4  2309.6\n",
       "\n",
       "[1501 rows x 5 columns]"
      ],
      "text/html": "<div>\n<style scoped>\n    .dataframe tbody tr th:only-of-type {\n        vertical-align: middle;\n    }\n\n    .dataframe tbody tr th {\n        vertical-align: top;\n    }\n\n    .dataframe thead th {\n        text-align: right;\n    }\n</style>\n<table border=\"1\" class=\"dataframe\">\n  <thead>\n    <tr style=\"text-align: right;\">\n      <th></th>\n      <th>unix</th>\n      <th>open</th>\n      <th>high</th>\n      <th>low</th>\n      <th>close</th>\n    </tr>\n  </thead>\n  <tbody>\n    <tr>\n      <th>0</th>\n      <td>1620298800000</td>\n      <td>3487.5</td>\n      <td>3529.3</td>\n      <td>3471.5</td>\n      <td>3528.8</td>\n    </tr>\n    <tr>\n      <th>1</th>\n      <td>1620302400000</td>\n      <td>3528.8</td>\n      <td>3533.0</td>\n      <td>3480.1</td>\n      <td>3496.5</td>\n    </tr>\n    <tr>\n      <th>2</th>\n      <td>1620306000000</td>\n      <td>3496.5</td>\n      <td>3498.2</td>\n      <td>3465.3</td>\n      <td>3485.2</td>\n    </tr>\n    <tr>\n      <th>3</th>\n      <td>1620309600000</td>\n      <td>3485.2</td>\n      <td>3519.9</td>\n      <td>3464.3</td>\n      <td>3510.8</td>\n    </tr>\n    <tr>\n      <th>4</th>\n      <td>1620313200000</td>\n      <td>3510.8</td>\n      <td>3584.4</td>\n      <td>3510.8</td>\n      <td>3554.7</td>\n    </tr>\n    <tr>\n      <th>...</th>\n      <td>...</td>\n      <td>...</td>\n      <td>...</td>\n      <td>...</td>\n      <td>...</td>\n    </tr>\n    <tr>\n      <th>1496</th>\n      <td>1625684400000</td>\n      <td>2366.8</td>\n      <td>2373.2</td>\n      <td>2355.7</td>\n      <td>2366.8</td>\n    </tr>\n    <tr>\n      <th>1497</th>\n      <td>1625688000000</td>\n      <td>2366.8</td>\n      <td>2368.1</td>\n      <td>2356.4</td>\n      <td>2363.4</td>\n    </tr>\n    <tr>\n      <th>1498</th>\n      <td>1625691600000</td>\n      <td>2363.4</td>\n      <td>2363.8</td>\n      <td>2337.6</td>\n      <td>2347.4</td>\n    </tr>\n    <tr>\n      <th>1499</th>\n      <td>1625695200000</td>\n      <td>2347.4</td>\n      <td>2347.4</td>\n      <td>2311.8</td>\n      <td>2325.0</td>\n    </tr>\n    <tr>\n      <th>1500</th>\n      <td>1625698800000</td>\n      <td>2325.0</td>\n      <td>2325.1</td>\n      <td>2309.4</td>\n      <td>2309.6</td>\n    </tr>\n  </tbody>\n</table>\n<p>1501 rows × 5 columns</p>\n</div>"
     },
     "metadata": {},
     "execution_count": 4
    }
   ],
   "source": [
    "price.get_price_data('1d',symbol='ETH/USD')\n",
    "price.get_price_data('1h',symbol='ETH/USD')"
   ]
  },
  {
   "cell_type": "code",
   "execution_count": 17,
   "metadata": {},
   "outputs": [
    {
     "output_type": "execute_result",
     "data": {
      "text/plain": [
       "True"
      ]
     },
     "metadata": {},
     "execution_count": 17
    }
   ],
   "source": [
    "ftx.has['createMarketOrder']"
   ]
  },
  {
   "cell_type": "code",
   "execution_count": 37,
   "metadata": {},
   "outputs": [
    {
     "output_type": "execute_result",
     "data": {
      "text/plain": [
       "668.59597612"
      ]
     },
     "metadata": {},
     "execution_count": 37
    }
   ],
   "source": [
    "float(next(filter(lambda x: x['coin']=='USD',ftx.fetch_balance()['info']['result']))['total'])"
   ]
  },
  {
   "cell_type": "code",
   "execution_count": 39,
   "metadata": {},
   "outputs": [
    {
     "output_type": "execute_result",
     "data": {
      "text/plain": [
       "{'future': 'ETH-PERP',\n",
       " 'size': '0.002',\n",
       " 'side': 'buy',\n",
       " 'netSize': '0.002',\n",
       " 'longOrderSize': '0.0',\n",
       " 'shortOrderSize': '0.0',\n",
       " 'cost': '4.6332',\n",
       " 'entryPrice': '2316.6',\n",
       " 'unrealizedPnl': '0.0',\n",
       " 'realizedPnl': '8.26295689',\n",
       " 'initialMarginRequirement': '1.0',\n",
       " 'maintenanceMarginRequirement': '0.03',\n",
       " 'openSize': '0.002',\n",
       " 'collateralUsed': '4.6332',\n",
       " 'estimatedLiquidationPrice': '0.0'}"
      ]
     },
     "metadata": {},
     "execution_count": 39
    }
   ],
   "source": [
    "next(filter(lambda x: x['future']=='ETH-PERP',ftx.fetch_positions()))"
   ]
  },
  {
   "cell_type": "code",
   "execution_count": null,
   "metadata": {},
   "outputs": [],
   "source": []
  }
 ]
}