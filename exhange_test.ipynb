{
 "metadata": {
  "language_info": {
   "codemirror_mode": {
    "name": "ipython",
    "version": 3
   },
   "file_extension": ".py",
   "mimetype": "text/x-python",
   "name": "python",
   "nbconvert_exporter": "python",
   "pygments_lexer": "ipython3",
   "version": "3.9.5"
  },
  "orig_nbformat": 4,
  "kernelspec": {
   "name": "python3",
   "display_name": "Python 3.9.5 64-bit"
  },
  "interpreter": {
   "hash": "976a7013ae9b6375dd3b6fd8012ded46dcef65ed674c8a499dd2f473ac3f0d66"
  }
 },
 "nbformat": 4,
 "nbformat_minor": 2,
 "cells": [
  {
   "cell_type": "code",
   "execution_count": 17,
   "metadata": {},
   "outputs": [],
   "source": [
    "import pandas as pd\n",
    "from scipy.interpolate import interp1d\n",
    "from scipy.stats import norm\n",
    "import numpy as np\n",
    "import matplotlib.pyplot as plt\n",
    "%matplotlib inline\n",
    "import price_data as price\n",
    "import ccxt\n",
    "import time\n",
    "import chart\n"
   ]
  },
  {
   "cell_type": "code",
   "execution_count": 5,
   "metadata": {},
   "outputs": [],
   "source": [
    "ftx = ccxt.ftx({\n",
    "    'apiKey': 'mFRyLR4AAhLTc5RlWov3PKTcIbMHw3vGZwiHnsrn',\n",
    "    'secret': 'oKaY1WEqTuhnNnq0iRi_Ry-CYckvE89-gPUPf21B',\n",
    "    'enableRateLimit': True,\n",
    "})"
   ]
  },
  {
   "cell_type": "code",
   "execution_count": 12,
   "metadata": {},
   "outputs": [],
   "source": [
    "daily=price.get_price_data('1d',symbol='ETH/USD')\n",
    "hourly=price.get_price_data('1h',symbol='ETH/USD')"
   ]
  },
  {
   "cell_type": "code",
   "execution_count": 7,
   "metadata": {},
   "outputs": [
    {
     "output_type": "execute_result",
     "data": {
      "text/plain": [
       "Unnamed: 0      368.0000\n",
       "ema              28.0000\n",
       "channel          18.0000\n",
       "success_rate      0.9375\n",
       "Name: 368, dtype: float64"
      ]
     },
     "metadata": {},
     "execution_count": 7
    }
   ],
   "source": [
    "results_df = pd.read_csv('data/results.csv')\n",
    "results_df.iloc[results_df['success_rate'].idxmax()]"
   ]
  },
  {
   "cell_type": "code",
   "execution_count": 8,
   "metadata": {},
   "outputs": [
    {
     "output_type": "execute_result",
     "data": {
      "text/plain": [
       "64.35567923"
      ]
     },
     "metadata": {},
     "execution_count": 8
    }
   ],
   "source": [
    "float(next(filter(lambda x: x['coin']=='USD',ftx.fetch_balance()['info']['result']))['total'])"
   ]
  },
  {
   "cell_type": "code",
   "execution_count": 9,
   "metadata": {},
   "outputs": [
    {
     "output_type": "execute_result",
     "data": {
      "text/plain": [
       "{'future': 'ETH-PERP',\n",
       " 'size': '0.002',\n",
       " 'side': 'sell',\n",
       " 'netSize': '-0.002',\n",
       " 'longOrderSize': '0.0',\n",
       " 'shortOrderSize': '0.0',\n",
       " 'cost': '-4.283',\n",
       " 'entryPrice': '2141.5',\n",
       " 'unrealizedPnl': '0.0',\n",
       " 'realizedPnl': '7.9855152',\n",
       " 'initialMarginRequirement': '1.0',\n",
       " 'maintenanceMarginRequirement': '0.03',\n",
       " 'openSize': '0.002',\n",
       " 'collateralUsed': '4.283',\n",
       " 'estimatedLiquidationPrice': '44443.140197357745'}"
      ]
     },
     "metadata": {},
     "execution_count": 9
    }
   ],
   "source": [
    "next(filter(lambda x: x['future']=='ETH-PERP',ftx.fetch_positions()))"
   ]
  },
  {
   "cell_type": "code",
   "execution_count": 10,
   "metadata": {},
   "outputs": [
    {
     "output_type": "execute_result",
     "data": {
      "text/plain": [
       "0.004670496473775163"
      ]
     },
     "metadata": {},
     "execution_count": 10
    }
   ],
   "source": [
    "trade_amount=10/hourly.iloc[-1]['close']\n",
    "trade_amount"
   ]
  },
  {
   "cell_type": "code",
   "execution_count": 11,
   "metadata": {},
   "outputs": [
    {
     "output_type": "execute_result",
     "data": {
      "text/plain": [
       "False"
      ]
     },
     "metadata": {},
     "execution_count": 11
    }
   ],
   "source": [
    "int(time.time())/3600 == int(time.time())//3600"
   ]
  },
  {
   "cell_type": "code",
   "execution_count": 21,
   "metadata": {},
   "outputs": [],
   "source": [
    "daily=price.get_price_data('1d',symbol='ETH/USD')\n",
    "hourly=price.get_price_data('1h',symbol='ETH/USD')\n",
    "gradient=chart.get_gradient(chart.get_ema(daily,28))"
   ]
  },
  {
   "cell_type": "code",
   "execution_count": 24,
   "metadata": {},
   "outputs": [
    {
     "output_type": "stream",
     "name": "stdout",
     "text": [
      "1625961600000\n"
     ]
    }
   ],
   "source": [
    "print(daily['unix'].max())"
   ]
  },
  {
   "cell_type": "code",
   "execution_count": 27,
   "metadata": {},
   "outputs": [
    {
     "output_type": "stream",
     "name": "stdout",
     "text": [
      "1625961600000\n"
     ]
    }
   ],
   "source": [
    "print(max(gradient.index))"
   ]
  },
  {
   "cell_type": "code",
   "execution_count": null,
   "metadata": {},
   "outputs": [],
   "source": []
  }
 ]
}