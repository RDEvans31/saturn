{
 "metadata": {
  "language_info": {
   "codemirror_mode": {
    "name": "ipython",
    "version": 3
   },
   "file_extension": ".py",
   "mimetype": "text/x-python",
   "name": "python",
   "nbconvert_exporter": "python",
   "pygments_lexer": "ipython3",
   "version": "3.8.5"
  },
  "orig_nbformat": 4,
  "kernelspec": {
   "name": "python3",
   "display_name": "Python 3.8.5 64-bit ('base': conda)"
  },
  "interpreter": {
   "hash": "ddc7a9a711bba2d1694258262efb817949f922f52a2e228611a5f2ff14bb5a8b"
  }
 },
 "nbformat": 4,
 "nbformat_minor": 2,
 "cells": [
  {
   "cell_type": "code",
   "execution_count": 8,
   "metadata": {
    "tags": []
   },
   "outputs": [],
   "source": [
    "import pandas as pd\n",
    "from scipy.interpolate import interp1d\n",
    "import numpy as np\n",
    "import matplotlib.pyplot as plt\n",
    "import price_data as price\n",
    "import statistics\n",
    "\n",
    "\n",
    "btc_price_data=pd.read_csv('data/Bitstamp_BTCUSD_d.csv')\n",
    "btc_price_data=btc_price_data.loc[btc_price_data['unix']>=1417392000]\n",
    "weekly_candles=price.get_price_data('1w',data=btc_price_data)\n",
    "# candles=[]\n",
    "# for i in reversed(range(len(btc_price_data))):\n",
    "#     candle=btc_price_data.iloc[i]\n",
    "#     candles.append((candle['unix'],candle['open'], candle['high'],candle['low'], candle['close']))"
   ]
  },
  {
   "cell_type": "code",
   "execution_count": 10,
   "metadata": {
    "tags": []
   },
   "outputs": [],
   "source": [
    "def get_sma(data,window):\n",
    "     #using daily for now\n",
    "    timestamps=data['unix']\n",
    "    closes=list(data['close'])\n",
    "    l=len(closes)\n",
    "    sma=[]\n",
    "    for i in range(window,l):\n",
    "        last_closes=closes[i-window:i]\n",
    "        new_average=statistics.mean(last_closes)\n",
    "        sma.append((timestamps[i-window],new_average))\n",
    "    # current_price=get_current_price(symbol)\n",
    "    # last_closes=last_closes[1:]\n",
    "    # last_closes.append(current_price)\n",
    "    # sma.append(statistics.mean(last_closes))\n",
    "    return pd.DataFrame({'unix': list(map(lambda x: x[0], sma)),'value':list(map(lambda x: x[1], sma))})\n",
    "\n",
    "def get_ema(data,window):\n",
    "    ema=[]\n",
    "    sma_start=get_sma(symbol,window,time_interval)\n",
    "    weight = 2/(window+1)\n",
    "    return ema\n"
   ]
  },
  {
   "cell_type": "code",
   "execution_count": 12,
   "metadata": {
    "tags": []
   },
   "outputs": [
    {
     "output_type": "error",
     "ename": "TypeError",
     "evalue": "list indices must be integers or slices, not str",
     "traceback": [
      "\u001b[0;31m---------------------------------------------------------------------------\u001b[0m",
      "\u001b[0;31mTypeError\u001b[0m                                 Traceback (most recent call last)",
      "\u001b[0;32m<ipython-input-12-22115051d495>\u001b[0m in \u001b[0;36m<module>\u001b[0;34m\u001b[0m\n\u001b[1;32m      1\u001b[0m \u001b[0m_50day\u001b[0m\u001b[0;34m=\u001b[0m\u001b[0mget_sma\u001b[0m\u001b[0;34m(\u001b[0m\u001b[0mbtc_price_data\u001b[0m\u001b[0;34m,\u001b[0m\u001b[0;36m50\u001b[0m\u001b[0;34m)\u001b[0m\u001b[0;34m\u001b[0m\u001b[0;34m\u001b[0m\u001b[0m\n\u001b[1;32m      2\u001b[0m \u001b[0m_50week\u001b[0m\u001b[0;34m=\u001b[0m\u001b[0mget_sma\u001b[0m\u001b[0;34m(\u001b[0m\u001b[0mweekly_candles\u001b[0m\u001b[0;34m,\u001b[0m\u001b[0;36m50\u001b[0m\u001b[0;34m)\u001b[0m\u001b[0;34m\u001b[0m\u001b[0;34m\u001b[0m\u001b[0m\n\u001b[0;32m----> 3\u001b[0;31m \u001b[0mmin_timestamp\u001b[0m\u001b[0;34m=\u001b[0m\u001b[0m_50week\u001b[0m\u001b[0;34m[\u001b[0m\u001b[0;34m'unix'\u001b[0m\u001b[0;34m]\u001b[0m\u001b[0;34m.\u001b[0m\u001b[0mmin\u001b[0m\u001b[0;34m(\u001b[0m\u001b[0;34m)\u001b[0m\u001b[0;34m\u001b[0m\u001b[0;34m\u001b[0m\u001b[0m\n\u001b[0m\u001b[1;32m      4\u001b[0m \u001b[0m_50day\u001b[0m\u001b[0;34m=\u001b[0m\u001b[0m_50day\u001b[0m\u001b[0;34m[\u001b[0m\u001b[0m_50day\u001b[0m\u001b[0;34m[\u001b[0m\u001b[0;34m'unix'\u001b[0m\u001b[0;34m]\u001b[0m\u001b[0;34m>=\u001b[0m\u001b[0mmin_timestamp\u001b[0m\u001b[0;34m]\u001b[0m\u001b[0;34m\u001b[0m\u001b[0;34m\u001b[0m\u001b[0m\n\u001b[1;32m      5\u001b[0m \u001b[0;34m\u001b[0m\u001b[0m\n",
      "\u001b[0;31mTypeError\u001b[0m: list indices must be integers or slices, not str"
     ]
    }
   ],
   "source": [
    "_50day=get_sma(btc_price_data,50)\n",
    "_50week=get_sma(weekly_candles,50)\n",
    "min_timestamp=_50week['unix'].min()\n",
    "_50day=_50day[_50day['unix']>=min_timestamp]\n",
    "\n",
    "# price.get_price_data('1w',data=btc_price_data)\n",
    "plt.plot(_50day['unix'],_50day['value'])\n",
    "plt.plot(_50week['unix'],_50week['value'])\n",
    "f=interp1d(_50week['unix'],_50week['value'])\n",
    "# weekly_interpolated=f(_50week['unix'],)\n",
    "# plt.plot(timestamps1,weekly_interpolated)\n",
    "# plt.plot(btc_price_data['unix'],btc_price_data['close'])\n",
    "plt.yscale(\"log\")"
   ]
  },
  {
   "cell_type": "code",
   "execution_count": null,
   "metadata": {},
   "outputs": [],
   "source": []
  }
 ]
}